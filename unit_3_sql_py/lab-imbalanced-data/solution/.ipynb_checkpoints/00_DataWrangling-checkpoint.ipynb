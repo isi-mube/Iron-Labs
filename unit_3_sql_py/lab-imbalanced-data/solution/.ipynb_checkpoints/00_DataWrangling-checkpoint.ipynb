{
 "cells": [
  {
   "cell_type": "markdown",
   "id": "873b5dbb-3441-47c6-b72d-743186d48f2f",
   "metadata": {
    "tags": []
   },
   "source": [
    "## 00 |"
   ]
  },
  {
   "cell_type": "code",
   "execution_count": 1,
   "id": "949607e7-328e-40d9-9d51-f40ff1d1bb11",
   "metadata": {},
   "outputs": [],
   "source": [
    "# Basic Libraries\n",
    "import os # file management \n",
    "import pandas as pd # data manipulation\n",
    "import numpy as np # numerical operations\n",
    "\n",
    "# Machine Learning\n",
    "from sklearn.preprocessing import StandardScaler # data normalization\n",
    "from sklearn.model_selection import train_test_split # train/test sets\n",
    "from sklearn.linear_model import LogisticRegression # logistic model\n",
    "from sklearn.metrics import confusion_matrix, ConfusionMatrixDisplay, cohen_kappa_score # confussion matrix metric & displayer, cohen kappa score\n",
    "\n",
    "# [New!] Libraries to deal with imbalanced data\n",
    "from imblearn.under_sampling import RandomUnderSampler # Random undersampling technique\n",
    "from imblearn.over_sampling import RandomOverSampler # Random oversampling technique\n",
    "from imblearn.under_sampling import TomekLinks # Undersampling librarie technique\n",
    "from imblearn.over_sampling import SMOTE # Oversampling librarie technique\n",
    "from sklearn.metrics import classification_report # Metrics to check & compare our score\n",
    "\n",
    "# [Settings]\n",
    "import warnings\n",
    "warnings.filterwarnings('ignore') # ignore warnings\n",
    "pd.set_option('display.max_columns', None) # display all columns"
   ]
  },
  {
   "cell_type": "code",
   "execution_count": 2,
   "id": "d6b6b695-2d52-4843-990c-d182a6cda324",
   "metadata": {},
   "outputs": [],
   "source": [
    "# Basic functions\n",
    "def data_info(data): # improved data.info()\n",
    "    print(f\"Data shape is {data.shape}.\")\n",
    "    print()\n",
    "    print(data.dtypes)\n",
    "    print()\n",
    "    print(\"Data row sample and full columns:\")\n",
    "    return data.sample(5)\n",
    "\n",
    "def clean_columns(data): # Standardizes the column name, returns the columns\n",
    "    data.columns = [i.lower().replace(' ', '_') for i in data.columns]\n",
    "    return data.sample(0)"
   ]
  },
  {
   "cell_type": "markdown",
   "id": "44451916-b22d-43a1-aa8b-ec0ca20a18b7",
   "metadata": {},
   "source": [
    "## 01 | Data Extraction"
   ]
  },
  {
   "cell_type": "code",
   "execution_count": 3,
   "id": "38cdaef4-f745-4dfa-af7c-e2b2367d0a8b",
   "metadata": {},
   "outputs": [
    {
     "name": "stdout",
     "output_type": "stream",
     "text": [
      "Data shape is (7043, 21).\n",
      "\n",
      "customerID           object\n",
      "gender               object\n",
      "SeniorCitizen         int64\n",
      "Partner              object\n",
      "Dependents           object\n",
      "tenure                int64\n",
      "PhoneService         object\n",
      "MultipleLines        object\n",
      "InternetService      object\n",
      "OnlineSecurity       object\n",
      "OnlineBackup         object\n",
      "DeviceProtection     object\n",
      "TechSupport          object\n",
      "StreamingTV          object\n",
      "StreamingMovies      object\n",
      "Contract             object\n",
      "PaperlessBilling     object\n",
      "PaymentMethod        object\n",
      "MonthlyCharges      float64\n",
      "TotalCharges         object\n",
      "Churn                object\n",
      "dtype: object\n",
      "\n",
      "Data row sample and full columns:\n"
     ]
    },
    {
     "data": {
      "text/html": [
       "<div>\n",
       "<style scoped>\n",
       "    .dataframe tbody tr th:only-of-type {\n",
       "        vertical-align: middle;\n",
       "    }\n",
       "\n",
       "    .dataframe tbody tr th {\n",
       "        vertical-align: top;\n",
       "    }\n",
       "\n",
       "    .dataframe thead th {\n",
       "        text-align: right;\n",
       "    }\n",
       "</style>\n",
       "<table border=\"1\" class=\"dataframe\">\n",
       "  <thead>\n",
       "    <tr style=\"text-align: right;\">\n",
       "      <th></th>\n",
       "      <th>customerID</th>\n",
       "      <th>gender</th>\n",
       "      <th>SeniorCitizen</th>\n",
       "      <th>Partner</th>\n",
       "      <th>Dependents</th>\n",
       "      <th>tenure</th>\n",
       "      <th>PhoneService</th>\n",
       "      <th>MultipleLines</th>\n",
       "      <th>InternetService</th>\n",
       "      <th>OnlineSecurity</th>\n",
       "      <th>OnlineBackup</th>\n",
       "      <th>DeviceProtection</th>\n",
       "      <th>TechSupport</th>\n",
       "      <th>StreamingTV</th>\n",
       "      <th>StreamingMovies</th>\n",
       "      <th>Contract</th>\n",
       "      <th>PaperlessBilling</th>\n",
       "      <th>PaymentMethod</th>\n",
       "      <th>MonthlyCharges</th>\n",
       "      <th>TotalCharges</th>\n",
       "      <th>Churn</th>\n",
       "    </tr>\n",
       "  </thead>\n",
       "  <tbody>\n",
       "    <tr>\n",
       "      <th>706</th>\n",
       "      <td>7596-ZYWBB</td>\n",
       "      <td>Female</td>\n",
       "      <td>0</td>\n",
       "      <td>No</td>\n",
       "      <td>No</td>\n",
       "      <td>65</td>\n",
       "      <td>Yes</td>\n",
       "      <td>No</td>\n",
       "      <td>DSL</td>\n",
       "      <td>Yes</td>\n",
       "      <td>Yes</td>\n",
       "      <td>No</td>\n",
       "      <td>Yes</td>\n",
       "      <td>No</td>\n",
       "      <td>No</td>\n",
       "      <td>Two year</td>\n",
       "      <td>Yes</td>\n",
       "      <td>Mailed check</td>\n",
       "      <td>59.60</td>\n",
       "      <td>3739.8</td>\n",
       "      <td>No</td>\n",
       "    </tr>\n",
       "    <tr>\n",
       "      <th>776</th>\n",
       "      <td>9505-SQFSW</td>\n",
       "      <td>Female</td>\n",
       "      <td>0</td>\n",
       "      <td>Yes</td>\n",
       "      <td>Yes</td>\n",
       "      <td>3</td>\n",
       "      <td>No</td>\n",
       "      <td>No phone service</td>\n",
       "      <td>DSL</td>\n",
       "      <td>No</td>\n",
       "      <td>Yes</td>\n",
       "      <td>No</td>\n",
       "      <td>No</td>\n",
       "      <td>No</td>\n",
       "      <td>Yes</td>\n",
       "      <td>Month-to-month</td>\n",
       "      <td>No</td>\n",
       "      <td>Mailed check</td>\n",
       "      <td>40.30</td>\n",
       "      <td>92.5</td>\n",
       "      <td>No</td>\n",
       "    </tr>\n",
       "    <tr>\n",
       "      <th>4130</th>\n",
       "      <td>4439-YRNVD</td>\n",
       "      <td>Female</td>\n",
       "      <td>0</td>\n",
       "      <td>No</td>\n",
       "      <td>No</td>\n",
       "      <td>10</td>\n",
       "      <td>No</td>\n",
       "      <td>No phone service</td>\n",
       "      <td>DSL</td>\n",
       "      <td>No</td>\n",
       "      <td>Yes</td>\n",
       "      <td>No</td>\n",
       "      <td>Yes</td>\n",
       "      <td>No</td>\n",
       "      <td>No</td>\n",
       "      <td>Month-to-month</td>\n",
       "      <td>No</td>\n",
       "      <td>Electronic check</td>\n",
       "      <td>36.25</td>\n",
       "      <td>374</td>\n",
       "      <td>No</td>\n",
       "    </tr>\n",
       "    <tr>\n",
       "      <th>4548</th>\n",
       "      <td>5572-ZDXHY</td>\n",
       "      <td>Female</td>\n",
       "      <td>0</td>\n",
       "      <td>No</td>\n",
       "      <td>No</td>\n",
       "      <td>22</td>\n",
       "      <td>Yes</td>\n",
       "      <td>No</td>\n",
       "      <td>Fiber optic</td>\n",
       "      <td>No</td>\n",
       "      <td>Yes</td>\n",
       "      <td>No</td>\n",
       "      <td>No</td>\n",
       "      <td>No</td>\n",
       "      <td>Yes</td>\n",
       "      <td>Month-to-month</td>\n",
       "      <td>Yes</td>\n",
       "      <td>Mailed check</td>\n",
       "      <td>84.30</td>\n",
       "      <td>1855.65</td>\n",
       "      <td>Yes</td>\n",
       "    </tr>\n",
       "    <tr>\n",
       "      <th>6635</th>\n",
       "      <td>5474-LAMUQ</td>\n",
       "      <td>Male</td>\n",
       "      <td>0</td>\n",
       "      <td>Yes</td>\n",
       "      <td>No</td>\n",
       "      <td>24</td>\n",
       "      <td>Yes</td>\n",
       "      <td>No</td>\n",
       "      <td>No</td>\n",
       "      <td>No internet service</td>\n",
       "      <td>No internet service</td>\n",
       "      <td>No internet service</td>\n",
       "      <td>No internet service</td>\n",
       "      <td>No internet service</td>\n",
       "      <td>No internet service</td>\n",
       "      <td>One year</td>\n",
       "      <td>No</td>\n",
       "      <td>Mailed check</td>\n",
       "      <td>20.10</td>\n",
       "      <td>533.9</td>\n",
       "      <td>No</td>\n",
       "    </tr>\n",
       "  </tbody>\n",
       "</table>\n",
       "</div>"
      ],
      "text/plain": [
       "      customerID  gender  SeniorCitizen Partner Dependents  tenure  \\\n",
       "706   7596-ZYWBB  Female              0      No         No      65   \n",
       "776   9505-SQFSW  Female              0     Yes        Yes       3   \n",
       "4130  4439-YRNVD  Female              0      No         No      10   \n",
       "4548  5572-ZDXHY  Female              0      No         No      22   \n",
       "6635  5474-LAMUQ    Male              0     Yes         No      24   \n",
       "\n",
       "     PhoneService     MultipleLines InternetService       OnlineSecurity  \\\n",
       "706           Yes                No             DSL                  Yes   \n",
       "776            No  No phone service             DSL                   No   \n",
       "4130           No  No phone service             DSL                   No   \n",
       "4548          Yes                No     Fiber optic                   No   \n",
       "6635          Yes                No              No  No internet service   \n",
       "\n",
       "             OnlineBackup     DeviceProtection          TechSupport  \\\n",
       "706                   Yes                   No                  Yes   \n",
       "776                   Yes                   No                   No   \n",
       "4130                  Yes                   No                  Yes   \n",
       "4548                  Yes                   No                   No   \n",
       "6635  No internet service  No internet service  No internet service   \n",
       "\n",
       "              StreamingTV      StreamingMovies        Contract  \\\n",
       "706                    No                   No        Two year   \n",
       "776                    No                  Yes  Month-to-month   \n",
       "4130                   No                   No  Month-to-month   \n",
       "4548                   No                  Yes  Month-to-month   \n",
       "6635  No internet service  No internet service        One year   \n",
       "\n",
       "     PaperlessBilling     PaymentMethod  MonthlyCharges TotalCharges Churn  \n",
       "706               Yes      Mailed check           59.60       3739.8    No  \n",
       "776                No      Mailed check           40.30         92.5    No  \n",
       "4130               No  Electronic check           36.25          374    No  \n",
       "4548              Yes      Mailed check           84.30      1855.65   Yes  \n",
       "6635               No      Mailed check           20.10        533.9    No  "
      ]
     },
     "execution_count": 3,
     "metadata": {},
     "output_type": "execute_result"
    }
   ],
   "source": [
    "file_path = os.path.join(\"C:/Users/apisi/01. IronData/01. GitHub/01. IronLabs/unit_3_sql/lab-imbalanced-data/data\", \"customer_churn.csv\")\n",
    "data = pd.read_csv(file_path)\n",
    "data_info(data)"
   ]
  },
  {
   "cell_type": "markdown",
   "id": "6ae2a76d-cddf-4e6f-ab1c-7b411462208c",
   "metadata": {},
   "source": [
    "<div class=\"alert alert-block alert-info\">\n",
    "    \n",
    "**Binnary Classification Prbolem**\n",
    "    \n",
    "We want to predict `churn` (AKA; Is the customer still doing business with us?) **yes** or **no** using `seniorcitizen`,\t`tenure`, `monthlycharges`as features (we will select them by selecting only numericals.\n",
    "    \n",
    "The final **goal** of this lab is to learn how to deal with imbalanced data. So... let's walk thorugh it in our own shoes!\n",
    "</div>"
   ]
  },
  {
   "cell_type": "markdown",
   "id": "a1ddec98-41eb-49d5-94d9-be713087b93f",
   "metadata": {},
   "source": [
    "## 02 | Data Wrangling"
   ]
  },
  {
   "cell_type": "code",
   "execution_count": 4,
   "id": "c1053d03-0e43-425b-8fa9-90b79e410ea3",
   "metadata": {},
   "outputs": [],
   "source": [
    "# Good practices, not necessary for a lab\n",
    "# c_data = data.copy()"
   ]
  },
  {
   "cell_type": "code",
   "execution_count": 5,
   "id": "2574d68b-0a2b-408e-967b-b14b4b39f929",
   "metadata": {},
   "outputs": [
    {
     "data": {
      "text/html": [
       "<div>\n",
       "<style scoped>\n",
       "    .dataframe tbody tr th:only-of-type {\n",
       "        vertical-align: middle;\n",
       "    }\n",
       "\n",
       "    .dataframe tbody tr th {\n",
       "        vertical-align: top;\n",
       "    }\n",
       "\n",
       "    .dataframe thead th {\n",
       "        text-align: right;\n",
       "    }\n",
       "</style>\n",
       "<table border=\"1\" class=\"dataframe\">\n",
       "  <thead>\n",
       "    <tr style=\"text-align: right;\">\n",
       "      <th></th>\n",
       "      <th>customerid</th>\n",
       "      <th>gender</th>\n",
       "      <th>seniorcitizen</th>\n",
       "      <th>partner</th>\n",
       "      <th>dependents</th>\n",
       "      <th>tenure</th>\n",
       "      <th>phoneservice</th>\n",
       "      <th>multiplelines</th>\n",
       "      <th>internetservice</th>\n",
       "      <th>onlinesecurity</th>\n",
       "      <th>onlinebackup</th>\n",
       "      <th>deviceprotection</th>\n",
       "      <th>techsupport</th>\n",
       "      <th>streamingtv</th>\n",
       "      <th>streamingmovies</th>\n",
       "      <th>contract</th>\n",
       "      <th>paperlessbilling</th>\n",
       "      <th>paymentmethod</th>\n",
       "      <th>monthlycharges</th>\n",
       "      <th>totalcharges</th>\n",
       "      <th>churn</th>\n",
       "    </tr>\n",
       "  </thead>\n",
       "  <tbody>\n",
       "  </tbody>\n",
       "</table>\n",
       "</div>"
      ],
      "text/plain": [
       "Empty DataFrame\n",
       "Columns: [customerid, gender, seniorcitizen, partner, dependents, tenure, phoneservice, multiplelines, internetservice, onlinesecurity, onlinebackup, deviceprotection, techsupport, streamingtv, streamingmovies, contract, paperlessbilling, paymentmethod, monthlycharges, totalcharges, churn]\n",
       "Index: []"
      ]
     },
     "execution_count": 5,
     "metadata": {},
     "output_type": "execute_result"
    }
   ],
   "source": [
    "clean_columns(data) # standarize columns"
   ]
  },
  {
   "cell_type": "code",
   "execution_count": 6,
   "id": "c20199ac-cc1a-487b-a879-cabda563a47b",
   "metadata": {},
   "outputs": [
    {
     "data": {
      "text/plain": [
       "No     5174\n",
       "Yes    1869\n",
       "Name: churn, dtype: int64"
      ]
     },
     "execution_count": 6,
     "metadata": {},
     "output_type": "execute_result"
    }
   ],
   "source": [
    "# How is our target data distributed?\n",
    "data['churn'].value_counts()"
   ]
  },
  {
   "cell_type": "markdown",
   "id": "e5a408cd-965d-4cec-8a60-1464edd60780",
   "metadata": {},
   "source": [
    "<blockquote style=\"background-color: #ffeeba; color: #856404; border-color: #ffeeba; padding: 10px; border-radius: 5px;\">\n",
    "\n",
    "There are is a huge imbalance representation from the two categories    \n",
    "</blockquote>"
   ]
  },
  {
   "cell_type": "code",
   "execution_count": 7,
   "id": "98d8499d-cc1f-42d2-80f4-23d152e7468a",
   "metadata": {},
   "outputs": [
    {
     "data": {
      "text/plain": [
       "73.4630129206304"
      ]
     },
     "execution_count": 7,
     "metadata": {},
     "output_type": "execute_result"
    }
   ],
   "source": [
    "5174/(5174+1869)*100"
   ]
  },
  {
   "cell_type": "markdown",
   "id": "61202a8d-fa90-4fe5-aa74-a29ab9c6b06a",
   "metadata": {},
   "source": [
    "<blockquote style=\"background-color: #d4edda; color: #155724; border-color: #c3e6cb; padding: 10px; border-radius: 5px;\">\n",
    "    \n",
    "There is a **73%** percentatge imbalance\n",
    "    \n",
    "</blockquote>"
   ]
  },
  {
   "cell_type": "markdown",
   "id": "276348ab-e713-445a-8ff2-8a208a42fba4",
   "metadata": {},
   "source": [
    "### Selecting Numericals"
   ]
  },
  {
   "cell_type": "code",
   "execution_count": 8,
   "id": "01d12b01-e49f-421f-ab2e-256e89010505",
   "metadata": {},
   "outputs": [
    {
     "data": {
      "text/html": [
       "<div>\n",
       "<style scoped>\n",
       "    .dataframe tbody tr th:only-of-type {\n",
       "        vertical-align: middle;\n",
       "    }\n",
       "\n",
       "    .dataframe tbody tr th {\n",
       "        vertical-align: top;\n",
       "    }\n",
       "\n",
       "    .dataframe thead th {\n",
       "        text-align: right;\n",
       "    }\n",
       "</style>\n",
       "<table border=\"1\" class=\"dataframe\">\n",
       "  <thead>\n",
       "    <tr style=\"text-align: right;\">\n",
       "      <th></th>\n",
       "      <th>seniorcitizen</th>\n",
       "      <th>tenure</th>\n",
       "      <th>monthlycharges</th>\n",
       "    </tr>\n",
       "  </thead>\n",
       "  <tbody>\n",
       "    <tr>\n",
       "      <th>0</th>\n",
       "      <td>0</td>\n",
       "      <td>1</td>\n",
       "      <td>29.85</td>\n",
       "    </tr>\n",
       "    <tr>\n",
       "      <th>1</th>\n",
       "      <td>0</td>\n",
       "      <td>34</td>\n",
       "      <td>56.95</td>\n",
       "    </tr>\n",
       "    <tr>\n",
       "      <th>2</th>\n",
       "      <td>0</td>\n",
       "      <td>2</td>\n",
       "      <td>53.85</td>\n",
       "    </tr>\n",
       "    <tr>\n",
       "      <th>3</th>\n",
       "      <td>0</td>\n",
       "      <td>45</td>\n",
       "      <td>42.30</td>\n",
       "    </tr>\n",
       "    <tr>\n",
       "      <th>4</th>\n",
       "      <td>0</td>\n",
       "      <td>2</td>\n",
       "      <td>70.70</td>\n",
       "    </tr>\n",
       "  </tbody>\n",
       "</table>\n",
       "</div>"
      ],
      "text/plain": [
       "   seniorcitizen  tenure  monthlycharges\n",
       "0              0       1           29.85\n",
       "1              0      34           56.95\n",
       "2              0       2           53.85\n",
       "3              0      45           42.30\n",
       "4              0       2           70.70"
      ]
     },
     "execution_count": 8,
     "metadata": {},
     "output_type": "execute_result"
    }
   ],
   "source": [
    "# Selecting our futures\n",
    "n = data.select_dtypes(exclude=np.object)\n",
    "n.head()"
   ]
  },
  {
   "cell_type": "markdown",
   "id": "9de0c660-266f-429e-bbd3-e329c67bb02a",
   "metadata": {},
   "source": [
    "## 03 | Data Processing"
   ]
  },
  {
   "cell_type": "markdown",
   "id": "b46ada43-ad72-4059-94e8-8adb1a1156a1",
   "metadata": {},
   "source": [
    "### Normalizing the data"
   ]
  },
  {
   "cell_type": "code",
   "execution_count": 9,
   "id": "8cbab6a0-ba5d-43e5-91be-8d0074a06b9a",
   "metadata": {},
   "outputs": [
    {
     "data": {
      "text/html": [
       "<div>\n",
       "<style scoped>\n",
       "    .dataframe tbody tr th:only-of-type {\n",
       "        vertical-align: middle;\n",
       "    }\n",
       "\n",
       "    .dataframe tbody tr th {\n",
       "        vertical-align: top;\n",
       "    }\n",
       "\n",
       "    .dataframe thead th {\n",
       "        text-align: right;\n",
       "    }\n",
       "</style>\n",
       "<table border=\"1\" class=\"dataframe\">\n",
       "  <thead>\n",
       "    <tr style=\"text-align: right;\">\n",
       "      <th></th>\n",
       "      <th>seniorcitizen</th>\n",
       "      <th>tenure</th>\n",
       "      <th>monthlycharges</th>\n",
       "    </tr>\n",
       "  </thead>\n",
       "  <tbody>\n",
       "    <tr>\n",
       "      <th>0</th>\n",
       "      <td>-0.439916</td>\n",
       "      <td>-1.277445</td>\n",
       "      <td>-1.160323</td>\n",
       "    </tr>\n",
       "    <tr>\n",
       "      <th>1</th>\n",
       "      <td>-0.439916</td>\n",
       "      <td>0.066327</td>\n",
       "      <td>-0.259629</td>\n",
       "    </tr>\n",
       "    <tr>\n",
       "      <th>2</th>\n",
       "      <td>-0.439916</td>\n",
       "      <td>-1.236724</td>\n",
       "      <td>-0.362660</td>\n",
       "    </tr>\n",
       "    <tr>\n",
       "      <th>3</th>\n",
       "      <td>-0.439916</td>\n",
       "      <td>0.514251</td>\n",
       "      <td>-0.746535</td>\n",
       "    </tr>\n",
       "    <tr>\n",
       "      <th>4</th>\n",
       "      <td>-0.439916</td>\n",
       "      <td>-1.236724</td>\n",
       "      <td>0.197365</td>\n",
       "    </tr>\n",
       "  </tbody>\n",
       "</table>\n",
       "</div>"
      ],
      "text/plain": [
       "   seniorcitizen    tenure  monthlycharges\n",
       "0      -0.439916 -1.277445       -1.160323\n",
       "1      -0.439916  0.066327       -0.259629\n",
       "2      -0.439916 -1.236724       -0.362660\n",
       "3      -0.439916  0.514251       -0.746535\n",
       "4      -0.439916 -1.236724        0.197365"
      ]
     },
     "execution_count": 9,
     "metadata": {},
     "output_type": "execute_result"
    }
   ],
   "source": [
    "# Normalazing the data\n",
    "sd = StandardScaler().fit(n)\n",
    "\n",
    "# Transformation\n",
    "n_scaled = sd.transform(n)\n",
    "\n",
    "# Making it a panda dataframe\n",
    "ns = pd.DataFrame(n_scaled)\n",
    "\n",
    "# Keeping old column names\n",
    "ns.columns = n.columns\n",
    "\n",
    "ns.head()"
   ]
  },
  {
   "cell_type": "markdown",
   "id": "6d37d09b-e07e-4fc3-ab39-6b72847aa2d3",
   "metadata": {},
   "source": [
    "### X-Y Split"
   ]
  },
  {
   "cell_type": "code",
   "execution_count": 10,
   "id": "88202aa8-28ac-4b1b-9b7c-06222058c911",
   "metadata": {},
   "outputs": [],
   "source": [
    "# We need to be careful about when and how we do the split\n",
    "Y = data['churn']\n",
    "X = ns"
   ]
  },
  {
   "cell_type": "code",
   "execution_count": 11,
   "id": "68a1ef5c-8df3-420b-93ef-57ce0e1ffa98",
   "metadata": {},
   "outputs": [],
   "source": [
    "# We define train and test for X and Y\n",
    "X_train, X_test, y_train, y_test = train_test_split(X, Y, test_size=0.3, random_state=42) \n",
    "\n",
    "# test_size = We give 30% for testing and 70% for testing\n",
    "# random_state = it'll improve the model to divide always the model in the same way"
   ]
  },
  {
   "cell_type": "code",
   "execution_count": 12,
   "id": "e65fe27d-e36e-4ace-89fa-90c015ac824f",
   "metadata": {},
   "outputs": [
    {
     "data": {
      "text/plain": [
       "7043"
      ]
     },
     "execution_count": 12,
     "metadata": {},
     "output_type": "execute_result"
    }
   ],
   "source": [
    "len(X) # Len before the test"
   ]
  },
  {
   "cell_type": "code",
   "execution_count": 13,
   "id": "9e2882ab-45df-42af-b22c-20c1c705b345",
   "metadata": {},
   "outputs": [
    {
     "data": {
      "text/plain": [
       "2113"
      ]
     },
     "execution_count": 13,
     "metadata": {},
     "output_type": "execute_result"
    }
   ],
   "source": [
    "len(X_test) # Len after testing 30% of X data"
   ]
  },
  {
   "cell_type": "code",
   "execution_count": 14,
   "id": "20a982b4-862d-4bf1-93ea-8b19f8751a6b",
   "metadata": {},
   "outputs": [
    {
     "data": {
      "text/plain": [
       "4930"
      ]
     },
     "execution_count": 14,
     "metadata": {},
     "output_type": "execute_result"
    }
   ],
   "source": [
    "len(X_train) # Len after training 70% of X data"
   ]
  },
  {
   "cell_type": "markdown",
   "id": "3d72303e-71ec-4057-a797-1de16c5cb627",
   "metadata": {},
   "source": [
    "### Logistic Regression"
   ]
  },
  {
   "cell_type": "code",
   "execution_count": 15,
   "id": "682ad18c-7509-49ea-aa64-e1ec79dbc0b9",
   "metadata": {},
   "outputs": [],
   "source": [
    "# We traing the training dataset using Logistic Regression\n",
    "logistic = LogisticRegression(random_state=0).fit(X_train, y_train)"
   ]
  },
  {
   "cell_type": "code",
   "execution_count": 16,
   "id": "44f3cdd0-8848-4bd4-bc9d-b372d36669da",
   "metadata": {},
   "outputs": [],
   "source": [
    "# Predictions\n",
    "predictions = logistic.predict(X_test)"
   ]
  },
  {
   "cell_type": "code",
   "execution_count": 17,
   "id": "feea6bc5-4d60-46f1-ac59-171b36ba3dc6",
   "metadata": {},
   "outputs": [
    {
     "data": {
      "text/plain": [
       "0.7936583057264552"
      ]
     },
     "execution_count": 17,
     "metadata": {},
     "output_type": "execute_result"
    }
   ],
   "source": [
    "logistic.score(X_test, y_test)"
   ]
  },
  {
   "cell_type": "markdown",
   "id": "4158110a-7c78-4805-bde0-25482d3c5958",
   "metadata": {},
   "source": [
    "<blockquote style=\"background-color: #ffeeba; color: #856404; border-color: #ffeeba; padding: 10px; border-radius: 5px;\">\n",
    "\n",
    "Even with the imbalance, we got a 79% score.\n",
    "</blockquote>"
   ]
  },
  {
   "cell_type": "code",
   "execution_count": 18,
   "id": "936e550f-8f96-44c1-b9a7-91a33b74f755",
   "metadata": {},
   "outputs": [
    {
     "name": "stdout",
     "output_type": "stream",
     "text": [
      "              precision    recall  f1-score   support\n",
      "\n",
      "          No       0.82      0.92      0.87      1539\n",
      "         Yes       0.68      0.45      0.54       574\n",
      "\n",
      "    accuracy                           0.79      2113\n",
      "   macro avg       0.75      0.69      0.70      2113\n",
      "weighted avg       0.78      0.79      0.78      2113\n",
      "\n"
     ]
    }
   ],
   "source": [
    "logistic_1 = classification_report(y_test, predictions)\n",
    "print(logistic_1)"
   ]
  },
  {
   "cell_type": "markdown",
   "id": "fc80bf6d-6e4f-480f-b39f-8864dd83501f",
   "metadata": {
    "tags": []
   },
   "source": [
    "![logo_ironhack_blue 7](https://user-images.githubusercontent.com/23629340/40541063-a07a0a8a-601a-11e8-91b5-2f13e4e6b441.png)\n",
    "\n",
    "# Lab-Time| Dealing with imbalanced data"
   ]
  },
  {
   "cell_type": "markdown",
   "id": "16c014d6-4e3d-4f5e-9024-b44b8d2752be",
   "metadata": {
    "tags": []
   },
   "source": [
    "#### For this lab, we will use different Python scripts using `os`, just to play around and for a better organization."
   ]
  },
  {
   "cell_type": "code",
   "execution_count": 19,
   "id": "1b17e3cd-6cbd-466c-a0d7-727f0e321b86",
   "metadata": {},
   "outputs": [],
   "source": [
    "Cdata = pd.DataFrame(data)"
   ]
  },
  {
   "cell_type": "code",
   "execution_count": 20,
   "id": "006af2ca-a50f-45ff-8d2d-d40ba8a2abdd",
   "metadata": {},
   "outputs": [],
   "source": [
    "data.to_csv('C:/Users/apisi/01. IronData/01. GitHub/01. IronLabs/unit_3_sql/lab-imbalanced-data/data/Cdata.csv')"
   ]
  },
  {
   "cell_type": "markdown",
   "id": "aaf81d03-0fa9-41d3-b0e4-19db2d1a3b14",
   "metadata": {},
   "source": [
    "#### We created a new file `Cdata` with all our clean (standarized) data from `customer_churn.csv`. We will use it for all our imbalance practices."
   ]
  }
 ],
 "metadata": {
  "kernelspec": {
   "display_name": "Python 3 (ipykernel)",
   "language": "python",
   "name": "python3"
  },
  "language_info": {
   "codemirror_mode": {
    "name": "ipython",
    "version": 3
   },
   "file_extension": ".py",
   "mimetype": "text/x-python",
   "name": "python",
   "nbconvert_exporter": "python",
   "pygments_lexer": "ipython3",
   "version": "3.9.13"
  }
 },
 "nbformat": 4,
 "nbformat_minor": 5
}
