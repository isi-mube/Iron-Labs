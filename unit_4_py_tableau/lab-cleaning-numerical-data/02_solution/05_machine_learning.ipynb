{
 "cells": [
  {
   "cell_type": "markdown",
   "id": "35951b0d-869d-4841-ae75-3548d13d2c24",
   "metadata": {
    "tags": []
   },
   "source": [
    "## 00 |"
   ]
  },
  {
   "cell_type": "markdown",
   "id": "9e26df1d-009d-40c8-a072-21affa2b71be",
   "metadata": {},
   "source": [
    "The objective of this **project** is to define the profile of the most profitable customers, based on a collection of **9.134** customer data, including demographics and buying behaviour."
   ]
  },
  {
   "cell_type": "code",
   "execution_count": 1,
   "id": "8862ac5b-e4bb-43ba-a686-d28da6f05ae5",
   "metadata": {},
   "outputs": [],
   "source": [
    "# 📚 Basic libraries\n",
    "import os # file managment\n",
    "import pandas as pd # data manipulation\n",
    "import numpy as np # numerical operations\n",
    "import math # math in-build\n",
    "import matplotlib.pyplot as plt # 2D visualization\n",
    "import seaborn as sns # HD visualization\n",
    "import warnings # warning messages managment\n",
    "\n",
    "# 🤖 Machine Learning\n",
    "from sklearn.preprocessing import StandardScaler # data normalization\n",
    "from sklearn.model_selection import train_test_split # splitting data into train/test sets\n",
    "from sklearn.linear_model import LinearRegression # logistic model\n",
    "from sklearn.linear_model import ElasticNet, Lasso, Ridge # Regression model\n",
    "from sklearn.metrics import r2_score, mean_squared_error, mean_absolute_error # model evaluation metrics\n",
    "\n",
    "# ⚙️ Settings\n",
    "pd.set_option('display.max_columns', None)\n",
    "warnings.filterwarnings('ignore') # ignore warnings\n",
    "\n",
    "# 🔄 Functions\n",
    "import sys # system path to our functions\n",
    "sys.path.append(\"C:/Users/apisi/01. IronData/01. GitHub/01. IronLabs/unit_4_py/lab-cleaning-numerical-data\")\n",
    "\n",
    "from easy.functions import open_data # quick data overview\n",
    "from easy.functions import snake_columns # snake_case\n",
    "from easy.functions import explore_data # checks for duplicates, NaN & empty spaces"
   ]
  },
  {
   "cell_type": "code",
   "execution_count": 2,
   "id": "38f1cfb5-d746-46b8-acd0-77e12fc0bdfd",
   "metadata": {},
   "outputs": [],
   "source": [
    "file_path = os.path.join(\"C:/Users/apisi/01. IronData/01. GitHub/01. IronLabs/unit_4_py/lab-cleaning-numerical-data/01_data/X_N.csv\")\n",
    "X_N = pd.read_csv(file_path)"
   ]
  },
  {
   "cell_type": "markdown",
   "id": "bc355ce2-ae59-452c-896c-c5e72ec7445a",
   "metadata": {
    "tags": []
   },
   "source": [
    "## 05 | Modeling"
   ]
  },
  {
   "cell_type": "markdown",
   "id": "37958322-145f-4b57-811e-aad718a5514c",
   "metadata": {},
   "source": [
    "### X-Y Split"
   ]
  },
  {
   "cell_type": "code",
   "execution_count": 3,
   "id": "45641007-02c9-4ee4-bb99-00844cac80bd",
   "metadata": {},
   "outputs": [
    {
     "data": {
      "text/plain": [
       "Unnamed: 0                       0\n",
       "response                         0\n",
       "coverage                         0\n",
       "education                        0\n",
       "policy_type                      0\n",
       "policy                           0\n",
       "vehicle_size                     0\n",
       "year                             0\n",
       "month                            0\n",
       "day                              0\n",
       "unnamed:_0                       0\n",
       "customer_lifetime_value          0\n",
       "income                           0\n",
       "monthly_premium_auto             0\n",
       "months_since_last_claim          0\n",
       "months_since_policy_inception    0\n",
       "number_of_open_complaints        0\n",
       "number_of_policies               0\n",
       "total_claim_amount               0\n",
       "dtype: int64"
      ]
     },
     "execution_count": 3,
     "metadata": {},
     "output_type": "execute_result"
    }
   ],
   "source": [
    "X_N.isnull().sum()"
   ]
  },
  {
   "cell_type": "code",
   "execution_count": 4,
   "id": "29373eec-fd92-46f2-a8cd-827e9c36d220",
   "metadata": {},
   "outputs": [],
   "source": [
    "# We need to be careful about when and how we do the split.\n",
    "X_N.dropna(inplace=True) # Droping nulls, we got an error when we tried to model\n",
    "Y = X_N['total_claim_amount']\n",
    "X = X_N.drop(['total_claim_amount'], axis=1)"
   ]
  },
  {
   "cell_type": "markdown",
   "id": "f262c843-a4a7-40a8-8934-a5225727efb3",
   "metadata": {},
   "source": [
    "### Train-Test Split"
   ]
  },
  {
   "cell_type": "code",
   "execution_count": 5,
   "id": "24b7a010-09ec-47dc-b8d1-f4bcdd648395",
   "metadata": {},
   "outputs": [],
   "source": [
    "# We define train and test for X and Y\n",
    "X_train, X_test, y_train, y_test = train_test_split(X, Y, test_size=0.3, random_state=42) \n",
    "\n",
    "# test_size = We give 30% for testing and 70% for testing\n",
    "# random_state = it'll improve the model to divide always the model in the same way"
   ]
  },
  {
   "cell_type": "code",
   "execution_count": 6,
   "id": "04b0532b-55b2-43b4-b586-e1b3a7e2c6f6",
   "metadata": {},
   "outputs": [
    {
     "data": {
      "text/plain": [
       "9134"
      ]
     },
     "execution_count": 6,
     "metadata": {},
     "output_type": "execute_result"
    }
   ],
   "source": [
    "len(X) # Len before the test"
   ]
  },
  {
   "cell_type": "code",
   "execution_count": 7,
   "id": "3bcf340b-7165-45c1-a782-6a0e86dddd7a",
   "metadata": {},
   "outputs": [
    {
     "data": {
      "text/plain": [
       "2741"
      ]
     },
     "execution_count": 7,
     "metadata": {},
     "output_type": "execute_result"
    }
   ],
   "source": [
    "len(X_test) # Len after testing 30% of X data"
   ]
  },
  {
   "cell_type": "code",
   "execution_count": 8,
   "id": "b00348b0-b505-4d44-80ed-b9c780f79c7f",
   "metadata": {},
   "outputs": [
    {
     "data": {
      "text/plain": [
       "6393"
      ]
     },
     "execution_count": 8,
     "metadata": {},
     "output_type": "execute_result"
    }
   ],
   "source": [
    "len(X_train) # Len after training 70% of X data"
   ]
  },
  {
   "cell_type": "code",
   "execution_count": 9,
   "id": "0cb9a88c-415a-4b82-a070-6edea00230f6",
   "metadata": {},
   "outputs": [
    {
     "data": {
      "text/plain": [
       "LinearRegression()"
      ]
     },
     "execution_count": 9,
     "metadata": {},
     "output_type": "execute_result"
    }
   ],
   "source": [
    "model = LinearRegression() # We have the model\n",
    "model.fit(X_train,y_train) # We fit the training data into the model"
   ]
  },
  {
   "cell_type": "markdown",
   "id": "3472ea75-c460-4908-a2db-7f4c3af0a813",
   "metadata": {},
   "source": [
    "## 06 | Model Validation"
   ]
  },
  {
   "cell_type": "code",
   "execution_count": 10,
   "id": "df7a759d-f502-4507-bd16-ddf1b4638329",
   "metadata": {},
   "outputs": [],
   "source": [
    "predictions = model.predict(X_test)"
   ]
  },
  {
   "cell_type": "code",
   "execution_count": 11,
   "id": "eea82e9b-2c8c-481c-b9d4-548391b00a87",
   "metadata": {},
   "outputs": [
    {
     "data": {
      "text/plain": [
       "(0.5352173441359012, 194.7876040393055, 37942.21068737327)"
      ]
     },
     "execution_count": 11,
     "metadata": {},
     "output_type": "execute_result"
    }
   ],
   "source": [
    "r2_score(y_test, predictions), mean_squared_error(y_test, predictions, squared=False), mean_squared_error(y_test, predictions)\n"
   ]
  },
  {
   "cell_type": "code",
   "execution_count": 12,
   "id": "c2bfe59a-a02b-4050-b491-486ed4b4c824",
   "metadata": {},
   "outputs": [
    {
     "name": "stdout",
     "output_type": "stream",
     "text": [
      "R2 =  0.5352173441359012\n",
      "RMSE =  194.7876040393055\n",
      "The value of the metric MSE is  37942.21068737327\n",
      "MAE =  140.09204709152866\n"
     ]
    }
   ],
   "source": [
    "r2 = r2_score(y_test, predictions)\n",
    "RMSE = mean_squared_error(y_test, predictions, squared=False)\n",
    "MSE = mean_squared_error(y_test, predictions)\n",
    "MAE = mean_absolute_error(y_test, predictions)\n",
    "print(\"R2 = \", r2)\n",
    "print(\"RMSE = \", RMSE)\n",
    "print(\"The value of the metric MSE is \", MSE)\n",
    "print(\"MAE = \", MAE)"
   ]
  },
  {
   "cell_type": "code",
   "execution_count": 13,
   "id": "ea668ec8-3b77-4a45-be88-96cb0c1e9126",
   "metadata": {},
   "outputs": [
    {
     "data": {
      "text/html": [
       "<div>\n",
       "<style scoped>\n",
       "    .dataframe tbody tr th:only-of-type {\n",
       "        vertical-align: middle;\n",
       "    }\n",
       "\n",
       "    .dataframe tbody tr th {\n",
       "        vertical-align: top;\n",
       "    }\n",
       "\n",
       "    .dataframe thead th {\n",
       "        text-align: right;\n",
       "    }\n",
       "</style>\n",
       "<table border=\"1\" class=\"dataframe\">\n",
       "  <thead>\n",
       "    <tr style=\"text-align: right;\">\n",
       "      <th></th>\n",
       "      <th>true</th>\n",
       "      <th>pred</th>\n",
       "      <th>diff</th>\n",
       "    </tr>\n",
       "  </thead>\n",
       "  <tbody>\n",
       "    <tr>\n",
       "      <th>708</th>\n",
       "      <td>218.598065</td>\n",
       "      <td>412.822443</td>\n",
       "      <td>194.224378</td>\n",
       "    </tr>\n",
       "    <tr>\n",
       "      <th>47</th>\n",
       "      <td>447.793440</td>\n",
       "      <td>402.656041</td>\n",
       "      <td>45.137399</td>\n",
       "    </tr>\n",
       "    <tr>\n",
       "      <th>3995</th>\n",
       "      <td>451.200000</td>\n",
       "      <td>268.383995</td>\n",
       "      <td>182.816005</td>\n",
       "    </tr>\n",
       "    <tr>\n",
       "      <th>1513</th>\n",
       "      <td>355.641958</td>\n",
       "      <td>305.211191</td>\n",
       "      <td>50.430767</td>\n",
       "    </tr>\n",
       "    <tr>\n",
       "      <th>3686</th>\n",
       "      <td>470.097411</td>\n",
       "      <td>383.474499</td>\n",
       "      <td>86.622912</td>\n",
       "    </tr>\n",
       "  </tbody>\n",
       "</table>\n",
       "</div>"
      ],
      "text/plain": [
       "            true        pred        diff\n",
       "708   218.598065  412.822443  194.224378\n",
       "47    447.793440  402.656041   45.137399\n",
       "3995  451.200000  268.383995  182.816005\n",
       "1513  355.641958  305.211191   50.430767\n",
       "3686  470.097411  383.474499   86.622912"
      ]
     },
     "execution_count": 13,
     "metadata": {},
     "output_type": "execute_result"
    }
   ],
   "source": [
    "results = pd.DataFrame()\n",
    "results['true'] = y_test\n",
    "results['pred'] = predictions\n",
    "results['diff'] = results.apply(lambda x: abs(x['true'] - x['pred']), axis=1)\n",
    "results.head(5)"
   ]
  },
  {
   "cell_type": "code",
   "execution_count": 14,
   "id": "88096b2a-4cb5-40a9-a4cc-43ea1e0037ee",
   "metadata": {},
   "outputs": [
    {
     "data": {
      "text/plain": [
       "<AxesSubplot:xlabel='true', ylabel='pred'>"
      ]
     },
     "execution_count": 14,
     "metadata": {},
     "output_type": "execute_result"
    },
    {
     "data": {
      "image/png": "[encoded data removed]",
      "text/plain": [
       "<Figure size 640x480 with 1 Axes>"
      ]
     },
     "metadata": {},
     "output_type": "display_data"
    }
   ],
   "source": [
    "sns.regplot(results['true'], results['pred'])"
   ]
  }
 ],
 "metadata": {
  "kernelspec": {
   "display_name": "Python 3 (ipykernel)",
   "language": "python",
   "name": "python3"
  },
  "language_info": {
   "codemirror_mode": {
    "name": "ipython",
    "version": 3
   },
   "file_extension": ".py",
   "mimetype": "text/x-python",
   "name": "python",
   "nbconvert_exporter": "python",
   "pygments_lexer": "ipython3",
   "version": "3.9.13"
  }
 },
 "nbformat": 4,
 "nbformat_minor": 5
}
