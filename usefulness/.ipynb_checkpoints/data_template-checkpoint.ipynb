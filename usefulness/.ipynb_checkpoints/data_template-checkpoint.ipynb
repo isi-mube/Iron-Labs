{
 "cells": [
  {
   "cell_type": "markdown",
   "id": "246620fb-7b19-42ff-8d66-a804d9a7f3fd",
   "metadata": {},
   "source": [
    "<h1 style=\"color: #00BFFF;\">00 |</h1>"
   ]
  },
  {
   "cell_type": "markdown",
   "id": "f7be6f2a-3489-4d5b-9556-c1dc345605db",
   "metadata": {},
   "source": [
    "<h1 style=\"color: #00BFFF;\">01 | Data Extraction</h1>"
   ]
  },
  {
   "attachments": {
    "7cfe6ac8-f371-41ba-8ba1-8307e11572a6.png": {
     "image/png": "[encoded data removed]"
    }
   },
   "cell_type": "markdown",
   "id": "16f3cb19-20f3-4f11-82d9-514caabceee6",
   "metadata": {},
   "source": [
    "<blockquote style=\"background-color: #d4edda; color: #155724; border-color: #c3e6cb; padding: 10px; border-radius: 5px;\">\n",
    "    \n",
    "**First impression:**\n",
    "    \n",
    "_____________\n",
    "\n",
    "💻 The following database is a collection of over **YEAR** (from XXXX/XX/XX to XXXX/XX/XX) X data information among X different columnns.\n",
    "    \n",
    "![image.png](attachment:7cfe6ac8-f371-41ba-8ba1-8307e11572a6.png)\n",
    "    \n",
    "Our **target** will be.\n",
    "\n",
    "* --> Target variable: `Movie_demand`. Sed neque ad assumenda tenetur natus veniam magni, tenetur nam veritatis asperiores omnis minima dignissimos perspiciatis aliquam soluta quisquam, voluptates pariatur ipsum officia eos magni.\n",
    "* --> Features: `rating`. Veritatis dolor quisquam nostrum consequuntur alias repudiandae corporis ad modi, quam culpa placeat ducimus, unde debitis laudantium soluta dolore, tempore nesciunt officiis vero ad nulla nisi hic voluptates?  \n",
    "_____________\n",
    "</blockquote>"
   ]
  },
  {
   "cell_type": "markdown",
   "id": "1f136f5a-f267-48ad-8f5d-0cc7c58b6077",
   "metadata": {
    "tags": []
   },
   "source": [
    "<h1 style=\"color: #00BFFF;\">02 | Data cleaning</h1>"
   ]
  },
  {
   "cell_type": "markdown",
   "id": "2c4177c6-1778-4738-a11c-0d86e38c9a02",
   "metadata": {},
   "source": [
    "<h2 style=\"color: #008080;\">Dropping more unnecessary features</h2>"
   ]
  },
  {
   "cell_type": "markdown",
   "id": "4f0a8f9a-0b27-48ff-82b8-cea237a8ba6c",
   "metadata": {},
   "source": [
    "<h2 style=\"color: #008080;\">Encoding Categoricals</h2>"
   ]
  },
  {
   "cell_type": "markdown",
   "id": "aaabb400-fc0b-4f56-bbfb-fbd7da351ab3",
   "metadata": {},
   "source": [
    "<h2 style=\"color: #008080;\">Feature Engineering</h2>"
   ]
  },
  {
   "cell_type": "markdown",
   "id": "b48afa3f-2c21-43e0-8d6f-2dbc01726b92",
   "metadata": {},
   "source": [
    "<h2 style=\"color: #008080;\">Cleaning Numericals</h2>"
   ]
  },
  {
   "cell_type": "markdown",
   "id": "815ca90b-2a77-437e-917b-41de30158d0d",
   "metadata": {},
   "source": [
    "<h1 style=\"color: #00BFFF;\">03 | EDA</h1>"
   ]
  },
  {
   "cell_type": "markdown",
   "id": "8e535b48-60fa-47e9-93fb-9cc6cc77eb20",
   "metadata": {},
   "source": [
    "<h2 style=\"color: #008080;\">Dealing with Duplicates</h2>"
   ]
  },
  {
   "cell_type": "markdown",
   "id": "6a7ce9be-8bd3-4b7d-a160-df5c65b08044",
   "metadata": {},
   "source": [
    "<h2 style=\"color: #008080;\">Dealing with Skewness</h2>"
   ]
  },
  {
   "cell_type": "markdown",
   "id": "7d2642d4-8bce-473d-a2e6-184adb859da9",
   "metadata": {
    "tags": []
   },
   "source": [
    "<h2 style=\"color: #008080;\">Dealing with Outliers</h2>"
   ]
  },
  {
   "cell_type": "markdown",
   "id": "2eda9db5-41d1-4423-83fe-9ee46fd5fbdf",
   "metadata": {
    "tags": []
   },
   "source": [
    "# Automatically removing outliers\n",
    "for column in X_N:\n",
    "    Q1 = X_N[column].quantile(0.25)\n",
    "    Q3 = X_N[column].quantile(0.75)\n",
    "    IQR = Q3 - Q1\n",
    "\n",
    "    lower_bound = Q1 - 1.5 * IQR\n",
    "    upper_bound = Q3 + 1.5 * IQR\n",
    "\n",
    "    X_N = X_N[(X_N[column] >= lower_bound) & (X_N[column] <= upper_bound)]"
   ]
  },
  {
   "cell_type": "code",
   "execution_count": null,
   "id": "e160041d-2e27-4258-a122-40a9b7045950",
   "metadata": {},
   "outputs": [],
   "source": [
    "# Visualizing the changes\n",
    "\n",
    "fig, ax = plt.subplots(figsize=(30, 12))\n",
    "sns.boxplot(data=X_N, orient=\"h\", ax=ax, showfliers=True, whis=1.5)\n",
    "\n",
    "# Set the x-axis label\n",
    "ax.set_ylabel(\"Features\")\n",
    "# Set the title of the plot\n",
    "ax.set_title(\"Features Outliers\")\n",
    "# Adjust the font size of the x-axis ticks\n",
    "ax.tick_params(axis='x', labelsize=14)\n",
    "# Show the plot\n",
    "plt.show()"
   ]
  },
  {
   "cell_type": "markdown",
   "id": "22e641e8-a8bf-4bbf-b047-c84b7e5c79e5",
   "metadata": {},
   "source": [
    "<h2 style=\"color: #008080;\">Dealing with Data distributions</h2>"
   ]
  },
  {
   "cell_type": "code",
   "execution_count": null,
   "id": "66663c76-2319-493c-9185-ef6d2eb07778",
   "metadata": {},
   "outputs": [],
   "source": [
    "# set color palette\n",
    "colors = ['#0072B2'] # blue\n",
    "\n",
    "# plot normalized features in a grid\n",
    "fig, axes = plt.subplots(nrows=5, ncols=5, figsize=(20, 16)) # nrows to 5, ncols to 6 to plot our 26 features\n",
    "for i, ax in enumerate(axes.flat):\n",
    "    if i >= len(X_N.columns):\n",
    "        break\n",
    "    sns.histplot(X_N.iloc[:, i], ax=ax, color=colors[i % len(colors)], kde=True)\n",
    "    sns.kdeplot(X_N.iloc[:, i], ax=ax, color='#999999', linewidth=2)\n",
    "    ax.set_title(X_N.columns[i])\n",
    "plt.tight_layout()\n",
    "plt.show()"
   ]
  },
  {
   "cell_type": "markdown",
   "id": "76f28e8d-b648-47e6-b7f6-fe72720008a2",
   "metadata": {},
   "source": [
    "<h2 style=\"color: #008080;\">Dealing with Multicollinearity</h2>"
   ]
  },
  {
   "cell_type": "code",
   "execution_count": null,
   "id": "e65caf7e-cd57-43bb-b310-ae4c1ea49ca2",
   "metadata": {},
   "outputs": [],
   "source": [
    "# Creating the matrix\n",
    "X_corr = round(X_N.corr(), 4)"
   ]
  },
  {
   "cell_type": "code",
   "execution_count": null,
   "id": "cff7efae-bf76-4a39-9e33-642f3217ac56",
   "metadata": {},
   "outputs": [],
   "source": [
    "# Correlation Matrix-Heatmap Plot\n",
    "mask = np.zeros_like(X_corr)\n",
    "mask[np.triu_indices_from(mask)] = True # optional, to hide repeat half of the matrix\n",
    "f, ax = plt.subplots(figsize=(25, 15))\n",
    "sns.set(font_scale=1.5) # increase font size\n",
    "ax = sns.heatmap(X_corr, mask=mask, annot=True, annot_kws={\"size\": 12}, linewidths=.5, cmap=\"coolwarm\", fmt=\".2f\", ax=ax) # round to 2 decimal places\n",
    "ax.set_title(\"Dealing with Multicollinearity\", fontsize=20) # add title\n",
    "plt.show()"
   ]
  },
  {
   "cell_type": "markdown",
   "id": "29a8f878-1366-4a6e-ba9a-3d02767fbcc3",
   "metadata": {},
   "source": [
    "<h1 style=\"color: #00BFFF;\">04 | Data Processing</h1>"
   ]
  },
  {
   "cell_type": "markdown",
   "id": "aa46dfff-621d-4556-a85a-0b9fec469a99",
   "metadata": {},
   "source": [
    "<h2 style=\"color: #008080;\">Dealing with imbalanced data</h2>"
   ]
  },
  {
   "cell_type": "markdown",
   "id": "8e0e3233-1f59-47ed-aa26-e1a1ef4685d2",
   "metadata": {},
   "source": [
    "<h2 style=\"color: #008080;\">Normalizing the data</h2>"
   ]
  },
  {
   "cell_type": "code",
   "execution_count": null,
   "id": "aa8a33aa-65c8-4112-b484-7ab72f2980b5",
   "metadata": {},
   "outputs": [],
   "source": [
    "scaler = MinMaxScaler()\n",
    "X_minmax = scaler.fit_transform(X)\n",
    "\n",
    "# Making it a dataframe\n",
    "X_minmax = pd.DataFrame(X_minmax, columns=X.columns)"
   ]
  },
  {
   "cell_type": "markdown",
   "id": "a569793b-7396-4de0-8704-4d433703593a",
   "metadata": {},
   "source": [
    "<h2 style=\"color: #008080;\">Merging Categoricals and Numericals</h2>"
   ]
  },
  {
   "cell_type": "markdown",
   "id": "b835d265-7c6f-491d-8334-f8a0487e43a0",
   "metadata": {
    "tags": []
   },
   "source": [
    "<h1 style=\"color: #00BFFF;\">05 | Modeling</h1>"
   ]
  },
  {
   "cell_type": "markdown",
   "id": "d3d550f2-a43b-4dac-b13a-10571b82c9e3",
   "metadata": {},
   "source": [
    "<h2 style=\"color: #008080;\">X-Y Split</h2>"
   ]
  },
  {
   "cell_type": "code",
   "execution_count": null,
   "id": "d26038f8-cb02-4842-94fc-9f1792018436",
   "metadata": {},
   "outputs": [],
   "source": [
    "Y = X_N['ova']\n",
    "X = X_N.drop(['ova'], axis=1)"
   ]
  },
  {
   "cell_type": "markdown",
   "id": "fe90fe50-b284-4e66-9b2c-d7d5c2e32657",
   "metadata": {},
   "source": [
    "<h2 style=\"color: #008080;\">Train-Test Split</h2>"
   ]
  },
  {
   "cell_type": "code",
   "execution_count": null,
   "id": "054d01cc-49ed-453f-86d8-254d8cd7758b",
   "metadata": {},
   "outputs": [],
   "source": [
    "# We define train and test for X and Y\n",
    "X_train, X_test, y_train, y_test = train_test_split(X, Y, test_size=0.3, random_state=42) \n",
    "\n",
    "# test_size = We give 30% for testing and 70% for testing\n",
    "# random_state = it'll improve the model to divide always the model in the same way"
   ]
  },
  {
   "cell_type": "markdown",
   "id": "3d3f1781-eb11-431d-b9a0-c02d6bea5c7a",
   "metadata": {},
   "source": [
    "<h2 style=\"color: #008080;\">Your Model</h2>"
   ]
  },
  {
   "cell_type": "code",
   "execution_count": null,
   "id": "1c4780e5-9c92-4ef7-97e7-1ef9b8f52943",
   "metadata": {},
   "outputs": [],
   "source": [
    "# Settings\n",
    "alpha = 1.0\n",
    "l1_ratio = 0.5\n",
    "elasticnet = ElasticNet(alpha=alpha, l1_ratio=l1_ratio)\n",
    "\n",
    "# Train data for the model\n",
    "elasticnet.fit(X_train, y_train)\n",
    "\n",
    "# Predictions\n",
    "predictions = elasticnet.predict(X_test)\n",
    "\n",
    "r2_3 = r2_score(y_test, predictions)\n",
    "RMSE_3 = mean_squared_error(y_test, predictions, squared=False)\n",
    "MSE_3 = mean_squared_error(y_test, predictions)\n",
    "MAE_3 = mean_absolute_error(y_test, predictions)\n",
    "\n",
    "#Printing the results\n",
    "print(\"R2 = \", round(r2_3, 4))\n",
    "print(\"RMSE = \", round(RMSE_3, 4))\n",
    "print(\"The value of the metric MSE is \", round(MSE_3, 4))\n",
    "print(\"MAE = \", round(MAE_3, 4))"
   ]
  },
  {
   "cell_type": "markdown",
   "id": "8ecc4034-31d0-4a1e-aebf-35d3d8b48bc1",
   "metadata": {},
   "source": [
    "<h1 style=\"color: #00BFFF;\">06 | Reporting</h1>"
   ]
  },
  {
   "cell_type": "markdown",
   "id": "ccbff5c8-22d5-4b0c-9d1e-9ba83bd46642",
   "metadata": {},
   "source": [
    "<h2 style=\"color: #008080;\">Presenting the results</h2>"
   ]
  },
  {
   "cell_type": "code",
   "execution_count": null,
   "id": "87dd112d-153d-48c8-a1fc-546b696cc37a",
   "metadata": {},
   "outputs": [],
   "source": [
    "# Dataframe for true, predicted and absolute difference values\n",
    "results = pd.DataFrame()\n",
    "results['true'] = y_test\n",
    "results['pred'] = predictions\n",
    "results['diff'] = results.apply(lambda x: abs(x['true'] - x['pred']), axis=1)\n",
    "\n",
    "\n",
    "sns.set_style('whitegrid')\n",
    "sns.regplot(x='true_scaled', y='pred_scaled', data=results, color='black', scatter_kws={'s': 100, 'color': '#1f77b4', 'alpha': 0.5, 'edgecolor': 'w'})\n",
    "plt.xlabel('Actual Overall Ratings', fontsize=14, fontweight='bold', color='#34495e')\n",
    "plt.ylabel('Predicted Overall Rating', fontsize=14, fontweight='bold', color='#34495e')\n",
    "plt.title('True Values Vs Predicted Values', fontsize=16, fontweight='bold', color='#34495e')\n",
    "plt.xticks(fontsize=12, color='#34495e')\n",
    "plt.yticks(fontsize=12, color='#34495e')\n",
    "plt.tight_layout()\n",
    "plt.show()"
   ]
  },
  {
   "cell_type": "markdown",
   "id": "3e18d222-591e-47f3-8d3f-7ac7874b685c",
   "metadata": {},
   "source": [
    "<h2 style=\"color: #00BFFF;\">So... Will the movie be rented in the future?</h2>"
   ]
  },
  {
   "cell_type": "markdown",
   "id": "01238fa8-0778-4ccc-82c7-274ec2b2177b",
   "metadata": {},
   "source": [
    "<h1 style=\"color: #00BFFF;\">-1 | Bonus</h1>"
   ]
  },
  {
   "cell_type": "markdown",
   "id": "01977732-f1e0-4cc3-a829-eeaac301d888",
   "metadata": {},
   "source": [
    "<h3 style=\"color: #0099CC;\">Little title</h3>"
   ]
  },
  {
   "cell_type": "markdown",
   "id": "c2d58d64-23a7-44bb-9aca-b5f2f7a9843d",
   "metadata": {},
   "source": [
    "<blockquote style=\"background-color: #d4edda; color: #155724; border-color: #c3e6cb; padding: 10px; border-radius: 5px;\">\n",
    "\n",
    "</blockquote>"
   ]
  },
  {
   "cell_type": "markdown",
   "id": "56a14097-7e4e-4790-8aa3-660915c49b74",
   "metadata": {},
   "source": [
    "<blockquote style=\"background-color: #ffeeba; color: #856404; border-color: #ffeeba; padding: 10px; border-radius: 5px;\">\n",
    "\n",
    "</blockquote>"
   ]
  },
  {
   "cell_type": "markdown",
   "id": "14b0f12e-18e9-4456-b2fb-2c546a9e1f27",
   "metadata": {},
   "source": [
    "<div class=\"alert alert-block alert-info\">\n",
    "</div>"
   ]
  }
 ],
 "metadata": {
  "kernelspec": {
   "display_name": "Python 3 (ipykernel)",
   "language": "python",
   "name": "python3"
  },
  "language_info": {
   "codemirror_mode": {
    "name": "ipython",
    "version": 3
   },
   "file_extension": ".py",
   "mimetype": "text/x-python",
   "name": "python",
   "nbconvert_exporter": "python",
   "pygments_lexer": "ipython3",
   "version": "3.9.13"
  }
 },
 "nbformat": 4,
 "nbformat_minor": 5
}
