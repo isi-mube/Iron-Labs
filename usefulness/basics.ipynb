{
 "cells": [
  {
   "cell_type": "code",
   "execution_count": 1,
   "id": "4d95da9d-217b-403d-9586-f9fede6afeb0",
   "metadata": {},
   "outputs": [
    {
     "ename": "ModuleNotFoundError",
     "evalue": "No module named 'slearn'",
     "output_type": "error",
     "traceback": [
      "\u001b[1;31m---------------------------------------------------------------------------\u001b[0m",
      "\u001b[1;31mModuleNotFoundError\u001b[0m                       Traceback (most recent call last)",
      "\u001b[1;32m~\\AppData\\Local\\Temp\\ipykernel_16516\\1671600303.py\u001b[0m in \u001b[0;36m<module>\u001b[1;34m\u001b[0m\n\u001b[0;32m      8\u001b[0m \u001b[1;32mimport\u001b[0m \u001b[0mseaborn\u001b[0m \u001b[1;32mas\u001b[0m \u001b[0msns\u001b[0m\u001b[1;33m\u001b[0m\u001b[1;33m\u001b[0m\u001b[0m\n\u001b[0;32m      9\u001b[0m \u001b[1;33m\u001b[0m\u001b[0m\n\u001b[1;32m---> 10\u001b[1;33m \u001b[1;32mfrom\u001b[0m \u001b[0mslearn\u001b[0m\u001b[1;33m.\u001b[0m\u001b[0mpreprocessing\u001b[0m \u001b[1;32mimport\u001b[0m \u001b[0mOneHotEncoder\u001b[0m\u001b[1;33m\u001b[0m\u001b[1;33m\u001b[0m\u001b[0m\n\u001b[0m\u001b[0;32m     11\u001b[0m \u001b[1;32mfrom\u001b[0m \u001b[0msklearn\u001b[0m\u001b[1;33m.\u001b[0m\u001b[0mpreprocessing\u001b[0m \u001b[1;32mimport\u001b[0m \u001b[0mMinMaxScaler\u001b[0m\u001b[1;33m\u001b[0m\u001b[1;33m\u001b[0m\u001b[0m\n\u001b[0;32m     12\u001b[0m \u001b[1;32mfrom\u001b[0m \u001b[0msklearn\u001b[0m\u001b[1;33m.\u001b[0m\u001b[0mpreprocessing\u001b[0m \u001b[1;32mimport\u001b[0m \u001b[0mStandScaler\u001b[0m\u001b[1;33m\u001b[0m\u001b[1;33m\u001b[0m\u001b[0m\n",
      "\u001b[1;31mModuleNotFoundError\u001b[0m: No module named 'slearn'"
     ]
    }
   ],
   "source": [
    "import os\n",
    "\n",
    "import pandas as pd\n",
    "import numpy as np\n",
    "import math\n",
    "\n",
    "import matplotlib.pyplot as plt\n",
    "import seaborn as sns\n",
    "\n",
    "from slearn.preprocessing import OneHotEncoder\n",
    "from sklearn.preprocessing import MinMaxScaler\n",
    "from sklearn.preprocessing import StandScaler\n",
    "\n",
    "from sklearn.model_selection import Normalizer\n",
    "from sklearn.preprocessing import MinMaxScaler\n",
    "from sklearn.preprocessing import StandardScaler\n",
    "\n",
    "from sklearn.model_selection import train_test_split\n",
    "from sklearn.linear_model import LinearRegression\n",
    "from sklearn.metrics import r2_score, mean_squared_error, mean_absolute_error\n",
    "\n",
    "import scipy.stats as stats"
   ]
  },
  {
   "cell_type": "code",
   "execution_count": null,
   "id": "82be8e11-c5bb-4156-9fce-db599b136fc2",
   "metadata": {},
   "outputs": [],
   "source": [
    "# 00. Open data\n",
    "\n",
    "pd.read_csv(\" .csv\")\n"
   ]
  },
  {
   "cell_type": "code",
   "execution_count": 2,
   "id": "c8220c25-5a4a-423c-a716-87d2403b91f5",
   "metadata": {},
   "outputs": [
    {
     "ename": "NameError",
     "evalue": "name 'data' is not defined",
     "output_type": "error",
     "traceback": [
      "\u001b[1;31m---------------------------------------------------------------------------\u001b[0m",
      "\u001b[1;31mNameError\u001b[0m                                 Traceback (most recent call last)",
      "\u001b[1;32m~\\AppData\\Local\\Temp\\ipykernel_16516\\3609705200.py\u001b[0m in \u001b[0;36m<module>\u001b[1;34m\u001b[0m\n\u001b[0;32m      1\u001b[0m \u001b[1;31m# 01. First exploration\u001b[0m\u001b[1;33m\u001b[0m\u001b[1;33m\u001b[0m\u001b[0m\n\u001b[1;32m----> 2\u001b[1;33m \u001b[0mdata\u001b[0m\u001b[1;33m.\u001b[0m\u001b[0mshape\u001b[0m\u001b[1;33m\u001b[0m\u001b[1;33m\u001b[0m\u001b[0m\n\u001b[0m\u001b[0;32m      3\u001b[0m \u001b[0mdata\u001b[0m\u001b[1;33m.\u001b[0m\u001b[0minfo\u001b[0m\u001b[1;33m\u001b[0m\u001b[1;33m\u001b[0m\u001b[0m\n",
      "\u001b[1;31mNameError\u001b[0m: name 'data' is not defined"
     ]
    }
   ],
   "source": [
    "# 01. First exploration\n",
    "data.shape\n",
    "data.info\n",
    "data.describe()"
   ]
  },
  {
   "cell_type": "code",
   "execution_count": null,
   "id": "4f286ad1-fe01-48cc-9dc8-22b9159eecb8",
   "metadata": {},
   "outputs": [],
   "source": [
    "churnData.Churn.value_counts() # checking the distribution of the target variable\n",
    "data.seniorcitizen.unique() # boolean dummies\n"
   ]
  },
  {
   "cell_type": "code",
   "execution_count": 4,
   "id": "8ba9101f-14c9-473b-928d-cadb56233ade",
   "metadata": {},
   "outputs": [
    {
     "ename": "SyntaxError",
     "evalue": "invalid syntax (291873137.py, line 3)",
     "output_type": "error",
     "traceback": [
      "\u001b[1;36m  File \u001b[1;32m\"C:\\Users\\apisi\\AppData\\Local\\Temp\\ipykernel_16516\\291873137.py\"\u001b[1;36m, line \u001b[1;32m3\u001b[0m\n\u001b[1;33m    data.columns = column.lower().replace(\" \", \"_\")for column in data.column]\u001b[0m\n\u001b[1;37m                                                   ^\u001b[0m\n\u001b[1;31mSyntaxError\u001b[0m\u001b[1;31m:\u001b[0m invalid syntax\n"
     ]
    }
   ],
   "source": [
    "# 03. Cleaning\n",
    "\n",
    "data.columns = column.lower().replace(\" \", \"_\")for column in data.column]"
   ]
  },
  {
   "cell_type": "code",
   "execution_count": null,
   "id": "09201c92-3da7-4455-9bb1-700ac8e5a870",
   "metadata": {},
   "outputs": [],
   "source": [
    "# .lower()\n",
    "# .replace()"
   ]
  },
  {
   "cell_type": "code",
   "execution_count": 5,
   "id": "267bf05b-6d1c-4dcf-85b7-45a9298b4a68",
   "metadata": {},
   "outputs": [],
   "source": [
    "# Dealing with NaN"
   ]
  },
  {
   "cell_type": "code",
   "execution_count": null,
   "id": "c4600e10-797c-449f-a14a-1869844fb779",
   "metadata": {},
   "outputs": [],
   "source": [
    "data.isna().sum(()\n",
    "df.duplicated().sum()"
   ]
  },
  {
   "cell_type": "code",
   "execution_count": 6,
   "id": "ffd04293-46f6-48c8-9fb6-3d89efbf9557",
   "metadata": {},
   "outputs": [],
   "source": [
    "# .isna()\n",
    "# sum()\n"
   ]
  },
  {
   "cell_type": "code",
   "execution_count": null,
   "id": "a5ef80a9-b1d2-4fb1-8988-ac22b229f54b",
   "metadata": {},
   "outputs": [],
   "source": [
    "data.select_dtypes(include=[\"float64\", \"int64\"]).columns\n",
    "categorical = df.select_dtypes('object')\n",
    "numerical = df.select_dtypes(np.number)"
   ]
  },
  {
   "cell_type": "code",
   "execution_count": null,
   "id": "2fc3fcf1-3546-4d11-bdb0-284798568ce5",
   "metadata": {},
   "outputs": [],
   "source": []
  },
  {
   "cell_type": "code",
   "execution_count": null,
   "id": "38067a1b-adaa-43df-839d-f990b79cfd8d",
   "metadata": {},
   "outputs": [],
   "source": [
    "for column in num.columns:\n",
    "    sns.distplot(num[column])\n",
    "    plt.show()\n",
    "\n",
    "for column in num.columns:\n",
    "    sns.boxplot(num[column])"
   ]
  },
  {
   "cell_type": "code",
   "execution_count": null,
   "id": "a6c16bac-2e2a-471f-b78f-77ff9f5fe62b",
   "metadata": {},
   "outputs": [],
   "source": []
  },
  {
   "cell_type": "code",
   "execution_count": 7,
   "id": "22295c24-c2b0-4858-b76a-67135d35b776",
   "metadata": {},
   "outputs": [],
   "source": [
    "# correlation"
   ]
  },
  {
   "cell_type": "code",
   "execution_count": null,
   "id": "e27bc9bf-e2b7-44c6-9387-4543e074fd94",
   "metadata": {},
   "outputs": [],
   "source": [
    "round(num.corr(), 2))"
   ]
  },
  {
   "cell_type": "code",
   "execution_count": 8,
   "id": "734ef514-5ccb-4a42-a05c-ceaa848cce12",
   "metadata": {},
   "outputs": [
    {
     "ename": "NameError",
     "evalue": "name 'num' is not defined",
     "output_type": "error",
     "traceback": [
      "\u001b[1;31m---------------------------------------------------------------------------\u001b[0m",
      "\u001b[1;31mNameError\u001b[0m                                 Traceback (most recent call last)",
      "\u001b[1;32m~\\AppData\\Local\\Temp\\ipykernel_16516\\1037000167.py\u001b[0m in \u001b[0;36m<module>\u001b[1;34m\u001b[0m\n\u001b[1;32m----> 1\u001b[1;33m \u001b[0mmask\u001b[0m \u001b[1;33m=\u001b[0m \u001b[0mnp\u001b[0m\u001b[1;33m.\u001b[0m\u001b[0mzeros_like\u001b[0m\u001b[1;33m(\u001b[0m\u001b[0mnum\u001b[0m\u001b[1;33m.\u001b[0m\u001b[0mcorr\u001b[0m\u001b[1;33m(\u001b[0m\u001b[1;33m)\u001b[0m\u001b[1;33m)\u001b[0m\u001b[1;33m\u001b[0m\u001b[1;33m\u001b[0m\u001b[0m\n\u001b[0m",
      "\u001b[1;31mNameError\u001b[0m: name 'num' is not defined"
     ]
    }
   ],
   "source": [
    "mask = np.zeros_like(num.corr())\n",
    "mask[np.triu_indices_from(mask)] = True\n",
    "\n",
    "fig, ax = plt.subplots(figsize=(10, 8))\n",
    "ax = sns.heatmapnum.corr(), mask = mask, annot = True)\n",
    "plt.show()\n",
    "\n",
    "\n",
    "# Correlation, checking for multicollinearity\n",
    "num_corr = round(numerical.corr(),2)\n",
    "mask = np.zeros_like(num_corr)\n",
    "mask[np.triu_indices_from(mask)] = True\n",
    "sns.heatmap(num_corr, cmap='Spectral', annot=True, mask=mask)"
   ]
  },
  {
   "cell_type": "code",
   "execution_count": null,
   "id": "89d9df38-f681-4aaa-bbf6-86fe5194f269",
   "metadata": {},
   "outputs": [],
   "source": [
    "for col in cat.columns:\n",
    "    sns.histplot(cat[col], stat='percent')\n",
    "    plt.show()"
   ]
  },
  {
   "cell_type": "code",
   "execution_count": null,
   "id": "3fc69eee-c86c-4e1c-9763-ac983b99456d",
   "metadata": {},
   "outputs": [],
   "source": [
    "sns.pairplot(num)"
   ]
  },
  {
   "cell_type": "code",
   "execution_count": null,
   "id": "ab34ce75-f01b-4900-acb9-760c9ca6d615",
   "metadata": {},
   "outputs": [],
   "source": [
    "cat = data.select_dtypes(include=[\"object\"])\n",
    "X_N = data_copy.select_dtypes(include= np.number).fillna(0) # fixs NaN numerical values"
   ]
  },
  {
   "cell_type": "code",
   "execution_count": 9,
   "id": "d007ed77-abfc-4ed7-a7f3-0bcd94242610",
   "metadata": {},
   "outputs": [],
   "source": [
    "# IMPORTANT"
   ]
  },
  {
   "cell_type": "code",
   "execution_count": null,
   "id": "16896ede-fdd9-41ca-87f3-2cab92b95084",
   "metadata": {},
   "outputs": [],
   "source": [
    "# CAT = cat.drop([\"customer\", \"effective_to_date\"], axis = 1)"
   ]
  },
  {
   "cell_type": "code",
   "execution_count": null,
   "id": "fce9c533-cffc-423a-9124-e6b3fe0f93a2",
   "metadata": {},
   "outputs": [],
   "source": [
    "# data[\"column\"].value_counts()\n",
    "# returns counts for each column"
   ]
  },
  {
   "cell_type": "code",
   "execution_count": null,
   "id": "ea1447d9-8388-4526-bb07-26ccb8f1a70f",
   "metadata": {},
   "outputs": [],
   "source": [
    "from datetime import datetime\n",
    "customer_df[\"effective_to_date\"] = pd.to_datetime(customer_df[\"effective_to_date\"])\n",
    "customer_df.head()\n",
    "\n",
    "import datetime\n",
    "customer_df['effective_to_date'] = pd.to_datetime(customer_df['effective_to_date'])\n",
    "\n",
    "\n",
    "customer_df[\"effective_to_date\"] = customer_df[\"effective_to_date\"].astype(\"datetime64[ns]\")\n"
   ]
  },
  {
   "cell_type": "code",
   "execution_count": null,
   "id": "37777988-4452-4b20-a462-58a5fdd6ceae",
   "metadata": {},
   "outputs": [],
   "source": [
    "# 7. Plot every continuous variable. Comment what you can see in the plots.\n",
    "df_cont_var = customer_df[['customer_lifetime_value','total_claim_amount']]\n",
    "df_cont_var.head()\n",
    "customer_lifetime_value\ttotal_claim_amount\n",
    "0\t2763.519279\t384.811147\n",
    "1\t6979.535903\t1131.464935\n",
    "2\t12887.431650\t566.472247\n",
    "3\t7645.861827\t529.881344\n",
    "4\t2813.692575\t138.130879\n",
    "for column in df_cont_var.columns:\n",
    "    sns.distplot(df_cont_var[column])\n",
    "    plt.show()\n",
    "    \n",
    "    sns.pairplot(df_cont_var)\n"
   ]
  },
  {
   "cell_type": "code",
   "execution_count": null,
   "id": "e6528323-1cf3-4c8d-87c0-2cab88aa0328",
   "metadata": {},
   "outputs": [],
   "source": []
  },
  {
   "cell_type": "code",
   "execution_count": null,
   "id": "5f849d58-65d4-41e3-9fc4-67c8c8904ab6",
   "metadata": {},
   "outputs": [],
   "source": [
    "transformer = MinMaxScaler().fit(X) #Normalize with MinMaxScaler\n",
    "X_minmax = transformer.transform(X)\n",
    "print(X_minmax.shape)"
   ]
  },
  {
   "cell_type": "code",
   "execution_count": null,
   "id": "53b5ecee-c748-40f4-b3f5-58ec316cde38",
   "metadata": {},
   "outputs": [],
   "source": []
  },
  {
   "cell_type": "code",
   "execution_count": null,
   "id": "5f066cae-1307-4301-9b96-d3b7a12234e3",
   "metadata": {},
   "outputs": [],
   "source": []
  },
  {
   "cell_type": "code",
   "execution_count": null,
   "id": "99f149c5-81df-4d4f-b153-bd6bca10c2bf",
   "metadata": {},
   "outputs": [],
   "source": [
    "%matplotlib inline\n",
    "## %matplotlib inline --> very cool: can show more than one graphs in same plot"
   ]
  },
  {
   "cell_type": "code",
   "execution_count": null,
   "id": "8649f19c-cd39-4797-9401-0aac9bfaaece",
   "metadata": {},
   "outputs": [],
   "source": []
  },
  {
   "cell_type": "code",
   "execution_count": 10,
   "id": "bdf9dd5e-4539-41f5-aeca-5362203afbb3",
   "metadata": {},
   "outputs": [],
   "source": [
    "index_col = 0\n",
    "reset index"
   ]
  },
  {
   "cell_type": "code",
   "execution_count": null,
   "id": "3c0dcb73-6880-4461-ac38-f1347b2c3fec",
   "metadata": {},
   "outputs": [],
   "source": []
  },
  {
   "cell_type": "code",
   "execution_count": null,
   "id": "96c1a0d0-a8f9-427b-acea-4c18a564c2de",
   "metadata": {},
   "outputs": [],
   "source": [
    "# Sabina"
   ]
  },
  {
   "cell_type": "code",
   "execution_count": null,
   "id": "f981575f-d5eb-4293-9fa1-d66dc8bf63b9",
   "metadata": {},
   "outputs": [],
   "source": [
    "def normalize_data(df):\n",
    "    num = df.select_dtypes(np.number)\n",
    "    transformer = MinMaxScaler().fit(num) \n",
    "    x_minmax = transformer.transform(num)\n",
    "    num_norm = pd.DataFrame(x_minmax, columns=num.columns, index=num.index)\n",
    "    return num_norm"
   ]
  },
  {
   "cell_type": "code",
   "execution_count": null,
   "id": "0050b9a1-bd3d-42cb-8f6d-78b4c10dc95e",
   "metadata": {},
   "outputs": [],
   "source": [
    "def boxcox_transform(data):\n",
    "    numeric_cols = data.select_dtypes(np.number).columns\n",
    "    _ci = {column: None for column in numeric_cols}\n",
    "    for column in numeric_cols:\n",
    "        if len(data[column].unique()) < 100:\n",
    "            continue\n",
    "        else:\n",
    "            data[column] = np.where(data[column] <= 0, np.NAN, data[column]) \n",
    "            data[column] = data[column].fillna(data[column].median())\n",
    "            transformed_data, ci = stats.boxcox(data[column])\n",
    "            data[column] = transformed_data\n",
    "            _ci[column] = [ci] \n",
    "    return data, _ci"
   ]
  },
  {
   "cell_type": "code",
   "execution_count": null,
   "id": "8bf94e92-5e3a-4471-bb76-be8cb381a82d",
   "metadata": {},
   "outputs": [],
   "source": []
  },
  {
   "cell_type": "code",
   "execution_count": null,
   "id": "4393c1c4-80e7-4574-9d0e-421fe6aaa74b",
   "metadata": {},
   "outputs": [],
   "source": []
  },
  {
   "cell_type": "code",
   "execution_count": 11,
   "id": "a10086a0-be60-4845-9ea4-fc578248c8b5",
   "metadata": {},
   "outputs": [
    {
     "ename": "NameError",
     "evalue": "name 'MinMaxScaler' is not defined",
     "output_type": "error",
     "traceback": [
      "\u001b[1;31m---------------------------------------------------------------------------\u001b[0m",
      "\u001b[1;31mNameError\u001b[0m                                 Traceback (most recent call last)",
      "\u001b[1;32m~\\AppData\\Local\\Temp\\ipykernel_16516\\3479764936.py\u001b[0m in \u001b[0;36m<module>\u001b[1;34m\u001b[0m\n\u001b[0;32m      1\u001b[0m \u001b[1;31m# scale numerical features\u001b[0m\u001b[1;33m\u001b[0m\u001b[1;33m\u001b[0m\u001b[0m\n\u001b[0;32m      2\u001b[0m \u001b[1;33m\u001b[0m\u001b[0m\n\u001b[1;32m----> 3\u001b[1;33m \u001b[0mtransformer\u001b[0m \u001b[1;33m=\u001b[0m \u001b[0mMinMaxScaler\u001b[0m\u001b[1;33m(\u001b[0m\u001b[1;33m)\u001b[0m\u001b[1;33m.\u001b[0m\u001b[0mfit\u001b[0m\u001b[1;33m(\u001b[0m\u001b[0mdata_num\u001b[0m\u001b[1;33m)\u001b[0m\u001b[1;33m\u001b[0m\u001b[1;33m\u001b[0m\u001b[0m\n\u001b[0m\u001b[0;32m      4\u001b[0m \u001b[0mdata_num_minmax\u001b[0m \u001b[1;33m=\u001b[0m \u001b[0mtransformer\u001b[0m\u001b[1;33m.\u001b[0m\u001b[0mtransform\u001b[0m\u001b[1;33m(\u001b[0m\u001b[0mdata_num\u001b[0m\u001b[1;33m)\u001b[0m\u001b[1;33m\u001b[0m\u001b[1;33m\u001b[0m\u001b[0m\n\u001b[0;32m      5\u001b[0m \u001b[0mdata_num_norm\u001b[0m \u001b[1;33m=\u001b[0m \u001b[0mpd\u001b[0m\u001b[1;33m.\u001b[0m\u001b[0mDataFrame\u001b[0m\u001b[1;33m(\u001b[0m\u001b[0mdata_num_minmax\u001b[0m\u001b[1;33m,\u001b[0m\u001b[0mcolumns\u001b[0m\u001b[1;33m=\u001b[0m \u001b[0mdata_num\u001b[0m\u001b[1;33m.\u001b[0m\u001b[0mcolumns\u001b[0m\u001b[1;33m)\u001b[0m\u001b[1;33m\u001b[0m\u001b[1;33m\u001b[0m\u001b[0m\n",
      "\u001b[1;31mNameError\u001b[0m: name 'MinMaxScaler' is not defined"
     ]
    }
   ],
   "source": [
    "# scale numerical features\n",
    "\n",
    "transformer = MinMaxScaler().fit(data_num)\n",
    "data_num_minmax = transformer.transform(data_num) \n",
    "data_num_norm = pd.DataFrame(data_num_minmax,columns= data_num.columns)\n",
    "data_num_norm.head()"
   ]
  },
  {
   "cell_type": "code",
   "execution_count": null,
   "id": "3836e54f-ca21-48b3-b76a-6fe0037e10a7",
   "metadata": {},
   "outputs": [],
   "source": []
  },
  {
   "cell_type": "code",
   "execution_count": null,
   "id": "d6c4311e-4365-4b9d-9207-3b00aa8234a5",
   "metadata": {},
   "outputs": [],
   "source": [
    "scaler"
   ]
  },
  {
   "cell_type": "raw",
   "id": "fba27863-0c32-4a4b-8f04-c035b2570741",
   "metadata": {},
   "source": [
    "train test"
   ]
  },
  {
   "cell_type": "code",
   "execution_count": null,
   "id": "55df014f-1791-4b5a-ab48-480c939310f3",
   "metadata": {},
   "outputs": [],
   "source": []
  },
  {
   "cell_type": "code",
   "execution_count": null,
   "id": "4ebb1438-5608-4ef5-88e8-930984883345",
   "metadata": {},
   "outputs": [],
   "source": []
  },
  {
   "cell_type": "code",
   "execution_count": 12,
   "id": "3b41a23b-fcd3-4c23-bbb0-81331269458b",
   "metadata": {},
   "outputs": [
    {
     "ename": "NameError",
     "evalue": "name 'feb_rentals' is not defined",
     "output_type": "error",
     "traceback": [
      "\u001b[1;31m---------------------------------------------------------------------------\u001b[0m",
      "\u001b[1;31mNameError\u001b[0m                                 Traceback (most recent call last)",
      "\u001b[1;32m~\\AppData\\Local\\Temp\\ipykernel_16516\\3798925851.py\u001b[0m in \u001b[0;36m<module>\u001b[1;34m\u001b[0m\n\u001b[0;32m      1\u001b[0m \u001b[1;31m# LAMBDA\u001b[0m\u001b[1;33m\u001b[0m\u001b[1;33m\u001b[0m\u001b[0m\n\u001b[1;32m----> 2\u001b[1;33m \u001b[0mfeb_rentals\u001b[0m\u001b[1;33m[\u001b[0m\u001b[1;34m\"rents_feb_2006\"\u001b[0m\u001b[1;33m]\u001b[0m \u001b[1;33m=\u001b[0m \u001b[0mfeb_rentals\u001b[0m\u001b[1;33m[\u001b[0m\u001b[1;34m\"rents_feb_2006\"\u001b[0m\u001b[1;33m]\u001b[0m\u001b[1;33m.\u001b[0m\u001b[0mapply\u001b[0m\u001b[1;33m(\u001b[0m\u001b[1;32mlambda\u001b[0m \u001b[0mx\u001b[0m\u001b[1;33m:\u001b[0m \u001b[1;36m1\u001b[0m \u001b[1;32mif\u001b[0m \u001b[0mx\u001b[0m \u001b[1;33m!=\u001b[0m \u001b[1;36m0\u001b[0m \u001b[1;32melse\u001b[0m \u001b[0mx\u001b[0m\u001b[1;33m)\u001b[0m\u001b[1;33m\u001b[0m\u001b[1;33m\u001b[0m\u001b[0m\n\u001b[0m",
      "\u001b[1;31mNameError\u001b[0m: name 'feb_rentals' is not defined"
     ]
    }
   ],
   "source": [
    "# LAMBDA\n",
    "feb_rentals[\"rents_feb_2006\"] = feb_rentals[\"rents_feb_2006\"].apply(lambda x: 1 if x != 0 else x)"
   ]
  },
  {
   "cell_type": "code",
   "execution_count": null,
   "id": "29481d9f-5c62-4e00-a69d-7a3337638dfb",
   "metadata": {},
   "outputs": [],
   "source": []
  },
  {
   "cell_type": "code",
   "execution_count": null,
   "id": "a7dd7beb-daac-446e-a51f-148cfdc346c2",
   "metadata": {},
   "outputs": [],
   "source": []
  },
  {
   "cell_type": "code",
   "execution_count": null,
   "id": "1487e02a-cd18-4a40-b95b-34333a1faf00",
   "metadata": {},
   "outputs": [],
   "source": []
  },
  {
   "cell_type": "code",
   "execution_count": null,
   "id": "5b0380be-724b-4ca0-887d-180f8137d146",
   "metadata": {},
   "outputs": [],
   "source": [
    "# Maria\n",
    "\n",
    "ax = sns.distplot(customer_df[\"customer_lifetime_value\"])\n",
    "ax2 = ax.twinx()\n",
    "sns.boxplot(x=customer_df['customer_lifetime_value'], ax=ax2)\n",
    "ax2.set(ylim=(-.5, 10))"
   ]
  }
 ],
 "metadata": {
  "kernelspec": {
   "display_name": "Python 3 (ipykernel)",
   "language": "python",
   "name": "python3"
  },
  "language_info": {
   "codemirror_mode": {
    "name": "ipython",
    "version": 3
   },
   "file_extension": ".py",
   "mimetype": "text/x-python",
   "name": "python",
   "nbconvert_exporter": "python",
   "pygments_lexer": "ipython3",
   "version": "3.9.13"
  }
 },
 "nbformat": 4,
 "nbformat_minor": 5
}
