{
 "cells": [
  {
   "cell_type": "markdown",
   "id": "29b95f8a",
   "metadata": {},
   "source": [
    "## 00 |"
   ]
  },
  {
   "cell_type": "code",
   "execution_count": 1,
   "id": "14b630e4",
   "metadata": {},
   "outputs": [],
   "source": [
    "# Basic libraries\n",
    "import pandas as pd # data manipulatioN\n",
    "import numpy as np # numerical operations\n",
    "import matplotlib.pyplot as plt # 2D visualizations\n",
    "import seaborn as sns # high-resolution visualization\n",
    "import warnings # warning messages management\n",
    "\n",
    "# SQL connection\n",
    "from getpass import getpass # SQL connector\n",
    "from sqlalchemy import create_engine # route to the engine\n",
    "\n",
    "# Machine Learning\n",
    "from sklearn.preprocessing import StandardScaler # normalization\n",
    "from sklearn.model_selection import train_test_split # splitting data into train/test sets\n",
    "from sklearn.linear_model import LogisticRegression # logistic model\n",
    "from sklearn.metrics import accuracy_score # accuarcy\n",
    "from sklearn.metrics import roc_curve, confusion_matrix, ConfusionMatrixDisplay # roc curveconfussion matrix & displayer\n",
    "\n",
    "# Settings\n",
    "pd.set_option('display.max_columns', None) # display all columns\n",
    "pd.set_option('display.max_rows', None)# display all rows\n",
    "warnings.filterwarnings('ignore') # ignore warnings"
   ]
  },
  {
   "cell_type": "code",
   "execution_count": 2,
   "id": "cc132bcd",
   "metadata": {},
   "outputs": [],
   "source": [
    "# Basic functions\n",
    "def data_info(data): # improved data.info()\n",
    "    print(f\"Data shape is {data.shape}.\")\n",
    "    print()\n",
    "    print(data.dtypes)\n",
    "    print()\n",
    "    print(\"Data row sample and full columns:\")\n",
    "    return data.sample(5)"
   ]
  },
  {
   "cell_type": "markdown",
   "id": "1b1c89d5",
   "metadata": {},
   "source": [
    "## 01 | Data Extraction"
   ]
  },
  {
   "cell_type": "code",
   "execution_count": 8,
   "id": "69059d29",
   "metadata": {},
   "outputs": [
    {
     "name": "stdin",
     "output_type": "stream",
     "text": [
      "Please, kindly insert your password: ········\n"
     ]
    }
   ],
   "source": [
    "# Creating a safe connection\n",
    "password = getpass(\"Please, kindly insert your password:\")\n",
    "connection_string = 'mysql+pymysql://root:' + password + '@localhost/sakila'"
   ]
  },
  {
   "cell_type": "code",
   "execution_count": 9,
   "id": "00bccdae",
   "metadata": {
    "scrolled": true
   },
   "outputs": [],
   "source": [
    "# Getting the data\n",
    "engine = create_engine(connection_string)\n",
    "data = pd.read_sql_query('SELECT * FROM logistic_data;', engine)"
   ]
  },
  {
   "cell_type": "code",
   "execution_count": 10,
   "id": "9465a307",
   "metadata": {},
   "outputs": [
    {
     "name": "stdout",
     "output_type": "stream",
     "text": [
      "Data shape is (958, 8).\n",
      "\n",
      "film_id               int64\n",
      "rental_duration       int64\n",
      "rental_rate         float64\n",
      "length                int64\n",
      "rating               object\n",
      "special_features     object\n",
      "name                 object\n",
      "n_rentals             int64\n",
      "dtype: object\n",
      "\n",
      "Data row sample and full columns:\n"
     ]
    },
    {
     "data": {
      "text/html": [
       "<div>\n",
       "<style scoped>\n",
       "    .dataframe tbody tr th:only-of-type {\n",
       "        vertical-align: middle;\n",
       "    }\n",
       "\n",
       "    .dataframe tbody tr th {\n",
       "        vertical-align: top;\n",
       "    }\n",
       "\n",
       "    .dataframe thead th {\n",
       "        text-align: right;\n",
       "    }\n",
       "</style>\n",
       "<table border=\"1\" class=\"dataframe\">\n",
       "  <thead>\n",
       "    <tr style=\"text-align: right;\">\n",
       "      <th></th>\n",
       "      <th>film_id</th>\n",
       "      <th>rental_duration</th>\n",
       "      <th>rental_rate</th>\n",
       "      <th>length</th>\n",
       "      <th>rating</th>\n",
       "      <th>special_features</th>\n",
       "      <th>name</th>\n",
       "      <th>n_rentals</th>\n",
       "    </tr>\n",
       "  </thead>\n",
       "  <tbody>\n",
       "    <tr>\n",
       "      <th>919</th>\n",
       "      <td>288</td>\n",
       "      <td>7</td>\n",
       "      <td>2.99</td>\n",
       "      <td>167</td>\n",
       "      <td>R</td>\n",
       "      <td>Trailers</td>\n",
       "      <td>Travel</td>\n",
       "      <td>25</td>\n",
       "    </tr>\n",
       "    <tr>\n",
       "      <th>738</th>\n",
       "      <td>436</td>\n",
       "      <td>4</td>\n",
       "      <td>0.99</td>\n",
       "      <td>122</td>\n",
       "      <td>NC-17</td>\n",
       "      <td>Trailers,Deleted Scenes</td>\n",
       "      <td>New</td>\n",
       "      <td>19</td>\n",
       "    </tr>\n",
       "    <tr>\n",
       "      <th>319</th>\n",
       "      <td>441</td>\n",
       "      <td>5</td>\n",
       "      <td>2.99</td>\n",
       "      <td>125</td>\n",
       "      <td>PG-13</td>\n",
       "      <td>Commentaries,Deleted Scenes,Behind the Scenes</td>\n",
       "      <td>Documentary</td>\n",
       "      <td>5</td>\n",
       "    </tr>\n",
       "    <tr>\n",
       "      <th>670</th>\n",
       "      <td>133</td>\n",
       "      <td>7</td>\n",
       "      <td>4.99</td>\n",
       "      <td>117</td>\n",
       "      <td>NC-17</td>\n",
       "      <td>Trailers</td>\n",
       "      <td>Music</td>\n",
       "      <td>13</td>\n",
       "    </tr>\n",
       "    <tr>\n",
       "      <th>706</th>\n",
       "      <td>884</td>\n",
       "      <td>5</td>\n",
       "      <td>4.99</td>\n",
       "      <td>88</td>\n",
       "      <td>R</td>\n",
       "      <td>Trailers,Deleted Scenes,Behind the Scenes</td>\n",
       "      <td>Music</td>\n",
       "      <td>6</td>\n",
       "    </tr>\n",
       "  </tbody>\n",
       "</table>\n",
       "</div>"
      ],
      "text/plain": [
       "     film_id  rental_duration  rental_rate  length rating  \\\n",
       "919      288                7         2.99     167      R   \n",
       "738      436                4         0.99     122  NC-17   \n",
       "319      441                5         2.99     125  PG-13   \n",
       "670      133                7         4.99     117  NC-17   \n",
       "706      884                5         4.99      88      R   \n",
       "\n",
       "                                  special_features         name  n_rentals  \n",
       "919                                       Trailers       Travel         25  \n",
       "738                        Trailers,Deleted Scenes          New         19  \n",
       "319  Commentaries,Deleted Scenes,Behind the Scenes  Documentary          5  \n",
       "670                                       Trailers        Music         13  \n",
       "706      Trailers,Deleted Scenes,Behind the Scenes        Music          6  "
      ]
     },
     "execution_count": 10,
     "metadata": {},
     "output_type": "execute_result"
    }
   ],
   "source": [
    "data_info(data)"
   ]
  },
  {
   "cell_type": "markdown",
   "id": "3277ac6d",
   "metadata": {},
   "source": [
    "<blockquote style=\"background-color: #d4edda; color: #155724; border-color: #c3e6cb; padding: 10px; border-radius: 5px;\">\n",
    "    \n",
    "**First impression:**\n",
    "    \n",
    "_____________\n",
    "\n",
    "The following database is a collection of over **one-year** (from 2005/05/24 to 2006/02/14) 1.958 film's information among 8 different columnns.\n",
    "    \n",
    "Our **binary target** will the probability of a movie being rented **again** or **not** in the future. \n",
    "\n",
    "--> Target variable: `Movie_demand`. 1 **if** it's bigger than the film rental average **else** 0. Our film rental average is `n_rentals` (a new feature created in [SQL](https://github.com/isi-mube/iron-labs/blob/main/unit_3_sql/lab-predictions-logistic-regression/notebook/sql_database_extraction_process.sql)).\n",
    "\n",
    "--> Features: `rating`, `special_features` & `name` need to be encoded (they are objects)  \n",
    "    \n",
    "**First**, data cleaning:\n",
    "    \n",
    "_____________\n",
    "</blockquote>"
   ]
  },
  {
   "cell_type": "markdown",
   "id": "0fbf83fb",
   "metadata": {},
   "source": [
    "## 02 | Data cleaning"
   ]
  },
  {
   "cell_type": "code",
   "execution_count": 11,
   "id": "7c06b745",
   "metadata": {},
   "outputs": [],
   "source": [
    "# copy before, as best practices\n",
    "data_copy = data.copy()"
   ]
  },
  {
   "cell_type": "markdown",
   "id": "dc8749a2",
   "metadata": {},
   "source": [
    "### Encoding Categoricals\n",
    "<blockquote style=\"background-color: #d1ecf1; color: #0c5460; border-color: #bee5eb; padding: 10px; border-radius: 5px;\">|\n",
    "    \n",
    "* We imported features such as `rating`, `special_features` and `name` as categoricals, we will use get dummies from pandas to encode them to numericals:\n",
    "</blockquote>"
   ]
  },
  {
   "cell_type": "code",
   "execution_count": 12,
   "id": "e75004f5",
   "metadata": {},
   "outputs": [
    {
     "data": {
      "text/html": [
       "<div>\n",
       "<style scoped>\n",
       "    .dataframe tbody tr th:only-of-type {\n",
       "        vertical-align: middle;\n",
       "    }\n",
       "\n",
       "    .dataframe tbody tr th {\n",
       "        vertical-align: top;\n",
       "    }\n",
       "\n",
       "    .dataframe thead th {\n",
       "        text-align: right;\n",
       "    }\n",
       "</style>\n",
       "<table border=\"1\" class=\"dataframe\">\n",
       "  <thead>\n",
       "    <tr style=\"text-align: right;\">\n",
       "      <th></th>\n",
       "      <th>rating</th>\n",
       "      <th>special_features</th>\n",
       "      <th>name</th>\n",
       "    </tr>\n",
       "  </thead>\n",
       "  <tbody>\n",
       "    <tr>\n",
       "      <th>0</th>\n",
       "      <td>PG</td>\n",
       "      <td>Commentaries,Deleted Scenes,Behind the Scenes</td>\n",
       "      <td>Action</td>\n",
       "    </tr>\n",
       "    <tr>\n",
       "      <th>1</th>\n",
       "      <td>R</td>\n",
       "      <td>Commentaries,Behind the Scenes</td>\n",
       "      <td>Action</td>\n",
       "    </tr>\n",
       "    <tr>\n",
       "      <th>2</th>\n",
       "      <td>NC-17</td>\n",
       "      <td>Trailers,Commentaries,Deleted Scenes</td>\n",
       "      <td>Action</td>\n",
       "    </tr>\n",
       "    <tr>\n",
       "      <th>3</th>\n",
       "      <td>G</td>\n",
       "      <td>Trailers,Commentaries</td>\n",
       "      <td>Action</td>\n",
       "    </tr>\n",
       "    <tr>\n",
       "      <th>4</th>\n",
       "      <td>PG-13</td>\n",
       "      <td>Deleted Scenes</td>\n",
       "      <td>Action</td>\n",
       "    </tr>\n",
       "  </tbody>\n",
       "</table>\n",
       "</div>"
      ],
      "text/plain": [
       "  rating                               special_features    name\n",
       "0     PG  Commentaries,Deleted Scenes,Behind the Scenes  Action\n",
       "1      R                 Commentaries,Behind the Scenes  Action\n",
       "2  NC-17           Trailers,Commentaries,Deleted Scenes  Action\n",
       "3      G                          Trailers,Commentaries  Action\n",
       "4  PG-13                                 Deleted Scenes  Action"
      ]
     },
     "execution_count": 12,
     "metadata": {},
     "output_type": "execute_result"
    }
   ],
   "source": [
    "# Selecting categoricals\n",
    "cat = data_copy.select_dtypes(include = np.object)\n",
    "cat.head()"
   ]
  },
  {
   "cell_type": "code",
   "execution_count": 13,
   "id": "42e4f921",
   "metadata": {},
   "outputs": [
    {
     "data": {
      "text/html": [
       "<div>\n",
       "<style scoped>\n",
       "    .dataframe tbody tr th:only-of-type {\n",
       "        vertical-align: middle;\n",
       "    }\n",
       "\n",
       "    .dataframe tbody tr th {\n",
       "        vertical-align: top;\n",
       "    }\n",
       "\n",
       "    .dataframe thead th {\n",
       "        text-align: right;\n",
       "    }\n",
       "</style>\n",
       "<table border=\"1\" class=\"dataframe\">\n",
       "  <thead>\n",
       "    <tr style=\"text-align: right;\">\n",
       "      <th></th>\n",
       "      <th>rating_G</th>\n",
       "      <th>rating_NC-17</th>\n",
       "      <th>rating_PG</th>\n",
       "      <th>rating_PG-13</th>\n",
       "      <th>rating_R</th>\n",
       "      <th>special_features_Behind the Scenes</th>\n",
       "      <th>special_features_Commentaries</th>\n",
       "      <th>special_features_Commentaries,Behind the Scenes</th>\n",
       "      <th>special_features_Commentaries,Deleted Scenes</th>\n",
       "      <th>special_features_Commentaries,Deleted Scenes,Behind the Scenes</th>\n",
       "      <th>special_features_Deleted Scenes</th>\n",
       "      <th>special_features_Deleted Scenes,Behind the Scenes</th>\n",
       "      <th>special_features_Trailers</th>\n",
       "      <th>special_features_Trailers,Behind the Scenes</th>\n",
       "      <th>special_features_Trailers,Commentaries</th>\n",
       "      <th>special_features_Trailers,Commentaries,Behind the Scenes</th>\n",
       "      <th>special_features_Trailers,Commentaries,Deleted Scenes</th>\n",
       "      <th>special_features_Trailers,Commentaries,Deleted Scenes,Behind the Scenes</th>\n",
       "      <th>special_features_Trailers,Deleted Scenes</th>\n",
       "      <th>special_features_Trailers,Deleted Scenes,Behind the Scenes</th>\n",
       "      <th>name_Action</th>\n",
       "      <th>name_Animation</th>\n",
       "      <th>name_Children</th>\n",
       "      <th>name_Classics</th>\n",
       "      <th>name_Comedy</th>\n",
       "      <th>name_Documentary</th>\n",
       "      <th>name_Drama</th>\n",
       "      <th>name_Family</th>\n",
       "      <th>name_Foreign</th>\n",
       "      <th>name_Games</th>\n",
       "      <th>name_Horror</th>\n",
       "      <th>name_Music</th>\n",
       "      <th>name_New</th>\n",
       "      <th>name_Sci-Fi</th>\n",
       "      <th>name_Sports</th>\n",
       "      <th>name_Travel</th>\n",
       "    </tr>\n",
       "  </thead>\n",
       "  <tbody>\n",
       "    <tr>\n",
       "      <th>0</th>\n",
       "      <td>0</td>\n",
       "      <td>0</td>\n",
       "      <td>1</td>\n",
       "      <td>0</td>\n",
       "      <td>0</td>\n",
       "      <td>0</td>\n",
       "      <td>0</td>\n",
       "      <td>0</td>\n",
       "      <td>0</td>\n",
       "      <td>1</td>\n",
       "      <td>0</td>\n",
       "      <td>0</td>\n",
       "      <td>0</td>\n",
       "      <td>0</td>\n",
       "      <td>0</td>\n",
       "      <td>0</td>\n",
       "      <td>0</td>\n",
       "      <td>0</td>\n",
       "      <td>0</td>\n",
       "      <td>0</td>\n",
       "      <td>1</td>\n",
       "      <td>0</td>\n",
       "      <td>0</td>\n",
       "      <td>0</td>\n",
       "      <td>0</td>\n",
       "      <td>0</td>\n",
       "      <td>0</td>\n",
       "      <td>0</td>\n",
       "      <td>0</td>\n",
       "      <td>0</td>\n",
       "      <td>0</td>\n",
       "      <td>0</td>\n",
       "      <td>0</td>\n",
       "      <td>0</td>\n",
       "      <td>0</td>\n",
       "      <td>0</td>\n",
       "    </tr>\n",
       "    <tr>\n",
       "      <th>1</th>\n",
       "      <td>0</td>\n",
       "      <td>0</td>\n",
       "      <td>0</td>\n",
       "      <td>0</td>\n",
       "      <td>1</td>\n",
       "      <td>0</td>\n",
       "      <td>0</td>\n",
       "      <td>1</td>\n",
       "      <td>0</td>\n",
       "      <td>0</td>\n",
       "      <td>0</td>\n",
       "      <td>0</td>\n",
       "      <td>0</td>\n",
       "      <td>0</td>\n",
       "      <td>0</td>\n",
       "      <td>0</td>\n",
       "      <td>0</td>\n",
       "      <td>0</td>\n",
       "      <td>0</td>\n",
       "      <td>0</td>\n",
       "      <td>1</td>\n",
       "      <td>0</td>\n",
       "      <td>0</td>\n",
       "      <td>0</td>\n",
       "      <td>0</td>\n",
       "      <td>0</td>\n",
       "      <td>0</td>\n",
       "      <td>0</td>\n",
       "      <td>0</td>\n",
       "      <td>0</td>\n",
       "      <td>0</td>\n",
       "      <td>0</td>\n",
       "      <td>0</td>\n",
       "      <td>0</td>\n",
       "      <td>0</td>\n",
       "      <td>0</td>\n",
       "    </tr>\n",
       "    <tr>\n",
       "      <th>2</th>\n",
       "      <td>0</td>\n",
       "      <td>1</td>\n",
       "      <td>0</td>\n",
       "      <td>0</td>\n",
       "      <td>0</td>\n",
       "      <td>0</td>\n",
       "      <td>0</td>\n",
       "      <td>0</td>\n",
       "      <td>0</td>\n",
       "      <td>0</td>\n",
       "      <td>0</td>\n",
       "      <td>0</td>\n",
       "      <td>0</td>\n",
       "      <td>0</td>\n",
       "      <td>0</td>\n",
       "      <td>0</td>\n",
       "      <td>1</td>\n",
       "      <td>0</td>\n",
       "      <td>0</td>\n",
       "      <td>0</td>\n",
       "      <td>1</td>\n",
       "      <td>0</td>\n",
       "      <td>0</td>\n",
       "      <td>0</td>\n",
       "      <td>0</td>\n",
       "      <td>0</td>\n",
       "      <td>0</td>\n",
       "      <td>0</td>\n",
       "      <td>0</td>\n",
       "      <td>0</td>\n",
       "      <td>0</td>\n",
       "      <td>0</td>\n",
       "      <td>0</td>\n",
       "      <td>0</td>\n",
       "      <td>0</td>\n",
       "      <td>0</td>\n",
       "    </tr>\n",
       "    <tr>\n",
       "      <th>3</th>\n",
       "      <td>1</td>\n",
       "      <td>0</td>\n",
       "      <td>0</td>\n",
       "      <td>0</td>\n",
       "      <td>0</td>\n",
       "      <td>0</td>\n",
       "      <td>0</td>\n",
       "      <td>0</td>\n",
       "      <td>0</td>\n",
       "      <td>0</td>\n",
       "      <td>0</td>\n",
       "      <td>0</td>\n",
       "      <td>0</td>\n",
       "      <td>0</td>\n",
       "      <td>1</td>\n",
       "      <td>0</td>\n",
       "      <td>0</td>\n",
       "      <td>0</td>\n",
       "      <td>0</td>\n",
       "      <td>0</td>\n",
       "      <td>1</td>\n",
       "      <td>0</td>\n",
       "      <td>0</td>\n",
       "      <td>0</td>\n",
       "      <td>0</td>\n",
       "      <td>0</td>\n",
       "      <td>0</td>\n",
       "      <td>0</td>\n",
       "      <td>0</td>\n",
       "      <td>0</td>\n",
       "      <td>0</td>\n",
       "      <td>0</td>\n",
       "      <td>0</td>\n",
       "      <td>0</td>\n",
       "      <td>0</td>\n",
       "      <td>0</td>\n",
       "    </tr>\n",
       "    <tr>\n",
       "      <th>4</th>\n",
       "      <td>0</td>\n",
       "      <td>0</td>\n",
       "      <td>0</td>\n",
       "      <td>1</td>\n",
       "      <td>0</td>\n",
       "      <td>0</td>\n",
       "      <td>0</td>\n",
       "      <td>0</td>\n",
       "      <td>0</td>\n",
       "      <td>0</td>\n",
       "      <td>1</td>\n",
       "      <td>0</td>\n",
       "      <td>0</td>\n",
       "      <td>0</td>\n",
       "      <td>0</td>\n",
       "      <td>0</td>\n",
       "      <td>0</td>\n",
       "      <td>0</td>\n",
       "      <td>0</td>\n",
       "      <td>0</td>\n",
       "      <td>1</td>\n",
       "      <td>0</td>\n",
       "      <td>0</td>\n",
       "      <td>0</td>\n",
       "      <td>0</td>\n",
       "      <td>0</td>\n",
       "      <td>0</td>\n",
       "      <td>0</td>\n",
       "      <td>0</td>\n",
       "      <td>0</td>\n",
       "      <td>0</td>\n",
       "      <td>0</td>\n",
       "      <td>0</td>\n",
       "      <td>0</td>\n",
       "      <td>0</td>\n",
       "      <td>0</td>\n",
       "    </tr>\n",
       "  </tbody>\n",
       "</table>\n",
       "</div>"
      ],
      "text/plain": [
       "   rating_G  rating_NC-17  rating_PG  rating_PG-13  rating_R  \\\n",
       "0         0             0          1             0         0   \n",
       "1         0             0          0             0         1   \n",
       "2         0             1          0             0         0   \n",
       "3         1             0          0             0         0   \n",
       "4         0             0          0             1         0   \n",
       "\n",
       "   special_features_Behind the Scenes  special_features_Commentaries  \\\n",
       "0                                   0                              0   \n",
       "1                                   0                              0   \n",
       "2                                   0                              0   \n",
       "3                                   0                              0   \n",
       "4                                   0                              0   \n",
       "\n",
       "   special_features_Commentaries,Behind the Scenes  \\\n",
       "0                                                0   \n",
       "1                                                1   \n",
       "2                                                0   \n",
       "3                                                0   \n",
       "4                                                0   \n",
       "\n",
       "   special_features_Commentaries,Deleted Scenes  \\\n",
       "0                                             0   \n",
       "1                                             0   \n",
       "2                                             0   \n",
       "3                                             0   \n",
       "4                                             0   \n",
       "\n",
       "   special_features_Commentaries,Deleted Scenes,Behind the Scenes  \\\n",
       "0                                                  1                \n",
       "1                                                  0                \n",
       "2                                                  0                \n",
       "3                                                  0                \n",
       "4                                                  0                \n",
       "\n",
       "   special_features_Deleted Scenes  \\\n",
       "0                                0   \n",
       "1                                0   \n",
       "2                                0   \n",
       "3                                0   \n",
       "4                                1   \n",
       "\n",
       "   special_features_Deleted Scenes,Behind the Scenes  \\\n",
       "0                                                  0   \n",
       "1                                                  0   \n",
       "2                                                  0   \n",
       "3                                                  0   \n",
       "4                                                  0   \n",
       "\n",
       "   special_features_Trailers  special_features_Trailers,Behind the Scenes  \\\n",
       "0                          0                                            0   \n",
       "1                          0                                            0   \n",
       "2                          0                                            0   \n",
       "3                          0                                            0   \n",
       "4                          0                                            0   \n",
       "\n",
       "   special_features_Trailers,Commentaries  \\\n",
       "0                                       0   \n",
       "1                                       0   \n",
       "2                                       0   \n",
       "3                                       1   \n",
       "4                                       0   \n",
       "\n",
       "   special_features_Trailers,Commentaries,Behind the Scenes  \\\n",
       "0                                                  0          \n",
       "1                                                  0          \n",
       "2                                                  0          \n",
       "3                                                  0          \n",
       "4                                                  0          \n",
       "\n",
       "   special_features_Trailers,Commentaries,Deleted Scenes  \\\n",
       "0                                                  0       \n",
       "1                                                  0       \n",
       "2                                                  1       \n",
       "3                                                  0       \n",
       "4                                                  0       \n",
       "\n",
       "   special_features_Trailers,Commentaries,Deleted Scenes,Behind the Scenes  \\\n",
       "0                                                  0                         \n",
       "1                                                  0                         \n",
       "2                                                  0                         \n",
       "3                                                  0                         \n",
       "4                                                  0                         \n",
       "\n",
       "   special_features_Trailers,Deleted Scenes  \\\n",
       "0                                         0   \n",
       "1                                         0   \n",
       "2                                         0   \n",
       "3                                         0   \n",
       "4                                         0   \n",
       "\n",
       "   special_features_Trailers,Deleted Scenes,Behind the Scenes  name_Action  \\\n",
       "0                                                  0                     1   \n",
       "1                                                  0                     1   \n",
       "2                                                  0                     1   \n",
       "3                                                  0                     1   \n",
       "4                                                  0                     1   \n",
       "\n",
       "   name_Animation  name_Children  name_Classics  name_Comedy  \\\n",
       "0               0              0              0            0   \n",
       "1               0              0              0            0   \n",
       "2               0              0              0            0   \n",
       "3               0              0              0            0   \n",
       "4               0              0              0            0   \n",
       "\n",
       "   name_Documentary  name_Drama  name_Family  name_Foreign  name_Games  \\\n",
       "0                 0           0            0             0           0   \n",
       "1                 0           0            0             0           0   \n",
       "2                 0           0            0             0           0   \n",
       "3                 0           0            0             0           0   \n",
       "4                 0           0            0             0           0   \n",
       "\n",
       "   name_Horror  name_Music  name_New  name_Sci-Fi  name_Sports  name_Travel  \n",
       "0            0           0         0            0            0            0  \n",
       "1            0           0         0            0            0            0  \n",
       "2            0           0         0            0            0            0  \n",
       "3            0           0         0            0            0            0  \n",
       "4            0           0         0            0            0            0  "
      ]
     },
     "execution_count": 13,
     "metadata": {},
     "output_type": "execute_result"
    }
   ],
   "source": [
    "# Applying get dummies\n",
    "cat = pd.get_dummies(cat, columns=['rating', 'special_features', 'name'])\n",
    "cat.head()"
   ]
  },
  {
   "cell_type": "markdown",
   "id": "043296d7",
   "metadata": {},
   "source": [
    "### Feature Engineering (target creation)"
   ]
  },
  {
   "cell_type": "code",
   "execution_count": 14,
   "id": "bc480d48",
   "metadata": {},
   "outputs": [],
   "source": [
    "# Selecting numericals\n",
    "num = data_copy.select_dtypes(include=np.number)"
   ]
  },
  {
   "cell_type": "markdown",
   "id": "3f9f76c3",
   "metadata": {},
   "source": [
    "<blockquote style=\"background-color: #ffeeba; color: #856404; border-color: #ffeeba; padding: 10px; border-radius: 5px;\">\n",
    "    \n",
    "Our target is the probability of a movie being rented again or not in the futre. \n",
    "\n",
    "--> In a nutshell = `Movie_demand`. 1 **if** it's bigger than the film rental average **else** 0.\n",
    "    \n",
    "To create our `target`, we will first look at the distribution of `n_rentals` and calculate the `mean` and `median`. Check the [SQL database-extraction](https://github.com/isi-mube/iron-labs/blob/main/unit_3_sql/lab-predictions-logistic-regression/notebook/sql_database_extraction_process.sql) for more information about this process.</blockquote>"
   ]
  },
  {
   "cell_type": "code",
   "execution_count": 15,
   "id": "a34b9edc",
   "metadata": {
    "scrolled": true
   },
   "outputs": [
    {
     "data": {
      "image/png": "[encoded data removed]",
      "text/plain": [
       "<Figure size 640x480 with 1 Axes>"
      ]
     },
     "metadata": {},
     "output_type": "display_data"
    }
   ],
   "source": [
    "sns.histplot(num['n_rentals'], kde=True)\n",
    "plt.xlabel('Number of Rentals')\n",
    "plt.ylabel('Frequency')\n",
    "plt.title('Distribution of Rentals')\n",
    "plt.show()"
   ]
  },
  {
   "cell_type": "markdown",
   "id": "272cdf02",
   "metadata": {},
   "source": [
    "<blockquote style=\"background-color: #d4edda; color: #155724; border-color: #c3e6cb; padding: 10px; border-radius: 5px;\">\n",
    "\n",
    "The plot shows a bell-curve distribution, meaning a **normal distribution** of the data. We should expect similar mean and median results.\n",
    "</blockquote>"
   ]
  },
  {
   "cell_type": "code",
   "execution_count": 16,
   "id": "fe54f6dc",
   "metadata": {},
   "outputs": [
    {
     "name": "stdout",
     "output_type": "stream",
     "text": [
      "Mean = 16.747390396659707\n",
      "Median = 16.0\n"
     ]
    }
   ],
   "source": [
    "# Compute the mean and median of n_rentals\n",
    "n_rentals_mean = num['n_rentals'].mean()\n",
    "n_rentals_median = num['n_rentals'].median()\n",
    "print(f\"Mean = {n_rentals_mean}\")\n",
    "print(f\"Median = {n_rentals_median}\")"
   ]
  },
  {
   "cell_type": "markdown",
   "id": "9e3cfb8d",
   "metadata": {},
   "source": [
    "<blockquote style=\"background-color: #d4edda; color: #155724; border-color: #c3e6cb; padding: 10px; border-radius: 5px;\">\n",
    "\n",
    "As expected, both average (mean) and the middle value (median) have similar results. We will define our treshold with the **median**. The mean is biased by some outliers.</blockquote>"
   ]
  },
  {
   "cell_type": "code",
   "execution_count": 17,
   "id": "1f003232",
   "metadata": {},
   "outputs": [],
   "source": [
    "num['movie_demand'] = [1 if x > n_rentals_median else 0 for x in data['n_rentals']]"
   ]
  },
  {
   "cell_type": "code",
   "execution_count": 18,
   "id": "512eb362",
   "metadata": {},
   "outputs": [
    {
     "name": "stdout",
     "output_type": "stream",
     "text": [
      "The Column Headers are : ['film_id', 'rental_duration', 'rental_rate', 'length', 'n_rentals', 'movie_demand']\n"
     ]
    }
   ],
   "source": [
    "# Our target `movie_demnad` should be automatically to the right\n",
    "data_headers = list(num.columns.values) # to get and check all column names\n",
    "print(\"The Column Headers are :\", data_headers) "
   ]
  },
  {
   "cell_type": "code",
   "execution_count": 19,
   "id": "8db84903",
   "metadata": {},
   "outputs": [
    {
     "data": {
      "text/html": [
       "<div>\n",
       "<style scoped>\n",
       "    .dataframe tbody tr th:only-of-type {\n",
       "        vertical-align: middle;\n",
       "    }\n",
       "\n",
       "    .dataframe tbody tr th {\n",
       "        vertical-align: top;\n",
       "    }\n",
       "\n",
       "    .dataframe thead th {\n",
       "        text-align: right;\n",
       "    }\n",
       "</style>\n",
       "<table border=\"1\" class=\"dataframe\">\n",
       "  <thead>\n",
       "    <tr style=\"text-align: right;\">\n",
       "      <th></th>\n",
       "      <th>rating_G</th>\n",
       "      <th>rating_NC-17</th>\n",
       "      <th>rating_PG</th>\n",
       "      <th>rating_PG-13</th>\n",
       "      <th>rating_R</th>\n",
       "      <th>special_features_Behind the Scenes</th>\n",
       "      <th>special_features_Commentaries</th>\n",
       "      <th>special_features_Commentaries,Behind the Scenes</th>\n",
       "      <th>special_features_Commentaries,Deleted Scenes</th>\n",
       "      <th>special_features_Commentaries,Deleted Scenes,Behind the Scenes</th>\n",
       "      <th>special_features_Deleted Scenes</th>\n",
       "      <th>special_features_Deleted Scenes,Behind the Scenes</th>\n",
       "      <th>special_features_Trailers</th>\n",
       "      <th>special_features_Trailers,Behind the Scenes</th>\n",
       "      <th>special_features_Trailers,Commentaries</th>\n",
       "      <th>special_features_Trailers,Commentaries,Behind the Scenes</th>\n",
       "      <th>special_features_Trailers,Commentaries,Deleted Scenes</th>\n",
       "      <th>special_features_Trailers,Commentaries,Deleted Scenes,Behind the Scenes</th>\n",
       "      <th>special_features_Trailers,Deleted Scenes</th>\n",
       "      <th>special_features_Trailers,Deleted Scenes,Behind the Scenes</th>\n",
       "      <th>name_Action</th>\n",
       "      <th>name_Animation</th>\n",
       "      <th>name_Children</th>\n",
       "      <th>name_Classics</th>\n",
       "      <th>name_Comedy</th>\n",
       "      <th>name_Documentary</th>\n",
       "      <th>name_Drama</th>\n",
       "      <th>name_Family</th>\n",
       "      <th>name_Foreign</th>\n",
       "      <th>name_Games</th>\n",
       "      <th>name_Horror</th>\n",
       "      <th>name_Music</th>\n",
       "      <th>name_New</th>\n",
       "      <th>name_Sci-Fi</th>\n",
       "      <th>name_Sports</th>\n",
       "      <th>name_Travel</th>\n",
       "    </tr>\n",
       "  </thead>\n",
       "  <tbody>\n",
       "    <tr>\n",
       "      <th>758</th>\n",
       "      <td>0</td>\n",
       "      <td>0</td>\n",
       "      <td>0</td>\n",
       "      <td>0</td>\n",
       "      <td>1</td>\n",
       "      <td>0</td>\n",
       "      <td>0</td>\n",
       "      <td>0</td>\n",
       "      <td>0</td>\n",
       "      <td>1</td>\n",
       "      <td>0</td>\n",
       "      <td>0</td>\n",
       "      <td>0</td>\n",
       "      <td>0</td>\n",
       "      <td>0</td>\n",
       "      <td>0</td>\n",
       "      <td>0</td>\n",
       "      <td>0</td>\n",
       "      <td>0</td>\n",
       "      <td>0</td>\n",
       "      <td>0</td>\n",
       "      <td>0</td>\n",
       "      <td>0</td>\n",
       "      <td>0</td>\n",
       "      <td>0</td>\n",
       "      <td>0</td>\n",
       "      <td>0</td>\n",
       "      <td>0</td>\n",
       "      <td>0</td>\n",
       "      <td>0</td>\n",
       "      <td>0</td>\n",
       "      <td>0</td>\n",
       "      <td>1</td>\n",
       "      <td>0</td>\n",
       "      <td>0</td>\n",
       "      <td>0</td>\n",
       "    </tr>\n",
       "    <tr>\n",
       "      <th>470</th>\n",
       "      <td>0</td>\n",
       "      <td>0</td>\n",
       "      <td>0</td>\n",
       "      <td>0</td>\n",
       "      <td>1</td>\n",
       "      <td>0</td>\n",
       "      <td>0</td>\n",
       "      <td>0</td>\n",
       "      <td>0</td>\n",
       "      <td>0</td>\n",
       "      <td>0</td>\n",
       "      <td>0</td>\n",
       "      <td>1</td>\n",
       "      <td>0</td>\n",
       "      <td>0</td>\n",
       "      <td>0</td>\n",
       "      <td>0</td>\n",
       "      <td>0</td>\n",
       "      <td>0</td>\n",
       "      <td>0</td>\n",
       "      <td>0</td>\n",
       "      <td>0</td>\n",
       "      <td>0</td>\n",
       "      <td>0</td>\n",
       "      <td>0</td>\n",
       "      <td>0</td>\n",
       "      <td>0</td>\n",
       "      <td>1</td>\n",
       "      <td>0</td>\n",
       "      <td>0</td>\n",
       "      <td>0</td>\n",
       "      <td>0</td>\n",
       "      <td>0</td>\n",
       "      <td>0</td>\n",
       "      <td>0</td>\n",
       "      <td>0</td>\n",
       "    </tr>\n",
       "    <tr>\n",
       "      <th>507</th>\n",
       "      <td>0</td>\n",
       "      <td>0</td>\n",
       "      <td>0</td>\n",
       "      <td>1</td>\n",
       "      <td>0</td>\n",
       "      <td>0</td>\n",
       "      <td>0</td>\n",
       "      <td>0</td>\n",
       "      <td>0</td>\n",
       "      <td>0</td>\n",
       "      <td>0</td>\n",
       "      <td>0</td>\n",
       "      <td>0</td>\n",
       "      <td>0</td>\n",
       "      <td>0</td>\n",
       "      <td>1</td>\n",
       "      <td>0</td>\n",
       "      <td>0</td>\n",
       "      <td>0</td>\n",
       "      <td>0</td>\n",
       "      <td>0</td>\n",
       "      <td>0</td>\n",
       "      <td>0</td>\n",
       "      <td>0</td>\n",
       "      <td>0</td>\n",
       "      <td>0</td>\n",
       "      <td>0</td>\n",
       "      <td>0</td>\n",
       "      <td>1</td>\n",
       "      <td>0</td>\n",
       "      <td>0</td>\n",
       "      <td>0</td>\n",
       "      <td>0</td>\n",
       "      <td>0</td>\n",
       "      <td>0</td>\n",
       "      <td>0</td>\n",
       "    </tr>\n",
       "  </tbody>\n",
       "</table>\n",
       "</div>"
      ],
      "text/plain": [
       "     rating_G  rating_NC-17  rating_PG  rating_PG-13  rating_R  \\\n",
       "758         0             0          0             0         1   \n",
       "470         0             0          0             0         1   \n",
       "507         0             0          0             1         0   \n",
       "\n",
       "     special_features_Behind the Scenes  special_features_Commentaries  \\\n",
       "758                                   0                              0   \n",
       "470                                   0                              0   \n",
       "507                                   0                              0   \n",
       "\n",
       "     special_features_Commentaries,Behind the Scenes  \\\n",
       "758                                                0   \n",
       "470                                                0   \n",
       "507                                                0   \n",
       "\n",
       "     special_features_Commentaries,Deleted Scenes  \\\n",
       "758                                             0   \n",
       "470                                             0   \n",
       "507                                             0   \n",
       "\n",
       "     special_features_Commentaries,Deleted Scenes,Behind the Scenes  \\\n",
       "758                                                  1                \n",
       "470                                                  0                \n",
       "507                                                  0                \n",
       "\n",
       "     special_features_Deleted Scenes  \\\n",
       "758                                0   \n",
       "470                                0   \n",
       "507                                0   \n",
       "\n",
       "     special_features_Deleted Scenes,Behind the Scenes  \\\n",
       "758                                                  0   \n",
       "470                                                  0   \n",
       "507                                                  0   \n",
       "\n",
       "     special_features_Trailers  special_features_Trailers,Behind the Scenes  \\\n",
       "758                          0                                            0   \n",
       "470                          1                                            0   \n",
       "507                          0                                            0   \n",
       "\n",
       "     special_features_Trailers,Commentaries  \\\n",
       "758                                       0   \n",
       "470                                       0   \n",
       "507                                       0   \n",
       "\n",
       "     special_features_Trailers,Commentaries,Behind the Scenes  \\\n",
       "758                                                  0          \n",
       "470                                                  0          \n",
       "507                                                  1          \n",
       "\n",
       "     special_features_Trailers,Commentaries,Deleted Scenes  \\\n",
       "758                                                  0       \n",
       "470                                                  0       \n",
       "507                                                  0       \n",
       "\n",
       "     special_features_Trailers,Commentaries,Deleted Scenes,Behind the Scenes  \\\n",
       "758                                                  0                         \n",
       "470                                                  0                         \n",
       "507                                                  0                         \n",
       "\n",
       "     special_features_Trailers,Deleted Scenes  \\\n",
       "758                                         0   \n",
       "470                                         0   \n",
       "507                                         0   \n",
       "\n",
       "     special_features_Trailers,Deleted Scenes,Behind the Scenes  name_Action  \\\n",
       "758                                                  0                     0   \n",
       "470                                                  0                     0   \n",
       "507                                                  0                     0   \n",
       "\n",
       "     name_Animation  name_Children  name_Classics  name_Comedy  \\\n",
       "758               0              0              0            0   \n",
       "470               0              0              0            0   \n",
       "507               0              0              0            0   \n",
       "\n",
       "     name_Documentary  name_Drama  name_Family  name_Foreign  name_Games  \\\n",
       "758                 0           0            0             0           0   \n",
       "470                 0           0            1             0           0   \n",
       "507                 0           0            0             1           0   \n",
       "\n",
       "     name_Horror  name_Music  name_New  name_Sci-Fi  name_Sports  name_Travel  \n",
       "758            0           0         1            0            0            0  \n",
       "470            0           0         0            0            0            0  \n",
       "507            0           0         0            0            0            0  "
      ]
     },
     "execution_count": 19,
     "metadata": {},
     "output_type": "execute_result"
    }
   ],
   "source": [
    "cat.sample(3)"
   ]
  },
  {
   "cell_type": "code",
   "execution_count": 20,
   "id": "df798870",
   "metadata": {},
   "outputs": [
    {
     "data": {
      "text/html": [
       "<div>\n",
       "<style scoped>\n",
       "    .dataframe tbody tr th:only-of-type {\n",
       "        vertical-align: middle;\n",
       "    }\n",
       "\n",
       "    .dataframe tbody tr th {\n",
       "        vertical-align: top;\n",
       "    }\n",
       "\n",
       "    .dataframe thead th {\n",
       "        text-align: right;\n",
       "    }\n",
       "</style>\n",
       "<table border=\"1\" class=\"dataframe\">\n",
       "  <thead>\n",
       "    <tr style=\"text-align: right;\">\n",
       "      <th></th>\n",
       "      <th>film_id</th>\n",
       "      <th>rental_duration</th>\n",
       "      <th>rental_rate</th>\n",
       "      <th>length</th>\n",
       "      <th>n_rentals</th>\n",
       "      <th>movie_demand</th>\n",
       "    </tr>\n",
       "  </thead>\n",
       "  <tbody>\n",
       "    <tr>\n",
       "      <th>4</th>\n",
       "      <td>67</td>\n",
       "      <td>5</td>\n",
       "      <td>2.99</td>\n",
       "      <td>77</td>\n",
       "      <td>21</td>\n",
       "      <td>1</td>\n",
       "    </tr>\n",
       "    <tr>\n",
       "      <th>805</th>\n",
       "      <td>394</td>\n",
       "      <td>7</td>\n",
       "      <td>2.99</td>\n",
       "      <td>146</td>\n",
       "      <td>14</td>\n",
       "      <td>0</td>\n",
       "    </tr>\n",
       "    <tr>\n",
       "      <th>241</th>\n",
       "      <td>127</td>\n",
       "      <td>5</td>\n",
       "      <td>4.99</td>\n",
       "      <td>112</td>\n",
       "      <td>30</td>\n",
       "      <td>1</td>\n",
       "    </tr>\n",
       "  </tbody>\n",
       "</table>\n",
       "</div>"
      ],
      "text/plain": [
       "     film_id  rental_duration  rental_rate  length  n_rentals  movie_demand\n",
       "4         67                5         2.99      77         21             1\n",
       "805      394                7         2.99     146         14             0\n",
       "241      127                5         4.99     112         30             1"
      ]
     },
     "execution_count": 20,
     "metadata": {},
     "output_type": "execute_result"
    }
   ],
   "source": [
    "num.sample(3)"
   ]
  },
  {
   "cell_type": "markdown",
   "id": "30142507",
   "metadata": {},
   "source": [
    "<blockquote style=\"background-color: #d4edda; color: #155724; border-color: #c3e6cb; padding: 10px; border-radius: 5px;\">\n",
    "\n",
    "**Now**, we have a dataset containing categoricals encoded (cat) & another for all previous numericals + our target `movie_demand`.\n",
    "\n",
    "**Important**: We will do `concat` after **EDA** to merge cat & num in one single dataframe.\n",
    "</blockquote>"
   ]
  },
  {
   "cell_type": "markdown",
   "id": "36663e21",
   "metadata": {},
   "source": [
    "## 03 | EDA"
   ]
  },
  {
   "cell_type": "markdown",
   "id": "9014c970",
   "metadata": {},
   "source": [
    "### Overview"
   ]
  },
  {
   "cell_type": "code",
   "execution_count": 21,
   "id": "d116b072",
   "metadata": {},
   "outputs": [
    {
     "data": {
      "text/html": [
       "<div>\n",
       "<style scoped>\n",
       "    .dataframe tbody tr th:only-of-type {\n",
       "        vertical-align: middle;\n",
       "    }\n",
       "\n",
       "    .dataframe tbody tr th {\n",
       "        vertical-align: top;\n",
       "    }\n",
       "\n",
       "    .dataframe thead th {\n",
       "        text-align: right;\n",
       "    }\n",
       "</style>\n",
       "<table border=\"1\" class=\"dataframe\">\n",
       "  <thead>\n",
       "    <tr style=\"text-align: right;\">\n",
       "      <th></th>\n",
       "      <th>film_id</th>\n",
       "      <th>rental_duration</th>\n",
       "      <th>rental_rate</th>\n",
       "      <th>length</th>\n",
       "      <th>n_rentals</th>\n",
       "      <th>movie_demand</th>\n",
       "    </tr>\n",
       "  </thead>\n",
       "  <tbody>\n",
       "    <tr>\n",
       "      <th>count</th>\n",
       "      <td>958.000000</td>\n",
       "      <td>958.000000</td>\n",
       "      <td>958.000000</td>\n",
       "      <td>958.000000</td>\n",
       "      <td>958.000000</td>\n",
       "      <td>958.000000</td>\n",
       "    </tr>\n",
       "    <tr>\n",
       "      <th>mean</th>\n",
       "      <td>502.598121</td>\n",
       "      <td>4.969729</td>\n",
       "      <td>2.977474</td>\n",
       "      <td>115.490605</td>\n",
       "      <td>16.747390</td>\n",
       "      <td>0.495825</td>\n",
       "    </tr>\n",
       "    <tr>\n",
       "      <th>std</th>\n",
       "      <td>287.541738</td>\n",
       "      <td>1.407593</td>\n",
       "      <td>1.643152</td>\n",
       "      <td>40.471844</td>\n",
       "      <td>6.676185</td>\n",
       "      <td>0.500244</td>\n",
       "    </tr>\n",
       "    <tr>\n",
       "      <th>min</th>\n",
       "      <td>1.000000</td>\n",
       "      <td>3.000000</td>\n",
       "      <td>0.990000</td>\n",
       "      <td>46.000000</td>\n",
       "      <td>4.000000</td>\n",
       "      <td>0.000000</td>\n",
       "    </tr>\n",
       "    <tr>\n",
       "      <th>25%</th>\n",
       "      <td>256.250000</td>\n",
       "      <td>4.000000</td>\n",
       "      <td>0.990000</td>\n",
       "      <td>80.250000</td>\n",
       "      <td>11.000000</td>\n",
       "      <td>0.000000</td>\n",
       "    </tr>\n",
       "    <tr>\n",
       "      <th>50%</th>\n",
       "      <td>504.500000</td>\n",
       "      <td>5.000000</td>\n",
       "      <td>2.990000</td>\n",
       "      <td>114.000000</td>\n",
       "      <td>16.000000</td>\n",
       "      <td>0.000000</td>\n",
       "    </tr>\n",
       "    <tr>\n",
       "      <th>75%</th>\n",
       "      <td>751.750000</td>\n",
       "      <td>6.000000</td>\n",
       "      <td>4.990000</td>\n",
       "      <td>150.000000</td>\n",
       "      <td>22.000000</td>\n",
       "      <td>1.000000</td>\n",
       "    </tr>\n",
       "    <tr>\n",
       "      <th>max</th>\n",
       "      <td>1000.000000</td>\n",
       "      <td>7.000000</td>\n",
       "      <td>4.990000</td>\n",
       "      <td>185.000000</td>\n",
       "      <td>34.000000</td>\n",
       "      <td>1.000000</td>\n",
       "    </tr>\n",
       "  </tbody>\n",
       "</table>\n",
       "</div>"
      ],
      "text/plain": [
       "           film_id  rental_duration  rental_rate      length   n_rentals  \\\n",
       "count   958.000000       958.000000   958.000000  958.000000  958.000000   \n",
       "mean    502.598121         4.969729     2.977474  115.490605   16.747390   \n",
       "std     287.541738         1.407593     1.643152   40.471844    6.676185   \n",
       "min       1.000000         3.000000     0.990000   46.000000    4.000000   \n",
       "25%     256.250000         4.000000     0.990000   80.250000   11.000000   \n",
       "50%     504.500000         5.000000     2.990000  114.000000   16.000000   \n",
       "75%     751.750000         6.000000     4.990000  150.000000   22.000000   \n",
       "max    1000.000000         7.000000     4.990000  185.000000   34.000000   \n",
       "\n",
       "       movie_demand  \n",
       "count    958.000000  \n",
       "mean       0.495825  \n",
       "std        0.500244  \n",
       "min        0.000000  \n",
       "25%        0.000000  \n",
       "50%        0.000000  \n",
       "75%        1.000000  \n",
       "max        1.000000  "
      ]
     },
     "execution_count": 21,
     "metadata": {},
     "output_type": "execute_result"
    }
   ],
   "source": [
    "num.describe()"
   ]
  },
  {
   "cell_type": "markdown",
   "id": "458bd12f",
   "metadata": {},
   "source": [
    "### Checking for outliers"
   ]
  },
  {
   "cell_type": "code",
   "execution_count": 22,
   "id": "de5d7483",
   "metadata": {},
   "outputs": [
    {
     "data": {
      "image/png": "[encoded data removed]",
      "text/plain": [
       "<Figure size 1500x1500 with 1 Axes>"
      ]
     },
     "metadata": {},
     "output_type": "display_data"
    }
   ],
   "source": [
    "# For previously numerical columns\n",
    "fig, ax = plt.subplots(figsize=(15, 15))\n",
    "sns.boxplot(data=num, orient=\"h\", ax=ax, showfliers=True, whis=1.5)\n",
    "ax.tick_params(axis='x', labelsize=15) # Adjust the font size of the x-axis ticks\n",
    "# Show the plot\n",
    "plt.show()"
   ]
  },
  {
   "cell_type": "markdown",
   "id": "4d458f54",
   "metadata": {},
   "source": [
    "<blockquote style=\"background-color: #d4edda; color: #155724; border-color: #c3e6cb; padding: 10px; border-radius: 5px;\">\n",
    "There are not visible outliers. \n",
    "\n",
    "**Meaning**, the data could be normally distributed.\n",
    "</blockquote>"
   ]
  },
  {
   "cell_type": "markdown",
   "id": "98f42725",
   "metadata": {},
   "source": [
    "### Checking normal distributions"
   ]
  },
  {
   "cell_type": "code",
   "execution_count": 23,
   "id": "7ed11a0a",
   "metadata": {},
   "outputs": [
    {
     "data": {
      "image/png": "[encoded data removed]",
      "text/plain": [
       "<Figure size 2000x1600 with 6 Axes>"
      ]
     },
     "metadata": {},
     "output_type": "display_data"
    }
   ],
   "source": [
    "fig, axes = plt.subplots(nrows=3, ncols=2, figsize=(20, 16))  # nrows to 9, ncols to 5 to plot our 42 features\n",
    "color = '#0072B2'  # blue\n",
    "\n",
    "for i, ax in enumerate(axes.flat):\n",
    "    if i >= len(num.columns):\n",
    "        break\n",
    "    sns.histplot(data=num, x=num.columns[i], color=color, bins=20, kde=True, ax=ax)\n",
    "    ax.set_title(num.columns[i])\n",
    "    ax.set_xlabel(num.columns[i])\n",
    "    ax.set_ylabel('Frequency')\n",
    "\n",
    "plt.tight_layout()\n",
    "plt.show()"
   ]
  },
  {
   "cell_type": "markdown",
   "id": "48746381",
   "metadata": {},
   "source": [
    "<blockquote style=\"background-color: #d4edda; color: #155724; border-color: #c3e6cb; padding: 10px; border-radius: 5px;\">\n",
    "\n",
    "As expected, data was normaly distributed. Except for `n_rentals`, `rental_duration` & `movie_demand`, which are divided by major blocks.</blockquote>"
   ]
  },
  {
   "cell_type": "markdown",
   "id": "b1bf637e",
   "metadata": {},
   "source": [
    "### Dealing with multicollinearity"
   ]
  },
  {
   "cell_type": "code",
   "execution_count": 24,
   "id": "81f8c1eb",
   "metadata": {
    "scrolled": true
   },
   "outputs": [],
   "source": [
    "# Creating the matrix\n",
    "X_corr = round(num.corr(), 4)"
   ]
  },
  {
   "cell_type": "code",
   "execution_count": 25,
   "id": "642bd6af",
   "metadata": {
    "scrolled": true
   },
   "outputs": [
    {
     "data": {
      "image/png": "[encoded data removed]",
      "text/plain": [
       "<Figure size 800x800 with 2 Axes>"
      ]
     },
     "metadata": {},
     "output_type": "display_data"
    }
   ],
   "source": [
    "# Correlation Matrix-Heatmap Plot\n",
    "mask = np.zeros_like(X_corr)\n",
    "mask[np.triu_indices_from(mask)] = True # optional, to hide repeat half of the matrix\n",
    "f, ax = plt.subplots(figsize=(8, 8))\n",
    "sns.set(font_scale=1.5) # increase font size\n",
    "ax = sns.heatmap(X_corr, mask=mask, annot=True, annot_kws={\"size\": 12}, linewidths=.5, cmap=\"coolwarm\", fmt=\".2f\", ax=ax) # round to 2 decimal places\n",
    "ax.set_title(\"Dealing with Multicollinearity\", fontsize=20) # add title\n",
    "plt.show()"
   ]
  },
  {
   "cell_type": "markdown",
   "id": "6d3491b3",
   "metadata": {},
   "source": [
    "<blockquote style=\"background-color: #d4edda; color: #155724; border-color: #c3e6cb; padding: 10px; border-radius: 5px;\">\n",
    "\n",
    "There is one feature , `n_rentals`, that shows high correlation with our target `movie_demands` as it could be expected. Also, it does not show multicollinearity with the other features. \n",
    "    \n",
    "In this process, there is nothing to drop, so now it's time to normalize numericals to finally merge it with the rest of our data:\n",
    "</blockquote>num2 = num.drop(columns=['movie_demand'])\n"
   ]
  },
  {
   "cell_type": "markdown",
   "id": "05df1d80",
   "metadata": {},
   "source": [
    "## 04 | Data Processing"
   ]
  },
  {
   "cell_type": "markdown",
   "id": "2919616f",
   "metadata": {},
   "source": [
    "### Normalizing the data"
   ]
  },
  {
   "cell_type": "markdown",
   "id": "e855a066",
   "metadata": {},
   "source": [
    "<blockquote style=\"background-color: #ffeeba; color: #856404; border-color: #ffeeba; padding: 10px; border-radius: 5px;\">\n",
    "\n",
    "In a previous attempt we did not normalize our numericals. This time we will use `StandScaler`:\n",
    "\n",
    "</blockquote>"
   ]
  },
  {
   "cell_type": "code",
   "execution_count": 26,
   "id": "8304f6ff",
   "metadata": {},
   "outputs": [
    {
     "data": {
      "text/html": [
       "<div>\n",
       "<style scoped>\n",
       "    .dataframe tbody tr th:only-of-type {\n",
       "        vertical-align: middle;\n",
       "    }\n",
       "\n",
       "    .dataframe tbody tr th {\n",
       "        vertical-align: top;\n",
       "    }\n",
       "\n",
       "    .dataframe thead th {\n",
       "        text-align: right;\n",
       "    }\n",
       "</style>\n",
       "<table border=\"1\" class=\"dataframe\">\n",
       "  <thead>\n",
       "    <tr style=\"text-align: right;\">\n",
       "      <th></th>\n",
       "      <th>film_id</th>\n",
       "      <th>rental_duration</th>\n",
       "      <th>rental_rate</th>\n",
       "      <th>length</th>\n",
       "      <th>n_rentals</th>\n",
       "      <th>movie_demand</th>\n",
       "    </tr>\n",
       "  </thead>\n",
       "  <tbody>\n",
       "    <tr>\n",
       "      <th>0</th>\n",
       "      <td>19</td>\n",
       "      <td>6</td>\n",
       "      <td>0.99</td>\n",
       "      <td>113</td>\n",
       "      <td>21</td>\n",
       "      <td>1</td>\n",
       "    </tr>\n",
       "    <tr>\n",
       "      <th>1</th>\n",
       "      <td>21</td>\n",
       "      <td>3</td>\n",
       "      <td>4.99</td>\n",
       "      <td>129</td>\n",
       "      <td>22</td>\n",
       "      <td>1</td>\n",
       "    </tr>\n",
       "    <tr>\n",
       "      <th>2</th>\n",
       "      <td>29</td>\n",
       "      <td>5</td>\n",
       "      <td>2.99</td>\n",
       "      <td>168</td>\n",
       "      <td>10</td>\n",
       "      <td>0</td>\n",
       "    </tr>\n",
       "  </tbody>\n",
       "</table>\n",
       "</div>"
      ],
      "text/plain": [
       "   film_id  rental_duration  rental_rate  length  n_rentals  movie_demand\n",
       "0       19                6         0.99     113         21             1\n",
       "1       21                3         4.99     129         22             1\n",
       "2       29                5         2.99     168         10             0"
      ]
     },
     "execution_count": 26,
     "metadata": {},
     "output_type": "execute_result"
    }
   ],
   "source": [
    "num.head(3)"
   ]
  },
  {
   "cell_type": "code",
   "execution_count": 27,
   "id": "fe518973",
   "metadata": {},
   "outputs": [
    {
     "data": {
      "text/html": [
       "<div>\n",
       "<style scoped>\n",
       "    .dataframe tbody tr th:only-of-type {\n",
       "        vertical-align: middle;\n",
       "    }\n",
       "\n",
       "    .dataframe tbody tr th {\n",
       "        vertical-align: top;\n",
       "    }\n",
       "\n",
       "    .dataframe thead th {\n",
       "        text-align: right;\n",
       "    }\n",
       "</style>\n",
       "<table border=\"1\" class=\"dataframe\">\n",
       "  <thead>\n",
       "    <tr style=\"text-align: right;\">\n",
       "      <th></th>\n",
       "      <th>film_id</th>\n",
       "      <th>rental_duration</th>\n",
       "      <th>rental_rate</th>\n",
       "      <th>length</th>\n",
       "      <th>n_rentals</th>\n",
       "      <th>movie_demand</th>\n",
       "    </tr>\n",
       "  </thead>\n",
       "  <tbody>\n",
       "    <tr>\n",
       "      <th>194</th>\n",
       "      <td>-0.882413</td>\n",
       "      <td>1.443124</td>\n",
       "      <td>-1.210182</td>\n",
       "      <td>1.495879</td>\n",
       "      <td>0.637315</td>\n",
       "      <td>1</td>\n",
       "    </tr>\n",
       "    <tr>\n",
       "      <th>103</th>\n",
       "      <td>0.516375</td>\n",
       "      <td>-1.400090</td>\n",
       "      <td>-1.210182</td>\n",
       "      <td>-0.778493</td>\n",
       "      <td>0.787179</td>\n",
       "      <td>1</td>\n",
       "    </tr>\n",
       "    <tr>\n",
       "      <th>824</th>\n",
       "      <td>1.254044</td>\n",
       "      <td>0.021517</td>\n",
       "      <td>-1.210182</td>\n",
       "      <td>0.630629</td>\n",
       "      <td>1.236772</td>\n",
       "      <td>1</td>\n",
       "    </tr>\n",
       "  </tbody>\n",
       "</table>\n",
       "</div>"
      ],
      "text/plain": [
       "      film_id  rental_duration  rental_rate    length  n_rentals  movie_demand\n",
       "194 -0.882413         1.443124    -1.210182  1.495879   0.637315             1\n",
       "103  0.516375        -1.400090    -1.210182 -0.778493   0.787179             1\n",
       "824  1.254044         0.021517    -1.210182  0.630629   1.236772             1"
      ]
     },
     "execution_count": 27,
     "metadata": {},
     "output_type": "execute_result"
    }
   ],
   "source": [
    "# We don't want to normalize the target\n",
    "num2 = num.drop(columns=['movie_demand'])\n",
    "\n",
    "# Selecting the scaler\n",
    "transformer = StandardScaler().fit(num2)\n",
    "\n",
    "n = transformer.transform(num2)\n",
    "n = pd.DataFrame(n) # making it a panda dataframe\n",
    "n['movie_demand'] = num['movie_demand'] # adding our target\n",
    "n.columns = num.columns # keeping old columns\n",
    "n.sample(3)"
   ]
  },
  {
   "cell_type": "markdown",
   "id": "3518d5d2",
   "metadata": {},
   "source": [
    "### Merging Categoricals and Numericals"
   ]
  },
  {
   "cell_type": "code",
   "execution_count": 28,
   "id": "5e6d30ca",
   "metadata": {},
   "outputs": [
    {
     "data": {
      "text/html": [
       "<div>\n",
       "<style scoped>\n",
       "    .dataframe tbody tr th:only-of-type {\n",
       "        vertical-align: middle;\n",
       "    }\n",
       "\n",
       "    .dataframe tbody tr th {\n",
       "        vertical-align: top;\n",
       "    }\n",
       "\n",
       "    .dataframe thead th {\n",
       "        text-align: right;\n",
       "    }\n",
       "</style>\n",
       "<table border=\"1\" class=\"dataframe\">\n",
       "  <thead>\n",
       "    <tr style=\"text-align: right;\">\n",
       "      <th></th>\n",
       "      <th>rating_G</th>\n",
       "      <th>rating_NC-17</th>\n",
       "      <th>rating_PG</th>\n",
       "      <th>rating_PG-13</th>\n",
       "      <th>rating_R</th>\n",
       "      <th>special_features_Behind the Scenes</th>\n",
       "      <th>special_features_Commentaries</th>\n",
       "      <th>special_features_Commentaries,Behind the Scenes</th>\n",
       "      <th>special_features_Commentaries,Deleted Scenes</th>\n",
       "      <th>special_features_Commentaries,Deleted Scenes,Behind the Scenes</th>\n",
       "      <th>special_features_Deleted Scenes</th>\n",
       "      <th>special_features_Deleted Scenes,Behind the Scenes</th>\n",
       "      <th>special_features_Trailers</th>\n",
       "      <th>special_features_Trailers,Behind the Scenes</th>\n",
       "      <th>special_features_Trailers,Commentaries</th>\n",
       "      <th>special_features_Trailers,Commentaries,Behind the Scenes</th>\n",
       "      <th>special_features_Trailers,Commentaries,Deleted Scenes</th>\n",
       "      <th>special_features_Trailers,Commentaries,Deleted Scenes,Behind the Scenes</th>\n",
       "      <th>special_features_Trailers,Deleted Scenes</th>\n",
       "      <th>special_features_Trailers,Deleted Scenes,Behind the Scenes</th>\n",
       "      <th>name_Action</th>\n",
       "      <th>name_Animation</th>\n",
       "      <th>name_Children</th>\n",
       "      <th>name_Classics</th>\n",
       "      <th>name_Comedy</th>\n",
       "      <th>name_Documentary</th>\n",
       "      <th>name_Drama</th>\n",
       "      <th>name_Family</th>\n",
       "      <th>name_Foreign</th>\n",
       "      <th>name_Games</th>\n",
       "      <th>name_Horror</th>\n",
       "      <th>name_Music</th>\n",
       "      <th>name_New</th>\n",
       "      <th>name_Sci-Fi</th>\n",
       "      <th>name_Sports</th>\n",
       "      <th>name_Travel</th>\n",
       "      <th>film_id</th>\n",
       "      <th>rental_duration</th>\n",
       "      <th>rental_rate</th>\n",
       "      <th>length</th>\n",
       "      <th>n_rentals</th>\n",
       "      <th>movie_demand</th>\n",
       "    </tr>\n",
       "  </thead>\n",
       "  <tbody>\n",
       "    <tr>\n",
       "      <th>680</th>\n",
       "      <td>0</td>\n",
       "      <td>0</td>\n",
       "      <td>0</td>\n",
       "      <td>0</td>\n",
       "      <td>1</td>\n",
       "      <td>0</td>\n",
       "      <td>0</td>\n",
       "      <td>0</td>\n",
       "      <td>0</td>\n",
       "      <td>0</td>\n",
       "      <td>0</td>\n",
       "      <td>0</td>\n",
       "      <td>1</td>\n",
       "      <td>0</td>\n",
       "      <td>0</td>\n",
       "      <td>0</td>\n",
       "      <td>0</td>\n",
       "      <td>0</td>\n",
       "      <td>0</td>\n",
       "      <td>0</td>\n",
       "      <td>0</td>\n",
       "      <td>0</td>\n",
       "      <td>0</td>\n",
       "      <td>0</td>\n",
       "      <td>0</td>\n",
       "      <td>0</td>\n",
       "      <td>0</td>\n",
       "      <td>0</td>\n",
       "      <td>0</td>\n",
       "      <td>0</td>\n",
       "      <td>0</td>\n",
       "      <td>1</td>\n",
       "      <td>0</td>\n",
       "      <td>0</td>\n",
       "      <td>0</td>\n",
       "      <td>0</td>\n",
       "      <td>-0.485742</td>\n",
       "      <td>-1.400090</td>\n",
       "      <td>-1.210182</td>\n",
       "      <td>-1.520136</td>\n",
       "      <td>0.487450</td>\n",
       "      <td>1</td>\n",
       "    </tr>\n",
       "    <tr>\n",
       "      <th>419</th>\n",
       "      <td>1</td>\n",
       "      <td>0</td>\n",
       "      <td>0</td>\n",
       "      <td>0</td>\n",
       "      <td>0</td>\n",
       "      <td>1</td>\n",
       "      <td>0</td>\n",
       "      <td>0</td>\n",
       "      <td>0</td>\n",
       "      <td>0</td>\n",
       "      <td>0</td>\n",
       "      <td>0</td>\n",
       "      <td>0</td>\n",
       "      <td>0</td>\n",
       "      <td>0</td>\n",
       "      <td>0</td>\n",
       "      <td>0</td>\n",
       "      <td>0</td>\n",
       "      <td>0</td>\n",
       "      <td>0</td>\n",
       "      <td>0</td>\n",
       "      <td>0</td>\n",
       "      <td>0</td>\n",
       "      <td>0</td>\n",
       "      <td>0</td>\n",
       "      <td>0</td>\n",
       "      <td>0</td>\n",
       "      <td>1</td>\n",
       "      <td>0</td>\n",
       "      <td>0</td>\n",
       "      <td>0</td>\n",
       "      <td>0</td>\n",
       "      <td>0</td>\n",
       "      <td>0</td>\n",
       "      <td>0</td>\n",
       "      <td>0</td>\n",
       "      <td>-1.599205</td>\n",
       "      <td>0.732321</td>\n",
       "      <td>0.007627</td>\n",
       "      <td>1.347551</td>\n",
       "      <td>1.086908</td>\n",
       "      <td>1</td>\n",
       "    </tr>\n",
       "    <tr>\n",
       "      <th>179</th>\n",
       "      <td>0</td>\n",
       "      <td>0</td>\n",
       "      <td>1</td>\n",
       "      <td>0</td>\n",
       "      <td>0</td>\n",
       "      <td>0</td>\n",
       "      <td>1</td>\n",
       "      <td>0</td>\n",
       "      <td>0</td>\n",
       "      <td>0</td>\n",
       "      <td>0</td>\n",
       "      <td>0</td>\n",
       "      <td>0</td>\n",
       "      <td>0</td>\n",
       "      <td>0</td>\n",
       "      <td>0</td>\n",
       "      <td>0</td>\n",
       "      <td>0</td>\n",
       "      <td>0</td>\n",
       "      <td>0</td>\n",
       "      <td>0</td>\n",
       "      <td>0</td>\n",
       "      <td>1</td>\n",
       "      <td>0</td>\n",
       "      <td>0</td>\n",
       "      <td>0</td>\n",
       "      <td>0</td>\n",
       "      <td>0</td>\n",
       "      <td>0</td>\n",
       "      <td>0</td>\n",
       "      <td>0</td>\n",
       "      <td>0</td>\n",
       "      <td>0</td>\n",
       "      <td>0</td>\n",
       "      <td>0</td>\n",
       "      <td>0</td>\n",
       "      <td>1.480217</td>\n",
       "      <td>0.021517</td>\n",
       "      <td>0.007627</td>\n",
       "      <td>-0.778493</td>\n",
       "      <td>-0.711465</td>\n",
       "      <td>0</td>\n",
       "    </tr>\n",
       "  </tbody>\n",
       "</table>\n",
       "</div>"
      ],
      "text/plain": [
       "     rating_G  rating_NC-17  rating_PG  rating_PG-13  rating_R  \\\n",
       "680         0             0          0             0         1   \n",
       "419         1             0          0             0         0   \n",
       "179         0             0          1             0         0   \n",
       "\n",
       "     special_features_Behind the Scenes  special_features_Commentaries  \\\n",
       "680                                   0                              0   \n",
       "419                                   1                              0   \n",
       "179                                   0                              1   \n",
       "\n",
       "     special_features_Commentaries,Behind the Scenes  \\\n",
       "680                                                0   \n",
       "419                                                0   \n",
       "179                                                0   \n",
       "\n",
       "     special_features_Commentaries,Deleted Scenes  \\\n",
       "680                                             0   \n",
       "419                                             0   \n",
       "179                                             0   \n",
       "\n",
       "     special_features_Commentaries,Deleted Scenes,Behind the Scenes  \\\n",
       "680                                                  0                \n",
       "419                                                  0                \n",
       "179                                                  0                \n",
       "\n",
       "     special_features_Deleted Scenes  \\\n",
       "680                                0   \n",
       "419                                0   \n",
       "179                                0   \n",
       "\n",
       "     special_features_Deleted Scenes,Behind the Scenes  \\\n",
       "680                                                  0   \n",
       "419                                                  0   \n",
       "179                                                  0   \n",
       "\n",
       "     special_features_Trailers  special_features_Trailers,Behind the Scenes  \\\n",
       "680                          1                                            0   \n",
       "419                          0                                            0   \n",
       "179                          0                                            0   \n",
       "\n",
       "     special_features_Trailers,Commentaries  \\\n",
       "680                                       0   \n",
       "419                                       0   \n",
       "179                                       0   \n",
       "\n",
       "     special_features_Trailers,Commentaries,Behind the Scenes  \\\n",
       "680                                                  0          \n",
       "419                                                  0          \n",
       "179                                                  0          \n",
       "\n",
       "     special_features_Trailers,Commentaries,Deleted Scenes  \\\n",
       "680                                                  0       \n",
       "419                                                  0       \n",
       "179                                                  0       \n",
       "\n",
       "     special_features_Trailers,Commentaries,Deleted Scenes,Behind the Scenes  \\\n",
       "680                                                  0                         \n",
       "419                                                  0                         \n",
       "179                                                  0                         \n",
       "\n",
       "     special_features_Trailers,Deleted Scenes  \\\n",
       "680                                         0   \n",
       "419                                         0   \n",
       "179                                         0   \n",
       "\n",
       "     special_features_Trailers,Deleted Scenes,Behind the Scenes  name_Action  \\\n",
       "680                                                  0                     0   \n",
       "419                                                  0                     0   \n",
       "179                                                  0                     0   \n",
       "\n",
       "     name_Animation  name_Children  name_Classics  name_Comedy  \\\n",
       "680               0              0              0            0   \n",
       "419               0              0              0            0   \n",
       "179               0              1              0            0   \n",
       "\n",
       "     name_Documentary  name_Drama  name_Family  name_Foreign  name_Games  \\\n",
       "680                 0           0            0             0           0   \n",
       "419                 0           0            1             0           0   \n",
       "179                 0           0            0             0           0   \n",
       "\n",
       "     name_Horror  name_Music  name_New  name_Sci-Fi  name_Sports  name_Travel  \\\n",
       "680            0           1         0            0            0            0   \n",
       "419            0           0         0            0            0            0   \n",
       "179            0           0         0            0            0            0   \n",
       "\n",
       "      film_id  rental_duration  rental_rate    length  n_rentals  movie_demand  \n",
       "680 -0.485742        -1.400090    -1.210182 -1.520136   0.487450             1  \n",
       "419 -1.599205         0.732321     0.007627  1.347551   1.086908             1  \n",
       "179  1.480217         0.021517     0.007627 -0.778493  -0.711465             0  "
      ]
     },
     "execution_count": 28,
     "metadata": {},
     "output_type": "execute_result"
    }
   ],
   "source": [
    "# Merging the two dataframes\n",
    "X_N = pd.concat([cat, n], axis=1)\n",
    "X_N.sample(3)"
   ]
  },
  {
   "cell_type": "markdown",
   "id": "488222ac",
   "metadata": {},
   "source": [
    "### X-Y Split"
   ]
  },
  {
   "cell_type": "code",
   "execution_count": 29,
   "id": "9c26adf6",
   "metadata": {},
   "outputs": [],
   "source": [
    "# We need to be careful about when and how we do the split.\n",
    "Y = X_N['movie_demand']\n",
    "X = X_N.drop(['movie_demand'], axis=1)"
   ]
  },
  {
   "cell_type": "markdown",
   "id": "f93aefc7",
   "metadata": {},
   "source": [
    "## 05 | Modeling"
   ]
  },
  {
   "cell_type": "markdown",
   "id": "3a95197c",
   "metadata": {},
   "source": [
    "### Train-Test Split"
   ]
  },
  {
   "cell_type": "code",
   "execution_count": 30,
   "id": "2060d0bc",
   "metadata": {},
   "outputs": [],
   "source": [
    "# We define train and test for X and Y\n",
    "X_train, X_test, y_train, y_test = train_test_split(X, Y, test_size=0.3, random_state=42) \n",
    "\n",
    "# test_size = We give 30% for testing and 70% for testing\n",
    "# random_state = it'll improve the model to divide always the model in the same way"
   ]
  },
  {
   "cell_type": "code",
   "execution_count": 31,
   "id": "f25f6087",
   "metadata": {},
   "outputs": [
    {
     "data": {
      "text/plain": [
       "958"
      ]
     },
     "execution_count": 31,
     "metadata": {},
     "output_type": "execute_result"
    }
   ],
   "source": [
    "len(X) # Len before the test"
   ]
  },
  {
   "cell_type": "code",
   "execution_count": 32,
   "id": "aba61421",
   "metadata": {},
   "outputs": [
    {
     "data": {
      "text/plain": [
       "288"
      ]
     },
     "execution_count": 32,
     "metadata": {},
     "output_type": "execute_result"
    }
   ],
   "source": [
    "len(X_test) # Len after testing 30% of X data"
   ]
  },
  {
   "cell_type": "code",
   "execution_count": 33,
   "id": "259a11fc",
   "metadata": {
    "scrolled": true
   },
   "outputs": [
    {
     "data": {
      "text/plain": [
       "670"
      ]
     },
     "execution_count": 33,
     "metadata": {},
     "output_type": "execute_result"
    }
   ],
   "source": [
    "len(X_train) # Len after training 70% of X data"
   ]
  },
  {
   "cell_type": "markdown",
   "id": "6ddf37f4",
   "metadata": {},
   "source": [
    "### Logistic Regression"
   ]
  },
  {
   "cell_type": "code",
   "execution_count": 34,
   "id": "b4dbcab7",
   "metadata": {},
   "outputs": [],
   "source": [
    "# We traing the training dataset using Logistic Regression\n",
    "logistic = LogisticRegression(random_state=0).fit(X_train, y_train)"
   ]
  },
  {
   "cell_type": "markdown",
   "id": "e68a80ba",
   "metadata": {},
   "source": [
    "<blockquote style=\"background-color: #d1ecf1; color: #0c5460; border-color: #bee5eb; padding: 10px; border-radius: 5px;\">\n",
    "To visualize the predictions, we will count all predicted values.\n",
    "    \n",
    "* If the model predicts **1** means the movie has a high demand, and it'll be probably be rented again.\n",
    "* Else, **0** means the movie has a low demand.</blockquote>\n"
   ]
  },
  {
   "cell_type": "code",
   "execution_count": 35,
   "id": "53095585",
   "metadata": {},
   "outputs": [
    {
     "data": {
      "text/plain": [
       "0    144\n",
       "1    144\n",
       "dtype: int64"
      ]
     },
     "execution_count": 35,
     "metadata": {},
     "output_type": "execute_result"
    }
   ],
   "source": [
    "# Predictions\n",
    "predictions = logistic.predict(X_test)\n",
    "# Converting the numpy array to panda series\n",
    "pd.Series(predictions).value_counts()"
   ]
  },
  {
   "cell_type": "code",
   "execution_count": 36,
   "id": "621a9431",
   "metadata": {},
   "outputs": [
    {
     "data": {
      "text/plain": [
       "1    146\n",
       "0    142\n",
       "Name: movie_demand, dtype: int64"
      ]
     },
     "execution_count": 36,
     "metadata": {},
     "output_type": "execute_result"
    }
   ],
   "source": [
    "# We compare it to the true values from historical data\n",
    "y_test.value_counts()"
   ]
  },
  {
   "cell_type": "markdown",
   "id": "bcaf8dd5",
   "metadata": {},
   "source": [
    "<blockquote style=\"background-color: #d4edda; color: #155724; border-color: #c3e6cb; padding: 10px; border-radius: 5px;\">\n",
    "    \n",
    "Both **predictions** and **true** values look very similar. \n",
    "We will make an **accuarcy** & confussion matrix to evaluate the model.\n",
    "</blockquote>"
   ]
  },
  {
   "cell_type": "markdown",
   "id": "5bc45c55",
   "metadata": {},
   "source": [
    "### Predictions"
   ]
  },
  {
   "cell_type": "code",
   "execution_count": 37,
   "id": "6cb67b52",
   "metadata": {},
   "outputs": [],
   "source": [
    "# Predictions\n",
    "predictions = logistic.predict(X_test)"
   ]
  },
  {
   "cell_type": "markdown",
   "id": "3cb81443",
   "metadata": {},
   "source": [
    "### Accuaracy evaluation"
   ]
  },
  {
   "cell_type": "code",
   "execution_count": 38,
   "id": "4a21e628",
   "metadata": {},
   "outputs": [
    {
     "name": "stdout",
     "output_type": "stream",
     "text": [
      "Accuracy = 0.99\n"
     ]
    }
   ],
   "source": [
    "accuracy = accuracy_score(y_test, predictions)\n",
    "\n",
    "#Printing the results\n",
    "print(f\"Accuracy = {accuracy:.2f}\")"
   ]
  },
  {
   "cell_type": "markdown",
   "id": "e5840ee5",
   "metadata": {},
   "source": [
    "### Confussion matrix evaluation"
   ]
  },
  {
   "cell_type": "code",
   "execution_count": 39,
   "id": "82d45387",
   "metadata": {},
   "outputs": [
    {
     "data": {
      "image/png": "[encoded data removed]",
      "text/plain": [
       "<Figure size 640x480 with 2 Axes>"
      ]
     },
     "metadata": {},
     "output_type": "display_data"
    }
   ],
   "source": [
    "# Compute the confusion matrix\n",
    "cm = confusion_matrix(y_test, predictions)\n",
    "\n",
    "# Plot the confusion matrix\n",
    "disp = ConfusionMatrixDisplay(confusion_matrix=cm)\n",
    "disp.plot(cmap='Blues')\n",
    "plt.show()"
   ]
  },
  {
   "cell_type": "markdown",
   "id": "650db1ec",
   "metadata": {},
   "source": [
    "<blockquote style=\"background-color: #d4edda; color: #155724; border-color: #c3e6cb; padding: 10px; border-radius: 5px;\">\n",
    "\n",
    "Our model has:\n",
    "* **141** True Negatives Vs **1** False Positive\n",
    "* & **143** True Positives Vs **3** False Negatives\n",
    "    \n",
    "And an **accuracy** of 99%!\n",
    "</blockquote>"
   ]
  },
  {
   "cell_type": "markdown",
   "id": "8fb298bb",
   "metadata": {},
   "source": [
    "## 06 | Reporting"
   ]
  },
  {
   "cell_type": "markdown",
   "id": "c2025c08",
   "metadata": {},
   "source": [
    "### Presenting the results"
   ]
  },
  {
   "cell_type": "code",
   "execution_count": 35,
   "id": "b1ea5ab6",
   "metadata": {},
   "outputs": [
    {
     "data": {
      "image/png": "[encoded data removed]",
      "text/plain": [
       "<Figure size 640x480 with 1 Axes>"
      ]
     },
     "metadata": {},
     "output_type": "display_data"
    }
   ],
   "source": [
    "# From Nati's ! Ty!!!\n",
    "# Calculate fpr, tpr, and threshold values for ROC curve\n",
    "fpr, tpr, thresholds = roc_curve(y_test, predictions, pos_label=1)\n",
    "\n",
    "# Plot the ROC curve\n",
    "plt.plot(fpr, tpr, color='blue', lw=2)\n",
    "plt.xlabel('False Positive Rate')\n",
    "plt.ylabel('True Positive Rate')\n",
    "plt.show()"
   ]
  },
  {
   "cell_type": "markdown",
   "id": "8589ccff",
   "metadata": {},
   "source": [
    "### So... Will the movie be rented in the future?"
   ]
  },
  {
   "cell_type": "code",
   "execution_count": 36,
   "id": "3a91bfbd",
   "metadata": {},
   "outputs": [],
   "source": [
    "train_predictions = logistic.predict(X_train)\n",
    "test_predictions = logistic.predict(X_test)"
   ]
  },
  {
   "cell_type": "code",
   "execution_count": 37,
   "id": "4c62f54a",
   "metadata": {},
   "outputs": [],
   "source": [
    "# Add the predicted demand column to the train and test sets\n",
    "X_train['predicted_demand'] = train_predictions\n",
    "X_test['predicted_demand'] = test_predictions"
   ]
  },
  {
   "cell_type": "code",
   "execution_count": 38,
   "id": "a59a1147",
   "metadata": {},
   "outputs": [],
   "source": [
    "# Combine the train and test sets\n",
    "X_full = pd.concat([X_train, X_test])\n",
    "X_full['movie_demand'] = pd.concat([y_train, y_test])"
   ]
  },
  {
   "cell_type": "code",
   "execution_count": 39,
   "id": "fd22afd1",
   "metadata": {},
   "outputs": [],
   "source": [
    "# Adding the new column `predicted_demand` to the previous num dataset\n",
    "num['predicted_demand'] = X_full['predicted_demand']"
   ]
  },
  {
   "cell_type": "markdown",
   "id": "8ce8647c",
   "metadata": {},
   "source": [
    "### Top 5 movie rentals"
   ]
  },
  {
   "cell_type": "code",
   "execution_count": 40,
   "id": "7978fd80",
   "metadata": {},
   "outputs": [
    {
     "data": {
      "text/html": [
       "<div>\n",
       "<style scoped>\n",
       "    .dataframe tbody tr th:only-of-type {\n",
       "        vertical-align: middle;\n",
       "    }\n",
       "\n",
       "    .dataframe tbody tr th {\n",
       "        vertical-align: top;\n",
       "    }\n",
       "\n",
       "    .dataframe thead th {\n",
       "        text-align: right;\n",
       "    }\n",
       "</style>\n",
       "<table border=\"1\" class=\"dataframe\">\n",
       "  <thead>\n",
       "    <tr style=\"text-align: right;\">\n",
       "      <th></th>\n",
       "      <th>film_id</th>\n",
       "      <th>n_rentals</th>\n",
       "      <th>movie_demand</th>\n",
       "      <th>predicted_demand</th>\n",
       "    </tr>\n",
       "  </thead>\n",
       "  <tbody>\n",
       "    <tr>\n",
       "      <th>909</th>\n",
       "      <td>103</td>\n",
       "      <td>34</td>\n",
       "      <td>1</td>\n",
       "      <td>1</td>\n",
       "    </tr>\n",
       "    <tr>\n",
       "      <th>536</th>\n",
       "      <td>738</td>\n",
       "      <td>33</td>\n",
       "      <td>1</td>\n",
       "      <td>1</td>\n",
       "    </tr>\n",
       "    <tr>\n",
       "      <th>757</th>\n",
       "      <td>730</td>\n",
       "      <td>32</td>\n",
       "      <td>1</td>\n",
       "      <td>1</td>\n",
       "    </tr>\n",
       "    <tr>\n",
       "      <th>572</th>\n",
       "      <td>382</td>\n",
       "      <td>32</td>\n",
       "      <td>1</td>\n",
       "      <td>1</td>\n",
       "    </tr>\n",
       "    <tr>\n",
       "      <th>93</th>\n",
       "      <td>489</td>\n",
       "      <td>32</td>\n",
       "      <td>1</td>\n",
       "      <td>1</td>\n",
       "    </tr>\n",
       "  </tbody>\n",
       "</table>\n",
       "</div>"
      ],
      "text/plain": [
       "     film_id  n_rentals  movie_demand  predicted_demand\n",
       "909      103         34             1                 1\n",
       "536      738         33             1                 1\n",
       "757      730         32             1                 1\n",
       "572      382         32             1                 1\n",
       "93       489         32             1                 1"
      ]
     },
     "execution_count": 40,
     "metadata": {},
     "output_type": "execute_result"
    }
   ],
   "source": [
    "# Display the entire dataset with the new predicted_demand column\n",
    "num[['film_id', 'n_rentals', 'movie_demand', 'predicted_demand']].sort_values(by='n_rentals', ascending=False).head(5)"
   ]
  },
  {
   "cell_type": "markdown",
   "id": "31dd1538",
   "metadata": {},
   "source": [
    "<blockquote style=\"background-color: #d4edda; color: #155724; border-color: #c3e6cb; padding: 10px; border-radius: 5px;\">\n",
    "\n",
    "So, for example, **film_id** `103` is a movie with high demand, and we should keep more copies to our inventory. To get the name of the film: </blockquote>"
   ]
  },
  {
   "cell_type": "code",
   "execution_count": 41,
   "id": "af769e55",
   "metadata": {
    "scrolled": true
   },
   "outputs": [
    {
     "data": {
      "text/html": [
       "<div>\n",
       "<style scoped>\n",
       "    .dataframe tbody tr th:only-of-type {\n",
       "        vertical-align: middle;\n",
       "    }\n",
       "\n",
       "    .dataframe tbody tr th {\n",
       "        vertical-align: top;\n",
       "    }\n",
       "\n",
       "    .dataframe thead th {\n",
       "        text-align: right;\n",
       "    }\n",
       "</style>\n",
       "<table border=\"1\" class=\"dataframe\">\n",
       "  <thead>\n",
       "    <tr style=\"text-align: right;\">\n",
       "      <th></th>\n",
       "      <th>film_id</th>\n",
       "      <th>title</th>\n",
       "      <th>description</th>\n",
       "      <th>release_year</th>\n",
       "      <th>language_id</th>\n",
       "      <th>original_language_id</th>\n",
       "      <th>rental_duration</th>\n",
       "      <th>rental_rate</th>\n",
       "      <th>length</th>\n",
       "      <th>replacement_cost</th>\n",
       "      <th>rating</th>\n",
       "      <th>special_features</th>\n",
       "      <th>last_update</th>\n",
       "    </tr>\n",
       "  </thead>\n",
       "  <tbody>\n",
       "    <tr>\n",
       "      <th>0</th>\n",
       "      <td>103</td>\n",
       "      <td>BUCKET BROTHERHOOD</td>\n",
       "      <td>A Amazing Display of a Girl And a Womanizer wh...</td>\n",
       "      <td>2006</td>\n",
       "      <td>1</td>\n",
       "      <td>None</td>\n",
       "      <td>7</td>\n",
       "      <td>4.99</td>\n",
       "      <td>133</td>\n",
       "      <td>27.99</td>\n",
       "      <td>PG</td>\n",
       "      <td>Commentaries,Deleted Scenes</td>\n",
       "      <td>2006-02-15 05:03:42</td>\n",
       "    </tr>\n",
       "  </tbody>\n",
       "</table>\n",
       "</div>"
      ],
      "text/plain": [
       "   film_id               title  \\\n",
       "0      103  BUCKET BROTHERHOOD   \n",
       "\n",
       "                                         description  release_year  \\\n",
       "0  A Amazing Display of a Girl And a Womanizer wh...          2006   \n",
       "\n",
       "   language_id original_language_id  rental_duration  rental_rate  length  \\\n",
       "0            1                 None                7         4.99     133   \n",
       "\n",
       "   replacement_cost rating             special_features         last_update  \n",
       "0             27.99     PG  Commentaries,Deleted Scenes 2006-02-15 05:03:42  "
      ]
     },
     "execution_count": 41,
     "metadata": {},
     "output_type": "execute_result"
    }
   ],
   "source": [
    "film_title = pd.read_sql_query('SELECT * FROM film WHERE film_id = 103;', engine)\n",
    "film_title.head()"
   ]
  },
  {
   "cell_type": "markdown",
   "id": "f1b060f1",
   "metadata": {},
   "source": [
    "### Less rented film"
   ]
  },
  {
   "cell_type": "code",
   "execution_count": 42,
   "id": "28d3f969",
   "metadata": {},
   "outputs": [
    {
     "data": {
      "text/html": [
       "<div>\n",
       "<style scoped>\n",
       "    .dataframe tbody tr th:only-of-type {\n",
       "        vertical-align: middle;\n",
       "    }\n",
       "\n",
       "    .dataframe tbody tr th {\n",
       "        vertical-align: top;\n",
       "    }\n",
       "\n",
       "    .dataframe thead th {\n",
       "        text-align: right;\n",
       "    }\n",
       "</style>\n",
       "<table border=\"1\" class=\"dataframe\">\n",
       "  <thead>\n",
       "    <tr style=\"text-align: right;\">\n",
       "      <th></th>\n",
       "      <th>film_id</th>\n",
       "      <th>n_rentals</th>\n",
       "      <th>movie_demand</th>\n",
       "      <th>predicted_demand</th>\n",
       "    </tr>\n",
       "  </thead>\n",
       "  <tbody>\n",
       "    <tr>\n",
       "      <th>315</th>\n",
       "      <td>400</td>\n",
       "      <td>4</td>\n",
       "      <td>0</td>\n",
       "      <td>0</td>\n",
       "    </tr>\n",
       "  </tbody>\n",
       "</table>\n",
       "</div>"
      ],
      "text/plain": [
       "     film_id  n_rentals  movie_demand  predicted_demand\n",
       "315      400          4             0                 0"
      ]
     },
     "execution_count": 42,
     "metadata": {},
     "output_type": "execute_result"
    }
   ],
   "source": [
    "num[['film_id', 'n_rentals', 'movie_demand', 'predicted_demand']].sort_values(by='n_rentals', ascending=True).head(1)"
   ]
  },
  {
   "cell_type": "markdown",
   "id": "1135cd42",
   "metadata": {},
   "source": [
    "<blockquote style=\"background-color: #d4edda; color: #155724; border-color: #c3e6cb; padding: 10px; border-radius: 5px;\">\n",
    "\n",
    "& film_id 400 had been rented 4 times during 2005/05/24 to 2006/02/14 and it's not expected to be in demand. Again, to get the name of the film </blockquote>"
   ]
  },
  {
   "cell_type": "code",
   "execution_count": 43,
   "id": "00116667",
   "metadata": {
    "scrolled": true
   },
   "outputs": [
    {
     "data": {
      "text/html": [
       "<div>\n",
       "<style scoped>\n",
       "    .dataframe tbody tr th:only-of-type {\n",
       "        vertical-align: middle;\n",
       "    }\n",
       "\n",
       "    .dataframe tbody tr th {\n",
       "        vertical-align: top;\n",
       "    }\n",
       "\n",
       "    .dataframe thead th {\n",
       "        text-align: right;\n",
       "    }\n",
       "</style>\n",
       "<table border=\"1\" class=\"dataframe\">\n",
       "  <thead>\n",
       "    <tr style=\"text-align: right;\">\n",
       "      <th></th>\n",
       "      <th>film_id</th>\n",
       "      <th>title</th>\n",
       "      <th>description</th>\n",
       "      <th>release_year</th>\n",
       "      <th>language_id</th>\n",
       "      <th>original_language_id</th>\n",
       "      <th>rental_duration</th>\n",
       "      <th>rental_rate</th>\n",
       "      <th>length</th>\n",
       "      <th>replacement_cost</th>\n",
       "      <th>rating</th>\n",
       "      <th>special_features</th>\n",
       "      <th>last_update</th>\n",
       "    </tr>\n",
       "  </thead>\n",
       "  <tbody>\n",
       "    <tr>\n",
       "      <th>0</th>\n",
       "      <td>400</td>\n",
       "      <td>HARDLY ROBBERS</td>\n",
       "      <td>A Emotional Character Study of a Hunter And a ...</td>\n",
       "      <td>2006</td>\n",
       "      <td>1</td>\n",
       "      <td>None</td>\n",
       "      <td>7</td>\n",
       "      <td>2.99</td>\n",
       "      <td>72</td>\n",
       "      <td>15.99</td>\n",
       "      <td>R</td>\n",
       "      <td>Trailers,Behind the Scenes</td>\n",
       "      <td>2006-02-15 05:03:42</td>\n",
       "    </tr>\n",
       "  </tbody>\n",
       "</table>\n",
       "</div>"
      ],
      "text/plain": [
       "   film_id           title                                        description  \\\n",
       "0      400  HARDLY ROBBERS  A Emotional Character Study of a Hunter And a ...   \n",
       "\n",
       "   release_year  language_id original_language_id  rental_duration  \\\n",
       "0          2006            1                 None                7   \n",
       "\n",
       "   rental_rate  length  replacement_cost rating            special_features  \\\n",
       "0         2.99      72             15.99      R  Trailers,Behind the Scenes   \n",
       "\n",
       "          last_update  \n",
       "0 2006-02-15 05:03:42  "
      ]
     },
     "execution_count": 43,
     "metadata": {},
     "output_type": "execute_result"
    }
   ],
   "source": [
    "film_title = pd.read_sql_query('SELECT * FROM film WHERE film_id = 400;', engine)\n",
    "film_title.head()"
   ]
  }
 ],
 "metadata": {
  "kernelspec": {
   "display_name": "Python 3 (ipykernel)",
   "language": "python",
   "name": "python3"
  },
  "language_info": {
   "codemirror_mode": {
    "name": "ipython",
    "version": 3
   },
   "file_extension": ".py",
   "mimetype": "text/x-python",
   "name": "python",
   "nbconvert_exporter": "python",
   "pygments_lexer": "ipython3",
   "version": "3.9.13"
  }
 },
 "nbformat": 4,
 "nbformat_minor": 5
}
