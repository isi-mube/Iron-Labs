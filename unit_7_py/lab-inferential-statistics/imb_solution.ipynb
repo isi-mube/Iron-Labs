{
 "cells": [
  {
   "cell_type": "markdown",
   "id": "71b38681-ba34-4f60-ae90-e3323377d757",
   "metadata": {},
   "source": [
    "![logo_ironhack_blue 7](https://user-images.githubusercontent.com/23629340/40541063-a07a0a8a-601a-11e8-91b5-2f13e4e6b441.png)\n",
    "\n",
    "# Lab | Inferential statistics"
   ]
  },
  {
   "cell_type": "markdown",
   "id": "9fbc7431-5e39-4072-b5b0-0d5585fa8494",
   "metadata": {},
   "source": [
    "### Instructions\n",
    "\n",
    "1. It is assumed that the mean systolic blood pressure is `μ = 120 mm Hg`. In the Honolulu Heart Study, a sample of `n = 100` people had an average systolic blood pressure of 130.1 mm Hg with a standard deviation of 21.21 mm Hg. Is the group significantly different (with respect to systolic blood pressure!) from the regular population?\n",
    "\n",
    "   - Set up the hypothesis test.\n",
    "   - Write down all the steps followed for setting up the test.\n",
    "   - Calculate the test statistic by hand and also code it in Python. It should be 4.76190. We will take a look at how to make decisions based on this calculated value."
   ]
  },
  {
   "cell_type": "code",
   "execution_count": 1,
   "id": "d8826b11-2796-42c2-9083-12125a5788ef",
   "metadata": {},
   "outputs": [],
   "source": [
    "import math\n",
    "import numpy as np"
   ]
  },
  {
   "cell_type": "markdown",
   "id": "f315e700-aa07-4974-a7c6-80d31b0fd84a",
   "metadata": {},
   "source": [
    "### How to - Hypothesis Test !\n",
    "\n",
    "In this case, we can use either z-test or z-test. We will go for t-test.\n",
    "\n",
    "1. Setting the `Null Hypothesis` (H0): The mean systolic blood pressure of the sample from Honolulu is `=` to the population mean systolic blood pressure (120)\n",
    "2. Setting up the `Alternative Hypothesis` (H1): The mean systolic blood pressure of the sample from Honolulu `!=` to the population mean systolic blood pressure\n",
    "3. Determine the level of significance --> 00.5, 5% chance of rejecting the null hypothesis if it's true (Type I error)\n",
    "4. Calculate the t-statistics:"
   ]
  },
  {
   "cell_type": "code",
   "execution_count": 2,
   "id": "ea917c04-b4c6-4526-ab72-a6fe34fa03e4",
   "metadata": {},
   "outputs": [],
   "source": [
    "# mean systolic blood pressure\n",
    "bp_mean = 120 \n",
    "\n",
    "# Honolulu Heart Study\n",
    "bp_sample = 100\n",
    "bp_sample_mean = 130.1\n",
    "bp_sample_std = 21.21"
   ]
  },
  {
   "cell_type": "code",
   "execution_count": 3,
   "id": "69fc6d79-c58f-44dc-9df8-1f4e23d4df2d",
   "metadata": {},
   "outputs": [
    {
     "data": {
      "text/plain": [
       "4.761904761904759"
      ]
     },
     "execution_count": 3,
     "metadata": {},
     "output_type": "execute_result"
    }
   ],
   "source": [
    "t_statistic = (130.1 - 120) / (21.21 / math.sqrt(100))\n",
    "t_statistic"
   ]
  },
  {
   "cell_type": "code",
   "execution_count": 4,
   "id": "2dd0308c-5cf2-453d-bb5f-56d1ed7b0335",
   "metadata": {},
   "outputs": [
    {
     "data": {
      "text/plain": [
       "4.761904761904759"
      ]
     },
     "execution_count": 4,
     "metadata": {},
     "output_type": "execute_result"
    }
   ],
   "source": [
    "# In a more Pythonic way...\n",
    "t_statistic2 = (bp_sample_mean - bp_mean) / (bp_sample_std / math.sqrt(bp_sample))\n",
    "t_statistic2"
   ]
  }
 ],
 "metadata": {
  "kernelspec": {
   "display_name": "Python 3 (ipykernel)",
   "language": "python",
   "name": "python3"
  },
  "language_info": {
   "codemirror_mode": {
    "name": "ipython",
    "version": 3
   },
   "file_extension": ".py",
   "mimetype": "text/x-python",
   "name": "python",
   "nbconvert_exporter": "python",
   "pygments_lexer": "ipython3",
   "version": "3.9.13"
  }
 },
 "nbformat": 4,
 "nbformat_minor": 5
}
