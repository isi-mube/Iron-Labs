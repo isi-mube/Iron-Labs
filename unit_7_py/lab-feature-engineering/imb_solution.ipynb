{
 "cells": [
  {
   "cell_type": "markdown",
   "id": "a8cd9404-8933-4510-8dac-0464891325f2",
   "metadata": {},
   "source": [
    "![logo_ironhack_blue 7](https://user-images.githubusercontent.com/23629340/40541063-a07a0a8a-601a-11e8-91b5-2f13e4e6b441.png)\n",
    "\n",
    "# Lab | Feature engineering\n",
    "\n",
    "- In this lab, you will use `learningSet.csv` file which you have already cloned in the previous activities. "
   ]
  },
  {
   "cell_type": "code",
   "execution_count": 2,
   "id": "3090d8cf-0d5b-4d7b-8640-902ef3eef65b",
   "metadata": {},
   "outputs": [],
   "source": [
    "# 📚 Basic libraries\n",
    "import pandas as pd\n",
    "import numpy as np\n",
    "import matplotlib.pyplot as plt\n",
    "import warnings"
   ]
  },
  {
   "cell_type": "code",
   "execution_count": 3,
   "id": "728ed5d5-602a-482c-a3fb-0c7519a89dbd",
   "metadata": {},
   "outputs": [],
   "source": [
    "# ⚙️ Settings\n",
    "pd.set_option('display.max_columns', None) # display all columns\n",
    "warnings.filterwarnings('ignore') # ignore warnings"
   ]
  },
  {
   "cell_type": "code",
   "execution_count": 4,
   "id": "5adecce2-87cf-4ecf-99ad-23e820681ee4",
   "metadata": {},
   "outputs": [],
   "source": [
    "data = pd.read_csv('learningSet.csv')"
   ]
  },
  {
   "cell_type": "markdown",
   "id": "56539e36-a845-4dc1-b37b-473bcb16409c",
   "metadata": {},
   "source": [
    "- Check for null values in the numerical columns."
   ]
  },
  {
   "cell_type": "code",
   "execution_count": 5,
   "id": "9aa51050-97cb-4f61-bd60-d0a24b997469",
   "metadata": {},
   "outputs": [
    {
     "data": {
      "text/plain": [
       "ODATEDW         0\n",
       "TCODE           0\n",
       "DOB             0\n",
       "AGE         23665\n",
       "NUMCHLD     83026\n",
       "            ...  \n",
       "TARGET_B        0\n",
       "TARGET_D        0\n",
       "HPHONE_D        0\n",
       "RFA_2F          0\n",
       "CLUSTER2      132\n",
       "Length: 407, dtype: int64"
      ]
     },
     "execution_count": 5,
     "metadata": {},
     "output_type": "execute_result"
    }
   ],
   "source": [
    "num = data.select_dtypes(include=[np.number])\n",
    "num.isna().sum()"
   ]
  },
  {
   "cell_type": "code",
   "execution_count": 6,
   "id": "b2c3e216-bef1-4031-ae5e-63fc855c6154",
   "metadata": {},
   "outputs": [],
   "source": [
    "# Crazy length. We will focus on the columns that the lab wants us to clean:"
   ]
  },
  {
   "cell_type": "markdown",
   "id": "a1bb2d8c-e4e9-4783-a59e-54e53f748a0f",
   "metadata": {},
   "source": [
    "- Use appropriate methods to clean the columns `GEOCODE2`, `WEALTH1`, `ADI`, `DMA`, and `MSA`.\n",
    "- Use appropriate EDA technique where ever necessary."
   ]
  },
  {
   "cell_type": "markdown",
   "id": "b444c39a-4aa7-4966-9107-f36a1306fa69",
   "metadata": {},
   "source": [
    "### Cleaning GEOCODE2"
   ]
  },
  {
   "cell_type": "code",
   "execution_count": 7,
   "id": "651b4c93-4086-4dbe-8201-0af3f07d131d",
   "metadata": {},
   "outputs": [
    {
     "data": {
      "text/plain": [
       "GEOCODE2\n",
       "A    34484\n",
       "B    28505\n",
       "D    16580\n",
       "C    15524\n",
       "       187\n",
       "Name: count, dtype: int64"
      ]
     },
     "execution_count": 7,
     "metadata": {},
     "output_type": "execute_result"
    }
   ],
   "source": [
    "data['GEOCODE2'].value_counts()"
   ]
  },
  {
   "cell_type": "code",
   "execution_count": 8,
   "id": "07abe1e0-bb9a-4871-af73-4b06350ba23d",
   "metadata": {},
   "outputs": [
    {
     "data": {
      "text/html": [
       "<div>\n",
       "<style scoped>\n",
       "    .dataframe tbody tr th:only-of-type {\n",
       "        vertical-align: middle;\n",
       "    }\n",
       "\n",
       "    .dataframe tbody tr th {\n",
       "        vertical-align: top;\n",
       "    }\n",
       "\n",
       "    .dataframe thead th {\n",
       "        text-align: right;\n",
       "    }\n",
       "</style>\n",
       "<table border=\"1\" class=\"dataframe\">\n",
       "  <thead>\n",
       "    <tr style=\"text-align: right;\">\n",
       "      <th></th>\n",
       "      <th>Count</th>\n",
       "    </tr>\n",
       "  </thead>\n",
       "  <tbody>\n",
       "    <tr>\n",
       "      <th>Empty_Spaces</th>\n",
       "      <td>187</td>\n",
       "    </tr>\n",
       "    <tr>\n",
       "      <th>NaN_Values</th>\n",
       "      <td>132</td>\n",
       "    </tr>\n",
       "  </tbody>\n",
       "</table>\n",
       "</div>"
      ],
      "text/plain": [
       "              Count\n",
       "Empty_Spaces    187\n",
       "NaN_Values      132"
      ]
     },
     "execution_count": 8,
     "metadata": {},
     "output_type": "execute_result"
    }
   ],
   "source": [
    "# So, there are 4 discrete categories with 187 NaN, let's visualize it better adding empty spaces\n",
    "empty_geocode = data['GEOCODE2'].eq(' ').sum()\n",
    "nan_geocode = data['GEOCODE2'].isna().sum() # Thanks again ~Supa to share this code in Discord !\n",
    "geocode = pd.DataFrame({\"Count\": [empty_geocode, nan_geocode]}, index=[\"Empty_Spaces\", \"NaN_Values\"]) # Dictionaries FTW !\n",
    "geocode"
   ]
  },
  {
   "cell_type": "code",
   "execution_count": 9,
   "id": "231e35f2-4601-48dc-967c-c76e0ac78edb",
   "metadata": {},
   "outputs": [
    {
     "data": {
      "text/plain": [
       "'A'"
      ]
     },
     "execution_count": 9,
     "metadata": {},
     "output_type": "execute_result"
    }
   ],
   "source": [
    "# So, for GEOCODE we have 187 empty spaces an 132 NaN\n",
    "geo_mode = data['GEOCODE2'].mode()[0] # Selecting geocode mode\n",
    "geo_mode"
   ]
  },
  {
   "cell_type": "code",
   "execution_count": 10,
   "id": "a1d3ac1d-3892-479d-a81f-161f2ee99ffd",
   "metadata": {},
   "outputs": [
    {
     "data": {
      "text/plain": [
       "0.33"
      ]
     },
     "execution_count": 10,
     "metadata": {},
     "output_type": "execute_result"
    }
   ],
   "source": [
    "its_significant = empty_geocode + nan_geocode\n",
    "result = round(its_significant*100/len(data['GEOCODE2']), 2)\n",
    "result"
   ]
  },
  {
   "cell_type": "code",
   "execution_count": 11,
   "id": "26acd446-f6e2-456b-84fc-4932c41e076b",
   "metadata": {},
   "outputs": [
    {
     "data": {
      "text/html": [
       "<div>\n",
       "<style scoped>\n",
       "    .dataframe tbody tr th:only-of-type {\n",
       "        vertical-align: middle;\n",
       "    }\n",
       "\n",
       "    .dataframe tbody tr th {\n",
       "        vertical-align: top;\n",
       "    }\n",
       "\n",
       "    .dataframe thead th {\n",
       "        text-align: right;\n",
       "    }\n",
       "</style>\n",
       "<table border=\"1\" class=\"dataframe\">\n",
       "  <thead>\n",
       "    <tr style=\"text-align: right;\">\n",
       "      <th></th>\n",
       "      <th>Count</th>\n",
       "    </tr>\n",
       "  </thead>\n",
       "  <tbody>\n",
       "    <tr>\n",
       "      <th>Empty_Spaces</th>\n",
       "      <td>0</td>\n",
       "    </tr>\n",
       "    <tr>\n",
       "      <th>NaN_Values</th>\n",
       "      <td>0</td>\n",
       "    </tr>\n",
       "  </tbody>\n",
       "</table>\n",
       "</div>"
      ],
      "text/plain": [
       "              Count\n",
       "Empty_Spaces      0\n",
       "NaN_Values        0"
      ]
     },
     "execution_count": 11,
     "metadata": {},
     "output_type": "execute_result"
    }
   ],
   "source": [
    "# It seems to be not very significant. So we will proceed to replace all NaN and Empty Spaces with the majority class.\n",
    "# Important note --> We are doing this without knowing exactly the meaning of each columnn\n",
    "data['GEOCODE2'] = data['GEOCODE2'].replace(' ', geo_mode).fillna(geo_mode)\n",
    "# And again... we check !\n",
    "empty_geocode = data['GEOCODE2'].eq(' ').sum()\n",
    "nan_geocode = data['GEOCODE2'].isna().sum() # Thanks again ~Supa to share this code in Discord !\n",
    "geocode = pd.DataFrame({\"Count\": [empty_geocode, nan_geocode]}, index=[\"Empty_Spaces\", \"NaN_Values\"]) # Dictionaries FTW !\n",
    "geocode"
   ]
  },
  {
   "cell_type": "markdown",
   "id": "c65654f1-0d26-4e98-ab79-937d58f5b515",
   "metadata": {},
   "source": [
    "### Cleaning WEALTH1"
   ]
  },
  {
   "cell_type": "code",
   "execution_count": 12,
   "id": "bdf3945e-3589-4d8f-88bc-f0a76280c651",
   "metadata": {},
   "outputs": [
    {
     "data": {
      "text/plain": [
       "WEALTH1\n",
       "9.0    7585\n",
       "8.0    6793\n",
       "7.0    6198\n",
       "6.0    5825\n",
       "5.0    5280\n",
       "4.0    4810\n",
       "3.0    4237\n",
       "2.0    4085\n",
       "1.0    3454\n",
       "0.0    2413\n",
       "Name: count, dtype: int64"
      ]
     },
     "execution_count": 12,
     "metadata": {},
     "output_type": "execute_result"
    }
   ],
   "source": [
    "data['WEALTH1'].value_counts()"
   ]
  },
  {
   "cell_type": "code",
   "execution_count": 13,
   "id": "3a982f21-ebc4-4809-b06a-f85140889946",
   "metadata": {},
   "outputs": [
    {
     "data": {
      "text/html": [
       "<div>\n",
       "<style scoped>\n",
       "    .dataframe tbody tr th:only-of-type {\n",
       "        vertical-align: middle;\n",
       "    }\n",
       "\n",
       "    .dataframe tbody tr th {\n",
       "        vertical-align: top;\n",
       "    }\n",
       "\n",
       "    .dataframe thead th {\n",
       "        text-align: right;\n",
       "    }\n",
       "</style>\n",
       "<table border=\"1\" class=\"dataframe\">\n",
       "  <thead>\n",
       "    <tr style=\"text-align: right;\">\n",
       "      <th></th>\n",
       "      <th>Count</th>\n",
       "    </tr>\n",
       "  </thead>\n",
       "  <tbody>\n",
       "    <tr>\n",
       "      <th>Empty_Spaces</th>\n",
       "      <td>0</td>\n",
       "    </tr>\n",
       "    <tr>\n",
       "      <th>NaN_Values</th>\n",
       "      <td>44732</td>\n",
       "    </tr>\n",
       "  </tbody>\n",
       "</table>\n",
       "</div>"
      ],
      "text/plain": [
       "              Count\n",
       "Empty_Spaces      0\n",
       "NaN_Values    44732"
      ]
     },
     "execution_count": 13,
     "metadata": {},
     "output_type": "execute_result"
    }
   ],
   "source": [
    "empty_wealth = data['WEALTH1'].eq(' ').sum()\n",
    "nan_wealth = data['WEALTH1'].isna().sum() # Thanks again ~Supa to share this code in Discord !\n",
    "wealth = pd.DataFrame({\"Count\": [empty_wealth, nan_wealth]}, index=[\"Empty_Spaces\", \"NaN_Values\"]) # Dictionaries FTW !\n",
    "wealth"
   ]
  },
  {
   "cell_type": "code",
   "execution_count": 14,
   "id": "d4560d81-573a-487b-87e3-a7049a72856a",
   "metadata": {},
   "outputs": [
    {
     "data": {
      "text/plain": [
       "46.88"
      ]
     },
     "execution_count": 14,
     "metadata": {},
     "output_type": "execute_result"
    }
   ],
   "source": [
    "its_significant = empty_wealth + nan_wealth\n",
    "result = round(its_significant*100/len(data['WEALTH1']), 2)\n",
    "result"
   ]
  },
  {
   "cell_type": "code",
   "execution_count": 15,
   "id": "5a2cc8f8-d872-42f6-b66e-3f07e581ab48",
   "metadata": {},
   "outputs": [
    {
     "data": {
      "text/html": [
       "<div>\n",
       "<style scoped>\n",
       "    .dataframe tbody tr th:only-of-type {\n",
       "        vertical-align: middle;\n",
       "    }\n",
       "\n",
       "    .dataframe tbody tr th {\n",
       "        vertical-align: top;\n",
       "    }\n",
       "\n",
       "    .dataframe thead th {\n",
       "        text-align: right;\n",
       "    }\n",
       "</style>\n",
       "<table border=\"1\" class=\"dataframe\">\n",
       "  <thead>\n",
       "    <tr style=\"text-align: right;\">\n",
       "      <th></th>\n",
       "      <th>ODATEDW</th>\n",
       "      <th>OSOURCE</th>\n",
       "      <th>TCODE</th>\n",
       "      <th>STATE</th>\n",
       "      <th>ZIP</th>\n",
       "      <th>MAILCODE</th>\n",
       "      <th>PVASTATE</th>\n",
       "      <th>DOB</th>\n",
       "      <th>NOEXCH</th>\n",
       "      <th>RECINHSE</th>\n",
       "      <th>RECP3</th>\n",
       "      <th>RECPGVG</th>\n",
       "      <th>RECSWEEP</th>\n",
       "      <th>MDMAUD</th>\n",
       "      <th>DOMAIN</th>\n",
       "      <th>CLUSTER</th>\n",
       "      <th>AGE</th>\n",
       "      <th>AGEFLAG</th>\n",
       "      <th>HOMEOWNR</th>\n",
       "      <th>CHILD03</th>\n",
       "      <th>CHILD07</th>\n",
       "      <th>CHILD12</th>\n",
       "      <th>CHILD18</th>\n",
       "      <th>NUMCHLD</th>\n",
       "      <th>INCOME</th>\n",
       "      <th>GENDER</th>\n",
       "      <th>WEALTH1</th>\n",
       "      <th>HIT</th>\n",
       "      <th>MBCRAFT</th>\n",
       "      <th>MBGARDEN</th>\n",
       "      <th>MBBOOKS</th>\n",
       "      <th>MBCOLECT</th>\n",
       "      <th>MAGFAML</th>\n",
       "      <th>MAGFEM</th>\n",
       "      <th>MAGMALE</th>\n",
       "      <th>PUBGARDN</th>\n",
       "      <th>PUBCULIN</th>\n",
       "      <th>PUBHLTH</th>\n",
       "      <th>PUBDOITY</th>\n",
       "      <th>PUBNEWFN</th>\n",
       "      <th>PUBPHOTO</th>\n",
       "      <th>PUBOPP</th>\n",
       "      <th>DATASRCE</th>\n",
       "      <th>MALEMILI</th>\n",
       "      <th>MALEVET</th>\n",
       "      <th>VIETVETS</th>\n",
       "      <th>WWIIVETS</th>\n",
       "      <th>LOCALGOV</th>\n",
       "      <th>STATEGOV</th>\n",
       "      <th>FEDGOV</th>\n",
       "      <th>SOLP3</th>\n",
       "      <th>SOLIH</th>\n",
       "      <th>MAJOR</th>\n",
       "      <th>WEALTH2</th>\n",
       "      <th>GEOCODE</th>\n",
       "      <th>COLLECT1</th>\n",
       "      <th>VETERANS</th>\n",
       "      <th>BIBLE</th>\n",
       "      <th>CATLG</th>\n",
       "      <th>HOMEE</th>\n",
       "      <th>PETS</th>\n",
       "      <th>CDPLAY</th>\n",
       "      <th>STEREO</th>\n",
       "      <th>PCOWNERS</th>\n",
       "      <th>PHOTO</th>\n",
       "      <th>CRAFTS</th>\n",
       "      <th>FISHER</th>\n",
       "      <th>GARDENIN</th>\n",
       "      <th>BOATS</th>\n",
       "      <th>WALKER</th>\n",
       "      <th>KIDSTUFF</th>\n",
       "      <th>CARDS</th>\n",
       "      <th>PLATES</th>\n",
       "      <th>LIFESRC</th>\n",
       "      <th>PEPSTRFL</th>\n",
       "      <th>POP901</th>\n",
       "      <th>POP902</th>\n",
       "      <th>POP903</th>\n",
       "      <th>POP90C1</th>\n",
       "      <th>POP90C2</th>\n",
       "      <th>POP90C3</th>\n",
       "      <th>POP90C4</th>\n",
       "      <th>POP90C5</th>\n",
       "      <th>ETH1</th>\n",
       "      <th>ETH2</th>\n",
       "      <th>ETH3</th>\n",
       "      <th>ETH4</th>\n",
       "      <th>ETH5</th>\n",
       "      <th>ETH6</th>\n",
       "      <th>ETH7</th>\n",
       "      <th>ETH8</th>\n",
       "      <th>ETH9</th>\n",
       "      <th>ETH10</th>\n",
       "      <th>ETH11</th>\n",
       "      <th>ETH12</th>\n",
       "      <th>ETH13</th>\n",
       "      <th>ETH14</th>\n",
       "      <th>ETH15</th>\n",
       "      <th>ETH16</th>\n",
       "      <th>AGE901</th>\n",
       "      <th>AGE902</th>\n",
       "      <th>AGE903</th>\n",
       "      <th>AGE904</th>\n",
       "      <th>AGE905</th>\n",
       "      <th>AGE906</th>\n",
       "      <th>AGE907</th>\n",
       "      <th>CHIL1</th>\n",
       "      <th>CHIL2</th>\n",
       "      <th>CHIL3</th>\n",
       "      <th>AGEC1</th>\n",
       "      <th>AGEC2</th>\n",
       "      <th>AGEC3</th>\n",
       "      <th>AGEC4</th>\n",
       "      <th>AGEC5</th>\n",
       "      <th>AGEC6</th>\n",
       "      <th>AGEC7</th>\n",
       "      <th>CHILC1</th>\n",
       "      <th>CHILC2</th>\n",
       "      <th>CHILC3</th>\n",
       "      <th>CHILC4</th>\n",
       "      <th>CHILC5</th>\n",
       "      <th>HHAGE1</th>\n",
       "      <th>HHAGE2</th>\n",
       "      <th>HHAGE3</th>\n",
       "      <th>HHN1</th>\n",
       "      <th>HHN2</th>\n",
       "      <th>HHN3</th>\n",
       "      <th>HHN4</th>\n",
       "      <th>HHN5</th>\n",
       "      <th>HHN6</th>\n",
       "      <th>MARR1</th>\n",
       "      <th>MARR2</th>\n",
       "      <th>MARR3</th>\n",
       "      <th>MARR4</th>\n",
       "      <th>HHP1</th>\n",
       "      <th>HHP2</th>\n",
       "      <th>DW1</th>\n",
       "      <th>DW2</th>\n",
       "      <th>DW3</th>\n",
       "      <th>DW4</th>\n",
       "      <th>DW5</th>\n",
       "      <th>DW6</th>\n",
       "      <th>DW7</th>\n",
       "      <th>DW8</th>\n",
       "      <th>DW9</th>\n",
       "      <th>HV1</th>\n",
       "      <th>HV2</th>\n",
       "      <th>HV3</th>\n",
       "      <th>HV4</th>\n",
       "      <th>HU1</th>\n",
       "      <th>HU2</th>\n",
       "      <th>HU3</th>\n",
       "      <th>HU4</th>\n",
       "      <th>HU5</th>\n",
       "      <th>HHD1</th>\n",
       "      <th>HHD2</th>\n",
       "      <th>HHD3</th>\n",
       "      <th>HHD4</th>\n",
       "      <th>HHD5</th>\n",
       "      <th>HHD6</th>\n",
       "      <th>HHD7</th>\n",
       "      <th>HHD8</th>\n",
       "      <th>HHD9</th>\n",
       "      <th>HHD10</th>\n",
       "      <th>HHD11</th>\n",
       "      <th>HHD12</th>\n",
       "      <th>ETHC1</th>\n",
       "      <th>ETHC2</th>\n",
       "      <th>ETHC3</th>\n",
       "      <th>ETHC4</th>\n",
       "      <th>ETHC5</th>\n",
       "      <th>ETHC6</th>\n",
       "      <th>HVP1</th>\n",
       "      <th>HVP2</th>\n",
       "      <th>HVP3</th>\n",
       "      <th>HVP4</th>\n",
       "      <th>HVP5</th>\n",
       "      <th>HVP6</th>\n",
       "      <th>HUR1</th>\n",
       "      <th>HUR2</th>\n",
       "      <th>RHP1</th>\n",
       "      <th>RHP2</th>\n",
       "      <th>RHP3</th>\n",
       "      <th>RHP4</th>\n",
       "      <th>HUPA1</th>\n",
       "      <th>HUPA2</th>\n",
       "      <th>HUPA3</th>\n",
       "      <th>HUPA4</th>\n",
       "      <th>HUPA5</th>\n",
       "      <th>HUPA6</th>\n",
       "      <th>HUPA7</th>\n",
       "      <th>RP1</th>\n",
       "      <th>RP2</th>\n",
       "      <th>RP3</th>\n",
       "      <th>RP4</th>\n",
       "      <th>MSA</th>\n",
       "      <th>ADI</th>\n",
       "      <th>DMA</th>\n",
       "      <th>IC1</th>\n",
       "      <th>IC2</th>\n",
       "      <th>IC3</th>\n",
       "      <th>IC4</th>\n",
       "      <th>IC5</th>\n",
       "      <th>IC6</th>\n",
       "      <th>IC7</th>\n",
       "      <th>IC8</th>\n",
       "      <th>IC9</th>\n",
       "      <th>IC10</th>\n",
       "      <th>IC11</th>\n",
       "      <th>IC12</th>\n",
       "      <th>IC13</th>\n",
       "      <th>IC14</th>\n",
       "      <th>IC15</th>\n",
       "      <th>IC16</th>\n",
       "      <th>IC17</th>\n",
       "      <th>IC18</th>\n",
       "      <th>IC19</th>\n",
       "      <th>IC20</th>\n",
       "      <th>IC21</th>\n",
       "      <th>IC22</th>\n",
       "      <th>IC23</th>\n",
       "      <th>HHAS1</th>\n",
       "      <th>HHAS2</th>\n",
       "      <th>HHAS3</th>\n",
       "      <th>HHAS4</th>\n",
       "      <th>MC1</th>\n",
       "      <th>MC2</th>\n",
       "      <th>MC3</th>\n",
       "      <th>TPE1</th>\n",
       "      <th>TPE2</th>\n",
       "      <th>TPE3</th>\n",
       "      <th>TPE4</th>\n",
       "      <th>TPE5</th>\n",
       "      <th>TPE6</th>\n",
       "      <th>TPE7</th>\n",
       "      <th>TPE8</th>\n",
       "      <th>TPE9</th>\n",
       "      <th>PEC1</th>\n",
       "      <th>PEC2</th>\n",
       "      <th>TPE10</th>\n",
       "      <th>TPE11</th>\n",
       "      <th>TPE12</th>\n",
       "      <th>TPE13</th>\n",
       "      <th>LFC1</th>\n",
       "      <th>LFC2</th>\n",
       "      <th>LFC3</th>\n",
       "      <th>LFC4</th>\n",
       "      <th>LFC5</th>\n",
       "      <th>LFC6</th>\n",
       "      <th>LFC7</th>\n",
       "      <th>LFC8</th>\n",
       "      <th>LFC9</th>\n",
       "      <th>LFC10</th>\n",
       "      <th>OCC1</th>\n",
       "      <th>OCC2</th>\n",
       "      <th>OCC3</th>\n",
       "      <th>OCC4</th>\n",
       "      <th>OCC5</th>\n",
       "      <th>OCC6</th>\n",
       "      <th>OCC7</th>\n",
       "      <th>OCC8</th>\n",
       "      <th>OCC9</th>\n",
       "      <th>OCC10</th>\n",
       "      <th>OCC11</th>\n",
       "      <th>OCC12</th>\n",
       "      <th>OCC13</th>\n",
       "      <th>EIC1</th>\n",
       "      <th>EIC2</th>\n",
       "      <th>EIC3</th>\n",
       "      <th>EIC4</th>\n",
       "      <th>EIC5</th>\n",
       "      <th>EIC6</th>\n",
       "      <th>EIC7</th>\n",
       "      <th>EIC8</th>\n",
       "      <th>EIC9</th>\n",
       "      <th>EIC10</th>\n",
       "      <th>EIC11</th>\n",
       "      <th>EIC12</th>\n",
       "      <th>EIC13</th>\n",
       "      <th>EIC14</th>\n",
       "      <th>EIC15</th>\n",
       "      <th>EIC16</th>\n",
       "      <th>OEDC1</th>\n",
       "      <th>OEDC2</th>\n",
       "      <th>OEDC3</th>\n",
       "      <th>OEDC4</th>\n",
       "      <th>OEDC5</th>\n",
       "      <th>OEDC6</th>\n",
       "      <th>OEDC7</th>\n",
       "      <th>EC1</th>\n",
       "      <th>EC2</th>\n",
       "      <th>EC3</th>\n",
       "      <th>EC4</th>\n",
       "      <th>EC5</th>\n",
       "      <th>EC6</th>\n",
       "      <th>EC7</th>\n",
       "      <th>EC8</th>\n",
       "      <th>SEC1</th>\n",
       "      <th>SEC2</th>\n",
       "      <th>SEC3</th>\n",
       "      <th>SEC4</th>\n",
       "      <th>SEC5</th>\n",
       "      <th>AFC1</th>\n",
       "      <th>AFC2</th>\n",
       "      <th>AFC3</th>\n",
       "      <th>AFC4</th>\n",
       "      <th>AFC5</th>\n",
       "      <th>AFC6</th>\n",
       "      <th>VC1</th>\n",
       "      <th>VC2</th>\n",
       "      <th>VC3</th>\n",
       "      <th>VC4</th>\n",
       "      <th>ANC1</th>\n",
       "      <th>ANC2</th>\n",
       "      <th>ANC3</th>\n",
       "      <th>ANC4</th>\n",
       "      <th>ANC5</th>\n",
       "      <th>ANC6</th>\n",
       "      <th>ANC7</th>\n",
       "      <th>ANC8</th>\n",
       "      <th>ANC9</th>\n",
       "      <th>ANC10</th>\n",
       "      <th>ANC11</th>\n",
       "      <th>ANC12</th>\n",
       "      <th>ANC13</th>\n",
       "      <th>ANC14</th>\n",
       "      <th>ANC15</th>\n",
       "      <th>POBC1</th>\n",
       "      <th>POBC2</th>\n",
       "      <th>LSC1</th>\n",
       "      <th>LSC2</th>\n",
       "      <th>LSC3</th>\n",
       "      <th>LSC4</th>\n",
       "      <th>VOC1</th>\n",
       "      <th>VOC2</th>\n",
       "      <th>VOC3</th>\n",
       "      <th>HC1</th>\n",
       "      <th>HC2</th>\n",
       "      <th>HC3</th>\n",
       "      <th>HC4</th>\n",
       "      <th>HC5</th>\n",
       "      <th>HC6</th>\n",
       "      <th>HC7</th>\n",
       "      <th>HC8</th>\n",
       "      <th>HC9</th>\n",
       "      <th>HC10</th>\n",
       "      <th>HC11</th>\n",
       "      <th>HC12</th>\n",
       "      <th>HC13</th>\n",
       "      <th>HC14</th>\n",
       "      <th>HC15</th>\n",
       "      <th>HC16</th>\n",
       "      <th>HC17</th>\n",
       "      <th>HC18</th>\n",
       "      <th>HC19</th>\n",
       "      <th>HC20</th>\n",
       "      <th>HC21</th>\n",
       "      <th>MHUC1</th>\n",
       "      <th>MHUC2</th>\n",
       "      <th>AC1</th>\n",
       "      <th>AC2</th>\n",
       "      <th>ADATE_2</th>\n",
       "      <th>ADATE_3</th>\n",
       "      <th>ADATE_4</th>\n",
       "      <th>ADATE_5</th>\n",
       "      <th>ADATE_6</th>\n",
       "      <th>ADATE_7</th>\n",
       "      <th>ADATE_8</th>\n",
       "      <th>ADATE_9</th>\n",
       "      <th>ADATE_10</th>\n",
       "      <th>ADATE_11</th>\n",
       "      <th>ADATE_12</th>\n",
       "      <th>ADATE_13</th>\n",
       "      <th>ADATE_14</th>\n",
       "      <th>ADATE_15</th>\n",
       "      <th>ADATE_16</th>\n",
       "      <th>ADATE_17</th>\n",
       "      <th>ADATE_18</th>\n",
       "      <th>ADATE_19</th>\n",
       "      <th>ADATE_20</th>\n",
       "      <th>ADATE_21</th>\n",
       "      <th>ADATE_22</th>\n",
       "      <th>ADATE_23</th>\n",
       "      <th>ADATE_24</th>\n",
       "      <th>RFA_2</th>\n",
       "      <th>RFA_3</th>\n",
       "      <th>RFA_4</th>\n",
       "      <th>RFA_5</th>\n",
       "      <th>RFA_6</th>\n",
       "      <th>RFA_7</th>\n",
       "      <th>RFA_8</th>\n",
       "      <th>RFA_9</th>\n",
       "      <th>RFA_10</th>\n",
       "      <th>RFA_11</th>\n",
       "      <th>RFA_12</th>\n",
       "      <th>RFA_13</th>\n",
       "      <th>RFA_14</th>\n",
       "      <th>RFA_15</th>\n",
       "      <th>RFA_16</th>\n",
       "      <th>RFA_17</th>\n",
       "      <th>RFA_18</th>\n",
       "      <th>RFA_19</th>\n",
       "      <th>RFA_20</th>\n",
       "      <th>RFA_21</th>\n",
       "      <th>RFA_22</th>\n",
       "      <th>RFA_23</th>\n",
       "      <th>RFA_24</th>\n",
       "      <th>CARDPROM</th>\n",
       "      <th>MAXADATE</th>\n",
       "      <th>NUMPROM</th>\n",
       "      <th>CARDPM12</th>\n",
       "      <th>NUMPRM12</th>\n",
       "      <th>RDATE_3</th>\n",
       "      <th>RDATE_4</th>\n",
       "      <th>RDATE_5</th>\n",
       "      <th>RDATE_6</th>\n",
       "      <th>RDATE_7</th>\n",
       "      <th>RDATE_8</th>\n",
       "      <th>RDATE_9</th>\n",
       "      <th>RDATE_10</th>\n",
       "      <th>RDATE_11</th>\n",
       "      <th>RDATE_12</th>\n",
       "      <th>RDATE_13</th>\n",
       "      <th>RDATE_14</th>\n",
       "      <th>RDATE_15</th>\n",
       "      <th>RDATE_16</th>\n",
       "      <th>RDATE_17</th>\n",
       "      <th>RDATE_18</th>\n",
       "      <th>RDATE_19</th>\n",
       "      <th>RDATE_20</th>\n",
       "      <th>RDATE_21</th>\n",
       "      <th>RDATE_22</th>\n",
       "      <th>RDATE_23</th>\n",
       "      <th>RDATE_24</th>\n",
       "      <th>RAMNT_3</th>\n",
       "      <th>RAMNT_4</th>\n",
       "      <th>RAMNT_5</th>\n",
       "      <th>RAMNT_6</th>\n",
       "      <th>RAMNT_7</th>\n",
       "      <th>RAMNT_8</th>\n",
       "      <th>RAMNT_9</th>\n",
       "      <th>RAMNT_10</th>\n",
       "      <th>RAMNT_11</th>\n",
       "      <th>RAMNT_12</th>\n",
       "      <th>RAMNT_13</th>\n",
       "      <th>RAMNT_14</th>\n",
       "      <th>RAMNT_15</th>\n",
       "      <th>RAMNT_16</th>\n",
       "      <th>RAMNT_17</th>\n",
       "      <th>RAMNT_18</th>\n",
       "      <th>RAMNT_19</th>\n",
       "      <th>RAMNT_20</th>\n",
       "      <th>RAMNT_21</th>\n",
       "      <th>RAMNT_22</th>\n",
       "      <th>RAMNT_23</th>\n",
       "      <th>RAMNT_24</th>\n",
       "      <th>RAMNTALL</th>\n",
       "      <th>NGIFTALL</th>\n",
       "      <th>CARDGIFT</th>\n",
       "      <th>MINRAMNT</th>\n",
       "      <th>MINRDATE</th>\n",
       "      <th>MAXRAMNT</th>\n",
       "      <th>MAXRDATE</th>\n",
       "      <th>LASTGIFT</th>\n",
       "      <th>LASTDATE</th>\n",
       "      <th>FISTDATE</th>\n",
       "      <th>NEXTDATE</th>\n",
       "      <th>TIMELAG</th>\n",
       "      <th>AVGGIFT</th>\n",
       "      <th>CONTROLN</th>\n",
       "      <th>TARGET_B</th>\n",
       "      <th>TARGET_D</th>\n",
       "      <th>HPHONE_D</th>\n",
       "      <th>RFA_2R</th>\n",
       "      <th>RFA_2F</th>\n",
       "      <th>RFA_2A</th>\n",
       "      <th>MDMAUD_R</th>\n",
       "      <th>MDMAUD_F</th>\n",
       "      <th>MDMAUD_A</th>\n",
       "      <th>CLUSTER2</th>\n",
       "      <th>GEOCODE2</th>\n",
       "    </tr>\n",
       "  </thead>\n",
       "  <tbody>\n",
       "  </tbody>\n",
       "</table>\n",
       "</div>"
      ],
      "text/plain": [
       "Empty DataFrame\n",
       "Columns: [ODATEDW, OSOURCE, TCODE, STATE, ZIP, MAILCODE, PVASTATE, DOB, NOEXCH, RECINHSE, RECP3, RECPGVG, RECSWEEP, MDMAUD, DOMAIN, CLUSTER, AGE, AGEFLAG, HOMEOWNR, CHILD03, CHILD07, CHILD12, CHILD18, NUMCHLD, INCOME, GENDER, WEALTH1, HIT, MBCRAFT, MBGARDEN, MBBOOKS, MBCOLECT, MAGFAML, MAGFEM, MAGMALE, PUBGARDN, PUBCULIN, PUBHLTH, PUBDOITY, PUBNEWFN, PUBPHOTO, PUBOPP, DATASRCE, MALEMILI, MALEVET, VIETVETS, WWIIVETS, LOCALGOV, STATEGOV, FEDGOV, SOLP3, SOLIH, MAJOR, WEALTH2, GEOCODE, COLLECT1, VETERANS, BIBLE, CATLG, HOMEE, PETS, CDPLAY, STEREO, PCOWNERS, PHOTO, CRAFTS, FISHER, GARDENIN, BOATS, WALKER, KIDSTUFF, CARDS, PLATES, LIFESRC, PEPSTRFL, POP901, POP902, POP903, POP90C1, POP90C2, POP90C3, POP90C4, POP90C5, ETH1, ETH2, ETH3, ETH4, ETH5, ETH6, ETH7, ETH8, ETH9, ETH10, ETH11, ETH12, ETH13, ETH14, ETH15, ETH16, AGE901, ...]\n",
       "Index: []"
      ]
     },
     "execution_count": 15,
     "metadata": {},
     "output_type": "execute_result"
    }
   ],
   "source": [
    "# Difficult to decide without knowing the exact meaning of the column, but wealth should be an important one. We check the dataset for other wealth columns\n",
    "data.head(0)"
   ]
  },
  {
   "cell_type": "code",
   "execution_count": 16,
   "id": "1f327c15-24f9-4af1-b4eb-0bb87fbe7e95",
   "metadata": {},
   "outputs": [
    {
     "data": {
      "text/plain": [
       "WEALTH2\n",
       "9.0    6523\n",
       "8.0    5975\n",
       "7.0    5684\n",
       "6.0    5497\n",
       "5.0    5351\n",
       "4.0    5074\n",
       "3.0    5046\n",
       "2.0    4971\n",
       "1.0    4191\n",
       "0.0    3277\n",
       "Name: count, dtype: int64"
      ]
     },
     "execution_count": 16,
     "metadata": {},
     "output_type": "execute_result"
    }
   ],
   "source": [
    "data['WEALTH2'].value_counts()"
   ]
  },
  {
   "cell_type": "code",
   "execution_count": 17,
   "id": "bf7a7d7c-62cb-4cfa-9cbc-384ee5efaf4b",
   "metadata": {},
   "outputs": [
    {
     "data": {
      "text/html": [
       "<div>\n",
       "<style scoped>\n",
       "    .dataframe tbody tr th:only-of-type {\n",
       "        vertical-align: middle;\n",
       "    }\n",
       "\n",
       "    .dataframe tbody tr th {\n",
       "        vertical-align: top;\n",
       "    }\n",
       "\n",
       "    .dataframe thead th {\n",
       "        text-align: right;\n",
       "    }\n",
       "</style>\n",
       "<table border=\"1\" class=\"dataframe\">\n",
       "  <thead>\n",
       "    <tr style=\"text-align: right;\">\n",
       "      <th></th>\n",
       "      <th>Count</th>\n",
       "    </tr>\n",
       "  </thead>\n",
       "  <tbody>\n",
       "    <tr>\n",
       "      <th>Empty_Spaces</th>\n",
       "      <td>0</td>\n",
       "    </tr>\n",
       "    <tr>\n",
       "      <th>NaN_Values</th>\n",
       "      <td>44732</td>\n",
       "    </tr>\n",
       "  </tbody>\n",
       "</table>\n",
       "</div>"
      ],
      "text/plain": [
       "              Count\n",
       "Empty_Spaces      0\n",
       "NaN_Values    44732"
      ]
     },
     "execution_count": 17,
     "metadata": {},
     "output_type": "execute_result"
    }
   ],
   "source": [
    "empty_wealth2 = data['WEALTH2'].eq(' ').sum()\n",
    "nan_wealth2 = data['WEALTH2'].isna().sum() # Thanks again ~Supa to share this code in Discord !\n",
    "wealth2 = pd.DataFrame({\"Count\": [empty_wealth, nan_wealth]}, index=[\"Empty_Spaces\", \"NaN_Values\"]) # Dictionaries FTW !\n",
    "wealth2"
   ]
  },
  {
   "cell_type": "code",
   "execution_count": 18,
   "id": "08761840-e675-4638-879d-e6c03b2c8cfd",
   "metadata": {},
   "outputs": [
    {
     "data": {
      "text/plain": [
       "45.93"
      ]
     },
     "execution_count": 18,
     "metadata": {},
     "output_type": "execute_result"
    }
   ],
   "source": [
    "its_significant2 = empty_wealth2 + nan_wealth2\n",
    "result2 = round(its_significant2*100/len(data['WEALTH2']), 2)\n",
    "result2"
   ]
  },
  {
   "cell_type": "markdown",
   "id": "7e687f42-6dad-4266-aab3-11067412501c",
   "metadata": {
    "jp-MarkdownHeadingCollapsed": true,
    "tags": []
   },
   "source": [
    "- So, we have two columns named WEALTH, WEALTH1 having 46.88% of NaN and WEALTH2 45.93%\n",
    "-  Also, we don't know the meaning of the columns.\n",
    "\n",
    "In this case... we can:\n",
    "\n",
    "1. Drop the column. It really has TOO MANY `NaN` values, but dropping the column without further consideration could not be considered best practices.\n",
    "2. Fill it with 0, to represent unknown wealth values per donator. But, this can lead to skewed data, if `WEALTH1` and `WEALTH2` have other meanings or have a big impact on predicting the target.\n",
    "3. Predicting the wealth values with linear regression."
   ]
  },
  {
   "cell_type": "code",
   "execution_count": 19,
   "id": "264bfc40-e48a-482e-9573-8356c820e313",
   "metadata": {},
   "outputs": [
    {
     "name": "stdout",
     "output_type": "stream",
     "text": [
      "Correlation of WEALTH1 with TARGET_D: 0.024867311730976026\n",
      "Correlation of WEALTH1 with TARGET_B: 0.011248763279752506\n"
     ]
    }
   ],
   "source": [
    "# Drop the whole column. Almost half of the data is NaN, and it dosen't seem to be correlated with the targets:\n",
    "corr_target_D = data['TARGET_D'].corr(data['WEALTH1'])\n",
    "corr_target_B = data['TARGET_B'].corr(data['WEALTH1'])\n",
    "\n",
    "print(f\"Correlation of WEALTH1 with TARGET_D: {corr_target_D}\")\n",
    "print(f\"Correlation of WEALTH1 with TARGET_B: {corr_target_B}\")"
   ]
  },
  {
   "cell_type": "markdown",
   "id": "107d33e5-07b6-4bd5-9e71-f62d3bf74108",
   "metadata": {
    "tags": []
   },
   "source": [
    "It dosen't seem to be correlated. After some consideration, we drop the column.\n",
    "\n",
    "If, in future labs/projects, we need WEALTH1 to create a model to predict `TARGET_D` and `TARGET_B` values, we can fine-tune our model predicting WEALTH or trying other methods."
   ]
  },
  {
   "cell_type": "code",
   "execution_count": 20,
   "id": "658c5602-8fe0-4812-ae4f-1b513c9076f1",
   "metadata": {},
   "outputs": [],
   "source": [
    "data = data.drop('WEALTH1', axis=1)"
   ]
  },
  {
   "cell_type": "markdown",
   "id": "a1597b59-9ee1-4f41-87be-aae15568c2f6",
   "metadata": {},
   "source": [
    "### Cleaning ADI"
   ]
  },
  {
   "cell_type": "code",
   "execution_count": 21,
   "id": "a3df487c-0537-4abf-a1a8-9c61350316df",
   "metadata": {},
   "outputs": [
    {
     "data": {
      "text/plain": [
       "ADI\n",
       "13.0     7296\n",
       "51.0     4622\n",
       "65.0     3765\n",
       "57.0     2836\n",
       "105.0    2617\n",
       "         ... \n",
       "651.0       1\n",
       "103.0       1\n",
       "601.0       1\n",
       "161.0       1\n",
       "147.0       1\n",
       "Name: count, Length: 204, dtype: int64"
      ]
     },
     "execution_count": 21,
     "metadata": {},
     "output_type": "execute_result"
    }
   ],
   "source": [
    "data['ADI'].value_counts()"
   ]
  },
  {
   "cell_type": "code",
   "execution_count": 22,
   "id": "a6df83fd-08dc-4962-a48e-062fc500ac0d",
   "metadata": {},
   "outputs": [
    {
     "data": {
      "text/html": [
       "<div>\n",
       "<style scoped>\n",
       "    .dataframe tbody tr th:only-of-type {\n",
       "        vertical-align: middle;\n",
       "    }\n",
       "\n",
       "    .dataframe tbody tr th {\n",
       "        vertical-align: top;\n",
       "    }\n",
       "\n",
       "    .dataframe thead th {\n",
       "        text-align: right;\n",
       "    }\n",
       "</style>\n",
       "<table border=\"1\" class=\"dataframe\">\n",
       "  <thead>\n",
       "    <tr style=\"text-align: right;\">\n",
       "      <th></th>\n",
       "      <th>Count</th>\n",
       "    </tr>\n",
       "  </thead>\n",
       "  <tbody>\n",
       "    <tr>\n",
       "      <th>Empty_Spaces</th>\n",
       "      <td>0</td>\n",
       "    </tr>\n",
       "    <tr>\n",
       "      <th>NaN_Values</th>\n",
       "      <td>132</td>\n",
       "    </tr>\n",
       "  </tbody>\n",
       "</table>\n",
       "</div>"
      ],
      "text/plain": [
       "              Count\n",
       "Empty_Spaces      0\n",
       "NaN_Values      132"
      ]
     },
     "execution_count": 22,
     "metadata": {},
     "output_type": "execute_result"
    }
   ],
   "source": [
    "empty_adi = data['ADI'].eq(' ').sum()\n",
    "nan_adi = data['ADI'].isna().sum() # Thanks again ~Supa to share this code in Discord !\n",
    "adi = pd.DataFrame({\"Count\": [empty_adi, nan_adi]}, index=[\"Empty_Spaces\", \"NaN_Values\"]) # Dictionaries FTW !\n",
    "adi"
   ]
  },
  {
   "cell_type": "code",
   "execution_count": 23,
   "id": "7d47ef5c-3f2e-4641-bb2e-d42c425fabac",
   "metadata": {},
   "outputs": [
    {
     "data": {
      "text/plain": [
       "0.14"
      ]
     },
     "execution_count": 23,
     "metadata": {},
     "output_type": "execute_result"
    }
   ],
   "source": [
    "its_significant = empty_adi + nan_adi\n",
    "result = round(its_significant*100/len(data['ADI']), 2)\n",
    "result"
   ]
  },
  {
   "cell_type": "code",
   "execution_count": 24,
   "id": "c385483c-4fe2-4b38-b5cb-fd82dee384fa",
   "metadata": {},
   "outputs": [
    {
     "data": {
      "text/html": [
       "<div>\n",
       "<style scoped>\n",
       "    .dataframe tbody tr th:only-of-type {\n",
       "        vertical-align: middle;\n",
       "    }\n",
       "\n",
       "    .dataframe tbody tr th {\n",
       "        vertical-align: top;\n",
       "    }\n",
       "\n",
       "    .dataframe thead th {\n",
       "        text-align: right;\n",
       "    }\n",
       "</style>\n",
       "<table border=\"1\" class=\"dataframe\">\n",
       "  <thead>\n",
       "    <tr style=\"text-align: right;\">\n",
       "      <th></th>\n",
       "      <th>Count</th>\n",
       "    </tr>\n",
       "  </thead>\n",
       "  <tbody>\n",
       "    <tr>\n",
       "      <th>Empty_Spaces</th>\n",
       "      <td>0</td>\n",
       "    </tr>\n",
       "    <tr>\n",
       "      <th>NaN_Values</th>\n",
       "      <td>132</td>\n",
       "    </tr>\n",
       "  </tbody>\n",
       "</table>\n",
       "</div>"
      ],
      "text/plain": [
       "              Count\n",
       "Empty_Spaces      0\n",
       "NaN_Values      132"
      ]
     },
     "execution_count": 24,
     "metadata": {},
     "output_type": "execute_result"
    }
   ],
   "source": [
    "adi_mode = data['ADI'].mode()[0]\n",
    "data['ADI'] = data['ADI'].fillna(adi_mode)\n",
    "adi = pd.DataFrame({\"Count\": [empty_adi, nan_adi]}, index=[\"Empty_Spaces\", \"NaN_Values\"]) # Dictionaries FTW !\n",
    "adi"
   ]
  },
  {
   "cell_type": "markdown",
   "id": "3bf4b265-5ee3-4fe3-86d9-02de8093d842",
   "metadata": {},
   "source": [
    "### Cleaning DMA"
   ]
  },
  {
   "cell_type": "code",
   "execution_count": 25,
   "id": "42c9bb3a-cbd1-4922-8351-867edd48b839",
   "metadata": {},
   "outputs": [
    {
     "data": {
      "text/plain": [
       "DMA\n",
       "803.0    7296\n",
       "602.0    4632\n",
       "807.0    3765\n",
       "505.0    2839\n",
       "819.0    2588\n",
       "         ... \n",
       "569.0       1\n",
       "554.0       1\n",
       "584.0       1\n",
       "552.0       1\n",
       "516.0       1\n",
       "Name: count, Length: 206, dtype: int64"
      ]
     },
     "execution_count": 25,
     "metadata": {},
     "output_type": "execute_result"
    }
   ],
   "source": [
    "data['DMA'].value_counts()"
   ]
  },
  {
   "cell_type": "code",
   "execution_count": 26,
   "id": "21141a06-9a54-4d5e-ac48-1de4c61d4c3f",
   "metadata": {},
   "outputs": [
    {
     "data": {
      "text/html": [
       "<div>\n",
       "<style scoped>\n",
       "    .dataframe tbody tr th:only-of-type {\n",
       "        vertical-align: middle;\n",
       "    }\n",
       "\n",
       "    .dataframe tbody tr th {\n",
       "        vertical-align: top;\n",
       "    }\n",
       "\n",
       "    .dataframe thead th {\n",
       "        text-align: right;\n",
       "    }\n",
       "</style>\n",
       "<table border=\"1\" class=\"dataframe\">\n",
       "  <thead>\n",
       "    <tr style=\"text-align: right;\">\n",
       "      <th></th>\n",
       "      <th>Count</th>\n",
       "    </tr>\n",
       "  </thead>\n",
       "  <tbody>\n",
       "    <tr>\n",
       "      <th>Empty_Spaces</th>\n",
       "      <td>0</td>\n",
       "    </tr>\n",
       "    <tr>\n",
       "      <th>NaN_Values</th>\n",
       "      <td>132</td>\n",
       "    </tr>\n",
       "  </tbody>\n",
       "</table>\n",
       "</div>"
      ],
      "text/plain": [
       "              Count\n",
       "Empty_Spaces      0\n",
       "NaN_Values      132"
      ]
     },
     "execution_count": 26,
     "metadata": {},
     "output_type": "execute_result"
    }
   ],
   "source": [
    "empty_dma = data['DMA'].eq(' ').sum()\n",
    "nan_dma = data['DMA'].isna().sum()\n",
    "dma = pd.DataFrame({\"Count\": [empty_dma, nan_dma]}, index=[\"Empty_Spaces\", \"NaN_Values\"])\n",
    "dma"
   ]
  },
  {
   "cell_type": "code",
   "execution_count": 27,
   "id": "6f1bd7a4-2873-49e0-b05d-99251a348f4e",
   "metadata": {},
   "outputs": [
    {
     "data": {
      "text/plain": [
       "0.14"
      ]
     },
     "execution_count": 27,
     "metadata": {},
     "output_type": "execute_result"
    }
   ],
   "source": [
    "its_significant = empty_dma + nan_dma\n",
    "result = round(its_significant*100/len(data['DMA']), 2)\n",
    "result"
   ]
  },
  {
   "cell_type": "code",
   "execution_count": 28,
   "id": "a4ec038d-15a8-4c43-b914-9cb288cbaf8e",
   "metadata": {},
   "outputs": [
    {
     "data": {
      "text/html": [
       "<div>\n",
       "<style scoped>\n",
       "    .dataframe tbody tr th:only-of-type {\n",
       "        vertical-align: middle;\n",
       "    }\n",
       "\n",
       "    .dataframe tbody tr th {\n",
       "        vertical-align: top;\n",
       "    }\n",
       "\n",
       "    .dataframe thead th {\n",
       "        text-align: right;\n",
       "    }\n",
       "</style>\n",
       "<table border=\"1\" class=\"dataframe\">\n",
       "  <thead>\n",
       "    <tr style=\"text-align: right;\">\n",
       "      <th></th>\n",
       "      <th>Count</th>\n",
       "    </tr>\n",
       "  </thead>\n",
       "  <tbody>\n",
       "    <tr>\n",
       "      <th>Empty_Spaces</th>\n",
       "      <td>0</td>\n",
       "    </tr>\n",
       "    <tr>\n",
       "      <th>NaN_Values</th>\n",
       "      <td>0</td>\n",
       "    </tr>\n",
       "  </tbody>\n",
       "</table>\n",
       "</div>"
      ],
      "text/plain": [
       "              Count\n",
       "Empty_Spaces      0\n",
       "NaN_Values        0"
      ]
     },
     "execution_count": 28,
     "metadata": {},
     "output_type": "execute_result"
    }
   ],
   "source": [
    "dma_mode = data['DMA'].mode()[0]\n",
    "data['DMA'] = data['DMA'].fillna(dma_mode)\n",
    "empty_dma = data['DMA'].eq(' ').sum()\n",
    "nan_dma = data['DMA'].isna().sum()\n",
    "dma = pd.DataFrame({\"Count\": [empty_dma, nan_dma]}, index=[\"Empty_Spaces\", \"NaN_Values\"])\n",
    "dma"
   ]
  },
  {
   "cell_type": "markdown",
   "id": "5d093b54-fa1a-4ec1-8b60-291627c0b9b8",
   "metadata": {},
   "source": [
    "### Cleaning MSA"
   ]
  },
  {
   "cell_type": "code",
   "execution_count": 29,
   "id": "334d3948-8659-4c2f-a3e5-49f94e6ecbe3",
   "metadata": {},
   "outputs": [
    {
     "data": {
      "text/plain": [
       "MSA\n",
       "0.0       21333\n",
       "4480.0     4606\n",
       "1600.0     4059\n",
       "2160.0     2586\n",
       "520.0      1685\n",
       "          ...  \n",
       "9140.0        1\n",
       "3200.0        1\n",
       "9280.0        1\n",
       "743.0         1\n",
       "8480.0        1\n",
       "Name: count, Length: 298, dtype: int64"
      ]
     },
     "execution_count": 29,
     "metadata": {},
     "output_type": "execute_result"
    }
   ],
   "source": [
    "data['MSA'].value_counts()"
   ]
  },
  {
   "cell_type": "code",
   "execution_count": 30,
   "id": "d237b272-dd74-4c43-8caa-7ba70b81a931",
   "metadata": {},
   "outputs": [
    {
     "data": {
      "text/html": [
       "<div>\n",
       "<style scoped>\n",
       "    .dataframe tbody tr th:only-of-type {\n",
       "        vertical-align: middle;\n",
       "    }\n",
       "\n",
       "    .dataframe tbody tr th {\n",
       "        vertical-align: top;\n",
       "    }\n",
       "\n",
       "    .dataframe thead th {\n",
       "        text-align: right;\n",
       "    }\n",
       "</style>\n",
       "<table border=\"1\" class=\"dataframe\">\n",
       "  <thead>\n",
       "    <tr style=\"text-align: right;\">\n",
       "      <th></th>\n",
       "      <th>Count</th>\n",
       "    </tr>\n",
       "  </thead>\n",
       "  <tbody>\n",
       "    <tr>\n",
       "      <th>Empty_Spaces</th>\n",
       "      <td>0</td>\n",
       "    </tr>\n",
       "    <tr>\n",
       "      <th>NaN_Values</th>\n",
       "      <td>132</td>\n",
       "    </tr>\n",
       "  </tbody>\n",
       "</table>\n",
       "</div>"
      ],
      "text/plain": [
       "              Count\n",
       "Empty_Spaces      0\n",
       "NaN_Values      132"
      ]
     },
     "execution_count": 30,
     "metadata": {},
     "output_type": "execute_result"
    }
   ],
   "source": [
    "empty_msa = data['MSA'].eq(' ').sum()\n",
    "nan_msa = data['MSA'].isna().sum()\n",
    "msa = pd.DataFrame({\"Count\": [empty_msa, nan_msa]}, index=[\"Empty_Spaces\", \"NaN_Values\"])\n",
    "msa"
   ]
  },
  {
   "cell_type": "code",
   "execution_count": 31,
   "id": "1e8d5718-c62b-4468-8592-6b47e8b02740",
   "metadata": {},
   "outputs": [
    {
     "data": {
      "text/html": [
       "<div>\n",
       "<style scoped>\n",
       "    .dataframe tbody tr th:only-of-type {\n",
       "        vertical-align: middle;\n",
       "    }\n",
       "\n",
       "    .dataframe tbody tr th {\n",
       "        vertical-align: top;\n",
       "    }\n",
       "\n",
       "    .dataframe thead th {\n",
       "        text-align: right;\n",
       "    }\n",
       "</style>\n",
       "<table border=\"1\" class=\"dataframe\">\n",
       "  <thead>\n",
       "    <tr style=\"text-align: right;\">\n",
       "      <th></th>\n",
       "      <th>Count</th>\n",
       "    </tr>\n",
       "  </thead>\n",
       "  <tbody>\n",
       "    <tr>\n",
       "      <th>Empty_Spaces</th>\n",
       "      <td>0</td>\n",
       "    </tr>\n",
       "    <tr>\n",
       "      <th>NaN_Values</th>\n",
       "      <td>0</td>\n",
       "    </tr>\n",
       "  </tbody>\n",
       "</table>\n",
       "</div>"
      ],
      "text/plain": [
       "              Count\n",
       "Empty_Spaces      0\n",
       "NaN_Values        0"
      ]
     },
     "execution_count": 31,
     "metadata": {},
     "output_type": "execute_result"
    }
   ],
   "source": [
    "msa_mode = data['MSA'].mode()[0]\n",
    "data['MSA'] = data['MSA'].fillna(msa_mode)\n",
    "empty_msa = data['MSA'].eq(' ').sum()\n",
    "nan_msa = data['MSA'].isna().sum()\n",
    "msa = pd.DataFrame({\"Count\": [empty_msa, nan_msa]}, index=[\"Empty_Spaces\", \"NaN_Values\"])\n",
    "msa"
   ]
  }
 ],
 "metadata": {
  "kernelspec": {
   "display_name": "Python 3 (ipykernel)",
   "language": "python",
   "name": "python3"
  },
  "language_info": {
   "codemirror_mode": {
    "name": "ipython",
    "version": 3
   },
   "file_extension": ".py",
   "mimetype": "text/x-python",
   "name": "python",
   "nbconvert_exporter": "python",
   "pygments_lexer": "ipython3",
   "version": "3.9.13"
  }
 },
 "nbformat": 4,
 "nbformat_minor": 5
}
