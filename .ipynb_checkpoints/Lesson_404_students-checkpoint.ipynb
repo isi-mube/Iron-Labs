{
 "cells": [
  {
   "cell_type": "markdown",
   "metadata": {
    "id": "ITsVtk3X-z0N"
   },
   "source": [
    "# 1. RELATED CATEGORICALS: Chi-Square"
   ]
  },
  {
   "cell_type": "markdown",
   "metadata": {
    "id": "Crwv-JAf-7Kw"
   },
   "source": [
    "## Loading libraries"
   ]
  },
  {
   "cell_type": "code",
   "execution_count": 1,
   "metadata": {
    "id": "SpvA1mxn87PH"
   },
   "outputs": [],
   "source": [
    "import pandas as pd\n",
    "import numpy as np\n",
    "import datetime\n",
    "import warnings\n",
    "warnings.filterwarnings('ignore')\n",
    "warnings.filterwarnings(\"ignore\", message=\"numpy.ufunc size changed\")\n",
    "import matplotlib.pyplot as plt\n",
    "import seaborn as sns\n",
    "%matplotlib inline"
   ]
  },
  {
   "cell_type": "markdown",
   "metadata": {
    "id": "d_LmczUk_F1q"
   },
   "source": [
    "## Loading data"
   ]
  },
  {
   "cell_type": "code",
   "execution_count": 2,
   "metadata": {
    "colab": {
     "base_uri": "https://localhost:8080/",
     "height": 233
    },
    "id": "DM0SFbVl_ICn",
    "outputId": "fb7f2567-cb45-4b30-8c59-1a4d06c39f95"
   },
   "outputs": [
    {
     "data": {
      "text/html": [
       "<div>\n",
       "<style scoped>\n",
       "    .dataframe tbody tr th:only-of-type {\n",
       "        vertical-align: middle;\n",
       "    }\n",
       "\n",
       "    .dataframe tbody tr th {\n",
       "        vertical-align: top;\n",
       "    }\n",
       "\n",
       "    .dataframe thead th {\n",
       "        text-align: right;\n",
       "    }\n",
       "</style>\n",
       "<table border=\"1\" class=\"dataframe\">\n",
       "  <thead>\n",
       "    <tr style=\"text-align: right;\">\n",
       "      <th></th>\n",
       "      <th>Unnamed: 0</th>\n",
       "      <th>STATE</th>\n",
       "      <th>MDMAUD</th>\n",
       "      <th>DOMAIN</th>\n",
       "      <th>INCOME</th>\n",
       "      <th>HV1</th>\n",
       "      <th>HV2</th>\n",
       "      <th>HV3</th>\n",
       "      <th>HV4</th>\n",
       "      <th>IC1</th>\n",
       "      <th>...</th>\n",
       "      <th>CARDPROM</th>\n",
       "      <th>CARDPM12</th>\n",
       "      <th>NUMPRM12</th>\n",
       "      <th>MAXADATE</th>\n",
       "      <th>RFA_2</th>\n",
       "      <th>NGIFTALL</th>\n",
       "      <th>TIMELAG</th>\n",
       "      <th>AVGGIFT</th>\n",
       "      <th>IC2_</th>\n",
       "      <th>age</th>\n",
       "    </tr>\n",
       "  </thead>\n",
       "  <tbody>\n",
       "    <tr>\n",
       "      <th>0</th>\n",
       "      <td>0</td>\n",
       "      <td>IL</td>\n",
       "      <td>XXXX</td>\n",
       "      <td>Town</td>\n",
       "      <td>4.0</td>\n",
       "      <td>479</td>\n",
       "      <td>635</td>\n",
       "      <td>3</td>\n",
       "      <td>2</td>\n",
       "      <td>307</td>\n",
       "      <td>...</td>\n",
       "      <td>27</td>\n",
       "      <td>6</td>\n",
       "      <td>14</td>\n",
       "      <td>9702</td>\n",
       "      <td>L4E</td>\n",
       "      <td>31</td>\n",
       "      <td>1.386294</td>\n",
       "      <td>7.741935</td>\n",
       "      <td>Low</td>\n",
       "      <td>60.0</td>\n",
       "    </tr>\n",
       "    <tr>\n",
       "      <th>1</th>\n",
       "      <td>1</td>\n",
       "      <td>CA</td>\n",
       "      <td>XXXX</td>\n",
       "      <td>Suburban</td>\n",
       "      <td>6.0</td>\n",
       "      <td>5468</td>\n",
       "      <td>5218</td>\n",
       "      <td>12</td>\n",
       "      <td>10</td>\n",
       "      <td>1088</td>\n",
       "      <td>...</td>\n",
       "      <td>12</td>\n",
       "      <td>6</td>\n",
       "      <td>13</td>\n",
       "      <td>9702</td>\n",
       "      <td>L2G</td>\n",
       "      <td>3</td>\n",
       "      <td>2.890372</td>\n",
       "      <td>15.666667</td>\n",
       "      <td>High</td>\n",
       "      <td>45.0</td>\n",
       "    </tr>\n",
       "    <tr>\n",
       "      <th>2</th>\n",
       "      <td>2</td>\n",
       "      <td>NC</td>\n",
       "      <td>XXXX</td>\n",
       "      <td>Rural</td>\n",
       "      <td>3.0</td>\n",
       "      <td>497</td>\n",
       "      <td>546</td>\n",
       "      <td>2</td>\n",
       "      <td>1</td>\n",
       "      <td>251</td>\n",
       "      <td>...</td>\n",
       "      <td>26</td>\n",
       "      <td>6</td>\n",
       "      <td>14</td>\n",
       "      <td>9702</td>\n",
       "      <td>L4E</td>\n",
       "      <td>27</td>\n",
       "      <td>2.484907</td>\n",
       "      <td>7.481481</td>\n",
       "      <td>Low</td>\n",
       "      <td>59.0</td>\n",
       "    </tr>\n",
       "    <tr>\n",
       "      <th>3</th>\n",
       "      <td>3</td>\n",
       "      <td>CA</td>\n",
       "      <td>XXXX</td>\n",
       "      <td>Rural</td>\n",
       "      <td>1.0</td>\n",
       "      <td>1000</td>\n",
       "      <td>1263</td>\n",
       "      <td>2</td>\n",
       "      <td>1</td>\n",
       "      <td>386</td>\n",
       "      <td>...</td>\n",
       "      <td>27</td>\n",
       "      <td>6</td>\n",
       "      <td>14</td>\n",
       "      <td>9702</td>\n",
       "      <td>L4E</td>\n",
       "      <td>16</td>\n",
       "      <td>2.197225</td>\n",
       "      <td>6.812500</td>\n",
       "      <td>Moderate</td>\n",
       "      <td>69.0</td>\n",
       "    </tr>\n",
       "    <tr>\n",
       "      <th>4</th>\n",
       "      <td>4</td>\n",
       "      <td>FL</td>\n",
       "      <td>XXXX</td>\n",
       "      <td>Suburban</td>\n",
       "      <td>3.0</td>\n",
       "      <td>576</td>\n",
       "      <td>594</td>\n",
       "      <td>4</td>\n",
       "      <td>3</td>\n",
       "      <td>240</td>\n",
       "      <td>...</td>\n",
       "      <td>43</td>\n",
       "      <td>10</td>\n",
       "      <td>25</td>\n",
       "      <td>9702</td>\n",
       "      <td>L2F</td>\n",
       "      <td>37</td>\n",
       "      <td>2.639057</td>\n",
       "      <td>6.864865</td>\n",
       "      <td>Low</td>\n",
       "      <td>77.0</td>\n",
       "    </tr>\n",
       "  </tbody>\n",
       "</table>\n",
       "<p>5 rows × 25 columns</p>\n",
       "</div>"
      ],
      "text/plain": [
       "   Unnamed: 0 STATE MDMAUD    DOMAIN  INCOME   HV1   HV2  HV3  HV4   IC1  ...  \\\n",
       "0           0    IL   XXXX      Town     4.0   479   635    3    2   307  ...   \n",
       "1           1    CA   XXXX  Suburban     6.0  5468  5218   12   10  1088  ...   \n",
       "2           2    NC   XXXX     Rural     3.0   497   546    2    1   251  ...   \n",
       "3           3    CA   XXXX     Rural     1.0  1000  1263    2    1   386  ...   \n",
       "4           4    FL   XXXX  Suburban     3.0   576   594    4    3   240  ...   \n",
       "\n",
       "   CARDPROM  CARDPM12  NUMPRM12  MAXADATE  RFA_2  NGIFTALL   TIMELAG  \\\n",
       "0        27         6        14      9702    L4E        31  1.386294   \n",
       "1        12         6        13      9702    L2G         3  2.890372   \n",
       "2        26         6        14      9702    L4E        27  2.484907   \n",
       "3        27         6        14      9702    L4E        16  2.197225   \n",
       "4        43        10        25      9702    L2F        37  2.639057   \n",
       "\n",
       "     AVGGIFT      IC2_   age  \n",
       "0   7.741935       Low  60.0  \n",
       "1  15.666667      High  45.0  \n",
       "2   7.481481       Low  59.0  \n",
       "3   6.812500  Moderate  69.0  \n",
       "4   6.864865       Low  77.0  \n",
       "\n",
       "[5 rows x 25 columns]"
      ]
     },
     "execution_count": 2,
     "metadata": {},
     "output_type": "execute_result"
    }
   ],
   "source": [
    "data = pd.read_csv('lesson_404.csv')\n",
    "data.head()"
   ]
  },
  {
   "cell_type": "markdown",
   "metadata": {
    "id": "UWDmW6ZB-9eF"
   },
   "source": [
    "## $\\chi^{2}$ test in Python"
   ]
  },
  {
   "cell_type": "markdown",
   "metadata": {
    "id": "8rnusuLz_i91"
   },
   "source": [
    "Let's use the $\\chi^{2}$ test in order to determine of columns `DOMAIN` and `RFA_2` are related."
   ]
  },
  {
   "cell_type": "code",
   "execution_count": 3,
   "metadata": {
    "colab": {
     "base_uri": "https://localhost:8080/",
     "height": 226
    },
    "id": "8xB5hGhm_iZ_",
    "outputId": "8acfb398-59e9-43b7-a626-1322f0a1e4c6"
   },
   "outputs": [
    {
     "data": {
      "text/html": [
       "<div>\n",
       "<style scoped>\n",
       "    .dataframe tbody tr th:only-of-type {\n",
       "        vertical-align: middle;\n",
       "    }\n",
       "\n",
       "    .dataframe tbody tr th {\n",
       "        vertical-align: top;\n",
       "    }\n",
       "\n",
       "    .dataframe thead th {\n",
       "        text-align: right;\n",
       "    }\n",
       "</style>\n",
       "<table border=\"1\" class=\"dataframe\">\n",
       "  <thead>\n",
       "    <tr style=\"text-align: right;\">\n",
       "      <th>RFA_2</th>\n",
       "      <th>L1E</th>\n",
       "      <th>L1F</th>\n",
       "      <th>L1G</th>\n",
       "      <th>L2E</th>\n",
       "      <th>L2F</th>\n",
       "      <th>L2G</th>\n",
       "      <th>L3D</th>\n",
       "      <th>L3E</th>\n",
       "      <th>L3F</th>\n",
       "      <th>L3G</th>\n",
       "      <th>L4D</th>\n",
       "      <th>L4E</th>\n",
       "      <th>L4F</th>\n",
       "      <th>L4G</th>\n",
       "    </tr>\n",
       "    <tr>\n",
       "      <th>DOMAIN</th>\n",
       "      <th></th>\n",
       "      <th></th>\n",
       "      <th></th>\n",
       "      <th></th>\n",
       "      <th></th>\n",
       "      <th></th>\n",
       "      <th></th>\n",
       "      <th></th>\n",
       "      <th></th>\n",
       "      <th></th>\n",
       "      <th></th>\n",
       "      <th></th>\n",
       "      <th></th>\n",
       "      <th></th>\n",
       "    </tr>\n",
       "  </thead>\n",
       "  <tbody>\n",
       "    <tr>\n",
       "      <th>City</th>\n",
       "      <td>911</td>\n",
       "      <td>5580</td>\n",
       "      <td>2413</td>\n",
       "      <td>962</td>\n",
       "      <td>2063</td>\n",
       "      <td>868</td>\n",
       "      <td>450</td>\n",
       "      <td>1408</td>\n",
       "      <td>640</td>\n",
       "      <td>303</td>\n",
       "      <td>906</td>\n",
       "      <td>732</td>\n",
       "      <td>358</td>\n",
       "      <td>164</td>\n",
       "    </tr>\n",
       "    <tr>\n",
       "      <th>Rural</th>\n",
       "      <td>1092</td>\n",
       "      <td>5617</td>\n",
       "      <td>2035</td>\n",
       "      <td>1034</td>\n",
       "      <td>2010</td>\n",
       "      <td>801</td>\n",
       "      <td>557</td>\n",
       "      <td>1453</td>\n",
       "      <td>639</td>\n",
       "      <td>253</td>\n",
       "      <td>1042</td>\n",
       "      <td>739</td>\n",
       "      <td>378</td>\n",
       "      <td>146</td>\n",
       "    </tr>\n",
       "    <tr>\n",
       "      <th>Suburban</th>\n",
       "      <td>828</td>\n",
       "      <td>6533</td>\n",
       "      <td>2917</td>\n",
       "      <td>828</td>\n",
       "      <td>2293</td>\n",
       "      <td>1010</td>\n",
       "      <td>413</td>\n",
       "      <td>1511</td>\n",
       "      <td>795</td>\n",
       "      <td>323</td>\n",
       "      <td>811</td>\n",
       "      <td>749</td>\n",
       "      <td>404</td>\n",
       "      <td>189</td>\n",
       "    </tr>\n",
       "    <tr>\n",
       "      <th>Town</th>\n",
       "      <td>910</td>\n",
       "      <td>5652</td>\n",
       "      <td>2189</td>\n",
       "      <td>927</td>\n",
       "      <td>2018</td>\n",
       "      <td>866</td>\n",
       "      <td>436</td>\n",
       "      <td>1543</td>\n",
       "      <td>657</td>\n",
       "      <td>245</td>\n",
       "      <td>912</td>\n",
       "      <td>726</td>\n",
       "      <td>399</td>\n",
       "      <td>155</td>\n",
       "    </tr>\n",
       "    <tr>\n",
       "      <th>Urban</th>\n",
       "      <td>489</td>\n",
       "      <td>3736</td>\n",
       "      <td>1529</td>\n",
       "      <td>526</td>\n",
       "      <td>1258</td>\n",
       "      <td>524</td>\n",
       "      <td>217</td>\n",
       "      <td>830</td>\n",
       "      <td>367</td>\n",
       "      <td>180</td>\n",
       "      <td>399</td>\n",
       "      <td>435</td>\n",
       "      <td>250</td>\n",
       "      <td>123</td>\n",
       "    </tr>\n",
       "  </tbody>\n",
       "</table>\n",
       "</div>"
      ],
      "text/plain": [
       "RFA_2      L1E   L1F   L1G   L2E   L2F   L2G  L3D   L3E  L3F  L3G   L4D  L4E  \\\n",
       "DOMAIN                                                                         \n",
       "City       911  5580  2413   962  2063   868  450  1408  640  303   906  732   \n",
       "Rural     1092  5617  2035  1034  2010   801  557  1453  639  253  1042  739   \n",
       "Suburban   828  6533  2917   828  2293  1010  413  1511  795  323   811  749   \n",
       "Town       910  5652  2189   927  2018   866  436  1543  657  245   912  726   \n",
       "Urban      489  3736  1529   526  1258   524  217   830  367  180   399  435   \n",
       "\n",
       "RFA_2     L4F  L4G  \n",
       "DOMAIN              \n",
       "City      358  164  \n",
       "Rural     378  146  \n",
       "Suburban  404  189  \n",
       "Town      399  155  \n",
       "Urban     250  123  "
      ]
     },
     "execution_count": 3,
     "metadata": {},
     "output_type": "execute_result"
    }
   ],
   "source": [
    "data_crosstab = pd.crosstab(data['DOMAIN'], data['RFA_2'], margins = False)\n",
    "data_crosstab"
   ]
  },
  {
   "cell_type": "code",
   "execution_count": 4,
   "metadata": {},
   "outputs": [
    {
     "data": {
      "text/plain": [
       "(5, 14)"
      ]
     },
     "execution_count": 4,
     "metadata": {},
     "output_type": "execute_result"
    }
   ],
   "source": [
    "data_crosstab.shape"
   ]
  },
  {
   "cell_type": "markdown",
   "metadata": {},
   "source": [
    "### How many degrees of freedom???"
   ]
  },
  {
   "cell_type": "code",
   "execution_count": null,
   "metadata": {},
   "outputs": [],
   "source": []
  },
  {
   "cell_type": "markdown",
   "metadata": {
    "id": "Emn3y9cF_5iU"
   },
   "source": [
    "Based on the data in the contingency table we calculate the expected value of the nominal variables. Based on the expected values, the chi-square test statistic is calculated which helps us decide on whether the variables are independent or not. Technically, though the value of the test statistic we are trying to prove or disprove some hypotheses on the independence of categorical variables.\n",
    "\n",
    "* **H0** (Null Hypothesis) - assumes that there is no association between the two variables.\n",
    "\n",
    "* **Ha** (Alternate Hypothesis) - assumes that there is an association between the two variables."
   ]
  },
  {
   "cell_type": "code",
   "execution_count": 5,
   "metadata": {
    "colab": {
     "base_uri": "https://localhost:8080/",
     "height": 313
    },
    "id": "eg54F8iAAX3Q",
    "outputId": "3ed4a2db-6797-4a83-f6f2-8d5c14abe279"
   },
   "outputs": [
    {
     "name": "stdout",
     "output_type": "stream",
     "text": [
      "The Chi2 value is:  464.56\n",
      "The p-value is:  1.349917635349138e-67\n",
      "The number of degrees of freedom is:  52\n",
      "The expected frequencies are: \n"
     ]
    },
    {
     "data": {
      "text/html": [
       "<div>\n",
       "<style scoped>\n",
       "    .dataframe tbody tr th:only-of-type {\n",
       "        vertical-align: middle;\n",
       "    }\n",
       "\n",
       "    .dataframe tbody tr th {\n",
       "        vertical-align: top;\n",
       "    }\n",
       "\n",
       "    .dataframe thead th {\n",
       "        text-align: right;\n",
       "    }\n",
       "</style>\n",
       "<table border=\"1\" class=\"dataframe\">\n",
       "  <thead>\n",
       "    <tr style=\"text-align: right;\">\n",
       "      <th>RFA_2</th>\n",
       "      <th>L1E</th>\n",
       "      <th>L1F</th>\n",
       "      <th>L1G</th>\n",
       "      <th>L2E</th>\n",
       "      <th>L2F</th>\n",
       "      <th>L2G</th>\n",
       "      <th>L3D</th>\n",
       "      <th>L3E</th>\n",
       "      <th>L3F</th>\n",
       "      <th>L3G</th>\n",
       "      <th>L4D</th>\n",
       "      <th>L4E</th>\n",
       "      <th>L4F</th>\n",
       "      <th>L4G</th>\n",
       "    </tr>\n",
       "    <tr>\n",
       "      <th>DOMAIN</th>\n",
       "      <th></th>\n",
       "      <th></th>\n",
       "      <th></th>\n",
       "      <th></th>\n",
       "      <th></th>\n",
       "      <th></th>\n",
       "      <th></th>\n",
       "      <th></th>\n",
       "      <th></th>\n",
       "      <th></th>\n",
       "      <th></th>\n",
       "      <th></th>\n",
       "      <th></th>\n",
       "      <th></th>\n",
       "    </tr>\n",
       "  </thead>\n",
       "  <tbody>\n",
       "    <tr>\n",
       "      <th>City</th>\n",
       "      <td>897.919336</td>\n",
       "      <td>5756.448360</td>\n",
       "      <td>2352.633571</td>\n",
       "      <td>907.896218</td>\n",
       "      <td>2046.746629</td>\n",
       "      <td>863.743210</td>\n",
       "      <td>440.044157</td>\n",
       "      <td>1431.788634</td>\n",
       "      <td>657.625084</td>\n",
       "      <td>276.805394</td>\n",
       "      <td>863.955484</td>\n",
       "      <td>717.698647</td>\n",
       "      <td>379.758320</td>\n",
       "      <td>164.936956</td>\n",
       "    </tr>\n",
       "    <tr>\n",
       "      <th>Rural</th>\n",
       "      <td>899.840777</td>\n",
       "      <td>5768.766472</td>\n",
       "      <td>2357.667926</td>\n",
       "      <td>909.839007</td>\n",
       "      <td>2051.126422</td>\n",
       "      <td>865.591518</td>\n",
       "      <td>440.985799</td>\n",
       "      <td>1434.852491</td>\n",
       "      <td>659.032323</td>\n",
       "      <td>277.397724</td>\n",
       "      <td>865.804246</td>\n",
       "      <td>719.234436</td>\n",
       "      <td>380.570957</td>\n",
       "      <td>165.289902</td>\n",
       "    </tr>\n",
       "    <tr>\n",
       "      <th>Suburban</th>\n",
       "      <td>991.260878</td>\n",
       "      <td>6354.849288</td>\n",
       "      <td>2597.197236</td>\n",
       "      <td>1002.274888</td>\n",
       "      <td>2259.512384</td>\n",
       "      <td>953.532036</td>\n",
       "      <td>485.788132</td>\n",
       "      <td>1580.627570</td>\n",
       "      <td>725.987281</td>\n",
       "      <td>305.580186</td>\n",
       "      <td>953.766377</td>\n",
       "      <td>792.305680</td>\n",
       "      <td>419.235393</td>\n",
       "      <td>182.082672</td>\n",
       "    </tr>\n",
       "    <tr>\n",
       "      <th>Town</th>\n",
       "      <td>891.699938</td>\n",
       "      <td>5716.576575</td>\n",
       "      <td>2336.338159</td>\n",
       "      <td>901.607715</td>\n",
       "      <td>2032.569929</td>\n",
       "      <td>857.760531</td>\n",
       "      <td>436.996211</td>\n",
       "      <td>1421.871414</td>\n",
       "      <td>653.070073</td>\n",
       "      <td>274.888113</td>\n",
       "      <td>857.971335</td>\n",
       "      <td>712.727539</td>\n",
       "      <td>377.127941</td>\n",
       "      <td>163.794528</td>\n",
       "    </tr>\n",
       "    <tr>\n",
       "      <th>Urban</th>\n",
       "      <td>549.279071</td>\n",
       "      <td>3521.359305</td>\n",
       "      <td>1439.163108</td>\n",
       "      <td>555.382172</td>\n",
       "      <td>1252.044635</td>\n",
       "      <td>528.372705</td>\n",
       "      <td>269.185701</td>\n",
       "      <td>875.859891</td>\n",
       "      <td>402.285240</td>\n",
       "      <td>169.328584</td>\n",
       "      <td>528.502558</td>\n",
       "      <td>439.033698</td>\n",
       "      <td>232.307390</td>\n",
       "      <td>100.895943</td>\n",
       "    </tr>\n",
       "  </tbody>\n",
       "</table>\n",
       "</div>"
      ],
      "text/plain": [
       "RFA_2            L1E          L1F          L1G          L2E          L2F  \\\n",
       "DOMAIN                                                                     \n",
       "City      897.919336  5756.448360  2352.633571   907.896218  2046.746629   \n",
       "Rural     899.840777  5768.766472  2357.667926   909.839007  2051.126422   \n",
       "Suburban  991.260878  6354.849288  2597.197236  1002.274888  2259.512384   \n",
       "Town      891.699938  5716.576575  2336.338159   901.607715  2032.569929   \n",
       "Urban     549.279071  3521.359305  1439.163108   555.382172  1252.044635   \n",
       "\n",
       "RFA_2            L2G         L3D          L3E         L3F         L3G  \\\n",
       "DOMAIN                                                                  \n",
       "City      863.743210  440.044157  1431.788634  657.625084  276.805394   \n",
       "Rural     865.591518  440.985799  1434.852491  659.032323  277.397724   \n",
       "Suburban  953.532036  485.788132  1580.627570  725.987281  305.580186   \n",
       "Town      857.760531  436.996211  1421.871414  653.070073  274.888113   \n",
       "Urban     528.372705  269.185701   875.859891  402.285240  169.328584   \n",
       "\n",
       "RFA_2            L4D         L4E         L4F         L4G  \n",
       "DOMAIN                                                    \n",
       "City      863.955484  717.698647  379.758320  164.936956  \n",
       "Rural     865.804246  719.234436  380.570957  165.289902  \n",
       "Suburban  953.766377  792.305680  419.235393  182.082672  \n",
       "Town      857.971335  712.727539  377.127941  163.794528  \n",
       "Urban     528.502558  439.033698  232.307390  100.895943  "
      ]
     },
     "execution_count": 5,
     "metadata": {},
     "output_type": "execute_result"
    }
   ],
   "source": [
    "from scipy.stats import chi2_contingency\n",
    "\n",
    "chi2, p_value, dof, expected_freq = chi2_contingency(data_crosstab, correction=False)\n",
    "\n",
    "print(\"The Chi2 value is: \",round(chi2,2))\n",
    "print(\"The p-value is: \",p_value)\n",
    "print(\"The number of degrees of freedom is: \",dof)\n",
    "print(\"The expected frequencies are: \")\n",
    "pd.DataFrame(expected_freq, columns=data_crosstab.columns, index=data_crosstab.index)"
   ]
  },
  {
   "cell_type": "markdown",
   "metadata": {
    "id": "_kJfy2TpC0Ri"
   },
   "source": [
    "We can determine if we accept the the null hypotheses by two ways:\n",
    "\n",
    "* Comparing the Chi2 againts the Chi2_critical value\n",
    "* Comparing the p-value againt the corresponding p_critical --> that's alpha\n",
    "\n",
    "Let's use the usual confidence level of 95%. --> That's alpha = 0.05\n",
    "\n",
    "* Using the Chi2 table:\n",
    "\n",
    "We look for dof = 52 and p = 0.05 give us: 69.83.\n",
    "Now we compare our Chi2 against the critical value of chi2\n",
    "which is: 69.83\n",
    "\n",
    "464.56 > 69.83  -> We **reject** the nul hypotheses **Ho**\n",
    "\n",
    "* Using the p_value:\n",
    "\n",
    "We compare the our p_value against 0.05 (95%)\n",
    "\n",
    "0 < 0.05 -> -> We **reject** the nul hypotheses **Ho**\n",
    "\n",
    "Remember the meaning of the p-value = P(D|Ho): the probability of observing our data under the null hypotheses.\n",
    "\n",
    "Therefore, **columns `RFA_2` and `DOMAIN` are related.**"
   ]
  },
  {
   "cell_type": "markdown",
   "metadata": {
    "id": "q3EDxk9LN946"
   },
   "source": [
    "* If the observed chi-square test statistic is greater than the critical value (this value is known already based on certain parameters) in the data, the null hypothesis can be rejected.\n",
    "\n",
    "* If the observed chi-square test statistic is lower than the critical value (this value is known already based on certain parameters) in the data, the null hypothesis is accepted (also put as we fail to reject the null hypothesis) \n",
    "\n",
    "Chi2 <-> Chi2_critical\n",
    "\n",
    "```python\n",
    "if (Chi2 >= Chi2_critical):\n",
    "    reject Ho\n",
    "else:\n",
    "    accept H0\n",
    "```\n",
    "\n",
    "Based on the statistics we either reject H0 or we fail to reject H0. You can also use the p value directly as we will see later in the lesson.\n",
    "\n"
   ]
  },
  {
   "cell_type": "markdown",
   "metadata": {
    "id": "uKIKCSvdPV4q"
   },
   "source": [
    "We have seen that in our case:\n",
    "\n",
    "**columns `RFA_2` and `DOMAIN` are related.**\n",
    "\n",
    "so let's drop one of those columns, for example RFA_2."
   ]
  },
  {
   "cell_type": "code",
   "execution_count": null,
   "metadata": {
    "id": "sBs1PZ9aPskZ"
   },
   "outputs": [],
   "source": [
    "data.drop('RFA_2', axis = 1, inplace = True)"
   ]
  },
  {
   "cell_type": "markdown",
   "metadata": {
    "id": "VvbkKc94CPO-"
   },
   "source": [
    "### 404. Activity 1"
   ]
  },
  {
   "cell_type": "markdown",
   "metadata": {},
   "source": [
    "#### Use unit4.csv that you already have locally HERE!!!!!!"
   ]
  },
  {
   "cell_type": "markdown",
   "metadata": {
    "id": "tB-E5ASJCQ59"
   },
   "source": [
    "Use the Chi-Square test for measuring the salary differences (ie. `INCOME`) between men and women (assume a confidence level of 95%)\n",
    "\n",
    "First group income in two groups:\n",
    "\n",
    "* INCOME > 3 -> 'HIGH_INCOME'\n",
    "* INCOME <= 3 -> 'LOW_INCOME'"
   ]
  },
  {
   "cell_type": "code",
   "execution_count": null,
   "metadata": {},
   "outputs": [],
   "source": [
    "data = pd.read_csv('unit4.csv')\n",
    "data.head()"
   ]
  },
  {
   "cell_type": "code",
   "execution_count": null,
   "metadata": {},
   "outputs": [],
   "source": []
  },
  {
   "cell_type": "code",
   "execution_count": null,
   "metadata": {},
   "outputs": [],
   "source": []
  },
  {
   "cell_type": "markdown",
   "metadata": {
    "id": "wZVrblBGP4di"
   },
   "source": [
    "### 404. Activity 2"
   ]
  },
  {
   "cell_type": "markdown",
   "metadata": {
    "id": "m5emXU2kP554"
   },
   "source": [
    "Repeat the same steps already done on the class for the columns `STATE` and `DOMAIN` to find the chi-square statistic.\n",
    "\n",
    "Check the p value to decide to reject or fail to reject the null hypothesis. If you reject the null hypothesis, then drop one of the columns (`STATE` here)."
   ]
  },
  {
   "cell_type": "code",
   "execution_count": null,
   "metadata": {},
   "outputs": [],
   "source": []
  },
  {
   "cell_type": "code",
   "execution_count": null,
   "metadata": {},
   "outputs": [],
   "source": []
  },
  {
   "cell_type": "markdown",
   "metadata": {
    "id": "A9_GHfOiURsd"
   },
   "source": [
    "Our Chi2 is  15066.07 and the Chi2_critical_value is (check here)[https://web.ma.utexas.edu/users/davis/375/popecol/tables/chisq.html]:\n",
    "\n",
    "Chi2_critical_value = 51.00\n",
    "\n",
    "\n",
    "Our p-value = 0, therefore under a confidence level of 95%\n",
    "\n",
    "```python\n",
    "if (p_value < 0.05):\n",
    "    reject Ho\n",
    "else:\n",
    "    accept Ho\n",
    "``` \n",
    "\n",
    "We reject the null hypotheses.\n",
    "\n",
    "Both columns `STATE` and `DOMAIN` are related, threfore we can drop one of them. \n"
   ]
  },
  {
   "cell_type": "code",
   "execution_count": null,
   "metadata": {
    "id": "JUGmn631VrBG"
   },
   "outputs": [],
   "source": [
    "data = data.drop(['STATE'], axis=1)"
   ]
  },
  {
   "cell_type": "markdown",
   "metadata": {
    "id": "Gnef__TlbcLF"
   },
   "source": [
    "# 2. Cleaning and encoding categoricals"
   ]
  },
  {
   "cell_type": "markdown",
   "metadata": {
    "id": "Ieq8yg1XbeR_"
   },
   "source": [
    "## Cleaning `DOMAIN` column"
   ]
  },
  {
   "cell_type": "markdown",
   "metadata": {
    "id": "Naw_wO1wcBjD"
   },
   "source": [
    "Grouping values with low frequency together."
   ]
  },
  {
   "cell_type": "code",
   "execution_count": null,
   "metadata": {
    "colab": {
     "base_uri": "https://localhost:8080/"
    },
    "id": "qTgdahnXbicy",
    "outputId": "2ce173ae-8a0d-4bc8-eaaa-a85b3c06d668"
   },
   "outputs": [],
   "source": [
    "vals_domain = pd.DataFrame(data['DOMAIN'].value_counts())\n",
    "vals_domain = vals_domain.reset_index()\n",
    "vals_domain.columns = ['domain', 'counts']\n",
    "group_vals_domain_df = vals_domain[vals_domain['counts']<5000]\n",
    "group_vals_domain = list(group_vals_domain_df['domain'])\n",
    "group_vals_domain"
   ]
  },
  {
   "cell_type": "code",
   "execution_count": null,
   "metadata": {
    "id": "RDMYaNUpb2sN"
   },
   "outputs": [],
   "source": [
    "def clean_vals_domain(x):\n",
    "    if x in group_vals_domain:\n",
    "        return 'other'\n",
    "    else:\n",
    "        return x\n",
    "\n",
    "data['DOMAIN'] = list(map(clean_vals_domain, data['DOMAIN']))"
   ]
  },
  {
   "cell_type": "markdown",
   "metadata": {
    "id": "eL1mY0jicH1p"
   },
   "source": [
    "## Encoding/Dummifying"
   ]
  },
  {
   "cell_type": "code",
   "execution_count": null,
   "metadata": {
    "colab": {
     "base_uri": "https://localhost:8080/"
    },
    "id": "zmASUgP4cJ5j",
    "outputId": "8e8ef1ed-fa89-40ba-e3da-1436b04cb08d"
   },
   "outputs": [],
   "source": [
    "from sklearn.preprocessing import OneHotEncoder\n",
    "\n",
    "encoder = OneHotEncoder(handle_unknown='error', drop='first').fit(data[['DOMAIN']])\n",
    "encoded = encoder.transform(data[['DOMAIN']]).toarray()\n",
    "encoded"
   ]
  },
  {
   "cell_type": "markdown",
   "metadata": {
    "id": "J2E9M0oAVzTq"
   },
   "source": [
    "# 3. Transforming Numericals"
   ]
  },
  {
   "cell_type": "code",
   "execution_count": null,
   "metadata": {
    "colab": {
     "base_uri": "https://localhost:8080/",
     "height": 250
    },
    "id": "Vh2ChbXJWIWK",
    "outputId": "399aa049-fa87-49cc-e22b-7857f74f0032"
   },
   "outputs": [],
   "source": [
    "data_corr = data.corr()\n",
    "display(data_corr.head())\n",
    "numerical = data_corr.drop(['AVGGIFT'], axis=1)"
   ]
  },
  {
   "cell_type": "markdown",
   "metadata": {
    "id": "X20L5LsVWZPS"
   },
   "source": [
    "## Standardization/Standard Scaler"
   ]
  },
  {
   "cell_type": "code",
   "execution_count": null,
   "metadata": {
    "colab": {
     "base_uri": "https://localhost:8080/"
    },
    "id": "ylRt1_HeWabd",
    "outputId": "92037329-8452-45f5-af17-26a2057af013"
   },
   "outputs": [],
   "source": [
    "from sklearn.preprocessing import StandardScaler\n",
    "\n",
    "transformer = StandardScaler().fit(numerical)\n",
    "x_standardized = transformer.transform(numerical)\n",
    "x_standardized"
   ]
  },
  {
   "cell_type": "markdown",
   "metadata": {
    "id": "1JGpnXP3XWAp"
   },
   "source": [
    "## Min-max scaler"
   ]
  },
  {
   "cell_type": "code",
   "execution_count": null,
   "metadata": {
    "colab": {
     "base_uri": "https://localhost:8080/"
    },
    "id": "pqQGWsoCXZQ8",
    "outputId": "9bbf4b28-5477-463b-ee66-12095a1c9733"
   },
   "outputs": [],
   "source": [
    "from sklearn.preprocessing import MinMaxScaler\n",
    "\n",
    "transformer = MinMaxScaler().fit(numerical)\n",
    "x_min_max = transformer.transform(numerical)\n",
    "x_min_max"
   ]
  },
  {
   "cell_type": "markdown",
   "metadata": {
    "id": "tb05OUHwX6Ap"
   },
   "source": [
    "### 404. Activity 3"
   ]
  },
  {
   "cell_type": "markdown",
   "metadata": {
    "id": "BkPOG6I4X9Yz"
   },
   "source": [
    "Check the distributions of the numerical data (numerical) we got and decide which scaler should perform better with it. \n",
    "\n",
    "**Hint:** You can also plot the scaled distributions."
   ]
  },
  {
   "cell_type": "markdown",
   "metadata": {
    "id": "C9SttLOCbTo9"
   },
   "source": [
    "We won't use normalizer because it doesn't work as expected, so we will be using either minmax or standard scalers. They perform fairly good so you can choose the one you like the most. We could even use a robust scaler for some of the features."
   ]
  },
  {
   "cell_type": "markdown",
   "metadata": {
    "id": "PXLZbmnFcUPZ"
   },
   "source": [
    "### 404. Activity 4"
   ]
  },
  {
   "cell_type": "markdown",
   "metadata": {
    "id": "fQ9fatp-ca3_"
   },
   "source": [
    "Create one of the two scaling methods we have seen (standard and minmax) as a Python function. \n",
    "\n",
    "Remember that you need to apply the changes **to the test with the info from the train!**"
   ]
  }
 ],
 "metadata": {
  "colab": {
   "name": "Lesson_1-4_Key_Concepts_students",
   "provenance": [],
   "toc_visible": true
  },
  "kernelspec": {
   "display_name": "Python 3",
   "language": "python",
   "name": "python3"
  },
  "language_info": {
   "codemirror_mode": {
    "name": "ipython",
    "version": 3
   },
   "file_extension": ".py",
   "mimetype": "text/x-python",
   "name": "python",
   "nbconvert_exporter": "python",
   "pygments_lexer": "ipython3",
   "version": "3.8.3"
  }
 },
 "nbformat": 4,
 "nbformat_minor": 1
}
