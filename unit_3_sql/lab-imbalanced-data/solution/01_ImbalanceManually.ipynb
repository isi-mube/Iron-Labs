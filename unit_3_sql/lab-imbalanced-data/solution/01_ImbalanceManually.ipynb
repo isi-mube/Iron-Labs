{
 "cells": [
  {
   "cell_type": "markdown",
   "id": "8418b374-fe82-4dcb-a2da-d8eb39f7b947",
   "metadata": {
    "tags": []
   },
   "source": [
    "## 00 |"
   ]
  },
  {
   "cell_type": "code",
   "execution_count": 1,
   "id": "b0c02aec-33b4-492b-951d-699b1d41ae83",
   "metadata": {},
   "outputs": [],
   "source": [
    "# [Basic Libraries]\n",
    "import os # file management \n",
    "import pandas as pd # data manipulation\n",
    "import numpy as np # numerical operations\n",
    "\n",
    "# [Machine Learning]\n",
    "from sklearn.preprocessing import StandardScaler # data normalization\n",
    "from sklearn.model_selection import train_test_split # train/test sets\n",
    "from sklearn.linear_model import LogisticRegression # logistic model\n",
    "from sklearn.metrics import confusion_matrix # confussion matrix metric\n",
    "from sklearn.metrics import classification_report # Metrics to check & compare our score\n",
    "\n",
    "# [Settings]\n",
    "import warnings\n",
    "warnings.filterwarnings('ignore') # ignore warnings\n",
    "pd.set_option('display.max_columns', None) # display all columns"
   ]
  },
  {
   "cell_type": "markdown",
   "id": "d2f9c1a3-5ebe-4088-ba80-f9ea7231c5e5",
   "metadata": {
    "tags": []
   },
   "source": [
    "## 01 | Data Extraction"
   ]
  },
  {
   "cell_type": "code",
   "execution_count": 2,
   "id": "b2626605-480b-4000-b0b0-803f8655a996",
   "metadata": {},
   "outputs": [],
   "source": [
    "file_path = os.path.join(\"C:/Users/apisi/01. IronData/01. GitHub/01. IronLabs/unit_3_sql/lab-imbalanced-data/data\", \"Cdata.csv\")\n",
    "data = pd.read_csv(file_path)"
   ]
  },
  {
   "cell_type": "markdown",
   "id": "1cd443ef-3fa8-4fd2-82a6-756412890bb2",
   "metadata": {},
   "source": [
    "## 02 | Manually increasing the imbalance"
   ]
  },
  {
   "cell_type": "code",
   "execution_count": 3,
   "id": "b44e1afc-130c-4566-9415-c34202d45921",
   "metadata": {},
   "outputs": [
    {
     "data": {
      "text/plain": [
       "1869"
      ]
     },
     "execution_count": 3,
     "metadata": {},
     "output_type": "execute_result"
    }
   ],
   "source": [
    "yes = data[data['churn']=='Yes'] # We select from data;'Yes' value from 'churn' column in data\n",
    "no = data[data['churn']=='No'] # And the Nays ;)\n",
    "len(yes) # How many yes do we have"
   ]
  },
  {
   "cell_type": "code",
   "execution_count": 4,
   "id": "6c068956-460b-4e2d-a40b-e1be6587e422",
   "metadata": {},
   "outputs": [
    {
     "data": {
      "text/plain": [
       "500"
      ]
     },
     "execution_count": 4,
     "metadata": {},
     "output_type": "execute_result"
    }
   ],
   "source": [
    "yes = yes.sample(500) # We take a sample of 500 yes\n",
    "len(yes)"
   ]
  },
  {
   "cell_type": "code",
   "execution_count": 5,
   "id": "e7ea948e-97db-412b-be72-22332113f131",
   "metadata": {},
   "outputs": [
    {
     "data": {
      "text/html": [
       "<div>\n",
       "<style scoped>\n",
       "    .dataframe tbody tr th:only-of-type {\n",
       "        vertical-align: middle;\n",
       "    }\n",
       "\n",
       "    .dataframe tbody tr th {\n",
       "        vertical-align: top;\n",
       "    }\n",
       "\n",
       "    .dataframe thead th {\n",
       "        text-align: right;\n",
       "    }\n",
       "</style>\n",
       "<table border=\"1\" class=\"dataframe\">\n",
       "  <thead>\n",
       "    <tr style=\"text-align: right;\">\n",
       "      <th></th>\n",
       "      <th>Unnamed: 0</th>\n",
       "      <th>customerid</th>\n",
       "      <th>gender</th>\n",
       "      <th>seniorcitizen</th>\n",
       "      <th>partner</th>\n",
       "      <th>dependents</th>\n",
       "      <th>tenure</th>\n",
       "      <th>phoneservice</th>\n",
       "      <th>multiplelines</th>\n",
       "      <th>internetservice</th>\n",
       "      <th>onlinesecurity</th>\n",
       "      <th>onlinebackup</th>\n",
       "      <th>deviceprotection</th>\n",
       "      <th>techsupport</th>\n",
       "      <th>streamingtv</th>\n",
       "      <th>streamingmovies</th>\n",
       "      <th>contract</th>\n",
       "      <th>paperlessbilling</th>\n",
       "      <th>paymentmethod</th>\n",
       "      <th>monthlycharges</th>\n",
       "      <th>totalcharges</th>\n",
       "      <th>churn</th>\n",
       "    </tr>\n",
       "  </thead>\n",
       "  <tbody>\n",
       "  </tbody>\n",
       "</table>\n",
       "</div>"
      ],
      "text/plain": [
       "Empty DataFrame\n",
       "Columns: [Unnamed: 0, customerid, gender, seniorcitizen, partner, dependents, tenure, phoneservice, multiplelines, internetservice, onlinesecurity, onlinebackup, deviceprotection, techsupport, streamingtv, streamingmovies, contract, paperlessbilling, paymentmethod, monthlycharges, totalcharges, churn]\n",
       "Index: []"
      ]
     },
     "execution_count": 5,
     "metadata": {},
     "output_type": "execute_result"
    }
   ],
   "source": [
    "result = pd.merge(yes, no) # just a reminder. merge fails because there are no matching rows\n",
    "result.head(10000400000290000)"
   ]
  },
  {
   "cell_type": "code",
   "execution_count": 6,
   "id": "e9170095-f8b6-4303-a56e-fe0c720ec65e",
   "metadata": {},
   "outputs": [
    {
     "data": {
      "text/html": [
       "<div>\n",
       "<style scoped>\n",
       "    .dataframe tbody tr th:only-of-type {\n",
       "        vertical-align: middle;\n",
       "    }\n",
       "\n",
       "    .dataframe tbody tr th {\n",
       "        vertical-align: top;\n",
       "    }\n",
       "\n",
       "    .dataframe thead th {\n",
       "        text-align: right;\n",
       "    }\n",
       "</style>\n",
       "<table border=\"1\" class=\"dataframe\">\n",
       "  <thead>\n",
       "    <tr style=\"text-align: right;\">\n",
       "      <th></th>\n",
       "      <th>Unnamed: 0</th>\n",
       "      <th>customerid</th>\n",
       "      <th>gender</th>\n",
       "      <th>seniorcitizen</th>\n",
       "      <th>partner</th>\n",
       "      <th>dependents</th>\n",
       "      <th>tenure</th>\n",
       "      <th>phoneservice</th>\n",
       "      <th>multiplelines</th>\n",
       "      <th>internetservice</th>\n",
       "      <th>onlinesecurity</th>\n",
       "      <th>onlinebackup</th>\n",
       "      <th>deviceprotection</th>\n",
       "      <th>techsupport</th>\n",
       "      <th>streamingtv</th>\n",
       "      <th>streamingmovies</th>\n",
       "      <th>contract</th>\n",
       "      <th>paperlessbilling</th>\n",
       "      <th>paymentmethod</th>\n",
       "      <th>monthlycharges</th>\n",
       "      <th>totalcharges</th>\n",
       "      <th>churn</th>\n",
       "    </tr>\n",
       "  </thead>\n",
       "  <tbody>\n",
       "    <tr>\n",
       "      <th>1668</th>\n",
       "      <td>1668</td>\n",
       "      <td>9659-QEQSY</td>\n",
       "      <td>Female</td>\n",
       "      <td>0</td>\n",
       "      <td>No</td>\n",
       "      <td>No</td>\n",
       "      <td>45</td>\n",
       "      <td>Yes</td>\n",
       "      <td>Yes</td>\n",
       "      <td>Fiber optic</td>\n",
       "      <td>Yes</td>\n",
       "      <td>Yes</td>\n",
       "      <td>Yes</td>\n",
       "      <td>Yes</td>\n",
       "      <td>Yes</td>\n",
       "      <td>Yes</td>\n",
       "      <td>Month-to-month</td>\n",
       "      <td>Yes</td>\n",
       "      <td>Electronic check</td>\n",
       "      <td>115.65</td>\n",
       "      <td>5125.5</td>\n",
       "      <td>No</td>\n",
       "    </tr>\n",
       "    <tr>\n",
       "      <th>3107</th>\n",
       "      <td>3107</td>\n",
       "      <td>5038-ETMLM</td>\n",
       "      <td>Female</td>\n",
       "      <td>0</td>\n",
       "      <td>Yes</td>\n",
       "      <td>No</td>\n",
       "      <td>72</td>\n",
       "      <td>Yes</td>\n",
       "      <td>Yes</td>\n",
       "      <td>Fiber optic</td>\n",
       "      <td>Yes</td>\n",
       "      <td>Yes</td>\n",
       "      <td>Yes</td>\n",
       "      <td>Yes</td>\n",
       "      <td>Yes</td>\n",
       "      <td>Yes</td>\n",
       "      <td>Two year</td>\n",
       "      <td>Yes</td>\n",
       "      <td>Bank transfer (automatic)</td>\n",
       "      <td>113.65</td>\n",
       "      <td>8182.75</td>\n",
       "      <td>No</td>\n",
       "    </tr>\n",
       "    <tr>\n",
       "      <th>2433</th>\n",
       "      <td>2433</td>\n",
       "      <td>8314-DPQHL</td>\n",
       "      <td>Male</td>\n",
       "      <td>0</td>\n",
       "      <td>No</td>\n",
       "      <td>No</td>\n",
       "      <td>9</td>\n",
       "      <td>No</td>\n",
       "      <td>No phone service</td>\n",
       "      <td>DSL</td>\n",
       "      <td>Yes</td>\n",
       "      <td>No</td>\n",
       "      <td>Yes</td>\n",
       "      <td>Yes</td>\n",
       "      <td>No</td>\n",
       "      <td>Yes</td>\n",
       "      <td>One year</td>\n",
       "      <td>No</td>\n",
       "      <td>Mailed check</td>\n",
       "      <td>50.80</td>\n",
       "      <td>463.6</td>\n",
       "      <td>No</td>\n",
       "    </tr>\n",
       "    <tr>\n",
       "      <th>3996</th>\n",
       "      <td>3996</td>\n",
       "      <td>1395-WSWXR</td>\n",
       "      <td>Male</td>\n",
       "      <td>0</td>\n",
       "      <td>No</td>\n",
       "      <td>No</td>\n",
       "      <td>24</td>\n",
       "      <td>Yes</td>\n",
       "      <td>No</td>\n",
       "      <td>No</td>\n",
       "      <td>No internet service</td>\n",
       "      <td>No internet service</td>\n",
       "      <td>No internet service</td>\n",
       "      <td>No internet service</td>\n",
       "      <td>No internet service</td>\n",
       "      <td>No internet service</td>\n",
       "      <td>Two year</td>\n",
       "      <td>No</td>\n",
       "      <td>Mailed check</td>\n",
       "      <td>20.75</td>\n",
       "      <td>487.05</td>\n",
       "      <td>No</td>\n",
       "    </tr>\n",
       "    <tr>\n",
       "      <th>5890</th>\n",
       "      <td>5890</td>\n",
       "      <td>0383-CLDDA</td>\n",
       "      <td>Female</td>\n",
       "      <td>0</td>\n",
       "      <td>No</td>\n",
       "      <td>No</td>\n",
       "      <td>69</td>\n",
       "      <td>Yes</td>\n",
       "      <td>Yes</td>\n",
       "      <td>DSL</td>\n",
       "      <td>Yes</td>\n",
       "      <td>No</td>\n",
       "      <td>Yes</td>\n",
       "      <td>Yes</td>\n",
       "      <td>Yes</td>\n",
       "      <td>Yes</td>\n",
       "      <td>Two year</td>\n",
       "      <td>Yes</td>\n",
       "      <td>Credit card (automatic)</td>\n",
       "      <td>85.35</td>\n",
       "      <td>5897.4</td>\n",
       "      <td>No</td>\n",
       "    </tr>\n",
       "  </tbody>\n",
       "</table>\n",
       "</div>"
      ],
      "text/plain": [
       "      Unnamed: 0  customerid  gender  seniorcitizen partner dependents  \\\n",
       "1668        1668  9659-QEQSY  Female              0      No         No   \n",
       "3107        3107  5038-ETMLM  Female              0     Yes         No   \n",
       "2433        2433  8314-DPQHL    Male              0      No         No   \n",
       "3996        3996  1395-WSWXR    Male              0      No         No   \n",
       "5890        5890  0383-CLDDA  Female              0      No         No   \n",
       "\n",
       "      tenure phoneservice     multiplelines internetservice  \\\n",
       "1668      45          Yes               Yes     Fiber optic   \n",
       "3107      72          Yes               Yes     Fiber optic   \n",
       "2433       9           No  No phone service             DSL   \n",
       "3996      24          Yes                No              No   \n",
       "5890      69          Yes               Yes             DSL   \n",
       "\n",
       "           onlinesecurity         onlinebackup     deviceprotection  \\\n",
       "1668                  Yes                  Yes                  Yes   \n",
       "3107                  Yes                  Yes                  Yes   \n",
       "2433                  Yes                   No                  Yes   \n",
       "3996  No internet service  No internet service  No internet service   \n",
       "5890                  Yes                   No                  Yes   \n",
       "\n",
       "              techsupport          streamingtv      streamingmovies  \\\n",
       "1668                  Yes                  Yes                  Yes   \n",
       "3107                  Yes                  Yes                  Yes   \n",
       "2433                  Yes                   No                  Yes   \n",
       "3996  No internet service  No internet service  No internet service   \n",
       "5890                  Yes                  Yes                  Yes   \n",
       "\n",
       "            contract paperlessbilling              paymentmethod  \\\n",
       "1668  Month-to-month              Yes           Electronic check   \n",
       "3107        Two year              Yes  Bank transfer (automatic)   \n",
       "2433        One year               No               Mailed check   \n",
       "3996        Two year               No               Mailed check   \n",
       "5890        Two year              Yes    Credit card (automatic)   \n",
       "\n",
       "      monthlycharges totalcharges churn  \n",
       "1668          115.65       5125.5    No  \n",
       "3107          113.65      8182.75    No  \n",
       "2433           50.80        463.6    No  \n",
       "3996           20.75       487.05    No  \n",
       "5890           85.35       5897.4    No  "
      ]
     },
     "execution_count": 6,
     "metadata": {},
     "output_type": "execute_result"
    }
   ],
   "source": [
    "data2 = pd.concat([yes,no], axis=0) # We do it with concat\n",
    "data2.sample(5)"
   ]
  },
  {
   "cell_type": "code",
   "execution_count": 7,
   "id": "5f0fbaa0-5cf2-4108-a744-6f0afa45379c",
   "metadata": {},
   "outputs": [
    {
     "data": {
      "text/plain": [
       "No     5174\n",
       "Yes     500\n",
       "Name: churn, dtype: int64"
      ]
     },
     "execution_count": 7,
     "metadata": {},
     "output_type": "execute_result"
    }
   ],
   "source": [
    "data2['churn'].value_counts() # Now we have:"
   ]
  },
  {
   "cell_type": "code",
   "execution_count": 8,
   "id": "432e1243-34df-43d2-9373-475f96019b98",
   "metadata": {},
   "outputs": [
    {
     "data": {
      "text/plain": [
       "No     5174\n",
       "Yes    1869\n",
       "Name: churn, dtype: int64"
      ]
     },
     "execution_count": 8,
     "metadata": {},
     "output_type": "execute_result"
    }
   ],
   "source": [
    "data['churn'].value_counts() # And before:"
   ]
  },
  {
   "cell_type": "code",
   "execution_count": 9,
   "id": "0f6e4a04-f1f2-4a9b-aa94-3f789c033b2a",
   "metadata": {},
   "outputs": [
    {
     "data": {
      "text/html": [
       "<div>\n",
       "<style scoped>\n",
       "    .dataframe tbody tr th:only-of-type {\n",
       "        vertical-align: middle;\n",
       "    }\n",
       "\n",
       "    .dataframe tbody tr th {\n",
       "        vertical-align: top;\n",
       "    }\n",
       "\n",
       "    .dataframe thead th {\n",
       "        text-align: right;\n",
       "    }\n",
       "</style>\n",
       "<table border=\"1\" class=\"dataframe\">\n",
       "  <thead>\n",
       "    <tr style=\"text-align: right;\">\n",
       "      <th></th>\n",
       "      <th>Unnamed: 0</th>\n",
       "      <th>customerid</th>\n",
       "      <th>gender</th>\n",
       "      <th>seniorcitizen</th>\n",
       "      <th>partner</th>\n",
       "      <th>dependents</th>\n",
       "      <th>tenure</th>\n",
       "      <th>phoneservice</th>\n",
       "      <th>multiplelines</th>\n",
       "      <th>internetservice</th>\n",
       "      <th>onlinesecurity</th>\n",
       "      <th>onlinebackup</th>\n",
       "      <th>deviceprotection</th>\n",
       "      <th>techsupport</th>\n",
       "      <th>streamingtv</th>\n",
       "      <th>streamingmovies</th>\n",
       "      <th>contract</th>\n",
       "      <th>paperlessbilling</th>\n",
       "      <th>paymentmethod</th>\n",
       "      <th>monthlycharges</th>\n",
       "      <th>totalcharges</th>\n",
       "      <th>churn</th>\n",
       "    </tr>\n",
       "  </thead>\n",
       "  <tbody>\n",
       "    <tr>\n",
       "      <th>4856</th>\n",
       "      <td>4856</td>\n",
       "      <td>8714-EUHJO</td>\n",
       "      <td>Female</td>\n",
       "      <td>0</td>\n",
       "      <td>Yes</td>\n",
       "      <td>Yes</td>\n",
       "      <td>31</td>\n",
       "      <td>Yes</td>\n",
       "      <td>Yes</td>\n",
       "      <td>Fiber optic</td>\n",
       "      <td>No</td>\n",
       "      <td>Yes</td>\n",
       "      <td>No</td>\n",
       "      <td>No</td>\n",
       "      <td>No</td>\n",
       "      <td>Yes</td>\n",
       "      <td>Month-to-month</td>\n",
       "      <td>Yes</td>\n",
       "      <td>Electronic check</td>\n",
       "      <td>91.15</td>\n",
       "      <td>2995.45</td>\n",
       "      <td>Yes</td>\n",
       "    </tr>\n",
       "    <tr>\n",
       "      <th>1838</th>\n",
       "      <td>1838</td>\n",
       "      <td>8058-DMYRU</td>\n",
       "      <td>Male</td>\n",
       "      <td>1</td>\n",
       "      <td>No</td>\n",
       "      <td>No</td>\n",
       "      <td>54</td>\n",
       "      <td>Yes</td>\n",
       "      <td>Yes</td>\n",
       "      <td>Fiber optic</td>\n",
       "      <td>No</td>\n",
       "      <td>Yes</td>\n",
       "      <td>No</td>\n",
       "      <td>No</td>\n",
       "      <td>No</td>\n",
       "      <td>Yes</td>\n",
       "      <td>Month-to-month</td>\n",
       "      <td>Yes</td>\n",
       "      <td>Electronic check</td>\n",
       "      <td>90.05</td>\n",
       "      <td>4931.8</td>\n",
       "      <td>No</td>\n",
       "    </tr>\n",
       "    <tr>\n",
       "      <th>3269</th>\n",
       "      <td>3269</td>\n",
       "      <td>2662-NNTDK</td>\n",
       "      <td>Male</td>\n",
       "      <td>0</td>\n",
       "      <td>No</td>\n",
       "      <td>No</td>\n",
       "      <td>65</td>\n",
       "      <td>Yes</td>\n",
       "      <td>Yes</td>\n",
       "      <td>No</td>\n",
       "      <td>No internet service</td>\n",
       "      <td>No internet service</td>\n",
       "      <td>No internet service</td>\n",
       "      <td>No internet service</td>\n",
       "      <td>No internet service</td>\n",
       "      <td>No internet service</td>\n",
       "      <td>One year</td>\n",
       "      <td>No</td>\n",
       "      <td>Credit card (automatic)</td>\n",
       "      <td>24.80</td>\n",
       "      <td>1600.95</td>\n",
       "      <td>No</td>\n",
       "    </tr>\n",
       "    <tr>\n",
       "      <th>5372</th>\n",
       "      <td>5372</td>\n",
       "      <td>2786-GCDPI</td>\n",
       "      <td>Female</td>\n",
       "      <td>1</td>\n",
       "      <td>No</td>\n",
       "      <td>No</td>\n",
       "      <td>50</td>\n",
       "      <td>Yes</td>\n",
       "      <td>Yes</td>\n",
       "      <td>Fiber optic</td>\n",
       "      <td>No</td>\n",
       "      <td>No</td>\n",
       "      <td>Yes</td>\n",
       "      <td>Yes</td>\n",
       "      <td>Yes</td>\n",
       "      <td>Yes</td>\n",
       "      <td>Month-to-month</td>\n",
       "      <td>Yes</td>\n",
       "      <td>Electronic check</td>\n",
       "      <td>104.95</td>\n",
       "      <td>5222.35</td>\n",
       "      <td>No</td>\n",
       "    </tr>\n",
       "    <tr>\n",
       "      <th>4986</th>\n",
       "      <td>4986</td>\n",
       "      <td>2694-CIUMO</td>\n",
       "      <td>Female</td>\n",
       "      <td>0</td>\n",
       "      <td>No</td>\n",
       "      <td>No</td>\n",
       "      <td>12</td>\n",
       "      <td>Yes</td>\n",
       "      <td>Yes</td>\n",
       "      <td>Fiber optic</td>\n",
       "      <td>No</td>\n",
       "      <td>No</td>\n",
       "      <td>No</td>\n",
       "      <td>Yes</td>\n",
       "      <td>No</td>\n",
       "      <td>No</td>\n",
       "      <td>Month-to-month</td>\n",
       "      <td>Yes</td>\n",
       "      <td>Credit card (automatic)</td>\n",
       "      <td>79.55</td>\n",
       "      <td>958.25</td>\n",
       "      <td>No</td>\n",
       "    </tr>\n",
       "  </tbody>\n",
       "</table>\n",
       "</div>"
      ],
      "text/plain": [
       "      Unnamed: 0  customerid  gender  seniorcitizen partner dependents  \\\n",
       "4856        4856  8714-EUHJO  Female              0     Yes        Yes   \n",
       "1838        1838  8058-DMYRU    Male              1      No         No   \n",
       "3269        3269  2662-NNTDK    Male              0      No         No   \n",
       "5372        5372  2786-GCDPI  Female              1      No         No   \n",
       "4986        4986  2694-CIUMO  Female              0      No         No   \n",
       "\n",
       "      tenure phoneservice multiplelines internetservice       onlinesecurity  \\\n",
       "4856      31          Yes           Yes     Fiber optic                   No   \n",
       "1838      54          Yes           Yes     Fiber optic                   No   \n",
       "3269      65          Yes           Yes              No  No internet service   \n",
       "5372      50          Yes           Yes     Fiber optic                   No   \n",
       "4986      12          Yes           Yes     Fiber optic                   No   \n",
       "\n",
       "             onlinebackup     deviceprotection          techsupport  \\\n",
       "4856                  Yes                   No                   No   \n",
       "1838                  Yes                   No                   No   \n",
       "3269  No internet service  No internet service  No internet service   \n",
       "5372                   No                  Yes                  Yes   \n",
       "4986                   No                   No                  Yes   \n",
       "\n",
       "              streamingtv      streamingmovies        contract  \\\n",
       "4856                   No                  Yes  Month-to-month   \n",
       "1838                   No                  Yes  Month-to-month   \n",
       "3269  No internet service  No internet service        One year   \n",
       "5372                  Yes                  Yes  Month-to-month   \n",
       "4986                   No                   No  Month-to-month   \n",
       "\n",
       "     paperlessbilling            paymentmethod  monthlycharges totalcharges  \\\n",
       "4856              Yes         Electronic check           91.15      2995.45   \n",
       "1838              Yes         Electronic check           90.05       4931.8   \n",
       "3269               No  Credit card (automatic)           24.80      1600.95   \n",
       "5372              Yes         Electronic check          104.95      5222.35   \n",
       "4986              Yes  Credit card (automatic)           79.55       958.25   \n",
       "\n",
       "     churn  \n",
       "4856   Yes  \n",
       "1838    No  \n",
       "3269    No  \n",
       "5372    No  \n",
       "4986    No  "
      ]
     },
     "execution_count": 9,
     "metadata": {},
     "output_type": "execute_result"
    }
   ],
   "source": [
    "# Mixing the Data\n",
    "data2 = data2.sample(frac=1) # Frac = How many data we want to mix 1=100%, 0.5=50%, so on...\n",
    "data2.head()"
   ]
  },
  {
   "cell_type": "markdown",
   "id": "224c24d1-6523-4b05-98c6-93057798299f",
   "metadata": {},
   "source": [
    "### X-Y Train Split"
   ]
  },
  {
   "cell_type": "code",
   "execution_count": 10,
   "id": "8cbbe5d4-7ce7-4a24-b0e9-270dbed574f4",
   "metadata": {},
   "outputs": [
    {
     "data": {
      "text/html": [
       "<div>\n",
       "<style scoped>\n",
       "    .dataframe tbody tr th:only-of-type {\n",
       "        vertical-align: middle;\n",
       "    }\n",
       "\n",
       "    .dataframe tbody tr th {\n",
       "        vertical-align: top;\n",
       "    }\n",
       "\n",
       "    .dataframe thead th {\n",
       "        text-align: right;\n",
       "    }\n",
       "</style>\n",
       "<table border=\"1\" class=\"dataframe\">\n",
       "  <thead>\n",
       "    <tr style=\"text-align: right;\">\n",
       "      <th></th>\n",
       "      <th>Unnamed: 0</th>\n",
       "      <th>seniorcitizen</th>\n",
       "      <th>tenure</th>\n",
       "      <th>monthlycharges</th>\n",
       "    </tr>\n",
       "  </thead>\n",
       "  <tbody>\n",
       "    <tr>\n",
       "      <th>4856</th>\n",
       "      <td>4856</td>\n",
       "      <td>0</td>\n",
       "      <td>31</td>\n",
       "      <td>91.15</td>\n",
       "    </tr>\n",
       "    <tr>\n",
       "      <th>1838</th>\n",
       "      <td>1838</td>\n",
       "      <td>1</td>\n",
       "      <td>54</td>\n",
       "      <td>90.05</td>\n",
       "    </tr>\n",
       "    <tr>\n",
       "      <th>3269</th>\n",
       "      <td>3269</td>\n",
       "      <td>0</td>\n",
       "      <td>65</td>\n",
       "      <td>24.80</td>\n",
       "    </tr>\n",
       "    <tr>\n",
       "      <th>5372</th>\n",
       "      <td>5372</td>\n",
       "      <td>1</td>\n",
       "      <td>50</td>\n",
       "      <td>104.95</td>\n",
       "    </tr>\n",
       "    <tr>\n",
       "      <th>4986</th>\n",
       "      <td>4986</td>\n",
       "      <td>0</td>\n",
       "      <td>12</td>\n",
       "      <td>79.55</td>\n",
       "    </tr>\n",
       "  </tbody>\n",
       "</table>\n",
       "</div>"
      ],
      "text/plain": [
       "      Unnamed: 0  seniorcitizen  tenure  monthlycharges\n",
       "4856        4856              0      31           91.15\n",
       "1838        1838              1      54           90.05\n",
       "3269        3269              0      65           24.80\n",
       "5372        5372              1      50          104.95\n",
       "4986        4986              0      12           79.55"
      ]
     },
     "execution_count": 10,
     "metadata": {},
     "output_type": "execute_result"
    }
   ],
   "source": [
    "Y = data2['churn']\n",
    "X = data2.select_dtypes(include=[np.number]) # Selecting Numericals\n",
    "X.head()"
   ]
  },
  {
   "cell_type": "markdown",
   "id": "bcfc2bdd-c42e-48ad-a2cb-cec95d02304d",
   "metadata": {},
   "source": [
    "### Modeling"
   ]
  },
  {
   "cell_type": "code",
   "execution_count": 11,
   "id": "cc03bcc9-9ea0-4461-99db-18a2569c2eb0",
   "metadata": {},
   "outputs": [
    {
     "data": {
      "text/plain": [
       "No     5174\n",
       "Yes    5174\n",
       "Name: churn, dtype: int64"
      ]
     },
     "execution_count": 11,
     "metadata": {},
     "output_type": "execute_result"
    }
   ],
   "source": [
    "yes = data[data['churn']=='Yes'].sample(5174, replace=True) # Replace \"True\" to duplicate data, 5174 to fill it with the same number of Nays and Yeys\n",
    "no = data[data['churn']=='No']\n",
    "data3 = pd.concat([yes,no], axis=0)\n",
    "data3 = data3.sample(frac=1)\n",
    "data3['churn'].value_counts()"
   ]
  },
  {
   "cell_type": "code",
   "execution_count": 12,
   "id": "f653f4cd-7d2d-47bf-b0b5-e8429a97d71b",
   "metadata": {},
   "outputs": [],
   "source": [
    "# Normalazing the data\n",
    "transformer = StandardScaler().fit(X)\n",
    "\n",
    "# Transformation\n",
    "X = transformer.transform(X)\n",
    "\n",
    "# We define train and test for X and Y\n",
    "X_train, X_test, y_train, y_test = train_test_split(X, Y, test_size=0.3, random_state=42) \n",
    "\n",
    "# test_size = We give 30% for testing and 70% for testing\n",
    "# random_state = it'll improve the model to divide always the model in the same way"
   ]
  },
  {
   "cell_type": "markdown",
   "id": "d796294a-fc93-44a3-8d9a-dd67241ed87a",
   "metadata": {},
   "source": [
    "### Logistic Regression"
   ]
  },
  {
   "cell_type": "code",
   "execution_count": 13,
   "id": "bb6fa168-e211-4b1b-8c68-4bdbf4cb2c4b",
   "metadata": {},
   "outputs": [
    {
     "data": {
      "text/plain": [
       "0.9183793305930711"
      ]
     },
     "execution_count": 13,
     "metadata": {},
     "output_type": "execute_result"
    }
   ],
   "source": [
    "# We traing the training dataset using Logistic Regression\n",
    "logistic = LogisticRegression(random_state=0).fit(X_train, y_train)\n",
    "\n",
    "# Predictions\n",
    "predictions = logistic.predict(X_test)\n",
    "\n",
    "confusion_matrix(y_test, predictions)\n",
    "\n",
    "logistic.score(X_test, y_test)"
   ]
  },
  {
   "cell_type": "markdown",
   "id": "db447350-cf4e-4198-bd63-ff2011a6e44b",
   "metadata": {},
   "source": [
    "<blockquote style=\"background-color: #ffeeba; color: #856404; border-color: #ffeeba; padding: 10px; border-radius: 5px;\">\n",
    "\n",
    "After increasing the the imbalance, we got a 92% score. Is that all? Why is our model better after reducing even futher the number of `yes`?\n",
    "</blockquote>"
   ]
  },
  {
   "cell_type": "code",
   "execution_count": 14,
   "id": "2c81594b-9766-4549-b4a0-c8aa08583475",
   "metadata": {},
   "outputs": [
    {
     "name": "stdout",
     "output_type": "stream",
     "text": [
      "              precision    recall  f1-score   support\n",
      "\n",
      "          No       0.92      1.00      0.96      1561\n",
      "         Yes       0.71      0.04      0.07       142\n",
      "\n",
      "    accuracy                           0.92      1703\n",
      "   macro avg       0.82      0.52      0.51      1703\n",
      "weighted avg       0.90      0.92      0.88      1703\n",
      "\n"
     ]
    }
   ],
   "source": [
    "logistic_2 = classification_report(y_test, predictions) # Manually increasing imbalance\n",
    "print(logistic_2)"
   ]
  },
  {
   "attachments": {
    "aeef7626-f5cb-4478-8af6-85b8e0b8018d.png": {
     "image/png": "[encoded data removed]"
    }
   },
   "cell_type": "markdown",
   "id": "a7c21597-bce4-448f-8ef4-62cc94a0514d",
   "metadata": {},
   "source": [
    "![image.png](attachment:aeef7626-f5cb-4478-8af6-85b8e0b8018d.png)"
   ]
  },
  {
   "cell_type": "markdown",
   "id": "91386b44-c334-474d-98c0-56df58dda98d",
   "metadata": {},
   "source": [
    "<blockquote style=\"background-color: #d4edda; color: #155724; border-color: #c3e6cb; padding: 10px; border-radius: 5px;\">\n",
    "    \n",
    "Yes, our score is better but not the other metrics (macro avg, weighted avg) because the model is worst at predicting the `yes`\n",
    "    \n",
    "</blockquote>"
   ]
  }
 ],
 "metadata": {
  "kernelspec": {
   "display_name": "Python 3 (ipykernel)",
   "language": "python",
   "name": "python3"
  },
  "language_info": {
   "codemirror_mode": {
    "name": "ipython",
    "version": 3
   },
   "file_extension": ".py",
   "mimetype": "text/x-python",
   "name": "python",
   "nbconvert_exporter": "python",
   "pygments_lexer": "ipython3",
   "version": "3.9.13"
  }
 },
 "nbformat": 4,
 "nbformat_minor": 5
}
