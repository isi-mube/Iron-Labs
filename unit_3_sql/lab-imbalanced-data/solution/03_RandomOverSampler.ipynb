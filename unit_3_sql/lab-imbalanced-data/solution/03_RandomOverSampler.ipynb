{
 "cells": [
  {
   "cell_type": "markdown",
   "id": "eb0383c2-9b88-4d30-9569-09ccc424a1cd",
   "metadata": {},
   "source": [
    "## 00 |"
   ]
  },
  {
   "cell_type": "code",
   "execution_count": 1,
   "id": "0700c547-6c37-406f-a026-e03a751fb7f5",
   "metadata": {},
   "outputs": [],
   "source": [
    "# [Basic Libraries]\n",
    "import os # file management \n",
    "import pandas as pd # data manipulation\n",
    "import numpy as np # numerical operations\n",
    "\n",
    "# [Machine Learning]\n",
    "from sklearn.preprocessing import StandardScaler # data normalization\n",
    "from sklearn.model_selection import train_test_split # train/test sets\n",
    "from sklearn.linear_model import LogisticRegression # logistic model\n",
    "from sklearn.metrics import confusion_matrix # confussion matrix metric\n",
    "\n",
    "# [New!] How to deal with imbalanced Data?\n",
    "from imblearn.over_sampling import RandomOverSampler # Random oversampling technique\n",
    "from sklearn.metrics import classification_report # Metrics to check & compare our score\n",
    "\n",
    "# [Settings]\n",
    "import warnings\n",
    "warnings.filterwarnings('ignore') # ignore warnings\n",
    "pd.set_option('display.max_columns', None) # display all columns"
   ]
  },
  {
   "cell_type": "markdown",
   "id": "6c408e2b-d137-4f91-b7fe-8a50debe1b3e",
   "metadata": {},
   "source": [
    "## 01 | Data Extraction"
   ]
  },
  {
   "cell_type": "code",
   "execution_count": 12,
   "id": "0a972dd3-140e-47d4-aeb3-e5de92e75a9b",
   "metadata": {},
   "outputs": [],
   "source": [
    "file_path = os.path.join(\"C:/Users/apisi/01. IronData/01. GitHub/01. IronLabs/unit_3_sql/lab-imbalanced-data/data\", \"Cdata.csv\")\n",
    "data = pd.read_csv(file_path, index_col=0) # to deal with an error `Unnamed: 0` column"
   ]
  },
  {
   "cell_type": "markdown",
   "id": "3f54bee6-de29-4d70-8583-f650a6eb2f03",
   "metadata": {},
   "source": [
    "## 02 | OverSampling with `RandomOverSampler`"
   ]
  },
  {
   "cell_type": "code",
   "execution_count": 13,
   "id": "65ce93e5-5359-4f9e-a368-e806867ae9c1",
   "metadata": {},
   "outputs": [],
   "source": [
    "# Selecting our library\n",
    "ros = RandomOverSampler()"
   ]
  },
  {
   "cell_type": "markdown",
   "id": "a829b5dd-ee38-4783-aa43-847affe54d80",
   "metadata": {},
   "source": [
    "### X-Y Train Split"
   ]
  },
  {
   "cell_type": "code",
   "execution_count": 14,
   "id": "a7537014-58fc-4393-8a33-7fddec4a7fad",
   "metadata": {},
   "outputs": [
    {
     "data": {
      "text/html": [
       "<div>\n",
       "<style scoped>\n",
       "    .dataframe tbody tr th:only-of-type {\n",
       "        vertical-align: middle;\n",
       "    }\n",
       "\n",
       "    .dataframe tbody tr th {\n",
       "        vertical-align: top;\n",
       "    }\n",
       "\n",
       "    .dataframe thead th {\n",
       "        text-align: right;\n",
       "    }\n",
       "</style>\n",
       "<table border=\"1\" class=\"dataframe\">\n",
       "  <thead>\n",
       "    <tr style=\"text-align: right;\">\n",
       "      <th></th>\n",
       "      <th>seniorcitizen</th>\n",
       "      <th>tenure</th>\n",
       "      <th>monthlycharges</th>\n",
       "    </tr>\n",
       "  </thead>\n",
       "  <tbody>\n",
       "    <tr>\n",
       "      <th>0</th>\n",
       "      <td>0</td>\n",
       "      <td>1</td>\n",
       "      <td>29.85</td>\n",
       "    </tr>\n",
       "    <tr>\n",
       "      <th>1</th>\n",
       "      <td>0</td>\n",
       "      <td>34</td>\n",
       "      <td>56.95</td>\n",
       "    </tr>\n",
       "    <tr>\n",
       "      <th>2</th>\n",
       "      <td>0</td>\n",
       "      <td>2</td>\n",
       "      <td>53.85</td>\n",
       "    </tr>\n",
       "    <tr>\n",
       "      <th>3</th>\n",
       "      <td>0</td>\n",
       "      <td>45</td>\n",
       "      <td>42.30</td>\n",
       "    </tr>\n",
       "    <tr>\n",
       "      <th>4</th>\n",
       "      <td>0</td>\n",
       "      <td>2</td>\n",
       "      <td>70.70</td>\n",
       "    </tr>\n",
       "  </tbody>\n",
       "</table>\n",
       "</div>"
      ],
      "text/plain": [
       "   seniorcitizen  tenure  monthlycharges\n",
       "0              0       1           29.85\n",
       "1              0      34           56.95\n",
       "2              0       2           53.85\n",
       "3              0      45           42.30\n",
       "4              0       2           70.70"
      ]
     },
     "execution_count": 14,
     "metadata": {},
     "output_type": "execute_result"
    }
   ],
   "source": [
    "y = data['churn']\n",
    "X = data.select_dtypes(include=[np.number]) # Selecting Numericals\n",
    "X.head()"
   ]
  },
  {
   "cell_type": "markdown",
   "id": "da1bf711-192b-4955-8865-41d12281ce63",
   "metadata": {},
   "source": [
    "### Modeling"
   ]
  },
  {
   "cell_type": "code",
   "execution_count": 16,
   "id": "ee452705-67a4-4e45-9903-1092622fa402",
   "metadata": {},
   "outputs": [],
   "source": [
    "# Normalazing the data\n",
    "transformer = StandardScaler().fit(X)\n",
    "\n",
    "# Transformation\n",
    "X = transformer.transform(X)\n",
    "\n",
    "# Using RandomUnderSampler\n",
    "X_ros, y_ros = ros.fit_resample(X, y)\n",
    "transformer = StandardScaler().fit(X_ros)\n",
    "X = transformer.transform(X_ros)\n",
    "\n",
    "# We define train and test for X and Y\n",
    "X_train, X_test, y_train, y_test = train_test_split(X, y_ros, test_size=0.3, random_state=100)\n",
    "\n",
    "# test_size = We give 30% for testing and 70% for testing\n",
    "# random_state = it'll improve the model to divide always the model in the same way"
   ]
  },
  {
   "cell_type": "code",
   "execution_count": 17,
   "id": "68b0db8e-38f1-4498-b293-2c9a44f702e4",
   "metadata": {},
   "outputs": [
    {
     "data": {
      "text/plain": [
       "No     5174\n",
       "Yes    1869\n",
       "Name: churn, dtype: int64"
      ]
     },
     "execution_count": 17,
     "metadata": {},
     "output_type": "execute_result"
    }
   ],
   "source": [
    "y.value_counts()"
   ]
  },
  {
   "cell_type": "code",
   "execution_count": 19,
   "id": "649f3cce-3ef9-4646-8244-356954f92e5d",
   "metadata": {},
   "outputs": [
    {
     "data": {
      "text/plain": [
       "No     5174\n",
       "Yes    5174\n",
       "Name: churn, dtype: int64"
      ]
     },
     "execution_count": 19,
     "metadata": {},
     "output_type": "execute_result"
    }
   ],
   "source": [
    "y_ros.value_counts()"
   ]
  },
  {
   "cell_type": "code",
   "execution_count": 10,
   "id": "3bcbee46-8f10-4ff4-a142-b39fe8c7136a",
   "metadata": {},
   "outputs": [],
   "source": [
    "# Ta-Da!"
   ]
  },
  {
   "cell_type": "markdown",
   "id": "7a4c2f72-4a89-46ad-bbbe-2cd21738b672",
   "metadata": {},
   "source": [
    "### Logistic Regression"
   ]
  },
  {
   "cell_type": "code",
   "execution_count": 20,
   "id": "7853e38b-ceaf-4ba6-aeef-22b2fb599b05",
   "metadata": {},
   "outputs": [
    {
     "data": {
      "text/plain": [
       "0.7458937198067633"
      ]
     },
     "execution_count": 20,
     "metadata": {},
     "output_type": "execute_result"
    }
   ],
   "source": [
    "# We traing the training dataset using Logistic Regression\n",
    "logistic = LogisticRegression(random_state=0).fit(X_train, y_train)\n",
    "\n",
    "# Predictions\n",
    "predictions = logistic.predict(X_test)\n",
    "\n",
    "logistic.score(X_test, y_test)"
   ]
  },
  {
   "cell_type": "code",
   "execution_count": 21,
   "id": "4e18e28b-2577-4a2f-8642-0254c7affc60",
   "metadata": {},
   "outputs": [
    {
     "name": "stdout",
     "output_type": "stream",
     "text": [
      "              precision    recall  f1-score   support\n",
      "\n",
      "          No       0.74      0.75      0.75      1557\n",
      "         Yes       0.75      0.74      0.74      1548\n",
      "\n",
      "    accuracy                           0.75      3105\n",
      "   macro avg       0.75      0.75      0.75      3105\n",
      "weighted avg       0.75      0.75      0.75      3105\n",
      "\n"
     ]
    }
   ],
   "source": [
    "logistic_4 = classification_report(y_test, predictions)\n",
    "print(logistic_4) # RandomOverSampler"
   ]
  },
  {
   "cell_type": "markdown",
   "id": "992512ed-e828-495d-a0d9-63242c8e6ea9",
   "metadata": {},
   "source": [
    "<blockquote style=\"background-color: #d4edda; color: #155724; border-color: #c3e6cb; padding: 10px; border-radius: 5px;\">\n",
    "    \n",
    "Our score is overall **1% better** after Upsampling (so it's better than undersampling, in this case. Question is, can this be improved?\n",
    "</blockquote>"
   ]
  },
  {
   "attachments": {
    "088a0e8b-4418-4ec6-a279-77a30cf277ba.png": {
     "image/png": "[encoded data removed]"
    }
   },
   "cell_type": "markdown",
   "id": "77ed8b2d-04e4-4f00-82a2-1f444e5a8820",
   "metadata": {},
   "source": [
    "![image.png](attachment:088a0e8b-4418-4ec6-a279-77a30cf277ba.png)"
   ]
  },
  {
   "attachments": {
    "e292fbd1-c4b8-496e-b12a-419adba7c587.png": {
     "image/png": "[encoded data removed]"
    }
   },
   "cell_type": "markdown",
   "id": "d1c5710a-490d-499f-bde8-41e3203cb62d",
   "metadata": {},
   "source": [
    "![image.png](attachment:e292fbd1-c4b8-496e-b12a-419adba7c587.png)"
   ]
  },
  {
   "attachments": {
    "88f91e2c-3583-4240-873a-e7466202051f.png": {
     "image/png": "[encoded data removed]"
    }
   },
   "cell_type": "markdown",
   "id": "957729b5-f688-427a-9b98-b224bbd53b50",
   "metadata": {},
   "source": [
    "![image.png](attachment:88f91e2c-3583-4240-873a-e7466202051f.png)"
   ]
  }
 ],
 "metadata": {
  "kernelspec": {
   "display_name": "Python 3 (ipykernel)",
   "language": "python",
   "name": "python3"
  },
  "language_info": {
   "codemirror_mode": {
    "name": "ipython",
    "version": 3
   },
   "file_extension": ".py",
   "mimetype": "text/x-python",
   "name": "python",
   "nbconvert_exporter": "python",
   "pygments_lexer": "ipython3",
   "version": "3.9.13"
  }
 },
 "nbformat": 4,
 "nbformat_minor": 5
}
