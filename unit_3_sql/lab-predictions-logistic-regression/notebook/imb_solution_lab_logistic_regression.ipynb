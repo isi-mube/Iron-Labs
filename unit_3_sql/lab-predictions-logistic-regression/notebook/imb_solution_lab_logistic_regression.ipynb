{
 "cells": [
  {
   "cell_type": "markdown",
   "id": "29b95f8a",
   "metadata": {},
   "source": [
    "## 00. Coding Best Practices"
   ]
  },
  {
   "cell_type": "code",
   "execution_count": 44,
   "id": "14b630e4",
   "metadata": {},
   "outputs": [],
   "source": [
    "# Basic libraries\n",
    "import pandas as pd # data manipulatioN\n",
    "import numpy as np # numerical operations\n",
    "import matplotlib.pyplot as plt # 2D visualizations\n",
    "import seaborn as sns # high-resolution visualization\n",
    "import warnings # warning messages management\n",
    "\n",
    "# SQL connection\n",
    "from sqlalchemy import create_engine # let's connect to SQL\n",
    "from getpass import getpass\n",
    "\n",
    "# Machine Learning\n",
    "from sklearn.preprocessing import LabelEncoder # label encoding\n",
    "from sklearn.model_selection import train_test_split # splitting data into train/test sets\n",
    "from sklearn.linear_model import LogisticRegression # logistic model\n",
    "\n",
    "# Settings\n",
    "pd.set_option('display.max_columns', None) # display all columns\n",
    "warnings.filterwarnings('ignore') # ignore warnings"
   ]
  },
  {
   "cell_type": "code",
   "execution_count": 40,
   "id": "daa5770c",
   "metadata": {},
   "outputs": [],
   "source": [
    "# Basic functions\n",
    "def data_info(): # improved data.info()\n",
    "    print(f\"The DataFrame shape is {data.shape}.\")\n",
    "    print()\n",
    "    print(\"DataFrame random row sample and full columns:\")\n",
    "    return data.sample(5)"
   ]
  },
  {
   "cell_type": "markdown",
   "id": "1b1c89d5",
   "metadata": {},
   "source": [
    "## 01 - Getting the Data"
   ]
  },
  {
   "cell_type": "code",
   "execution_count": 41,
   "id": "69059d29",
   "metadata": {},
   "outputs": [
    {
     "name": "stdout",
     "output_type": "stream",
     "text": [
      "Please, kindly insert your password:········\n"
     ]
    }
   ],
   "source": [
    "# Creating a safe connection\n",
    "connection_string = 'mysql+pymysql://root:' + password + '@localhost/sakila'\n",
    "engine = create_engine(connection_string)\n",
    "password = getpass(\"Please, kindly insert your password:\")"
   ]
  },
  {
   "cell_type": "code",
   "execution_count": 42,
   "id": "2c3efb00",
   "metadata": {
    "scrolled": true
   },
   "outputs": [
    {
     "data": {
      "text/html": [
       "<div>\n",
       "<style scoped>\n",
       "    .dataframe tbody tr th:only-of-type {\n",
       "        vertical-align: middle;\n",
       "    }\n",
       "\n",
       "    .dataframe tbody tr th {\n",
       "        vertical-align: top;\n",
       "    }\n",
       "\n",
       "    .dataframe thead th {\n",
       "        text-align: right;\n",
       "    }\n",
       "</style>\n",
       "<table border=\"1\" class=\"dataframe\">\n",
       "  <thead>\n",
       "    <tr style=\"text-align: right;\">\n",
       "      <th></th>\n",
       "      <th>film_id</th>\n",
       "      <th>rental_duration</th>\n",
       "      <th>rental_rate</th>\n",
       "      <th>length</th>\n",
       "      <th>rating</th>\n",
       "      <th>special_features</th>\n",
       "      <th>name</th>\n",
       "      <th>n_rentals</th>\n",
       "    </tr>\n",
       "  </thead>\n",
       "  <tbody>\n",
       "    <tr>\n",
       "      <th>253</th>\n",
       "      <td>178</td>\n",
       "      <td>6</td>\n",
       "      <td>0.99</td>\n",
       "      <td>115</td>\n",
       "      <td>G</td>\n",
       "      <td>Deleted Scenes,Behind the Scenes</td>\n",
       "      <td>Comedy</td>\n",
       "      <td>6.0</td>\n",
       "    </tr>\n",
       "    <tr>\n",
       "      <th>569</th>\n",
       "      <td>900</td>\n",
       "      <td>6</td>\n",
       "      <td>2.99</td>\n",
       "      <td>136</td>\n",
       "      <td>R</td>\n",
       "      <td>Behind the Scenes</td>\n",
       "      <td>Foreign</td>\n",
       "      <td>14.0</td>\n",
       "    </tr>\n",
       "    <tr>\n",
       "      <th>347</th>\n",
       "      <td>650</td>\n",
       "      <td>3</td>\n",
       "      <td>0.99</td>\n",
       "      <td>144</td>\n",
       "      <td>G</td>\n",
       "      <td>Trailers,Commentaries,Deleted Scenes,Behind th...</td>\n",
       "      <td>Documentary</td>\n",
       "      <td>24.0</td>\n",
       "    </tr>\n",
       "    <tr>\n",
       "      <th>366</th>\n",
       "      <td>945</td>\n",
       "      <td>5</td>\n",
       "      <td>0.99</td>\n",
       "      <td>164</td>\n",
       "      <td>R</td>\n",
       "      <td>Deleted Scenes</td>\n",
       "      <td>Documentary</td>\n",
       "      <td>28.0</td>\n",
       "    </tr>\n",
       "    <tr>\n",
       "      <th>205</th>\n",
       "      <td>341</td>\n",
       "      <td>5</td>\n",
       "      <td>0.99</td>\n",
       "      <td>82</td>\n",
       "      <td>PG</td>\n",
       "      <td>Trailers,Deleted Scenes</td>\n",
       "      <td>Classics</td>\n",
       "      <td>29.0</td>\n",
       "    </tr>\n",
       "  </tbody>\n",
       "</table>\n",
       "</div>"
      ],
      "text/plain": [
       "     film_id  rental_duration  rental_rate  length rating  \\\n",
       "253      178                6         0.99     115      G   \n",
       "569      900                6         2.99     136      R   \n",
       "347      650                3         0.99     144      G   \n",
       "366      945                5         0.99     164      R   \n",
       "205      341                5         0.99      82     PG   \n",
       "\n",
       "                                      special_features         name  n_rentals  \n",
       "253                   Deleted Scenes,Behind the Scenes       Comedy        6.0  \n",
       "569                                  Behind the Scenes      Foreign       14.0  \n",
       "347  Trailers,Commentaries,Deleted Scenes,Behind th...  Documentary       24.0  \n",
       "366                                     Deleted Scenes  Documentary       28.0  \n",
       "205                            Trailers,Deleted Scenes     Classics       29.0  "
      ]
     },
     "execution_count": 42,
     "metadata": {},
     "output_type": "execute_result"
    }
   ],
   "source": [
    "# Getting the data\n",
    "data = pd.read_sql_query('SELECT * FROM logistic_data;', engine)\n",
    "data.sample(5)"
   ]
  },
  {
   "cell_type": "code",
   "execution_count": 43,
   "id": "e61e747e",
   "metadata": {},
   "outputs": [
    {
     "name": "stdout",
     "output_type": "stream",
     "text": [
      "The DataFrame shape is (1000, 8).\n",
      "\n",
      "DataFrame random row sample and full columns:\n"
     ]
    },
    {
     "data": {
      "text/html": [
       "<div>\n",
       "<style scoped>\n",
       "    .dataframe tbody tr th:only-of-type {\n",
       "        vertical-align: middle;\n",
       "    }\n",
       "\n",
       "    .dataframe tbody tr th {\n",
       "        vertical-align: top;\n",
       "    }\n",
       "\n",
       "    .dataframe thead th {\n",
       "        text-align: right;\n",
       "    }\n",
       "</style>\n",
       "<table border=\"1\" class=\"dataframe\">\n",
       "  <thead>\n",
       "    <tr style=\"text-align: right;\">\n",
       "      <th></th>\n",
       "      <th>film_id</th>\n",
       "      <th>rental_duration</th>\n",
       "      <th>rental_rate</th>\n",
       "      <th>length</th>\n",
       "      <th>rating</th>\n",
       "      <th>special_features</th>\n",
       "      <th>name</th>\n",
       "      <th>n_rentals</th>\n",
       "    </tr>\n",
       "  </thead>\n",
       "  <tbody>\n",
       "    <tr>\n",
       "      <th>998</th>\n",
       "      <td>988</td>\n",
       "      <td>7</td>\n",
       "      <td>2.99</td>\n",
       "      <td>139</td>\n",
       "      <td>R</td>\n",
       "      <td>Trailers,Commentaries,Behind the Scenes</td>\n",
       "      <td>Travel</td>\n",
       "      <td>15.0</td>\n",
       "    </tr>\n",
       "    <tr>\n",
       "      <th>702</th>\n",
       "      <td>133</td>\n",
       "      <td>7</td>\n",
       "      <td>4.99</td>\n",
       "      <td>117</td>\n",
       "      <td>NC-17</td>\n",
       "      <td>Trailers</td>\n",
       "      <td>Music</td>\n",
       "      <td>12.0</td>\n",
       "    </tr>\n",
       "    <tr>\n",
       "      <th>169</th>\n",
       "      <td>688</td>\n",
       "      <td>6</td>\n",
       "      <td>0.99</td>\n",
       "      <td>61</td>\n",
       "      <td>PG</td>\n",
       "      <td>Trailers,Commentaries,Deleted Scenes,Behind th...</td>\n",
       "      <td>Children</td>\n",
       "      <td>18.0</td>\n",
       "    </tr>\n",
       "    <tr>\n",
       "      <th>390</th>\n",
       "      <td>272</td>\n",
       "      <td>5</td>\n",
       "      <td>4.99</td>\n",
       "      <td>153</td>\n",
       "      <td>NC-17</td>\n",
       "      <td>Deleted Scenes</td>\n",
       "      <td>Drama</td>\n",
       "      <td>15.0</td>\n",
       "    </tr>\n",
       "    <tr>\n",
       "      <th>122</th>\n",
       "      <td>886</td>\n",
       "      <td>5</td>\n",
       "      <td>0.99</td>\n",
       "      <td>184</td>\n",
       "      <td>PG-13</td>\n",
       "      <td>Deleted Scenes,Behind the Scenes</td>\n",
       "      <td>Animation</td>\n",
       "      <td>10.0</td>\n",
       "    </tr>\n",
       "  </tbody>\n",
       "</table>\n",
       "</div>"
      ],
      "text/plain": [
       "     film_id  rental_duration  rental_rate  length rating  \\\n",
       "998      988                7         2.99     139      R   \n",
       "702      133                7         4.99     117  NC-17   \n",
       "169      688                6         0.99      61     PG   \n",
       "390      272                5         4.99     153  NC-17   \n",
       "122      886                5         0.99     184  PG-13   \n",
       "\n",
       "                                      special_features       name  n_rentals  \n",
       "998            Trailers,Commentaries,Behind the Scenes     Travel       15.0  \n",
       "702                                           Trailers      Music       12.0  \n",
       "169  Trailers,Commentaries,Deleted Scenes,Behind th...   Children       18.0  \n",
       "390                                     Deleted Scenes      Drama       15.0  \n",
       "122                   Deleted Scenes,Behind the Scenes  Animation       10.0  "
      ]
     },
     "execution_count": 43,
     "metadata": {},
     "output_type": "execute_result"
    }
   ],
   "source": [
    "data_info()"
   ]
  },
  {
   "cell_type": "markdown",
   "id": "c5dbcf55",
   "metadata": {},
   "source": [
    "<div class=\"alert alert-block alert-success\">\n",
    "    \n",
    "**First impression:**\n",
    "    \n",
    "_____________\n",
    "\n",
    "The following database is a collection of over **one-year** (from 2005/05/24 to 2006/02/14) 1.000 film's information among 8 different columnns.\n",
    "    \n",
    "Our **binary target** will the probability of a movie being rented again or not in the future (low or high) --> We will therefore classify movies based on low/high (binary) demand renting rate by analyzing the total number of rentals for each film within the time period (n_rentals)\n",
    "    \n",
    "**Firstly**, data cleaning:\n",
    "_____________\n",
    "</div>"
   ]
  },
  {
   "cell_type": "markdown",
   "id": "0fbf83fb",
   "metadata": {},
   "source": [
    "## 02 - Cleaning the Data"
   ]
  },
  {
   "cell_type": "code",
   "execution_count": 70,
   "id": "9fcba1ec",
   "metadata": {},
   "outputs": [],
   "source": [
    "# copy as best practices\n",
    "data_copy = data.copy()"
   ]
  },
  {
   "cell_type": "markdown",
   "id": "564f08fc",
   "metadata": {},
   "source": [
    "### Encoding\n",
    "<div class=\"alert alert-block alert-info\">\n",
    "    \n",
    "* We imported features such as `rating`, `special_features` and `name` as categoricals, we will use LabelEncoder to encode them to numericals:\n",
    "</div>"
   ]
  },
  {
   "cell_type": "code",
   "execution_count": 54,
   "id": "5e1632e7",
   "metadata": {
    "scrolled": true
   },
   "outputs": [
    {
     "data": {
      "text/html": [
       "<div>\n",
       "<style scoped>\n",
       "    .dataframe tbody tr th:only-of-type {\n",
       "        vertical-align: middle;\n",
       "    }\n",
       "\n",
       "    .dataframe tbody tr th {\n",
       "        vertical-align: top;\n",
       "    }\n",
       "\n",
       "    .dataframe thead th {\n",
       "        text-align: right;\n",
       "    }\n",
       "</style>\n",
       "<table border=\"1\" class=\"dataframe\">\n",
       "  <thead>\n",
       "    <tr style=\"text-align: right;\">\n",
       "      <th></th>\n",
       "      <th>rating_ecd</th>\n",
       "      <th>special_features_ecd</th>\n",
       "      <th>name_ecd</th>\n",
       "      <th>rating</th>\n",
       "      <th>special_features</th>\n",
       "      <th>name</th>\n",
       "    </tr>\n",
       "  </thead>\n",
       "  <tbody>\n",
       "    <tr>\n",
       "      <th>859</th>\n",
       "      <td>3</td>\n",
       "      <td>6</td>\n",
       "      <td>13</td>\n",
       "      <td>PG-13</td>\n",
       "      <td>Deleted Scenes,Behind the Scenes</td>\n",
       "      <td>Sci-Fi</td>\n",
       "    </tr>\n",
       "    <tr>\n",
       "      <th>361</th>\n",
       "      <td>3</td>\n",
       "      <td>8</td>\n",
       "      <td>5</td>\n",
       "      <td>PG-13</td>\n",
       "      <td>Trailers,Behind the Scenes</td>\n",
       "      <td>Documentary</td>\n",
       "    </tr>\n",
       "    <tr>\n",
       "      <th>735</th>\n",
       "      <td>3</td>\n",
       "      <td>13</td>\n",
       "      <td>11</td>\n",
       "      <td>PG-13</td>\n",
       "      <td>Trailers,Deleted Scenes</td>\n",
       "      <td>Music</td>\n",
       "    </tr>\n",
       "    <tr>\n",
       "      <th>642</th>\n",
       "      <td>2</td>\n",
       "      <td>6</td>\n",
       "      <td>10</td>\n",
       "      <td>PG</td>\n",
       "      <td>Deleted Scenes,Behind the Scenes</td>\n",
       "      <td>Horror</td>\n",
       "    </tr>\n",
       "    <tr>\n",
       "      <th>537</th>\n",
       "      <td>1</td>\n",
       "      <td>9</td>\n",
       "      <td>8</td>\n",
       "      <td>NC-17</td>\n",
       "      <td>Trailers,Commentaries</td>\n",
       "      <td>Foreign</td>\n",
       "    </tr>\n",
       "  </tbody>\n",
       "</table>\n",
       "</div>"
      ],
      "text/plain": [
       "     rating_ecd  special_features_ecd  name_ecd rating  \\\n",
       "859           3                     6        13  PG-13   \n",
       "361           3                     8         5  PG-13   \n",
       "735           3                    13        11  PG-13   \n",
       "642           2                     6        10     PG   \n",
       "537           1                     9         8  NC-17   \n",
       "\n",
       "                     special_features         name  \n",
       "859  Deleted Scenes,Behind the Scenes       Sci-Fi  \n",
       "361        Trailers,Behind the Scenes  Documentary  \n",
       "735           Trailers,Deleted Scenes        Music  \n",
       "642  Deleted Scenes,Behind the Scenes       Horror  \n",
       "537             Trailers,Commentaries      Foreign  "
      ]
     },
     "execution_count": 54,
     "metadata": {},
     "output_type": "execute_result"
    }
   ],
   "source": [
    "# Initialize the LabelEncoder object from sklearn\n",
    "le = LabelEncoder()\n",
    "\n",
    "# Fit and transform the data frame column\n",
    "data_copy['rating_ecd'] = le.fit_transform(data_copy['rating'])\n",
    "data_copy['special_features_ecd'] = le.fit_transform(data_copy['special_features'])\n",
    "data_copy['name_ecd'] = le.fit_transform(data_copy['name'])\n",
    "\n",
    "# Visualizing the changes\n",
    "data_encoded_f = data_copy[['rating_ecd', 'special_features_ecd', 'name_ecd']]\n",
    "data_comparision_2 = pd.concat([data_encoded_f, data_copy[['rating', 'special_features', 'name']]], axis=1)\n",
    "data_comparision_2.sample(5)"
   ]
  },
  {
   "cell_type": "markdown",
   "id": "f6051464",
   "metadata": {},
   "source": [
    "### Selecting numericals / Dealing with Null values"
   ]
  },
  {
   "cell_type": "markdown",
   "id": "e469565b",
   "metadata": {},
   "source": [
    "<div class=\"alert alert-block alert-info\">\n",
    "    \n",
    "* We will now select all numericals from `data_copy` to drop the categoricals.\n",
    "* Also, we will use `.fillna(0)` to deal with NaN values from the LEFT JOIN with n_rental (explained in [SQL database-extraction](https://github.com/isi-mube/iron-labs/blob/main/unit_3_sql/lab-predictions-logistic-regression/notebook/sql_database_extraction_process.sql))\n",
    "</div>"
   ]
  },
  {
   "cell_type": "code",
   "execution_count": 102,
   "id": "bc480d48",
   "metadata": {
    "scrolled": false
   },
   "outputs": [
    {
     "data": {
      "text/html": [
       "<div>\n",
       "<style scoped>\n",
       "    .dataframe tbody tr th:only-of-type {\n",
       "        vertical-align: middle;\n",
       "    }\n",
       "\n",
       "    .dataframe tbody tr th {\n",
       "        vertical-align: top;\n",
       "    }\n",
       "\n",
       "    .dataframe thead th {\n",
       "        text-align: right;\n",
       "    }\n",
       "</style>\n",
       "<table border=\"1\" class=\"dataframe\">\n",
       "  <thead>\n",
       "    <tr style=\"text-align: right;\">\n",
       "      <th></th>\n",
       "      <th>film_id</th>\n",
       "      <th>rental_duration</th>\n",
       "      <th>rental_rate</th>\n",
       "      <th>length</th>\n",
       "      <th>n_rentals</th>\n",
       "    </tr>\n",
       "  </thead>\n",
       "  <tbody>\n",
       "    <tr>\n",
       "      <th>504</th>\n",
       "      <td>6</td>\n",
       "      <td>3</td>\n",
       "      <td>2.99</td>\n",
       "      <td>169</td>\n",
       "      <td>21.0</td>\n",
       "    </tr>\n",
       "    <tr>\n",
       "      <th>574</th>\n",
       "      <td>961</td>\n",
       "      <td>7</td>\n",
       "      <td>4.99</td>\n",
       "      <td>161</td>\n",
       "      <td>23.0</td>\n",
       "    </tr>\n",
       "    <tr>\n",
       "      <th>565</th>\n",
       "      <td>789</td>\n",
       "      <td>7</td>\n",
       "      <td>2.99</td>\n",
       "      <td>79</td>\n",
       "      <td>28.0</td>\n",
       "    </tr>\n",
       "    <tr>\n",
       "      <th>51</th>\n",
       "      <td>802</td>\n",
       "      <td>7</td>\n",
       "      <td>2.99</td>\n",
       "      <td>132</td>\n",
       "      <td>0.0</td>\n",
       "    </tr>\n",
       "    <tr>\n",
       "      <th>202</th>\n",
       "      <td>249</td>\n",
       "      <td>7</td>\n",
       "      <td>0.99</td>\n",
       "      <td>176</td>\n",
       "      <td>21.0</td>\n",
       "    </tr>\n",
       "    <tr>\n",
       "      <th>152</th>\n",
       "      <td>392</td>\n",
       "      <td>5</td>\n",
       "      <td>4.99</td>\n",
       "      <td>51</td>\n",
       "      <td>16.0</td>\n",
       "    </tr>\n",
       "    <tr>\n",
       "      <th>807</th>\n",
       "      <td>994</td>\n",
       "      <td>6</td>\n",
       "      <td>4.99</td>\n",
       "      <td>100</td>\n",
       "      <td>13.0</td>\n",
       "    </tr>\n",
       "    <tr>\n",
       "      <th>183</th>\n",
       "      <td>896</td>\n",
       "      <td>3</td>\n",
       "      <td>0.99</td>\n",
       "      <td>157</td>\n",
       "      <td>15.0</td>\n",
       "    </tr>\n",
       "    <tr>\n",
       "      <th>953</th>\n",
       "      <td>169</td>\n",
       "      <td>3</td>\n",
       "      <td>2.99</td>\n",
       "      <td>76</td>\n",
       "      <td>17.0</td>\n",
       "    </tr>\n",
       "    <tr>\n",
       "      <th>458</th>\n",
       "      <td>345</td>\n",
       "      <td>3</td>\n",
       "      <td>0.99</td>\n",
       "      <td>161</td>\n",
       "      <td>18.0</td>\n",
       "    </tr>\n",
       "  </tbody>\n",
       "</table>\n",
       "</div>"
      ],
      "text/plain": [
       "     film_id  rental_duration  rental_rate  length  n_rentals\n",
       "504        6                3         2.99     169       21.0\n",
       "574      961                7         4.99     161       23.0\n",
       "565      789                7         2.99      79       28.0\n",
       "51       802                7         2.99     132        0.0\n",
       "202      249                7         0.99     176       21.0\n",
       "152      392                5         4.99      51       16.0\n",
       "807      994                6         4.99     100       13.0\n",
       "183      896                3         0.99     157       15.0\n",
       "953      169                3         2.99      76       17.0\n",
       "458      345                3         0.99     161       18.0"
      ]
     },
     "execution_count": 102,
     "metadata": {},
     "output_type": "execute_result"
    }
   ],
   "source": [
    "# Create a new dataframe with only the numerical columns using select_dtypes\n",
    "X_N = data_copy.select_dtypes(np.number).fillna(0) # we also deal with NaN values\n",
    "X_N.sample(10)"
   ]
  },
  {
   "cell_type": "code",
   "execution_count": 100,
   "id": "2ad95e62",
   "metadata": {},
   "outputs": [
    {
     "data": {
      "text/plain": [
       "(1000, 5)"
      ]
     },
     "execution_count": 100,
     "metadata": {},
     "output_type": "execute_result"
    }
   ],
   "source": [
    "X_N.shape"
   ]
  },
  {
   "cell_type": "markdown",
   "id": "be8aa467",
   "metadata": {},
   "source": [
    "<div class=\"alert alert-block alert-success\">\n",
    "    \n",
    "A **cleaned** dataset with `5 features`. Without the target. \n",
    "   \n",
    "</div>"
   ]
  },
  {
   "cell_type": "markdown",
   "id": "3bbebce5",
   "metadata": {},
   "source": [
    "## 03 - Data wrangling"
   ]
  },
  {
   "cell_type": "markdown",
   "id": "04a2ad74",
   "metadata": {},
   "source": [
    "### Target Creation"
   ]
  },
  {
   "cell_type": "markdown",
   "id": "3bff8a75",
   "metadata": {},
   "source": [
    "<div class=\"alert alert-block alert-warning\">\n",
    "    \n",
    "Our target is the probability of a movie being rented again or not in the futre. \n",
    "    \n",
    "--> In a nutshell, which movies have **higher** or **lower** demand.\n",
    "    \n",
    "To create our `target`, we will first look at the distribution of `n_rentals` and calculate the `mean` and `median`. Check the [SQL database-extraction](https://github.com/isi-mube/iron-labs/blob/main/unit_3_sql/lab-predictions-logistic-regression/notebook/sql_database_extraction_process.sql) for more information about this process.</div>"
   ]
  },
  {
   "cell_type": "code",
   "execution_count": 103,
   "id": "6c68683e",
   "metadata": {
    "scrolled": true
   },
   "outputs": [
    {
     "data": {
      "image/png": "[encoded data removed]",
      "text/plain": [
       "<Figure size 640x480 with 1 Axes>"
      ]
     },
     "metadata": {},
     "output_type": "display_data"
    }
   ],
   "source": [
    "sns.histplot(X_N['n_rentals'], kde=True)\n",
    "plt.xlabel('Number of Rentals')\n",
    "plt.ylabel('Frequency')\n",
    "plt.title('Distribution of Rentals')\n",
    "plt.show()"
   ]
  },
  {
   "cell_type": "markdown",
   "id": "272cdf02",
   "metadata": {},
   "source": [
    "<div class=\"alert alert-block alert-success\">\n",
    "\n",
    "The plot shows a bell-curve distribution, meaning a **normal distribution** of the data. We should expect similar mean and median results.\n",
    "</div>"
   ]
  },
  {
   "cell_type": "code",
   "execution_count": 104,
   "id": "70feda68",
   "metadata": {},
   "outputs": [
    {
     "name": "stdout",
     "output_type": "stream",
     "text": [
      "Mean =  15.862\n",
      "Median: 16.0\n"
     ]
    }
   ],
   "source": [
    "# Compute the mean and median of n_rentals\n",
    "n_rentals_mean = X_N['n_rentals'].mean()\n",
    "n_rentals_median = X_N['n_rentals'].median()\n",
    "print(\"Mean = \", n_rentals_mean)\n",
    "print(\"Median:\", n_rentals_median)"
   ]
  },
  {
   "cell_type": "markdown",
   "id": "327d8dff",
   "metadata": {},
   "source": [
    "<div class=\"alert alert-block alert-success\">\n",
    "\n",
    "As expected, both average (mean) and the middle value (median) have similar results. We will define our treshold with the **mean** since it's more specific to **get our target**, a binary feature with:\n",
    "    \n",
    "* 1 **if** data **is** bigger than `n_rental` mean **else** 0\n",
    "</div>"
   ]
  },
  {
   "cell_type": "code",
   "execution_count": 105,
   "id": "7e71c5d2",
   "metadata": {},
   "outputs": [],
   "source": [
    "X_N['movie_demand'] = [1 if x > n_rentals_mean else 0 for x in data['n_rentals']]"
   ]
  },
  {
   "cell_type": "code",
   "execution_count": 106,
   "id": "02a73e24",
   "metadata": {},
   "outputs": [
    {
     "name": "stdout",
     "output_type": "stream",
     "text": [
      "The Column Headers are : ['film_id', 'rental_duration', 'rental_rate', 'length', 'n_rentals', 'movie_demand']\n"
     ]
    }
   ],
   "source": [
    "# Our target `movie_demnad` should be automatically to the right\n",
    "data_headers = list(X_N.columns.values) # to get and check all column names\n",
    "print(\"The Column Headers are :\", data_headers) "
   ]
  },
  {
   "cell_type": "code",
   "execution_count": 107,
   "id": "f01e37dc",
   "metadata": {},
   "outputs": [
    {
     "data": {
      "text/plain": [
       "(1000, 6)"
      ]
     },
     "execution_count": 107,
     "metadata": {},
     "output_type": "execute_result"
    }
   ],
   "source": [
    "# We simply move our target ________ to the right, for readibility and remove the rest of the columns that are summarized in other stats\n",
    "X_N.shape"
   ]
  },
  {
   "cell_type": "code",
   "execution_count": 109,
   "id": "16b35c72",
   "metadata": {},
   "outputs": [
    {
     "data": {
      "text/html": [
       "<div>\n",
       "<style scoped>\n",
       "    .dataframe tbody tr th:only-of-type {\n",
       "        vertical-align: middle;\n",
       "    }\n",
       "\n",
       "    .dataframe tbody tr th {\n",
       "        vertical-align: top;\n",
       "    }\n",
       "\n",
       "    .dataframe thead th {\n",
       "        text-align: right;\n",
       "    }\n",
       "</style>\n",
       "<table border=\"1\" class=\"dataframe\">\n",
       "  <thead>\n",
       "    <tr style=\"text-align: right;\">\n",
       "      <th></th>\n",
       "      <th>film_id</th>\n",
       "      <th>rental_duration</th>\n",
       "      <th>rental_rate</th>\n",
       "      <th>length</th>\n",
       "      <th>n_rentals</th>\n",
       "      <th>movie_demand</th>\n",
       "    </tr>\n",
       "  </thead>\n",
       "  <tbody>\n",
       "    <tr>\n",
       "      <th>40</th>\n",
       "      <td>586</td>\n",
       "      <td>4</td>\n",
       "      <td>0.99</td>\n",
       "      <td>60</td>\n",
       "      <td>23.0</td>\n",
       "      <td>1</td>\n",
       "    </tr>\n",
       "    <tr>\n",
       "      <th>423</th>\n",
       "      <td>818</td>\n",
       "      <td>4</td>\n",
       "      <td>4.99</td>\n",
       "      <td>180</td>\n",
       "      <td>19.0</td>\n",
       "      <td>1</td>\n",
       "    </tr>\n",
       "    <tr>\n",
       "      <th>627</th>\n",
       "      <td>807</td>\n",
       "      <td>4</td>\n",
       "      <td>0.99</td>\n",
       "      <td>87</td>\n",
       "      <td>21.0</td>\n",
       "      <td>1</td>\n",
       "    </tr>\n",
       "    <tr>\n",
       "      <th>965</th>\n",
       "      <td>347</td>\n",
       "      <td>7</td>\n",
       "      <td>4.99</td>\n",
       "      <td>119</td>\n",
       "      <td>14.0</td>\n",
       "      <td>0</td>\n",
       "    </tr>\n",
       "    <tr>\n",
       "      <th>322</th>\n",
       "      <td>248</td>\n",
       "      <td>6</td>\n",
       "      <td>4.99</td>\n",
       "      <td>177</td>\n",
       "      <td>7.0</td>\n",
       "      <td>0</td>\n",
       "    </tr>\n",
       "  </tbody>\n",
       "</table>\n",
       "</div>"
      ],
      "text/plain": [
       "     film_id  rental_duration  rental_rate  length  n_rentals  movie_demand\n",
       "40       586                4         0.99      60       23.0             1\n",
       "423      818                4         4.99     180       19.0             1\n",
       "627      807                4         0.99      87       21.0             1\n",
       "965      347                7         4.99     119       14.0             0\n",
       "322      248                6         4.99     177        7.0             0"
      ]
     },
     "execution_count": 109,
     "metadata": {},
     "output_type": "execute_result"
    }
   ],
   "source": [
    "X_N.sample(5)"
   ]
  },
  {
   "cell_type": "markdown",
   "id": "6bfa897b",
   "metadata": {},
   "source": [
    "<div class=\"alert alert-block alert-success\">\n",
    "\n",
    "**Now**, we have a cleaned dataset with `1.000` film's information in `6` distinct numerical features.\n",
    "</div>"
   ]
  },
  {
   "cell_type": "code",
   "execution_count": null,
   "id": "aff29b20",
   "metadata": {},
   "outputs": [],
   "source": []
  }
 ],
 "metadata": {
  "kernelspec": {
   "display_name": "Python 3 (ipykernel)",
   "language": "python",
   "name": "python3"
  },
  "language_info": {
   "codemirror_mode": {
    "name": "ipython",
    "version": 3
   },
   "file_extension": ".py",
   "mimetype": "text/x-python",
   "name": "python",
   "nbconvert_exporter": "python",
   "pygments_lexer": "ipython3",
   "version": "3.9.13"
  }
 },
 "nbformat": 4,
 "nbformat_minor": 5
}
