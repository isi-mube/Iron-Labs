{
 "cells": [
  {
   "cell_type": "markdown",
   "id": "29b95f8a",
   "metadata": {},
   "source": [
    "## 00. Coding Best Practices"
   ]
  },
  {
   "cell_type": "code",
   "execution_count": 44,
   "id": "14b630e4",
   "metadata": {},
   "outputs": [],
   "source": [
    "# Basic libraries\n",
    "import pandas as pd # data manipulatioN\n",
    "import numpy as np # numerical operations\n",
    "import matplotlib.pyplot as plt # 2D visualizations\n",
    "import seaborn as sns # high-resolution visualization\n",
    "import warnings # warning messages management\n",
    "\n",
    "# SQL connection\n",
    "from sqlalchemy import create_engine # let's connect to SQL\n",
    "from getpass import getpass\n",
    "\n",
    "# Machine Learning\n",
    "from sklearn.preprocessing import LabelEncoder # label encoding\n",
    "from sklearn.model_selection import train_test_split # splitting data into train/test sets\n",
    "from sklearn.linear_model import LogisticRegression # logistic model\n",
    "\n",
    "# Settings\n",
    "pd.set_option('display.max_columns', None) # display all columns\n",
    "warnings.filterwarnings('ignore') # ignore warnings"
   ]
  },
  {
   "cell_type": "code",
   "execution_count": 40,
   "id": "e011589c",
   "metadata": {},
   "outputs": [],
   "source": [
    "# Basic functions\n",
    "def data_info(): # improved data.info()\n",
    "    print(f\"The DataFrame shape is {data.shape}.\")\n",
    "    print()\n",
    "    print(\"DataFrame random row sample and full columns:\")\n",
    "    return data.sample(5)"
   ]
  },
  {
   "cell_type": "markdown",
   "id": "1b1c89d5",
   "metadata": {},
   "source": [
    "## 01 - Getting the Data"
   ]
  },
  {
   "cell_type": "code",
   "execution_count": 41,
   "id": "69059d29",
   "metadata": {},
   "outputs": [
    {
     "name": "stdout",
     "output_type": "stream",
     "text": [
      "Please, kindly insert your password:········\n"
     ]
    }
   ],
   "source": [
    "# Creating a safe connection\n",
    "connection_string = 'mysql+pymysql://root:' + password + '@localhost/sakila'\n",
    "engine = create_engine(connection_string)\n",
    "password = getpass(\"Please, kindly insert your password:\")"
   ]
  },
  {
   "cell_type": "code",
   "execution_count": 42,
   "id": "e81071c3",
   "metadata": {
    "scrolled": true
   },
   "outputs": [
    {
     "data": {
      "text/html": [
       "<div>\n",
       "<style scoped>\n",
       "    .dataframe tbody tr th:only-of-type {\n",
       "        vertical-align: middle;\n",
       "    }\n",
       "\n",
       "    .dataframe tbody tr th {\n",
       "        vertical-align: top;\n",
       "    }\n",
       "\n",
       "    .dataframe thead th {\n",
       "        text-align: right;\n",
       "    }\n",
       "</style>\n",
       "<table border=\"1\" class=\"dataframe\">\n",
       "  <thead>\n",
       "    <tr style=\"text-align: right;\">\n",
       "      <th></th>\n",
       "      <th>film_id</th>\n",
       "      <th>rental_duration</th>\n",
       "      <th>rental_rate</th>\n",
       "      <th>length</th>\n",
       "      <th>rating</th>\n",
       "      <th>special_features</th>\n",
       "      <th>name</th>\n",
       "      <th>n_rentals</th>\n",
       "    </tr>\n",
       "  </thead>\n",
       "  <tbody>\n",
       "    <tr>\n",
       "      <th>253</th>\n",
       "      <td>178</td>\n",
       "      <td>6</td>\n",
       "      <td>0.99</td>\n",
       "      <td>115</td>\n",
       "      <td>G</td>\n",
       "      <td>Deleted Scenes,Behind the Scenes</td>\n",
       "      <td>Comedy</td>\n",
       "      <td>6.0</td>\n",
       "    </tr>\n",
       "    <tr>\n",
       "      <th>569</th>\n",
       "      <td>900</td>\n",
       "      <td>6</td>\n",
       "      <td>2.99</td>\n",
       "      <td>136</td>\n",
       "      <td>R</td>\n",
       "      <td>Behind the Scenes</td>\n",
       "      <td>Foreign</td>\n",
       "      <td>14.0</td>\n",
       "    </tr>\n",
       "    <tr>\n",
       "      <th>347</th>\n",
       "      <td>650</td>\n",
       "      <td>3</td>\n",
       "      <td>0.99</td>\n",
       "      <td>144</td>\n",
       "      <td>G</td>\n",
       "      <td>Trailers,Commentaries,Deleted Scenes,Behind th...</td>\n",
       "      <td>Documentary</td>\n",
       "      <td>24.0</td>\n",
       "    </tr>\n",
       "    <tr>\n",
       "      <th>366</th>\n",
       "      <td>945</td>\n",
       "      <td>5</td>\n",
       "      <td>0.99</td>\n",
       "      <td>164</td>\n",
       "      <td>R</td>\n",
       "      <td>Deleted Scenes</td>\n",
       "      <td>Documentary</td>\n",
       "      <td>28.0</td>\n",
       "    </tr>\n",
       "    <tr>\n",
       "      <th>205</th>\n",
       "      <td>341</td>\n",
       "      <td>5</td>\n",
       "      <td>0.99</td>\n",
       "      <td>82</td>\n",
       "      <td>PG</td>\n",
       "      <td>Trailers,Deleted Scenes</td>\n",
       "      <td>Classics</td>\n",
       "      <td>29.0</td>\n",
       "    </tr>\n",
       "  </tbody>\n",
       "</table>\n",
       "</div>"
      ],
      "text/plain": [
       "     film_id  rental_duration  rental_rate  length rating  \\\n",
       "253      178                6         0.99     115      G   \n",
       "569      900                6         2.99     136      R   \n",
       "347      650                3         0.99     144      G   \n",
       "366      945                5         0.99     164      R   \n",
       "205      341                5         0.99      82     PG   \n",
       "\n",
       "                                      special_features         name  n_rentals  \n",
       "253                   Deleted Scenes,Behind the Scenes       Comedy        6.0  \n",
       "569                                  Behind the Scenes      Foreign       14.0  \n",
       "347  Trailers,Commentaries,Deleted Scenes,Behind th...  Documentary       24.0  \n",
       "366                                     Deleted Scenes  Documentary       28.0  \n",
       "205                            Trailers,Deleted Scenes     Classics       29.0  "
      ]
     },
     "execution_count": 42,
     "metadata": {},
     "output_type": "execute_result"
    }
   ],
   "source": [
    "# Getting the data\n",
    "data = pd.read_sql_query('SELECT * FROM logistic_data;', engine)\n",
    "data.sample(5)"
   ]
  },
  {
   "cell_type": "code",
   "execution_count": 43,
   "id": "5a4e3cb2",
   "metadata": {},
   "outputs": [
    {
     "name": "stdout",
     "output_type": "stream",
     "text": [
      "The DataFrame shape is (1000, 8).\n",
      "\n",
      "DataFrame random row sample and full columns:\n"
     ]
    },
    {
     "data": {
      "text/html": [
       "<div>\n",
       "<style scoped>\n",
       "    .dataframe tbody tr th:only-of-type {\n",
       "        vertical-align: middle;\n",
       "    }\n",
       "\n",
       "    .dataframe tbody tr th {\n",
       "        vertical-align: top;\n",
       "    }\n",
       "\n",
       "    .dataframe thead th {\n",
       "        text-align: right;\n",
       "    }\n",
       "</style>\n",
       "<table border=\"1\" class=\"dataframe\">\n",
       "  <thead>\n",
       "    <tr style=\"text-align: right;\">\n",
       "      <th></th>\n",
       "      <th>film_id</th>\n",
       "      <th>rental_duration</th>\n",
       "      <th>rental_rate</th>\n",
       "      <th>length</th>\n",
       "      <th>rating</th>\n",
       "      <th>special_features</th>\n",
       "      <th>name</th>\n",
       "      <th>n_rentals</th>\n",
       "    </tr>\n",
       "  </thead>\n",
       "  <tbody>\n",
       "    <tr>\n",
       "      <th>998</th>\n",
       "      <td>988</td>\n",
       "      <td>7</td>\n",
       "      <td>2.99</td>\n",
       "      <td>139</td>\n",
       "      <td>R</td>\n",
       "      <td>Trailers,Commentaries,Behind the Scenes</td>\n",
       "      <td>Travel</td>\n",
       "      <td>15.0</td>\n",
       "    </tr>\n",
       "    <tr>\n",
       "      <th>702</th>\n",
       "      <td>133</td>\n",
       "      <td>7</td>\n",
       "      <td>4.99</td>\n",
       "      <td>117</td>\n",
       "      <td>NC-17</td>\n",
       "      <td>Trailers</td>\n",
       "      <td>Music</td>\n",
       "      <td>12.0</td>\n",
       "    </tr>\n",
       "    <tr>\n",
       "      <th>169</th>\n",
       "      <td>688</td>\n",
       "      <td>6</td>\n",
       "      <td>0.99</td>\n",
       "      <td>61</td>\n",
       "      <td>PG</td>\n",
       "      <td>Trailers,Commentaries,Deleted Scenes,Behind th...</td>\n",
       "      <td>Children</td>\n",
       "      <td>18.0</td>\n",
       "    </tr>\n",
       "    <tr>\n",
       "      <th>390</th>\n",
       "      <td>272</td>\n",
       "      <td>5</td>\n",
       "      <td>4.99</td>\n",
       "      <td>153</td>\n",
       "      <td>NC-17</td>\n",
       "      <td>Deleted Scenes</td>\n",
       "      <td>Drama</td>\n",
       "      <td>15.0</td>\n",
       "    </tr>\n",
       "    <tr>\n",
       "      <th>122</th>\n",
       "      <td>886</td>\n",
       "      <td>5</td>\n",
       "      <td>0.99</td>\n",
       "      <td>184</td>\n",
       "      <td>PG-13</td>\n",
       "      <td>Deleted Scenes,Behind the Scenes</td>\n",
       "      <td>Animation</td>\n",
       "      <td>10.0</td>\n",
       "    </tr>\n",
       "  </tbody>\n",
       "</table>\n",
       "</div>"
      ],
      "text/plain": [
       "     film_id  rental_duration  rental_rate  length rating  \\\n",
       "998      988                7         2.99     139      R   \n",
       "702      133                7         4.99     117  NC-17   \n",
       "169      688                6         0.99      61     PG   \n",
       "390      272                5         4.99     153  NC-17   \n",
       "122      886                5         0.99     184  PG-13   \n",
       "\n",
       "                                      special_features       name  n_rentals  \n",
       "998            Trailers,Commentaries,Behind the Scenes     Travel       15.0  \n",
       "702                                           Trailers      Music       12.0  \n",
       "169  Trailers,Commentaries,Deleted Scenes,Behind th...   Children       18.0  \n",
       "390                                     Deleted Scenes      Drama       15.0  \n",
       "122                   Deleted Scenes,Behind the Scenes  Animation       10.0  "
      ]
     },
     "execution_count": 43,
     "metadata": {},
     "output_type": "execute_result"
    }
   ],
   "source": [
    "data_info()"
   ]
  },
  {
   "cell_type": "markdown",
   "id": "9edf2ddb",
   "metadata": {},
   "source": [
    "<div class=\"alert alert-block alert-info\">\n",
    "    \n",
    "**First impression:**\n",
    "    \n",
    "_____________\n",
    "\n",
    "The following database is a collection of over **one-year** (from 2005/05/24 to 2006/02/14) 1.000 film's information among 8 different columnns.\n",
    "    \n",
    "Our **binary target** will the probability of a movie being rented again or not in the future (low or high) --> We will therefore classify movies based on low/high (binary) demand renting rate by analyzing the total number of rentals for each film within the time period (n_rentals)\n",
    "    \n",
    "**Firstly**, data cleaning:\n",
    "_____________\n",
    "</div>"
   ]
  },
  {
   "cell_type": "markdown",
   "id": "0fbf83fb",
   "metadata": {},
   "source": [
    "## 02 - Cleaning the Data"
   ]
  },
  {
   "cell_type": "code",
   "execution_count": 51,
   "id": "31605e0b",
   "metadata": {},
   "outputs": [],
   "source": [
    "# copy as best practices\n",
    "data_copy = data.copy()"
   ]
  },
  {
   "cell_type": "markdown",
   "id": "d844bdf2",
   "metadata": {},
   "source": [
    "### Encoding\n",
    "<div class=\"alert alert-block alert-info\">\n",
    "    \n",
    "* We imported features such as `rating`, `special_features` and `name` as categoricals, we will use LabelEncoder to encode them to numericals:\n",
    "</div>"
   ]
  },
  {
   "cell_type": "code",
   "execution_count": 54,
   "id": "9d2a7611",
   "metadata": {},
   "outputs": [
    {
     "data": {
      "text/html": [
       "<div>\n",
       "<style scoped>\n",
       "    .dataframe tbody tr th:only-of-type {\n",
       "        vertical-align: middle;\n",
       "    }\n",
       "\n",
       "    .dataframe tbody tr th {\n",
       "        vertical-align: top;\n",
       "    }\n",
       "\n",
       "    .dataframe thead th {\n",
       "        text-align: right;\n",
       "    }\n",
       "</style>\n",
       "<table border=\"1\" class=\"dataframe\">\n",
       "  <thead>\n",
       "    <tr style=\"text-align: right;\">\n",
       "      <th></th>\n",
       "      <th>rating_ecd</th>\n",
       "      <th>special_features_ecd</th>\n",
       "      <th>name_ecd</th>\n",
       "      <th>rating</th>\n",
       "      <th>special_features</th>\n",
       "      <th>name</th>\n",
       "    </tr>\n",
       "  </thead>\n",
       "  <tbody>\n",
       "    <tr>\n",
       "      <th>859</th>\n",
       "      <td>3</td>\n",
       "      <td>6</td>\n",
       "      <td>13</td>\n",
       "      <td>PG-13</td>\n",
       "      <td>Deleted Scenes,Behind the Scenes</td>\n",
       "      <td>Sci-Fi</td>\n",
       "    </tr>\n",
       "    <tr>\n",
       "      <th>361</th>\n",
       "      <td>3</td>\n",
       "      <td>8</td>\n",
       "      <td>5</td>\n",
       "      <td>PG-13</td>\n",
       "      <td>Trailers,Behind the Scenes</td>\n",
       "      <td>Documentary</td>\n",
       "    </tr>\n",
       "    <tr>\n",
       "      <th>735</th>\n",
       "      <td>3</td>\n",
       "      <td>13</td>\n",
       "      <td>11</td>\n",
       "      <td>PG-13</td>\n",
       "      <td>Trailers,Deleted Scenes</td>\n",
       "      <td>Music</td>\n",
       "    </tr>\n",
       "    <tr>\n",
       "      <th>642</th>\n",
       "      <td>2</td>\n",
       "      <td>6</td>\n",
       "      <td>10</td>\n",
       "      <td>PG</td>\n",
       "      <td>Deleted Scenes,Behind the Scenes</td>\n",
       "      <td>Horror</td>\n",
       "    </tr>\n",
       "    <tr>\n",
       "      <th>537</th>\n",
       "      <td>1</td>\n",
       "      <td>9</td>\n",
       "      <td>8</td>\n",
       "      <td>NC-17</td>\n",
       "      <td>Trailers,Commentaries</td>\n",
       "      <td>Foreign</td>\n",
       "    </tr>\n",
       "  </tbody>\n",
       "</table>\n",
       "</div>"
      ],
      "text/plain": [
       "     rating_ecd  special_features_ecd  name_ecd rating  \\\n",
       "859           3                     6        13  PG-13   \n",
       "361           3                     8         5  PG-13   \n",
       "735           3                    13        11  PG-13   \n",
       "642           2                     6        10     PG   \n",
       "537           1                     9         8  NC-17   \n",
       "\n",
       "                     special_features         name  \n",
       "859  Deleted Scenes,Behind the Scenes       Sci-Fi  \n",
       "361        Trailers,Behind the Scenes  Documentary  \n",
       "735           Trailers,Deleted Scenes        Music  \n",
       "642  Deleted Scenes,Behind the Scenes       Horror  \n",
       "537             Trailers,Commentaries      Foreign  "
      ]
     },
     "execution_count": 54,
     "metadata": {},
     "output_type": "execute_result"
    }
   ],
   "source": [
    "# Initialize the LabelEncoder object from sklearn\n",
    "le = LabelEncoder()\n",
    "\n",
    "# Fit and transform the data frame column\n",
    "data_copy['rating_ecd'] = le.fit_transform(data_copy['rating'])\n",
    "data_copy['special_features_ecd'] = le.fit_transform(data_copy['special_features'])\n",
    "data_copy['name_ecd'] = le.fit_transform(data_copy['name'])\n",
    "\n",
    "# Visualizing the changes\n",
    "data_encoded_f = data_copy[['rating_ecd', 'special_features_ecd', 'name_ecd']]\n",
    "data_comparision_2 = pd.concat([data_encoded_f, data_copy[['rating', 'special_features', 'name']]], axis=1)\n",
    "data_comparision_2.sample(5)"
   ]
  },
  {
   "cell_type": "markdown",
   "id": "f6051464",
   "metadata": {},
   "source": [
    "### Selecting numericals / Dealing with Null values"
   ]
  },
  {
   "cell_type": "markdown",
   "id": "43cc9d00",
   "metadata": {},
   "source": [
    "<div class=\"alert alert-block alert-info\">\n",
    "    \n",
    "* We will now select all numericals from `data_copy` to drop the categoricals.\n",
    "* Also, we will use `.fillna(0)` to deal with NaN values from the LEFT JOIN with n_rental (explained in [SQL database-extraction](https://github.com/isi-mube/iron-labs/blob/main/unit_3_sql/lab-predictions-logistic-regression/notebook/sql_database_extraction_process.sql))\n",
    "</div>"
   ]
  },
  {
   "cell_type": "code",
   "execution_count": 55,
   "id": "bc480d48",
   "metadata": {
    "scrolled": true
   },
   "outputs": [
    {
     "data": {
      "text/html": [
       "<div>\n",
       "<style scoped>\n",
       "    .dataframe tbody tr th:only-of-type {\n",
       "        vertical-align: middle;\n",
       "    }\n",
       "\n",
       "    .dataframe tbody tr th {\n",
       "        vertical-align: top;\n",
       "    }\n",
       "\n",
       "    .dataframe thead th {\n",
       "        text-align: right;\n",
       "    }\n",
       "</style>\n",
       "<table border=\"1\" class=\"dataframe\">\n",
       "  <thead>\n",
       "    <tr style=\"text-align: right;\">\n",
       "      <th></th>\n",
       "      <th>film_id</th>\n",
       "      <th>rental_duration</th>\n",
       "      <th>rental_rate</th>\n",
       "      <th>length</th>\n",
       "      <th>n_rentals</th>\n",
       "      <th>rating_ecd</th>\n",
       "      <th>special_features_ecd</th>\n",
       "      <th>name_ecd</th>\n",
       "    </tr>\n",
       "  </thead>\n",
       "  <tbody>\n",
       "    <tr>\n",
       "      <th>0</th>\n",
       "      <td>19</td>\n",
       "      <td>6</td>\n",
       "      <td>0.99</td>\n",
       "      <td>113</td>\n",
       "      <td>20.0</td>\n",
       "      <td>2</td>\n",
       "      <td>4</td>\n",
       "      <td>0</td>\n",
       "    </tr>\n",
       "    <tr>\n",
       "      <th>1</th>\n",
       "      <td>21</td>\n",
       "      <td>3</td>\n",
       "      <td>4.99</td>\n",
       "      <td>129</td>\n",
       "      <td>21.0</td>\n",
       "      <td>4</td>\n",
       "      <td>2</td>\n",
       "      <td>0</td>\n",
       "    </tr>\n",
       "    <tr>\n",
       "      <th>2</th>\n",
       "      <td>29</td>\n",
       "      <td>5</td>\n",
       "      <td>2.99</td>\n",
       "      <td>168</td>\n",
       "      <td>10.0</td>\n",
       "      <td>1</td>\n",
       "      <td>11</td>\n",
       "      <td>0</td>\n",
       "    </tr>\n",
       "    <tr>\n",
       "      <th>3</th>\n",
       "      <td>38</td>\n",
       "      <td>6</td>\n",
       "      <td>0.99</td>\n",
       "      <td>68</td>\n",
       "      <td>0.0</td>\n",
       "      <td>1</td>\n",
       "      <td>12</td>\n",
       "      <td>0</td>\n",
       "    </tr>\n",
       "    <tr>\n",
       "      <th>4</th>\n",
       "      <td>56</td>\n",
       "      <td>6</td>\n",
       "      <td>2.99</td>\n",
       "      <td>129</td>\n",
       "      <td>18.0</td>\n",
       "      <td>0</td>\n",
       "      <td>9</td>\n",
       "      <td>0</td>\n",
       "    </tr>\n",
       "    <tr>\n",
       "      <th>5</th>\n",
       "      <td>67</td>\n",
       "      <td>5</td>\n",
       "      <td>2.99</td>\n",
       "      <td>77</td>\n",
       "      <td>20.0</td>\n",
       "      <td>3</td>\n",
       "      <td>5</td>\n",
       "      <td>0</td>\n",
       "    </tr>\n",
       "    <tr>\n",
       "      <th>6</th>\n",
       "      <td>97</td>\n",
       "      <td>7</td>\n",
       "      <td>0.99</td>\n",
       "      <td>56</td>\n",
       "      <td>19.0</td>\n",
       "      <td>0</td>\n",
       "      <td>10</td>\n",
       "      <td>0</td>\n",
       "    </tr>\n",
       "    <tr>\n",
       "      <th>7</th>\n",
       "      <td>105</td>\n",
       "      <td>6</td>\n",
       "      <td>0.99</td>\n",
       "      <td>125</td>\n",
       "      <td>15.0</td>\n",
       "      <td>1</td>\n",
       "      <td>5</td>\n",
       "      <td>0</td>\n",
       "    </tr>\n",
       "    <tr>\n",
       "      <th>8</th>\n",
       "      <td>111</td>\n",
       "      <td>3</td>\n",
       "      <td>0.99</td>\n",
       "      <td>52</td>\n",
       "      <td>16.0</td>\n",
       "      <td>1</td>\n",
       "      <td>3</td>\n",
       "      <td>0</td>\n",
       "    </tr>\n",
       "    <tr>\n",
       "      <th>9</th>\n",
       "      <td>115</td>\n",
       "      <td>5</td>\n",
       "      <td>2.99</td>\n",
       "      <td>167</td>\n",
       "      <td>19.0</td>\n",
       "      <td>4</td>\n",
       "      <td>0</td>\n",
       "      <td>0</td>\n",
       "    </tr>\n",
       "  </tbody>\n",
       "</table>\n",
       "</div>"
      ],
      "text/plain": [
       "   film_id  rental_duration  rental_rate  length  n_rentals  rating_ecd  \\\n",
       "0       19                6         0.99     113       20.0           2   \n",
       "1       21                3         4.99     129       21.0           4   \n",
       "2       29                5         2.99     168       10.0           1   \n",
       "3       38                6         0.99      68        0.0           1   \n",
       "4       56                6         2.99     129       18.0           0   \n",
       "5       67                5         2.99      77       20.0           3   \n",
       "6       97                7         0.99      56       19.0           0   \n",
       "7      105                6         0.99     125       15.0           1   \n",
       "8      111                3         0.99      52       16.0           1   \n",
       "9      115                5         2.99     167       19.0           4   \n",
       "\n",
       "   special_features_ecd  name_ecd  \n",
       "0                     4         0  \n",
       "1                     2         0  \n",
       "2                    11         0  \n",
       "3                    12         0  \n",
       "4                     9         0  \n",
       "5                     5         0  \n",
       "6                    10         0  \n",
       "7                     5         0  \n",
       "8                     3         0  \n",
       "9                     0         0  "
      ]
     },
     "execution_count": 55,
     "metadata": {},
     "output_type": "execute_result"
    }
   ],
   "source": [
    "# Create a new dataframe with only the numerical columns using select_dtypes\n",
    "X_N = data_copy.select_dtypes(np.number).fillna(0) # we also deal with NaN values\n",
    "X_N.head(10)"
   ]
  },
  {
   "attachments": {
    "image.png": {
     "image/png": "[encoded data removed]"
    }
   },
   "cell_type": "markdown",
   "id": "d21fe8fa",
   "metadata": {},
   "source": [
    "![image.png](attachment:image.png)"
   ]
  },
  {
   "cell_type": "markdown",
   "id": "3e5f8605",
   "metadata": {},
   "source": [
    "### Creating the target"
   ]
  },
  {
   "cell_type": "markdown",
   "id": "58dfc744",
   "metadata": {},
   "source": [
    "<div class=\"alert alert-block alert-info\">\n",
    "    \n",
    "* Futher explanation\n",
    "</div>"
   ]
  },
  {
   "cell_type": "code",
   "execution_count": 61,
   "id": "2a8dcdd2",
   "metadata": {},
   "outputs": [
    {
     "name": "stdout",
     "output_type": "stream",
     "text": [
      "The Column Headers are : ['film_id', 'rental_duration', 'rental_rate', 'length', 'rating_ecd', 'special_features_ecd', 'name_ecd', 'n_rentals']\n"
     ]
    }
   ],
   "source": [
    "# Now, we will get a list of all column names to just quickly move the target at the end\n",
    "data_headers = list(X_N.columns.values) # to get and check all column names\n",
    "print(\"The Column Headers are :\", data_headers) "
   ]
  },
  {
   "cell_type": "code",
   "execution_count": 62,
   "id": "cf90ad4c",
   "metadata": {},
   "outputs": [
    {
     "data": {
      "text/plain": [
       "(1000, 8)"
      ]
     },
     "execution_count": 62,
     "metadata": {},
     "output_type": "execute_result"
    }
   ],
   "source": [
    "# We simply move our target ________ to the right, for readibility and remove the rest of the columns that are summarized in other stats\n",
    "X_N = X_N[['film_id', 'rental_duration', 'rental_rate', 'length', 'rating_ecd', 'special_features_ecd', 'name_ecd', 'n_rentals']]\n",
    "X_N.shape"
   ]
  },
  {
   "cell_type": "code",
   "execution_count": 63,
   "id": "535c2f6c",
   "metadata": {},
   "outputs": [
    {
     "name": "stdout",
     "output_type": "stream",
     "text": [
      "The Column Headers are : ['film_id', 'rental_duration', 'rental_rate', 'length', 'rating_ecd', 'special_features_ecd', 'name_ecd', 'n_rentals']\n"
     ]
    }
   ],
   "source": [
    "print(\"The Column Headers are :\", data_headers) "
   ]
  },
  {
   "cell_type": "markdown",
   "id": "be237573",
   "metadata": {},
   "source": [
    "<div class=\"alert alert-block alert-success\">\n",
    "\n",
    "**Now**, we have a cleaned dataset with `1.000` film's information in `8` distinct numerical features.\n",
    "</div>"
   ]
  },
  {
   "cell_type": "code",
   "execution_count": 64,
   "id": "9d3eb309",
   "metadata": {},
   "outputs": [
    {
     "data": {
      "text/html": [
       "<div>\n",
       "<style scoped>\n",
       "    .dataframe tbody tr th:only-of-type {\n",
       "        vertical-align: middle;\n",
       "    }\n",
       "\n",
       "    .dataframe tbody tr th {\n",
       "        vertical-align: top;\n",
       "    }\n",
       "\n",
       "    .dataframe thead th {\n",
       "        text-align: right;\n",
       "    }\n",
       "</style>\n",
       "<table border=\"1\" class=\"dataframe\">\n",
       "  <thead>\n",
       "    <tr style=\"text-align: right;\">\n",
       "      <th></th>\n",
       "      <th>film_id</th>\n",
       "      <th>rental_duration</th>\n",
       "      <th>rental_rate</th>\n",
       "      <th>length</th>\n",
       "      <th>rating_ecd</th>\n",
       "      <th>special_features_ecd</th>\n",
       "      <th>name_ecd</th>\n",
       "      <th>n_rentals</th>\n",
       "    </tr>\n",
       "  </thead>\n",
       "  <tbody>\n",
       "    <tr>\n",
       "      <th>24</th>\n",
       "      <td>303</td>\n",
       "      <td>6</td>\n",
       "      <td>0.99</td>\n",
       "      <td>58</td>\n",
       "      <td>3</td>\n",
       "      <td>0</td>\n",
       "      <td>0</td>\n",
       "      <td>26.0</td>\n",
       "    </tr>\n",
       "    <tr>\n",
       "      <th>97</th>\n",
       "      <td>470</td>\n",
       "      <td>4</td>\n",
       "      <td>4.99</td>\n",
       "      <td>79</td>\n",
       "      <td>4</td>\n",
       "      <td>11</td>\n",
       "      <td>1</td>\n",
       "      <td>7.0</td>\n",
       "    </tr>\n",
       "    <tr>\n",
       "      <th>405</th>\n",
       "      <td>585</td>\n",
       "      <td>4</td>\n",
       "      <td>0.99</td>\n",
       "      <td>105</td>\n",
       "      <td>0</td>\n",
       "      <td>7</td>\n",
       "      <td>6</td>\n",
       "      <td>12.0</td>\n",
       "    </tr>\n",
       "    <tr>\n",
       "      <th>50</th>\n",
       "      <td>794</td>\n",
       "      <td>5</td>\n",
       "      <td>0.99</td>\n",
       "      <td>52</td>\n",
       "      <td>0</td>\n",
       "      <td>6</td>\n",
       "      <td>0</td>\n",
       "      <td>12.0</td>\n",
       "    </tr>\n",
       "    <tr>\n",
       "      <th>554</th>\n",
       "      <td>640</td>\n",
       "      <td>5</td>\n",
       "      <td>4.99</td>\n",
       "      <td>102</td>\n",
       "      <td>4</td>\n",
       "      <td>3</td>\n",
       "      <td>8</td>\n",
       "      <td>11.0</td>\n",
       "    </tr>\n",
       "  </tbody>\n",
       "</table>\n",
       "</div>"
      ],
      "text/plain": [
       "     film_id  rental_duration  rental_rate  length  rating_ecd  \\\n",
       "24       303                6         0.99      58           3   \n",
       "97       470                4         4.99      79           4   \n",
       "405      585                4         0.99     105           0   \n",
       "50       794                5         0.99      52           0   \n",
       "554      640                5         4.99     102           4   \n",
       "\n",
       "     special_features_ecd  name_ecd  n_rentals  \n",
       "24                      0         0       26.0  \n",
       "97                     11         1        7.0  \n",
       "405                     7         6       12.0  \n",
       "50                      6         0       12.0  \n",
       "554                     3         8       11.0  "
      ]
     },
     "execution_count": 64,
     "metadata": {},
     "output_type": "execute_result"
    }
   ],
   "source": [
    "X_N.sample(5)"
   ]
  },
  {
   "cell_type": "code",
   "execution_count": null,
   "id": "119b2c6a",
   "metadata": {},
   "outputs": [],
   "source": []
  }
 ],
 "metadata": {
  "kernelspec": {
   "display_name": "Python 3 (ipykernel)",
   "language": "python",
   "name": "python3"
  },
  "language_info": {
   "codemirror_mode": {
    "name": "ipython",
    "version": 3
   },
   "file_extension": ".py",
   "mimetype": "text/x-python",
   "name": "python",
   "nbconvert_exporter": "python",
   "pygments_lexer": "ipython3",
   "version": "3.9.13"
  }
 },
 "nbformat": 4,
 "nbformat_minor": 5
}
