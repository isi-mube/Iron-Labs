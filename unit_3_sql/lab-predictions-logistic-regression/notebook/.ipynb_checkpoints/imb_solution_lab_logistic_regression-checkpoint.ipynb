{
 "cells": [
  {
   "cell_type": "markdown",
   "id": "29b95f8a",
   "metadata": {},
   "source": [
    "## 00. Coding Best Practices"
   ]
  },
  {
   "cell_type": "code",
   "execution_count": 6,
   "id": "14b630e4",
   "metadata": {},
   "outputs": [],
   "source": [
    "# Basic libraries\n",
    "import pandas as pd # data manipulatioN\n",
    "import numpy as np # numerical operations\n",
    "import matplotlib.pyplot as plt # 2D visualizations\n",
    "import seaborn as sns # high-resolution visualization\n",
    "import warnings # warning messages management\n",
    "\n",
    "# SQL connection\n",
    "from getpass import getpass # SQL connector\n",
    "from sqlalchemy import create_engine # route to the engine\n",
    "\n",
    "# Machine Learning\n",
    "from sklearn.preprocessing import LabelEncoder # label encoding\n",
    "from sklearn.model_selection import train_test_split # splitting data into train/test sets\n",
    "from sklearn.linear_model import LogisticRegression # logistic model\n",
    "from sklearn.metrics import accuracy_score, confusion_matrix, ConfusionMatrixDisplay # logistic metrics\n",
    "from sklearn import metrics # moar metrics\n",
    "\n",
    "# Settings\n",
    "pd.set_option('display.max_columns', None) # display all columns\n",
    "warnings.filterwarnings('ignore') # ignore warnings"
   ]
  },
  {
   "cell_type": "code",
   "execution_count": 7,
   "id": "8d454534",
   "metadata": {},
   "outputs": [],
   "source": [
    "# Basic functions\n",
    "def data_info(data): # improved data.info()\n",
    "    print(f\"Data shape is {data.shape}.\")\n",
    "    print()\n",
    "    print(\"Data row sample and full columns:\")\n",
    "    return data.sample(5)"
   ]
  },
  {
   "cell_type": "markdown",
   "id": "1b1c89d5",
   "metadata": {},
   "source": [
    "## 01 - Getting the Data"
   ]
  },
  {
   "cell_type": "code",
   "execution_count": 10,
   "id": "69059d29",
   "metadata": {},
   "outputs": [
    {
     "name": "stdout",
     "output_type": "stream",
     "text": [
      "Please, kindly insert your password:········\n"
     ]
    }
   ],
   "source": [
    "# Creating a safe connection\n",
    "password = getpass(\"Please, kindly insert your password:\")\n",
    "connection_string = 'mysql+pymysql://root:' + password + '@localhost/sakila'"
   ]
  },
  {
   "cell_type": "code",
   "execution_count": 11,
   "id": "6b0bc336",
   "metadata": {
    "scrolled": true
   },
   "outputs": [],
   "source": [
    "# Getting the data\n",
    "engine = create_engine(connection_string)\n",
    "data = pd.read_sql_query('SELECT * FROM logistic_data;', engine)"
   ]
  },
  {
   "cell_type": "code",
   "execution_count": 12,
   "id": "236a97d3",
   "metadata": {},
   "outputs": [
    {
     "name": "stdout",
     "output_type": "stream",
     "text": [
      "Data shape is (1000, 8).\n",
      "\n",
      "Data row sample and full columns:\n"
     ]
    },
    {
     "data": {
      "text/html": [
       "<div>\n",
       "<style scoped>\n",
       "    .dataframe tbody tr th:only-of-type {\n",
       "        vertical-align: middle;\n",
       "    }\n",
       "\n",
       "    .dataframe tbody tr th {\n",
       "        vertical-align: top;\n",
       "    }\n",
       "\n",
       "    .dataframe thead th {\n",
       "        text-align: right;\n",
       "    }\n",
       "</style>\n",
       "<table border=\"1\" class=\"dataframe\">\n",
       "  <thead>\n",
       "    <tr style=\"text-align: right;\">\n",
       "      <th></th>\n",
       "      <th>film_id</th>\n",
       "      <th>rental_duration</th>\n",
       "      <th>rental_rate</th>\n",
       "      <th>length</th>\n",
       "      <th>rating</th>\n",
       "      <th>special_features</th>\n",
       "      <th>name</th>\n",
       "      <th>n_rentals</th>\n",
       "    </tr>\n",
       "  </thead>\n",
       "  <tbody>\n",
       "    <tr>\n",
       "      <th>516</th>\n",
       "      <td>185</td>\n",
       "      <td>3</td>\n",
       "      <td>2.99</td>\n",
       "      <td>146</td>\n",
       "      <td>PG</td>\n",
       "      <td>Commentaries,Deleted Scenes,Behind the Scenes</td>\n",
       "      <td>Foreign</td>\n",
       "      <td>7.0</td>\n",
       "    </tr>\n",
       "    <tr>\n",
       "      <th>579</th>\n",
       "      <td>117</td>\n",
       "      <td>6</td>\n",
       "      <td>4.99</td>\n",
       "      <td>135</td>\n",
       "      <td>NC-17</td>\n",
       "      <td>Trailers,Deleted Scenes</td>\n",
       "      <td>Games</td>\n",
       "      <td>23.0</td>\n",
       "    </tr>\n",
       "    <tr>\n",
       "      <th>582</th>\n",
       "      <td>200</td>\n",
       "      <td>7</td>\n",
       "      <td>0.99</td>\n",
       "      <td>133</td>\n",
       "      <td>PG-13</td>\n",
       "      <td>Trailers,Commentaries,Deleted Scenes,Behind th...</td>\n",
       "      <td>Games</td>\n",
       "      <td>26.0</td>\n",
       "    </tr>\n",
       "    <tr>\n",
       "      <th>788</th>\n",
       "      <td>685</td>\n",
       "      <td>6</td>\n",
       "      <td>4.99</td>\n",
       "      <td>132</td>\n",
       "      <td>PG-13</td>\n",
       "      <td>Trailers,Commentaries</td>\n",
       "      <td>New</td>\n",
       "      <td>9.0</td>\n",
       "    </tr>\n",
       "    <tr>\n",
       "      <th>436</th>\n",
       "      <td>31</td>\n",
       "      <td>5</td>\n",
       "      <td>4.99</td>\n",
       "      <td>92</td>\n",
       "      <td>NC-17</td>\n",
       "      <td>Commentaries,Deleted Scenes,Behind the Scenes</td>\n",
       "      <td>Family</td>\n",
       "      <td>31.0</td>\n",
       "    </tr>\n",
       "  </tbody>\n",
       "</table>\n",
       "</div>"
      ],
      "text/plain": [
       "     film_id  rental_duration  rental_rate  length rating  \\\n",
       "516      185                3         2.99     146     PG   \n",
       "579      117                6         4.99     135  NC-17   \n",
       "582      200                7         0.99     133  PG-13   \n",
       "788      685                6         4.99     132  PG-13   \n",
       "436       31                5         4.99      92  NC-17   \n",
       "\n",
       "                                      special_features     name  n_rentals  \n",
       "516      Commentaries,Deleted Scenes,Behind the Scenes  Foreign        7.0  \n",
       "579                            Trailers,Deleted Scenes    Games       23.0  \n",
       "582  Trailers,Commentaries,Deleted Scenes,Behind th...    Games       26.0  \n",
       "788                              Trailers,Commentaries      New        9.0  \n",
       "436      Commentaries,Deleted Scenes,Behind the Scenes   Family       31.0  "
      ]
     },
     "execution_count": 12,
     "metadata": {},
     "output_type": "execute_result"
    }
   ],
   "source": [
    "data_info(data)"
   ]
  },
  {
   "cell_type": "markdown",
   "id": "8a81d861",
   "metadata": {},
   "source": [
    "<div class=\"alert alert-block alert-success\">\n",
    "    \n",
    "**First impression:**\n",
    "    \n",
    "_____________\n",
    "\n",
    "The following database is a collection of over **one-year** (from 2005/05/24 to 2006/02/14) 1.000 film's information among 8 different columnns.\n",
    "    \n",
    "Our **binary target** will the probability of a movie being rented again or not in the future (low or high) --> We will therefore classify movies based on low/high (binary) demand renting rate by analyzing the total number of rentals for each film within the time period (n_rentals)\n",
    "    \n",
    "**Firstly**, data cleaning:\n",
    "    \n",
    "_____________\n",
    "</div>"
   ]
  },
  {
   "cell_type": "markdown",
   "id": "0fbf83fb",
   "metadata": {},
   "source": [
    "## 02 - Cleaning the Data"
   ]
  },
  {
   "cell_type": "code",
   "execution_count": 13,
   "id": "b037a096",
   "metadata": {},
   "outputs": [],
   "source": [
    "# copy as best practices\n",
    "data_copy = data.copy()"
   ]
  },
  {
   "cell_type": "markdown",
   "id": "23e24f73",
   "metadata": {},
   "source": [
    "### Encoding\n",
    "<div class=\"alert alert-block alert-info\">\n",
    "    \n",
    "* We imported features such as `rating`, `special_features` and `name` as categoricals, we will use LabelEncoder to encode them to numericals:\n",
    "</div>"
   ]
  },
  {
   "cell_type": "code",
   "execution_count": 14,
   "id": "afd65dfa",
   "metadata": {
    "scrolled": true
   },
   "outputs": [
    {
     "data": {
      "text/html": [
       "<div>\n",
       "<style scoped>\n",
       "    .dataframe tbody tr th:only-of-type {\n",
       "        vertical-align: middle;\n",
       "    }\n",
       "\n",
       "    .dataframe tbody tr th {\n",
       "        vertical-align: top;\n",
       "    }\n",
       "\n",
       "    .dataframe thead th {\n",
       "        text-align: right;\n",
       "    }\n",
       "</style>\n",
       "<table border=\"1\" class=\"dataframe\">\n",
       "  <thead>\n",
       "    <tr style=\"text-align: right;\">\n",
       "      <th></th>\n",
       "      <th>rating_ecd</th>\n",
       "      <th>special_features_ecd</th>\n",
       "      <th>name_ecd</th>\n",
       "      <th>rating</th>\n",
       "      <th>special_features</th>\n",
       "      <th>name</th>\n",
       "    </tr>\n",
       "  </thead>\n",
       "  <tbody>\n",
       "    <tr>\n",
       "      <th>281</th>\n",
       "      <td>0</td>\n",
       "      <td>0</td>\n",
       "      <td>4</td>\n",
       "      <td>G</td>\n",
       "      <td>Behind the Scenes</td>\n",
       "      <td>Comedy</td>\n",
       "    </tr>\n",
       "    <tr>\n",
       "      <th>222</th>\n",
       "      <td>0</td>\n",
       "      <td>7</td>\n",
       "      <td>3</td>\n",
       "      <td>G</td>\n",
       "      <td>Trailers</td>\n",
       "      <td>Classics</td>\n",
       "    </tr>\n",
       "    <tr>\n",
       "      <th>36</th>\n",
       "      <td>0</td>\n",
       "      <td>10</td>\n",
       "      <td>0</td>\n",
       "      <td>G</td>\n",
       "      <td>Trailers,Commentaries,Behind the Scenes</td>\n",
       "      <td>Action</td>\n",
       "    </tr>\n",
       "    <tr>\n",
       "      <th>221</th>\n",
       "      <td>2</td>\n",
       "      <td>8</td>\n",
       "      <td>3</td>\n",
       "      <td>PG</td>\n",
       "      <td>Trailers,Behind the Scenes</td>\n",
       "      <td>Classics</td>\n",
       "    </tr>\n",
       "    <tr>\n",
       "      <th>93</th>\n",
       "      <td>2</td>\n",
       "      <td>7</td>\n",
       "      <td>1</td>\n",
       "      <td>PG</td>\n",
       "      <td>Trailers</td>\n",
       "      <td>Animation</td>\n",
       "    </tr>\n",
       "  </tbody>\n",
       "</table>\n",
       "</div>"
      ],
      "text/plain": [
       "     rating_ecd  special_features_ecd  name_ecd rating  \\\n",
       "281           0                     0         4      G   \n",
       "222           0                     7         3      G   \n",
       "36            0                    10         0      G   \n",
       "221           2                     8         3     PG   \n",
       "93            2                     7         1     PG   \n",
       "\n",
       "                            special_features       name  \n",
       "281                        Behind the Scenes     Comedy  \n",
       "222                                 Trailers   Classics  \n",
       "36   Trailers,Commentaries,Behind the Scenes     Action  \n",
       "221               Trailers,Behind the Scenes   Classics  \n",
       "93                                  Trailers  Animation  "
      ]
     },
     "execution_count": 14,
     "metadata": {},
     "output_type": "execute_result"
    }
   ],
   "source": [
    "# Initialize the LabelEncoder object from sklearn\n",
    "le = LabelEncoder()\n",
    "\n",
    "# Fit and transform the data frame column\n",
    "data_copy['rating_ecd'] = le.fit_transform(data_copy['rating'])\n",
    "data_copy['special_features_ecd'] = le.fit_transform(data_copy['special_features'])\n",
    "data_copy['name_ecd'] = le.fit_transform(data_copy['name'])\n",
    "\n",
    "# Visualizing the changes\n",
    "data_encoded_f = data_copy[['rating_ecd', 'special_features_ecd', 'name_ecd']]\n",
    "data_comparision_2 = pd.concat([data_encoded_f, data_copy[['rating', 'special_features', 'name']]], axis=1)\n",
    "data_comparision_2.sample(5)"
   ]
  },
  {
   "cell_type": "markdown",
   "id": "f6051464",
   "metadata": {},
   "source": [
    "### Selecting numericals features / Dealing with Null values"
   ]
  },
  {
   "cell_type": "markdown",
   "id": "c2927b58",
   "metadata": {},
   "source": [
    "<div class=\"alert alert-block alert-info\">\n",
    "    \n",
    "* We will now select all numericals from `data_copy` to drop the categoricals.\n",
    "* Also, we will use `.fillna(0)` to deal with NaN values from the LEFT JOIN with n_rental (explained in [SQL database-extraction](https://github.com/isi-mube/iron-labs/blob/main/unit_3_sql/lab-predictions-logistic-regression/notebook/sql_database_extraction_process.sql))\n",
    "</div>"
   ]
  },
  {
   "cell_type": "code",
   "execution_count": 15,
   "id": "bc480d48",
   "metadata": {
    "scrolled": false
   },
   "outputs": [
    {
     "data": {
      "text/html": [
       "<div>\n",
       "<style scoped>\n",
       "    .dataframe tbody tr th:only-of-type {\n",
       "        vertical-align: middle;\n",
       "    }\n",
       "\n",
       "    .dataframe tbody tr th {\n",
       "        vertical-align: top;\n",
       "    }\n",
       "\n",
       "    .dataframe thead th {\n",
       "        text-align: right;\n",
       "    }\n",
       "</style>\n",
       "<table border=\"1\" class=\"dataframe\">\n",
       "  <thead>\n",
       "    <tr style=\"text-align: right;\">\n",
       "      <th></th>\n",
       "      <th>film_id</th>\n",
       "      <th>rental_duration</th>\n",
       "      <th>rental_rate</th>\n",
       "      <th>length</th>\n",
       "      <th>n_rentals</th>\n",
       "      <th>rating_ecd</th>\n",
       "      <th>special_features_ecd</th>\n",
       "      <th>name_ecd</th>\n",
       "    </tr>\n",
       "  </thead>\n",
       "  <tbody>\n",
       "    <tr>\n",
       "      <th>903</th>\n",
       "      <td>532</td>\n",
       "      <td>5</td>\n",
       "      <td>4.99</td>\n",
       "      <td>80</td>\n",
       "      <td>15.0</td>\n",
       "      <td>2</td>\n",
       "      <td>6</td>\n",
       "      <td>14</td>\n",
       "    </tr>\n",
       "    <tr>\n",
       "      <th>345</th>\n",
       "      <td>627</td>\n",
       "      <td>4</td>\n",
       "      <td>4.99</td>\n",
       "      <td>67</td>\n",
       "      <td>11.0</td>\n",
       "      <td>1</td>\n",
       "      <td>4</td>\n",
       "      <td>5</td>\n",
       "    </tr>\n",
       "    <tr>\n",
       "      <th>526</th>\n",
       "      <td>376</td>\n",
       "      <td>4</td>\n",
       "      <td>0.99</td>\n",
       "      <td>155</td>\n",
       "      <td>21.0</td>\n",
       "      <td>0</td>\n",
       "      <td>2</td>\n",
       "      <td>8</td>\n",
       "    </tr>\n",
       "    <tr>\n",
       "      <th>19</th>\n",
       "      <td>252</td>\n",
       "      <td>6</td>\n",
       "      <td>2.99</td>\n",
       "      <td>135</td>\n",
       "      <td>22.0</td>\n",
       "      <td>2</td>\n",
       "      <td>10</td>\n",
       "      <td>0</td>\n",
       "    </tr>\n",
       "    <tr>\n",
       "      <th>272</th>\n",
       "      <td>443</td>\n",
       "      <td>6</td>\n",
       "      <td>2.99</td>\n",
       "      <td>49</td>\n",
       "      <td>24.0</td>\n",
       "      <td>2</td>\n",
       "      <td>10</td>\n",
       "      <td>4</td>\n",
       "    </tr>\n",
       "    <tr>\n",
       "      <th>448</th>\n",
       "      <td>147</td>\n",
       "      <td>5</td>\n",
       "      <td>0.99</td>\n",
       "      <td>101</td>\n",
       "      <td>20.0</td>\n",
       "      <td>1</td>\n",
       "      <td>2</td>\n",
       "      <td>7</td>\n",
       "    </tr>\n",
       "    <tr>\n",
       "      <th>729</th>\n",
       "      <td>718</td>\n",
       "      <td>7</td>\n",
       "      <td>0.99</td>\n",
       "      <td>73</td>\n",
       "      <td>8.0</td>\n",
       "      <td>0</td>\n",
       "      <td>8</td>\n",
       "      <td>11</td>\n",
       "    </tr>\n",
       "    <tr>\n",
       "      <th>974</th>\n",
       "      <td>526</td>\n",
       "      <td>7</td>\n",
       "      <td>2.99</td>\n",
       "      <td>120</td>\n",
       "      <td>16.0</td>\n",
       "      <td>4</td>\n",
       "      <td>9</td>\n",
       "      <td>15</td>\n",
       "    </tr>\n",
       "    <tr>\n",
       "      <th>295</th>\n",
       "      <td>857</td>\n",
       "      <td>3</td>\n",
       "      <td>2.99</td>\n",
       "      <td>144</td>\n",
       "      <td>23.0</td>\n",
       "      <td>3</td>\n",
       "      <td>4</td>\n",
       "      <td>4</td>\n",
       "    </tr>\n",
       "    <tr>\n",
       "      <th>920</th>\n",
       "      <td>719</td>\n",
       "      <td>7</td>\n",
       "      <td>4.99</td>\n",
       "      <td>182</td>\n",
       "      <td>8.0</td>\n",
       "      <td>2</td>\n",
       "      <td>0</td>\n",
       "      <td>14</td>\n",
       "    </tr>\n",
       "  </tbody>\n",
       "</table>\n",
       "</div>"
      ],
      "text/plain": [
       "     film_id  rental_duration  rental_rate  length  n_rentals  rating_ecd  \\\n",
       "903      532                5         4.99      80       15.0           2   \n",
       "345      627                4         4.99      67       11.0           1   \n",
       "526      376                4         0.99     155       21.0           0   \n",
       "19       252                6         2.99     135       22.0           2   \n",
       "272      443                6         2.99      49       24.0           2   \n",
       "448      147                5         0.99     101       20.0           1   \n",
       "729      718                7         0.99      73        8.0           0   \n",
       "974      526                7         2.99     120       16.0           4   \n",
       "295      857                3         2.99     144       23.0           3   \n",
       "920      719                7         4.99     182        8.0           2   \n",
       "\n",
       "     special_features_ecd  name_ecd  \n",
       "903                     6        14  \n",
       "345                     4         5  \n",
       "526                     2         8  \n",
       "19                     10         0  \n",
       "272                    10         4  \n",
       "448                     2         7  \n",
       "729                     8        11  \n",
       "974                     9        15  \n",
       "295                     4         4  \n",
       "920                     0        14  "
      ]
     },
     "execution_count": 15,
     "metadata": {},
     "output_type": "execute_result"
    }
   ],
   "source": [
    "# Create a new dataframe with only the numerical columns using select_dtypes\n",
    "X_N = data_copy.select_dtypes(np.number).fillna(0) # we also deal with NaN values\n",
    "X_N.sample(10)"
   ]
  },
  {
   "cell_type": "code",
   "execution_count": 16,
   "id": "231715bd",
   "metadata": {},
   "outputs": [
    {
     "data": {
      "text/plain": [
       "(1000, 8)"
      ]
     },
     "execution_count": 16,
     "metadata": {},
     "output_type": "execute_result"
    }
   ],
   "source": [
    "X_N.shape"
   ]
  },
  {
   "cell_type": "markdown",
   "id": "a5520a8d",
   "metadata": {},
   "source": [
    "<div class=\"alert alert-block alert-success\">\n",
    "    \n",
    "A **cleaned** dataset with `8 features`. Without the target. \n",
    "   \n",
    "</div>"
   ]
  },
  {
   "cell_type": "markdown",
   "id": "d9b52082",
   "metadata": {},
   "source": [
    "### Feature Engineering (target creation)"
   ]
  },
  {
   "cell_type": "markdown",
   "id": "91e68705",
   "metadata": {},
   "source": [
    "<div class=\"alert alert-block alert-warning\">\n",
    "    \n",
    "Our target is the probability of a movie being rented again or not in the futre. \n",
    "    \n",
    "--> In a nutshell, which movies have **higher** or **lower** demand.\n",
    "    \n",
    "To create our `target`, we will first look at the distribution of `n_rentals` and calculate the `mean` and `median`. Check the [SQL database-extraction](https://github.com/isi-mube/iron-labs/blob/main/unit_3_sql/lab-predictions-logistic-regression/notebook/sql_database_extraction_process.sql) for more information about this process.</div>"
   ]
  },
  {
   "cell_type": "code",
   "execution_count": 17,
   "id": "81640aaa",
   "metadata": {
    "scrolled": true
   },
   "outputs": [
    {
     "data": {
      "image/png": "[encoded data removed]",
      "text/plain": [
       "<Figure size 640x480 with 1 Axes>"
      ]
     },
     "metadata": {},
     "output_type": "display_data"
    }
   ],
   "source": [
    "sns.histplot(X_N['n_rentals'], kde=True)\n",
    "plt.xlabel('Number of Rentals')\n",
    "plt.ylabel('Frequency')\n",
    "plt.title('Distribution of Rentals')\n",
    "plt.show()"
   ]
  },
  {
   "cell_type": "markdown",
   "id": "272cdf02",
   "metadata": {},
   "source": [
    "<div class=\"alert alert-block alert-success\">\n",
    "\n",
    "The plot shows a bell-curve distribution, meaning a **normal distribution** of the data. We should expect similar mean and median results.\n",
    "</div>"
   ]
  },
  {
   "cell_type": "code",
   "execution_count": 18,
   "id": "d22a1896",
   "metadata": {},
   "outputs": [
    {
     "name": "stdout",
     "output_type": "stream",
     "text": [
      "Mean = 15.862\n",
      "Median = 16.0\n"
     ]
    }
   ],
   "source": [
    "# Compute the mean and median of n_rentals\n",
    "n_rentals_mean = X_N['n_rentals'].mean()\n",
    "n_rentals_median = X_N['n_rentals'].median()\n",
    "print(f\"Mean = {n_rentals_mean}\")\n",
    "print(f\"Median = {n_rentals_median}\")"
   ]
  },
  {
   "cell_type": "markdown",
   "id": "df302619",
   "metadata": {},
   "source": [
    "<div class=\"alert alert-block alert-success\">\n",
    "\n",
    "As expected, both average (mean) and the middle value (median) have similar results. We will define our treshold with the **mean** since it's more specific to **get our target**, a binary feature with:\n",
    "    \n",
    "* 1 **if** data **is** bigger than `n_rental` mean **else** 0\n",
    "</div>"
   ]
  },
  {
   "cell_type": "code",
   "execution_count": 19,
   "id": "9197a859",
   "metadata": {},
   "outputs": [],
   "source": [
    "X_N['movie_demand'] = [1 if x > n_rentals_mean else 0 for x in data['n_rentals']]"
   ]
  },
  {
   "cell_type": "code",
   "execution_count": 20,
   "id": "d0ad165d",
   "metadata": {},
   "outputs": [
    {
     "name": "stdout",
     "output_type": "stream",
     "text": [
      "The Column Headers are : ['film_id', 'rental_duration', 'rental_rate', 'length', 'n_rentals', 'rating_ecd', 'special_features_ecd', 'name_ecd', 'movie_demand']\n"
     ]
    }
   ],
   "source": [
    "# Our target `movie_demnad` should be automatically to the right\n",
    "data_headers = list(X_N.columns.values) # to get and check all column names\n",
    "print(\"The Column Headers are :\", data_headers) "
   ]
  },
  {
   "cell_type": "code",
   "execution_count": 21,
   "id": "86ecfb14",
   "metadata": {},
   "outputs": [
    {
     "name": "stdout",
     "output_type": "stream",
     "text": [
      "Data shape is (1000, 9).\n",
      "\n",
      "Data row sample and full columns:\n"
     ]
    },
    {
     "data": {
      "text/html": [
       "<div>\n",
       "<style scoped>\n",
       "    .dataframe tbody tr th:only-of-type {\n",
       "        vertical-align: middle;\n",
       "    }\n",
       "\n",
       "    .dataframe tbody tr th {\n",
       "        vertical-align: top;\n",
       "    }\n",
       "\n",
       "    .dataframe thead th {\n",
       "        text-align: right;\n",
       "    }\n",
       "</style>\n",
       "<table border=\"1\" class=\"dataframe\">\n",
       "  <thead>\n",
       "    <tr style=\"text-align: right;\">\n",
       "      <th></th>\n",
       "      <th>film_id</th>\n",
       "      <th>rental_duration</th>\n",
       "      <th>rental_rate</th>\n",
       "      <th>length</th>\n",
       "      <th>n_rentals</th>\n",
       "      <th>rating_ecd</th>\n",
       "      <th>special_features_ecd</th>\n",
       "      <th>name_ecd</th>\n",
       "      <th>movie_demand</th>\n",
       "    </tr>\n",
       "  </thead>\n",
       "  <tbody>\n",
       "    <tr>\n",
       "      <th>319</th>\n",
       "      <td>206</td>\n",
       "      <td>6</td>\n",
       "      <td>0.99</td>\n",
       "      <td>144</td>\n",
       "      <td>27.0</td>\n",
       "      <td>0</td>\n",
       "      <td>2</td>\n",
       "      <td>5</td>\n",
       "      <td>1</td>\n",
       "    </tr>\n",
       "    <tr>\n",
       "      <th>959</th>\n",
       "      <td>288</td>\n",
       "      <td>7</td>\n",
       "      <td>2.99</td>\n",
       "      <td>167</td>\n",
       "      <td>25.0</td>\n",
       "      <td>4</td>\n",
       "      <td>7</td>\n",
       "      <td>15</td>\n",
       "      <td>1</td>\n",
       "    </tr>\n",
       "    <tr>\n",
       "      <th>586</th>\n",
       "      <td>227</td>\n",
       "      <td>4</td>\n",
       "      <td>4.99</td>\n",
       "      <td>88</td>\n",
       "      <td>18.0</td>\n",
       "      <td>4</td>\n",
       "      <td>3</td>\n",
       "      <td>9</td>\n",
       "      <td>1</td>\n",
       "    </tr>\n",
       "    <tr>\n",
       "      <th>875</th>\n",
       "      <td>135</td>\n",
       "      <td>3</td>\n",
       "      <td>2.99</td>\n",
       "      <td>70</td>\n",
       "      <td>27.0</td>\n",
       "      <td>4</td>\n",
       "      <td>4</td>\n",
       "      <td>14</td>\n",
       "      <td>1</td>\n",
       "    </tr>\n",
       "    <tr>\n",
       "      <th>649</th>\n",
       "      <td>122</td>\n",
       "      <td>7</td>\n",
       "      <td>0.99</td>\n",
       "      <td>114</td>\n",
       "      <td>23.0</td>\n",
       "      <td>2</td>\n",
       "      <td>10</td>\n",
       "      <td>10</td>\n",
       "      <td>1</td>\n",
       "    </tr>\n",
       "  </tbody>\n",
       "</table>\n",
       "</div>"
      ],
      "text/plain": [
       "     film_id  rental_duration  rental_rate  length  n_rentals  rating_ecd  \\\n",
       "319      206                6         0.99     144       27.0           0   \n",
       "959      288                7         2.99     167       25.0           4   \n",
       "586      227                4         4.99      88       18.0           4   \n",
       "875      135                3         2.99      70       27.0           4   \n",
       "649      122                7         0.99     114       23.0           2   \n",
       "\n",
       "     special_features_ecd  name_ecd  movie_demand  \n",
       "319                     2         5             1  \n",
       "959                     7        15             1  \n",
       "586                     3         9             1  \n",
       "875                     4        14             1  \n",
       "649                    10        10             1  "
      ]
     },
     "execution_count": 21,
     "metadata": {},
     "output_type": "execute_result"
    }
   ],
   "source": [
    "data_info(X_N)"
   ]
  },
  {
   "cell_type": "markdown",
   "id": "b6ea8a11",
   "metadata": {},
   "source": [
    "<div class=\"alert alert-block alert-success\">\n",
    "\n",
    "**Now**, we have a cleaned dataset with a target (`movie_demand)`;  `1.000` film's information in `9` distinct numerical features.\n",
    "</div>"
   ]
  },
  {
   "cell_type": "markdown",
   "id": "cbb87560",
   "metadata": {},
   "source": [
    "<img src=\"https://i.imgflip.com/7fx9m2.jpg\" title=\"made at imgflip.com\" style=\"width:350px;height:400px;\"/></a><div><a href=\"https://imgflip.com/memegenerator\">from Imgflip Meme Generator</a></div>"
   ]
  },
  {
   "cell_type": "markdown",
   "id": "fe7cd0e9",
   "metadata": {},
   "source": [
    "## 03 - Exploratory Data Analysis"
   ]
  },
  {
   "cell_type": "markdown",
   "id": "e764a037",
   "metadata": {},
   "source": [
    "### Checking for outliers"
   ]
  },
  {
   "cell_type": "code",
   "execution_count": 22,
   "id": "c897f400",
   "metadata": {
    "scrolled": true
   },
   "outputs": [
    {
     "data": {
      "image/png": "[encoded data removed]",
      "text/plain": [
       "<Figure size 1600x500 with 1 Axes>"
      ]
     },
     "metadata": {},
     "output_type": "display_data"
    }
   ],
   "source": [
    "fig, ax = plt.subplots(figsize=(16, 5))\n",
    "sns.boxplot(data=X_N, orient=\"h\", ax=ax, showfliers=True, whis=1.5)\n",
    "ax.set_ylabel(\"Features\") # Set the x-axis label\n",
    "ax.set_title(\"Features Outliers\") # Set the title of the plot\n",
    "ax.tick_params(axis='x', labelsize=15) # Adjust the font size of the x-axis ticks\n",
    "# Show the plot\n",
    "plt.show()"
   ]
  },
  {
   "cell_type": "markdown",
   "id": "6d3491b3",
   "metadata": {},
   "source": [
    " <div class=\"alert alert-block alert-info\">\n",
    "\n",
    "There are not visible outliers. **Meaning**, the data could be normally distributed.<div>"
   ]
  },
  {
   "cell_type": "markdown",
   "id": "98f42725",
   "metadata": {},
   "source": [
    "### Checking normal distributions"
   ]
  },
  {
   "cell_type": "markdown",
   "id": "651a4e5d",
   "metadata": {},
   "source": [
    "<div class=\"alert alert-block alert-success\">\n",
    "\n",
    "As expected, data is **normaly distributed**, so we will apply no-transformations. Also, our model, `logistic regression` dosen't need normaly distributed data in the first place.\n",
    "    \n",
    "We can also observe how `rental_rate` is divided by 3 categories, same with `movies_demand` (as intended, in 2)<div>"
   ]
  },
  {
   "cell_type": "markdown",
   "id": "b1bf637e",
   "metadata": {},
   "source": [
    "### Dealing with multicollinearity"
   ]
  },
  {
   "cell_type": "code",
   "execution_count": 24,
   "id": "81f8c1eb",
   "metadata": {
    "scrolled": true
   },
   "outputs": [],
   "source": [
    "# Creating the matrix\n",
    "X_corr = round(X_N.corr(), 4)"
   ]
  },
  {
   "cell_type": "code",
   "execution_count": 25,
   "id": "642bd6af",
   "metadata": {
    "scrolled": true
   },
   "outputs": [
    {
     "data": {
      "image/png": "[encoded data removed]",
      "text/plain": [
       "<Figure size 2500x1500 with 2 Axes>"
      ]
     },
     "metadata": {},
     "output_type": "display_data"
    }
   ],
   "source": [
    "# Correlation Matrix-Heatmap Plot\n",
    "mask = np.zeros_like(X_corr)\n",
    "mask[np.triu_indices_from(mask)] = True # optional, to hide repeat half of the matrix\n",
    "f, ax = plt.subplots(figsize=(25, 15))\n",
    "sns.set(font_scale=1.5) # increase font size\n",
    "ax = sns.heatmap(X_corr, mask=mask, annot=True, annot_kws={\"size\": 12}, linewidths=.5, cmap=\"coolwarm\", fmt=\".2f\", ax=ax) # round to 2 decimal places\n",
    "ax.set_title(\"Dealing with Multicollinearity\", fontsize=20) # add title\n",
    "plt.show()"
   ]
  },
  {
   "cell_type": "markdown",
   "id": "57e7c86d",
   "metadata": {},
   "source": [
    "<div class=\"alert alert-block alert-success\">\n",
    "\n",
    "There is one feature ,`n_rentals`, that shows high correlation with our target `movie_demands` as it could be expected. Also, it does not show multicollinearity with the other features. `name_ecd` and `film_id` also shows great potential, we will look at this features more closely in our exploration.\n",
    "    \n",
    "In this process, there is nothing to drop, so we keep with the original dataset shape:\n",
    "<div>"
   ]
  },
  {
   "cell_type": "code",
   "execution_count": 26,
   "id": "57374f89",
   "metadata": {
    "scrolled": true
   },
   "outputs": [
    {
     "data": {
      "text/plain": [
       "(1000, 9)"
      ]
     },
     "execution_count": 26,
     "metadata": {},
     "output_type": "execute_result"
    }
   ],
   "source": [
    "X_N.shape"
   ]
  },
  {
   "cell_type": "markdown",
   "id": "05df1d80",
   "metadata": {},
   "source": [
    "## 04 - Processing Data"
   ]
  },
  {
   "cell_type": "markdown",
   "id": "2919616f",
   "metadata": {},
   "source": [
    "### Normalizing the data"
   ]
  },
  {
   "cell_type": "markdown",
   "id": "e87880a9",
   "metadata": {},
   "source": [
    "<div class=\"alert alert-block alert-warning\">\n",
    "\n",
    "For a `logistic regression` there is no need to normalize or scale the data. \n",
    "\n",
    "Nothing to do in this process.\n",
    "<div>"
   ]
  },
  {
   "cell_type": "markdown",
   "id": "488222ac",
   "metadata": {},
   "source": [
    "### X-Y Split"
   ]
  },
  {
   "cell_type": "code",
   "execution_count": 27,
   "id": "9c26adf6",
   "metadata": {},
   "outputs": [],
   "source": [
    "# We need to be careful about when and how we do the split.\n",
    "Y = X_N['movie_demand']\n",
    "X = X_N.drop(['movie_demand'], axis=1)"
   ]
  },
  {
   "cell_type": "markdown",
   "id": "f93aefc7",
   "metadata": {},
   "source": [
    "## 05 - Modeling"
   ]
  },
  {
   "cell_type": "markdown",
   "id": "3a95197c",
   "metadata": {},
   "source": [
    "### Train-Test Split"
   ]
  },
  {
   "cell_type": "markdown",
   "id": "fd3ce9ef",
   "metadata": {},
   "source": [
    "<img src=\"https://i.imgflip.com/7fxbyk.jpg\" title=\"made at imgflip.com\" style=\"width:400px;height:250px;\"/></a><div><a href=\"https://imgflip.com/memegenerator\">from Imgflip Meme Generator</a></div>"
   ]
  },
  {
   "cell_type": "code",
   "execution_count": 28,
   "id": "2060d0bc",
   "metadata": {},
   "outputs": [],
   "source": [
    "# We define train and test for X and Y\n",
    "X_train, X_test, y_train, y_test = train_test_split(X, Y, test_size=0.3, random_state=42) \n",
    "\n",
    "# test_size = We give 30% for testing and 70% for testing\n",
    "# random_state = it'll improve the model to divide always the model in the same way"
   ]
  },
  {
   "cell_type": "code",
   "execution_count": 29,
   "id": "f25f6087",
   "metadata": {},
   "outputs": [
    {
     "data": {
      "text/plain": [
       "1000"
      ]
     },
     "execution_count": 29,
     "metadata": {},
     "output_type": "execute_result"
    }
   ],
   "source": [
    "len(X) # Len before the test"
   ]
  },
  {
   "cell_type": "code",
   "execution_count": 30,
   "id": "aba61421",
   "metadata": {},
   "outputs": [
    {
     "data": {
      "text/plain": [
       "300"
      ]
     },
     "execution_count": 30,
     "metadata": {},
     "output_type": "execute_result"
    }
   ],
   "source": [
    "len(X_test) # Len after testing 30% of X data"
   ]
  },
  {
   "cell_type": "code",
   "execution_count": 31,
   "id": "259a11fc",
   "metadata": {
    "scrolled": true
   },
   "outputs": [
    {
     "data": {
      "text/plain": [
       "700"
      ]
     },
     "execution_count": 31,
     "metadata": {},
     "output_type": "execute_result"
    }
   ],
   "source": [
    "len(X_train) # Len after training 70% of X data"
   ]
  },
  {
   "cell_type": "markdown",
   "id": "ec3c7d24",
   "metadata": {},
   "source": [
    "<img src=\"https://i.imgflip.com/7fxcen.jpg\" title=\"made at imgflip.com\" style=\"width:250px;height:200px;\"/></a><div><a href=\"https://imgflip.com/memegenerator\">from Imgflip Meme Generator</a></div>"
   ]
  },
  {
   "cell_type": "markdown",
   "id": "6ddf37f4",
   "metadata": {},
   "source": [
    "### Logistic Regression"
   ]
  },
  {
   "cell_type": "code",
   "execution_count": 32,
   "id": "73af54f1",
   "metadata": {},
   "outputs": [],
   "source": [
    "# We traing the training dataset using Logistic Regression\n",
    "logistic = LogisticRegression(random_state=0).fit(X_train, y_train)"
   ]
  },
  {
   "cell_type": "markdown",
   "id": "cdbc19cf",
   "metadata": {},
   "source": [
    "<div class=\"alert alert-block alert-info\">\n",
    "To visualize the predictions, we will count all predicted values.\n",
    "    \n",
    "* If the model predicts **1** means the movie has a high demand, and it'll be probably be rented again.\n",
    "* Else, **0** means the movie has a low demand.<div>"
   ]
  },
  {
   "cell_type": "code",
   "execution_count": 33,
   "id": "e8a2006c",
   "metadata": {
    "scrolled": false
   },
   "outputs": [
    {
     "data": {
      "text/plain": [
       "1    158\n",
       "0    142\n",
       "dtype: int64"
      ]
     },
     "execution_count": 33,
     "metadata": {},
     "output_type": "execute_result"
    }
   ],
   "source": [
    "# Predictions\n",
    "predictions = logistic.predict(X_test)\n",
    "# Converting the numpy array to panda series\n",
    "pd.Series(predictions).value_counts()"
   ]
  },
  {
   "cell_type": "code",
   "execution_count": 34,
   "id": "6006527e",
   "metadata": {
    "scrolled": false
   },
   "outputs": [
    {
     "data": {
      "text/plain": [
       "1    154\n",
       "0    146\n",
       "Name: movie_demand, dtype: int64"
      ]
     },
     "execution_count": 34,
     "metadata": {},
     "output_type": "execute_result"
    }
   ],
   "source": [
    "# We compare it to the true values from historical data\n",
    "y_test.value_counts()"
   ]
  },
  {
   "cell_type": "markdown",
   "id": "2ea3a5f8",
   "metadata": {},
   "source": [
    "<div class=\"alert alert-block alert-success\">\n",
    "\n",
    "Both **predictions** and **true** values look very similar. \n",
    "We will make an **accuarcy** & confussion matrix to evaluate the model.\n",
    "<div>"
   ]
  },
  {
   "cell_type": "markdown",
   "id": "76767d63",
   "metadata": {},
   "source": [
    "### Accuaracy evaluation"
   ]
  },
  {
   "cell_type": "code",
   "execution_count": 35,
   "id": "bd27c31f",
   "metadata": {},
   "outputs": [
    {
     "name": "stdout",
     "output_type": "stream",
     "text": [
      "Accuracy = 0.92\n"
     ]
    }
   ],
   "source": [
    "# Predictions\n",
    "predictions = logistic.predict(X_test)\n",
    "\n",
    "accuracy = accuracy_score(y_test, predictions)\n",
    "\n",
    "#Printing the results\n",
    "print(f\"Accuracy = {accuracy:.2f}\")"
   ]
  },
  {
   "cell_type": "markdown",
   "id": "f25ea722",
   "metadata": {},
   "source": [
    "### Confussion matrix evaluation"
   ]
  },
  {
   "cell_type": "code",
   "execution_count": 36,
   "id": "12311a83",
   "metadata": {},
   "outputs": [
    {
     "data": {
      "image/png": "[encoded data removed]",
      "text/plain": [
       "<Figure size 640x480 with 2 Axes>"
      ]
     },
     "metadata": {},
     "output_type": "display_data"
    }
   ],
   "source": [
    "# Compute the confusion matrix\n",
    "cm = confusion_matrix(y_test, predictions)\n",
    "\n",
    "# Plot the confusion matrix\n",
    "disp = ConfusionMatrixDisplay(confusion_matrix=cm)\n",
    "disp.plot(cmap='Blues')\n",
    "plt.show()"
   ]
  },
  {
   "cell_type": "markdown",
   "id": "d37f6ba9",
   "metadata": {},
   "source": [
    "<div class=\"alert alert-block alert-success\">\n",
    "\n",
    "Our model has:\n",
    "* **144** True Positives Vs **14** False Positives\n",
    "* & **132** True Negatives Vs **10** False Negatives\n",
    "    \n",
    "And an **accuaracy** of 92%... quite solid!\n",
    "<div>"
   ]
  },
  {
   "cell_type": "markdown",
   "id": "8fb298bb",
   "metadata": {},
   "source": [
    "## 06 - Reporting"
   ]
  },
  {
   "cell_type": "markdown",
   "id": "c2025c08",
   "metadata": {},
   "source": [
    "### Presenting the results"
   ]
  },
  {
   "cell_type": "code",
   "execution_count": 37,
   "id": "7b4d2fec",
   "metadata": {
    "scrolled": true
   },
   "outputs": [
    {
     "data": {
      "image/png": "[encoded data removed]",
      "text/plain": [
       "<Figure size 640x480 with 1 Axes>"
      ]
     },
     "metadata": {},
     "output_type": "display_data"
    }
   ],
   "source": [
    "### For the roc curve we need to \"binarize\" the target (OneVsAll)\n",
    "y_pred_proba = logistic.predict_proba(X_test)[::,1]\n",
    "fpr, tpr, _ = metrics.roc_curve(y_test,  y_pred_proba)\n",
    "auc = metrics.roc_auc_score(y_test, y_pred_proba)\n",
    "plt.plot(fpr,tpr)\n",
    "plt.show()"
   ]
  },
  {
   "cell_type": "markdown",
   "id": "8e5d3e9f",
   "metadata": {},
   "source": [
    "### So... Will the movie be rented in the future?"
   ]
  },
  {
   "cell_type": "code",
   "execution_count": 38,
   "id": "7afcdebb",
   "metadata": {},
   "outputs": [],
   "source": [
    "train_predictions = logistic.predict(X_train)\n",
    "test_predictions = logistic.predict(X_test)"
   ]
  },
  {
   "cell_type": "code",
   "execution_count": 39,
   "id": "68965661",
   "metadata": {},
   "outputs": [],
   "source": [
    "# Add the predicted demand column to the train and test sets\n",
    "X_train['predicted_demand'] = train_predictions\n",
    "X_test['predicted_demand'] = test_predictions"
   ]
  },
  {
   "cell_type": "code",
   "execution_count": 40,
   "id": "8782b129",
   "metadata": {},
   "outputs": [],
   "source": [
    "# Combine the train and test sets\n",
    "X_full = pd.concat([X_train, X_test])\n",
    "X_full['movie_demand'] = pd.concat([y_train, y_test])"
   ]
  },
  {
   "cell_type": "code",
   "execution_count": 41,
   "id": "cfce034b",
   "metadata": {
    "scrolled": true
   },
   "outputs": [
    {
     "data": {
      "text/html": [
       "<div>\n",
       "<style scoped>\n",
       "    .dataframe tbody tr th:only-of-type {\n",
       "        vertical-align: middle;\n",
       "    }\n",
       "\n",
       "    .dataframe tbody tr th {\n",
       "        vertical-align: top;\n",
       "    }\n",
       "\n",
       "    .dataframe thead th {\n",
       "        text-align: right;\n",
       "    }\n",
       "</style>\n",
       "<table border=\"1\" class=\"dataframe\">\n",
       "  <thead>\n",
       "    <tr style=\"text-align: right;\">\n",
       "      <th></th>\n",
       "      <th>film_id</th>\n",
       "      <th>movie_demand</th>\n",
       "      <th>predicted_demand</th>\n",
       "    </tr>\n",
       "  </thead>\n",
       "  <tbody>\n",
       "    <tr>\n",
       "      <th>541</th>\n",
       "      <td>493</td>\n",
       "      <td>0</td>\n",
       "      <td>0</td>\n",
       "    </tr>\n",
       "    <tr>\n",
       "      <th>440</th>\n",
       "      <td>63</td>\n",
       "      <td>0</td>\n",
       "      <td>0</td>\n",
       "    </tr>\n",
       "    <tr>\n",
       "      <th>482</th>\n",
       "      <td>679</td>\n",
       "      <td>1</td>\n",
       "      <td>1</td>\n",
       "    </tr>\n",
       "    <tr>\n",
       "      <th>422</th>\n",
       "      <td>803</td>\n",
       "      <td>1</td>\n",
       "      <td>0</td>\n",
       "    </tr>\n",
       "    <tr>\n",
       "      <th>778</th>\n",
       "      <td>538</td>\n",
       "      <td>0</td>\n",
       "      <td>0</td>\n",
       "    </tr>\n",
       "    <tr>\n",
       "      <th>949</th>\n",
       "      <td>103</td>\n",
       "      <td>1</td>\n",
       "      <td>1</td>\n",
       "    </tr>\n",
       "    <tr>\n",
       "      <th>334</th>\n",
       "      <td>466</td>\n",
       "      <td>0</td>\n",
       "      <td>0</td>\n",
       "    </tr>\n",
       "    <tr>\n",
       "      <th>576</th>\n",
       "      <td>984</td>\n",
       "      <td>0</td>\n",
       "      <td>0</td>\n",
       "    </tr>\n",
       "    <tr>\n",
       "      <th>934</th>\n",
       "      <td>841</td>\n",
       "      <td>1</td>\n",
       "      <td>1</td>\n",
       "    </tr>\n",
       "    <tr>\n",
       "      <th>567</th>\n",
       "      <td>821</td>\n",
       "      <td>0</td>\n",
       "      <td>0</td>\n",
       "    </tr>\n",
       "    <tr>\n",
       "      <th>594</th>\n",
       "      <td>316</td>\n",
       "      <td>0</td>\n",
       "      <td>0</td>\n",
       "    </tr>\n",
       "    <tr>\n",
       "      <th>530</th>\n",
       "      <td>416</td>\n",
       "      <td>1</td>\n",
       "      <td>1</td>\n",
       "    </tr>\n",
       "    <tr>\n",
       "      <th>581</th>\n",
       "      <td>189</td>\n",
       "      <td>0</td>\n",
       "      <td>1</td>\n",
       "    </tr>\n",
       "    <tr>\n",
       "      <th>707</th>\n",
       "      <td>244</td>\n",
       "      <td>1</td>\n",
       "      <td>1</td>\n",
       "    </tr>\n",
       "    <tr>\n",
       "      <th>448</th>\n",
       "      <td>147</td>\n",
       "      <td>1</td>\n",
       "      <td>1</td>\n",
       "    </tr>\n",
       "    <tr>\n",
       "      <th>453</th>\n",
       "      <td>262</td>\n",
       "      <td>0</td>\n",
       "      <td>0</td>\n",
       "    </tr>\n",
       "    <tr>\n",
       "      <th>228</th>\n",
       "      <td>652</td>\n",
       "      <td>0</td>\n",
       "      <td>1</td>\n",
       "    </tr>\n",
       "    <tr>\n",
       "      <th>352</th>\n",
       "      <td>712</td>\n",
       "      <td>0</td>\n",
       "      <td>0</td>\n",
       "    </tr>\n",
       "    <tr>\n",
       "      <th>728</th>\n",
       "      <td>673</td>\n",
       "      <td>0</td>\n",
       "      <td>1</td>\n",
       "    </tr>\n",
       "    <tr>\n",
       "      <th>212</th>\n",
       "      <td>469</td>\n",
       "      <td>0</td>\n",
       "      <td>0</td>\n",
       "    </tr>\n",
       "    <tr>\n",
       "      <th>79</th>\n",
       "      <td>241</td>\n",
       "      <td>0</td>\n",
       "      <td>1</td>\n",
       "    </tr>\n",
       "    <tr>\n",
       "      <th>148</th>\n",
       "      <td>354</td>\n",
       "      <td>1</td>\n",
       "      <td>1</td>\n",
       "    </tr>\n",
       "    <tr>\n",
       "      <th>302</th>\n",
       "      <td>939</td>\n",
       "      <td>0</td>\n",
       "      <td>0</td>\n",
       "    </tr>\n",
       "    <tr>\n",
       "      <th>628</th>\n",
       "      <td>835</td>\n",
       "      <td>1</td>\n",
       "      <td>1</td>\n",
       "    </tr>\n",
       "    <tr>\n",
       "      <th>777</th>\n",
       "      <td>492</td>\n",
       "      <td>0</td>\n",
       "      <td>0</td>\n",
       "    </tr>\n",
       "  </tbody>\n",
       "</table>\n",
       "</div>"
      ],
      "text/plain": [
       "     film_id  movie_demand  predicted_demand\n",
       "541      493             0                 0\n",
       "440       63             0                 0\n",
       "482      679             1                 1\n",
       "422      803             1                 0\n",
       "778      538             0                 0\n",
       "949      103             1                 1\n",
       "334      466             0                 0\n",
       "576      984             0                 0\n",
       "934      841             1                 1\n",
       "567      821             0                 0\n",
       "594      316             0                 0\n",
       "530      416             1                 1\n",
       "581      189             0                 1\n",
       "707      244             1                 1\n",
       "448      147             1                 1\n",
       "453      262             0                 0\n",
       "228      652             0                 1\n",
       "352      712             0                 0\n",
       "728      673             0                 1\n",
       "212      469             0                 0\n",
       "79       241             0                 1\n",
       "148      354             1                 1\n",
       "302      939             0                 0\n",
       "628      835             1                 1\n",
       "777      492             0                 0"
      ]
     },
     "execution_count": 41,
     "metadata": {},
     "output_type": "execute_result"
    }
   ],
   "source": [
    "# Display the entire dataset with the new predicted_demand column\n",
    "X_full[['film_id', 'movie_demand', 'predicted_demand']].head(25)"
   ]
  },
  {
   "cell_type": "markdown",
   "id": "1fa3fd2e",
   "metadata": {},
   "source": [
    "<div class=\"alert alert-block alert-success\">\n",
    "\n",
    "If `predicted_demand` 1 = that movie (film_id) has high probability to be rented again.\n",
    "\n",
    "We can check `film_id` `652` for example (it is predicted to be in high demand) to know the title in a simple querie:<div>"
   ]
  },
  {
   "cell_type": "code",
   "execution_count": 42,
   "id": "c1b5fd3c",
   "metadata": {},
   "outputs": [
    {
     "data": {
      "text/html": [
       "<div>\n",
       "<style scoped>\n",
       "    .dataframe tbody tr th:only-of-type {\n",
       "        vertical-align: middle;\n",
       "    }\n",
       "\n",
       "    .dataframe tbody tr th {\n",
       "        vertical-align: top;\n",
       "    }\n",
       "\n",
       "    .dataframe thead th {\n",
       "        text-align: right;\n",
       "    }\n",
       "</style>\n",
       "<table border=\"1\" class=\"dataframe\">\n",
       "  <thead>\n",
       "    <tr style=\"text-align: right;\">\n",
       "      <th></th>\n",
       "      <th>film_id</th>\n",
       "      <th>title</th>\n",
       "      <th>description</th>\n",
       "      <th>release_year</th>\n",
       "      <th>language_id</th>\n",
       "      <th>original_language_id</th>\n",
       "      <th>rental_duration</th>\n",
       "      <th>rental_rate</th>\n",
       "      <th>length</th>\n",
       "      <th>replacement_cost</th>\n",
       "      <th>rating</th>\n",
       "      <th>special_features</th>\n",
       "      <th>last_update</th>\n",
       "    </tr>\n",
       "  </thead>\n",
       "  <tbody>\n",
       "    <tr>\n",
       "      <th>0</th>\n",
       "      <td>652</td>\n",
       "      <td>PAJAMA JAWBREAKER</td>\n",
       "      <td>A Emotional Drama of a Boy And a Technical Wri...</td>\n",
       "      <td>2006</td>\n",
       "      <td>1</td>\n",
       "      <td>None</td>\n",
       "      <td>3</td>\n",
       "      <td>0.99</td>\n",
       "      <td>126</td>\n",
       "      <td>14.99</td>\n",
       "      <td>R</td>\n",
       "      <td>Trailers,Deleted Scenes</td>\n",
       "      <td>2006-02-15 05:03:42</td>\n",
       "    </tr>\n",
       "  </tbody>\n",
       "</table>\n",
       "</div>"
      ],
      "text/plain": [
       "   film_id              title  \\\n",
       "0      652  PAJAMA JAWBREAKER   \n",
       "\n",
       "                                         description  release_year  \\\n",
       "0  A Emotional Drama of a Boy And a Technical Wri...          2006   \n",
       "\n",
       "   language_id original_language_id  rental_duration  rental_rate  length  \\\n",
       "0            1                 None                3         0.99     126   \n",
       "\n",
       "   replacement_cost rating         special_features         last_update  \n",
       "0             14.99      R  Trailers,Deleted Scenes 2006-02-15 05:03:42  "
      ]
     },
     "execution_count": 42,
     "metadata": {},
     "output_type": "execute_result"
    }
   ],
   "source": [
    "film_title = pd.read_sql_query('SELECT * FROM film WHERE film_id = 652;', engine)\n",
    "film_title.head()"
   ]
  }
 ],
 "metadata": {
  "kernelspec": {
   "display_name": "Python 3 (ipykernel)",
   "language": "python",
   "name": "python3"
  },
  "language_info": {
   "codemirror_mode": {
    "name": "ipython",
    "version": 3
   },
   "file_extension": ".py",
   "mimetype": "text/x-python",
   "name": "python",
   "nbconvert_exporter": "python",
   "pygments_lexer": "ipython3",
   "version": "3.9.13"
  }
 },
 "nbformat": 4,
 "nbformat_minor": 5
}
