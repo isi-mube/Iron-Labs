{
 "cells": [
  {
   "cell_type": "markdown",
   "id": "03392f2c-4553-42a3-b014-e5a8d95f7571",
   "metadata": {},
   "source": [
    "![logo_ironhack_blue 7](https://user-images.githubusercontent.com/23629340/40541063-a07a0a8a-601a-11e8-91b5-2f13e4e6b441.png)\n",
    "\n",
    "# Lab | Cross Validation\n",
    "\n",
    "For this lab, we will build a model on customer churn binary classification problem. You will be using `files_for_lab/Customer-Churn.csv` file."
   ]
  },
  {
   "cell_type": "markdown",
   "id": "95230d07-28fd-4bc2-92a9-96470f5674a7",
   "metadata": {},
   "source": [
    "<h1 style=\"color: #00BFFF;\">00 |</h1>"
   ]
  },
  {
   "cell_type": "markdown",
   "id": "2f44ccbc-7f45-4dbe-9342-3dcd05e9fe75",
   "metadata": {},
   "source": [
    "- Import the required libraries and modules that you would need."
   ]
  },
  {
   "cell_type": "code",
   "execution_count": 1,
   "id": "5dfc6d25-c532-434f-a03f-cca19a85437e",
   "metadata": {},
   "outputs": [],
   "source": [
    "# 📚 Basic libraries\n",
    "import pandas as pd # data manipulation\n",
    "import numpy as np # numerical operations\n",
    "import matplotlib.pyplot as plt # 2D visualizations\n",
    "import warnings # warning messages management\n",
    "\n",
    "# 🤖 Machine Learning\n",
    "from sklearn.preprocessing import MinMaxScaler # data scaler\n",
    "from sklearn.tree import DecisionTreeClassifier # New ! Decision Tree\n",
    "from sklearn.metrics import classification_report\n",
    "from sklearn.preprocessing import StandardScaler\n",
    "from sklearn.model_selection import train_test_split # train/test sets\n",
    "from sklearn.linear_model import LogisticRegression\n",
    "from sklearn.metrics import roc_curve, confusion_matrix, ConfusionMatrixDisplay # roc curve, confussion matrix & displayer"
   ]
  },
  {
   "cell_type": "code",
   "execution_count": 2,
   "id": "fe4fdb09-1050-4323-9397-9a46039717ff",
   "metadata": {},
   "outputs": [],
   "source": [
    "# ⚙️ Settings\n",
    "pd.set_option('display.max_columns', None) # display all columns\n",
    "warnings.filterwarnings('ignore') # ignore warnings"
   ]
  },
  {
   "cell_type": "code",
   "execution_count": 3,
   "id": "893d628a-e0ee-437b-9525-026341e087f0",
   "metadata": {},
   "outputs": [],
   "source": [
    "# 🔧 Basic functions\n",
    "def explore_data(data): # sum & returns duplicates, NaN & empty spaces\n",
    "    duplicate_rows = data.duplicated().sum()\n",
    "    nan_values = data.isna().sum()\n",
    "    empty_spaces = data.eq(' ').sum()\n",
    "    import pandas as pd\n",
    "    exploration = pd.DataFrame({\"NaN\": nan_values, \"EmptySpaces\": empty_spaces}) # New dataframe with the results\n",
    "    print(f\"There are {data.duplicated().sum()} duplicate rows. Also;\")\n",
    "    return exploration"
   ]
  },
  {
   "cell_type": "markdown",
   "id": "74f5a303-1b9d-4fda-affa-1ffe5bbd1393",
   "metadata": {},
   "source": [
    "<h1 style=\"color: #00BFFF;\">00 | Logistic Regression</h1>"
   ]
  },
  {
   "cell_type": "markdown",
   "id": "d2af6c11-6201-49b1-a891-52dc79aca698",
   "metadata": {
    "tags": []
   },
   "source": [
    "<h1 style=\"color: #00BFFF;\">01 | Data Extraction</h1>"
   ]
  },
  {
   "cell_type": "code",
   "execution_count": 4,
   "id": "d8b3fa47-f7e7-4033-b428-ddf26df59ad1",
   "metadata": {},
   "outputs": [
    {
     "data": {
      "text/html": [
       "<div>\n",
       "<style scoped>\n",
       "    .dataframe tbody tr th:only-of-type {\n",
       "        vertical-align: middle;\n",
       "    }\n",
       "\n",
       "    .dataframe tbody tr th {\n",
       "        vertical-align: top;\n",
       "    }\n",
       "\n",
       "    .dataframe thead th {\n",
       "        text-align: right;\n",
       "    }\n",
       "</style>\n",
       "<table border=\"1\" class=\"dataframe\">\n",
       "  <thead>\n",
       "    <tr style=\"text-align: right;\">\n",
       "      <th></th>\n",
       "      <th>gender</th>\n",
       "      <th>SeniorCitizen</th>\n",
       "      <th>Partner</th>\n",
       "      <th>Dependents</th>\n",
       "      <th>tenure</th>\n",
       "      <th>PhoneService</th>\n",
       "      <th>OnlineSecurity</th>\n",
       "      <th>OnlineBackup</th>\n",
       "      <th>DeviceProtection</th>\n",
       "      <th>TechSupport</th>\n",
       "      <th>StreamingTV</th>\n",
       "      <th>StreamingMovies</th>\n",
       "      <th>Contract</th>\n",
       "      <th>MonthlyCharges</th>\n",
       "      <th>TotalCharges</th>\n",
       "      <th>Churn</th>\n",
       "    </tr>\n",
       "  </thead>\n",
       "  <tbody>\n",
       "    <tr>\n",
       "      <th>0</th>\n",
       "      <td>Female</td>\n",
       "      <td>0</td>\n",
       "      <td>Yes</td>\n",
       "      <td>No</td>\n",
       "      <td>1</td>\n",
       "      <td>No</td>\n",
       "      <td>No</td>\n",
       "      <td>Yes</td>\n",
       "      <td>No</td>\n",
       "      <td>No</td>\n",
       "      <td>No</td>\n",
       "      <td>No</td>\n",
       "      <td>Month-to-month</td>\n",
       "      <td>29.85</td>\n",
       "      <td>29.85</td>\n",
       "      <td>No</td>\n",
       "    </tr>\n",
       "    <tr>\n",
       "      <th>1</th>\n",
       "      <td>Male</td>\n",
       "      <td>0</td>\n",
       "      <td>No</td>\n",
       "      <td>No</td>\n",
       "      <td>34</td>\n",
       "      <td>Yes</td>\n",
       "      <td>Yes</td>\n",
       "      <td>No</td>\n",
       "      <td>Yes</td>\n",
       "      <td>No</td>\n",
       "      <td>No</td>\n",
       "      <td>No</td>\n",
       "      <td>One year</td>\n",
       "      <td>56.95</td>\n",
       "      <td>1889.5</td>\n",
       "      <td>No</td>\n",
       "    </tr>\n",
       "    <tr>\n",
       "      <th>2</th>\n",
       "      <td>Male</td>\n",
       "      <td>0</td>\n",
       "      <td>No</td>\n",
       "      <td>No</td>\n",
       "      <td>2</td>\n",
       "      <td>Yes</td>\n",
       "      <td>Yes</td>\n",
       "      <td>Yes</td>\n",
       "      <td>No</td>\n",
       "      <td>No</td>\n",
       "      <td>No</td>\n",
       "      <td>No</td>\n",
       "      <td>Month-to-month</td>\n",
       "      <td>53.85</td>\n",
       "      <td>108.15</td>\n",
       "      <td>Yes</td>\n",
       "    </tr>\n",
       "    <tr>\n",
       "      <th>3</th>\n",
       "      <td>Male</td>\n",
       "      <td>0</td>\n",
       "      <td>No</td>\n",
       "      <td>No</td>\n",
       "      <td>45</td>\n",
       "      <td>No</td>\n",
       "      <td>Yes</td>\n",
       "      <td>No</td>\n",
       "      <td>Yes</td>\n",
       "      <td>Yes</td>\n",
       "      <td>No</td>\n",
       "      <td>No</td>\n",
       "      <td>One year</td>\n",
       "      <td>42.30</td>\n",
       "      <td>1840.75</td>\n",
       "      <td>No</td>\n",
       "    </tr>\n",
       "    <tr>\n",
       "      <th>4</th>\n",
       "      <td>Female</td>\n",
       "      <td>0</td>\n",
       "      <td>No</td>\n",
       "      <td>No</td>\n",
       "      <td>2</td>\n",
       "      <td>Yes</td>\n",
       "      <td>No</td>\n",
       "      <td>No</td>\n",
       "      <td>No</td>\n",
       "      <td>No</td>\n",
       "      <td>No</td>\n",
       "      <td>No</td>\n",
       "      <td>Month-to-month</td>\n",
       "      <td>70.70</td>\n",
       "      <td>151.65</td>\n",
       "      <td>Yes</td>\n",
       "    </tr>\n",
       "  </tbody>\n",
       "</table>\n",
       "</div>"
      ],
      "text/plain": [
       "   gender  SeniorCitizen Partner Dependents  tenure PhoneService  \\\n",
       "0  Female              0     Yes         No       1           No   \n",
       "1    Male              0      No         No      34          Yes   \n",
       "2    Male              0      No         No       2          Yes   \n",
       "3    Male              0      No         No      45           No   \n",
       "4  Female              0      No         No       2          Yes   \n",
       "\n",
       "  OnlineSecurity OnlineBackup DeviceProtection TechSupport StreamingTV  \\\n",
       "0             No          Yes               No          No          No   \n",
       "1            Yes           No              Yes          No          No   \n",
       "2            Yes          Yes               No          No          No   \n",
       "3            Yes           No              Yes         Yes          No   \n",
       "4             No           No               No          No          No   \n",
       "\n",
       "  StreamingMovies        Contract  MonthlyCharges TotalCharges Churn  \n",
       "0              No  Month-to-month           29.85        29.85    No  \n",
       "1              No        One year           56.95       1889.5    No  \n",
       "2              No  Month-to-month           53.85       108.15   Yes  \n",
       "3              No        One year           42.30      1840.75    No  \n",
       "4              No  Month-to-month           70.70       151.65   Yes  "
      ]
     },
     "execution_count": 4,
     "metadata": {},
     "output_type": "execute_result"
    }
   ],
   "source": [
    "churnData = pd.read_csv('Customer-Churn.csv')\n",
    "churnData.head(5) # call of the churnData"
   ]
  },
  {
   "cell_type": "markdown",
   "id": "c1ef5c41-52e9-4264-aad3-2364bdeb87d4",
   "metadata": {
    "tags": []
   },
   "source": [
    "<h1 style=\"color: #00BFFF;\">02 | EDA</h1>"
   ]
  },
  {
   "cell_type": "code",
   "execution_count": 5,
   "id": "c43d2328-d052-40e7-aa99-b79645bb300e",
   "metadata": {},
   "outputs": [],
   "source": [
    "churnData['TotalCharges'] = pd.to_numeric(churnData['TotalCharges'], errors='coerce')"
   ]
  },
  {
   "cell_type": "markdown",
   "id": "b9e8b56e-8c0d-4323-b782-e6f5c31df992",
   "metadata": {
    "tags": []
   },
   "source": [
    "<h1 style=\"color: #00BFFF;\">03 | Data Cleaning</h1>"
   ]
  },
  {
   "cell_type": "code",
   "execution_count": 6,
   "id": "6b54cc13-2468-49b7-aedf-ae4a2dbe8289",
   "metadata": {},
   "outputs": [
    {
     "data": {
      "text/plain": [
       "49"
      ]
     },
     "execution_count": 6,
     "metadata": {},
     "output_type": "execute_result"
    }
   ],
   "source": [
    "churnData.duplicated().sum()"
   ]
  },
  {
   "cell_type": "code",
   "execution_count": 7,
   "id": "26e65a7c-f696-4dc2-980b-23c96678fa09",
   "metadata": {},
   "outputs": [],
   "source": [
    "# Let's drop the duplicates\n",
    "churnData = churnData.drop_duplicates()"
   ]
  },
  {
   "cell_type": "code",
   "execution_count": 8,
   "id": "06c0901b-2ce3-4cca-8aa5-df04e4ca13c9",
   "metadata": {},
   "outputs": [
    {
     "data": {
      "text/plain": [
       "0"
      ]
     },
     "execution_count": 8,
     "metadata": {},
     "output_type": "execute_result"
    }
   ],
   "source": [
    "churnData.duplicated().sum()"
   ]
  },
  {
   "cell_type": "code",
   "execution_count": 9,
   "id": "2c0d41f3-5c32-4468-b5b3-9d4806ed3b9f",
   "metadata": {},
   "outputs": [
    {
     "data": {
      "text/plain": [
       "gender              0\n",
       "SeniorCitizen       0\n",
       "Partner             0\n",
       "Dependents          0\n",
       "tenure              0\n",
       "PhoneService        0\n",
       "OnlineSecurity      0\n",
       "OnlineBackup        0\n",
       "DeviceProtection    0\n",
       "TechSupport         0\n",
       "StreamingTV         0\n",
       "StreamingMovies     0\n",
       "Contract            0\n",
       "MonthlyCharges      0\n",
       "TotalCharges        0\n",
       "Churn               0\n",
       "dtype: int64"
      ]
     },
     "execution_count": 9,
     "metadata": {},
     "output_type": "execute_result"
    }
   ],
   "source": [
    "# So... apart from nulls, duplicates, what else we can check?\n",
    "churnData.eq(' ').sum() # empty spaces ofc, eq = an empty space & sum()"
   ]
  },
  {
   "cell_type": "code",
   "execution_count": 10,
   "id": "b368dfe7-93da-45e2-b8f5-a439b7505ea7",
   "metadata": {
    "tags": []
   },
   "outputs": [],
   "source": [
    "# Muahahaha, there are ofc some empty spaces we are not gonna miss"
   ]
  },
  {
   "cell_type": "code",
   "execution_count": 11,
   "id": "7bc94790-7fe8-4f01-bc7c-1e686cbc4aed",
   "metadata": {},
   "outputs": [],
   "source": [
    "churnData['TotalCharges'] = churnData['TotalCharges'].replace(' ', np.nan)  # replacing it with NaN \n",
    "churnData = churnData.dropna(subset=['TotalCharges']) # and dropping them like NaN"
   ]
  },
  {
   "cell_type": "code",
   "execution_count": 12,
   "id": "f28ea449-2709-4022-aea9-33da1d6cfc16",
   "metadata": {},
   "outputs": [
    {
     "data": {
      "text/plain": [
       "gender              0\n",
       "SeniorCitizen       0\n",
       "Partner             0\n",
       "Dependents          0\n",
       "tenure              0\n",
       "PhoneService        0\n",
       "OnlineSecurity      0\n",
       "OnlineBackup        0\n",
       "DeviceProtection    0\n",
       "TechSupport         0\n",
       "StreamingTV         0\n",
       "StreamingMovies     0\n",
       "Contract            0\n",
       "MonthlyCharges      0\n",
       "TotalCharges        0\n",
       "Churn               0\n",
       "dtype: int64"
      ]
     },
     "execution_count": 12,
     "metadata": {},
     "output_type": "execute_result"
    }
   ],
   "source": [
    "churnData.isna().sum()"
   ]
  },
  {
   "cell_type": "markdown",
   "id": "5fff6464-87bd-4d3b-99b3-81a3aab64030",
   "metadata": {
    "tags": []
   },
   "source": [
    "<h1 style=\"color: #00BFFF;\">04 | Data Pre-Processing</h1>"
   ]
  },
  {
   "cell_type": "code",
   "execution_count": 13,
   "id": "d02af493-41c3-4b9f-839a-36186a972ae9",
   "metadata": {},
   "outputs": [],
   "source": [
    "X = churnData[['tenure', 'SeniorCitizen', 'MonthlyCharges', 'TotalCharges']] # Selecting the features from the lab\n",
    "y = churnData['Churn'] # Is our customer churn or not?"
   ]
  },
  {
   "cell_type": "code",
   "execution_count": 14,
   "id": "d4b1e850-7be1-4569-8bf8-a154c6c0396a",
   "metadata": {},
   "outputs": [],
   "source": [
    "# StandardScaler dosen't make any sense, since it's not normal distributed.\n",
    "# We will use minmax, even to seniorcitizen (it will not affect the model)\n",
    "scaler = MinMaxScaler()\n",
    "X_scaled = scaler.fit_transform(X)"
   ]
  },
  {
   "cell_type": "markdown",
   "id": "f165bf6f-5208-4cd0-944b-f7d4bdb86ae1",
   "metadata": {
    "tags": []
   },
   "source": [
    "<h1 style=\"color: #00BFFF;\">05 | Modeling</h1>"
   ]
  },
  {
   "cell_type": "code",
   "execution_count": 15,
   "id": "6a3da3e3-ad9e-4d9e-8272-16ec7626c8d5",
   "metadata": {},
   "outputs": [],
   "source": [
    "X_train, X_test, y_train, y_test = train_test_split(X_scaled, y, test_size=0.3, random_state=42)"
   ]
  },
  {
   "cell_type": "code",
   "execution_count": 16,
   "id": "5539e5b7-8200-442a-986c-d914715aee37",
   "metadata": {},
   "outputs": [
    {
     "data": {
      "text/plain": [
       "LogisticRegression()"
      ]
     },
     "execution_count": 16,
     "metadata": {},
     "output_type": "execute_result"
    }
   ],
   "source": [
    "model = LogisticRegression() # We pick our model\n",
    "model.fit(X_train,y_train) # We fit the training data into the model"
   ]
  },
  {
   "cell_type": "code",
   "execution_count": 17,
   "id": "a8bd17d0-761f-4c5b-ac97-01c380dfd906",
   "metadata": {},
   "outputs": [],
   "source": [
    "predictions = model.predict(X_test)"
   ]
  },
  {
   "cell_type": "markdown",
   "id": "672dd1f3-1517-4e22-8b94-0b092ec5c06b",
   "metadata": {
    "tags": []
   },
   "source": [
    "<h1 style=\"color: #00BFFF;\">06 | Reporting</h1>"
   ]
  },
  {
   "cell_type": "code",
   "execution_count": 18,
   "id": "ff5e99e4-0160-45d5-aba5-ea80844b4291",
   "metadata": {},
   "outputs": [
    {
     "data": {
      "image/png": "[encoded data removed]",
      "text/plain": [
       "<Figure size 640x480 with 2 Axes>"
      ]
     },
     "metadata": {},
     "output_type": "display_data"
    },
    {
     "name": "stdout",
     "output_type": "stream",
     "text": [
      "\n",
      "              precision    recall  f1-score   support\n",
      "\n",
      "          No       0.83      0.91      0.87      1559\n",
      "         Yes       0.62      0.44      0.52       536\n",
      "\n",
      "    accuracy                           0.79      2095\n",
      "   macro avg       0.73      0.68      0.69      2095\n",
      "weighted avg       0.77      0.79      0.78      2095\n",
      "\n"
     ]
    }
   ],
   "source": [
    "# Compute the confusion matrix\n",
    "cm = confusion_matrix(y_test, predictions)\n",
    "\n",
    "# Plot the confusion matrix\n",
    "disp = ConfusionMatrixDisplay(confusion_matrix=cm)\n",
    "disp.plot(cmap='Blues')\n",
    "plt.show()\n",
    "\n",
    "print(\"\")\n",
    "print(classification_report(y_test, predictions))"
   ]
  },
  {
   "cell_type": "markdown",
   "id": "67d7970b-6d92-4c4f-9eaa-fbcfda382978",
   "metadata": {
    "tags": []
   },
   "source": [
    "<h1 style=\"color: #00BFFF;\">00 | SMOTE</h1>"
   ]
  },
  {
   "cell_type": "markdown",
   "id": "8b3689b9-8c0d-4ba5-8a69-4f95da0078c0",
   "metadata": {},
   "source": [
    "1. Apply SMOTE for upsampling the data\n",
    "\n",
    "    - Use logistic regression to fit the model and compute the accuracy of the model.\n",
    "    - Use decision tree classifier to fit the model and compute the accuracy of the model.\n",
    "    - Compare the accuracies of the two models."
   ]
  },
  {
   "cell_type": "markdown",
   "id": "71dce860-2035-4c79-a89d-6bcf248fce2a",
   "metadata": {},
   "source": [
    "<h3 style=\"color: #008080;\">SMOTE</h3>"
   ]
  },
  {
   "cell_type": "code",
   "execution_count": 19,
   "id": "4ed1e179-d11e-4a6e-96b7-64839fb57fab",
   "metadata": {},
   "outputs": [],
   "source": [
    "from imblearn.over_sampling import SMOTE # Oversampling librarie technique"
   ]
  },
  {
   "cell_type": "code",
   "execution_count": 20,
   "id": "bb46f9dc-533e-47cc-bc0f-a8e4e7ca7be3",
   "metadata": {},
   "outputs": [],
   "source": [
    "# Selecting our library\n",
    "smote = SMOTE()"
   ]
  },
  {
   "cell_type": "code",
   "execution_count": 21,
   "id": "42627351-a106-4b9c-9030-61a2543e9ba1",
   "metadata": {},
   "outputs": [
    {
     "data": {
      "text/html": [
       "<div>\n",
       "<style scoped>\n",
       "    .dataframe tbody tr th:only-of-type {\n",
       "        vertical-align: middle;\n",
       "    }\n",
       "\n",
       "    .dataframe tbody tr th {\n",
       "        vertical-align: top;\n",
       "    }\n",
       "\n",
       "    .dataframe thead th {\n",
       "        text-align: right;\n",
       "    }\n",
       "</style>\n",
       "<table border=\"1\" class=\"dataframe\">\n",
       "  <thead>\n",
       "    <tr style=\"text-align: right;\">\n",
       "      <th></th>\n",
       "      <th>SeniorCitizen</th>\n",
       "      <th>tenure</th>\n",
       "      <th>MonthlyCharges</th>\n",
       "      <th>TotalCharges</th>\n",
       "    </tr>\n",
       "  </thead>\n",
       "  <tbody>\n",
       "    <tr>\n",
       "      <th>0</th>\n",
       "      <td>0</td>\n",
       "      <td>1</td>\n",
       "      <td>29.85</td>\n",
       "      <td>29.85</td>\n",
       "    </tr>\n",
       "    <tr>\n",
       "      <th>1</th>\n",
       "      <td>0</td>\n",
       "      <td>34</td>\n",
       "      <td>56.95</td>\n",
       "      <td>1889.50</td>\n",
       "    </tr>\n",
       "    <tr>\n",
       "      <th>2</th>\n",
       "      <td>0</td>\n",
       "      <td>2</td>\n",
       "      <td>53.85</td>\n",
       "      <td>108.15</td>\n",
       "    </tr>\n",
       "    <tr>\n",
       "      <th>3</th>\n",
       "      <td>0</td>\n",
       "      <td>45</td>\n",
       "      <td>42.30</td>\n",
       "      <td>1840.75</td>\n",
       "    </tr>\n",
       "    <tr>\n",
       "      <th>4</th>\n",
       "      <td>0</td>\n",
       "      <td>2</td>\n",
       "      <td>70.70</td>\n",
       "      <td>151.65</td>\n",
       "    </tr>\n",
       "  </tbody>\n",
       "</table>\n",
       "</div>"
      ],
      "text/plain": [
       "   SeniorCitizen  tenure  MonthlyCharges  TotalCharges\n",
       "0              0       1           29.85         29.85\n",
       "1              0      34           56.95       1889.50\n",
       "2              0       2           53.85        108.15\n",
       "3              0      45           42.30       1840.75\n",
       "4              0       2           70.70        151.65"
      ]
     },
     "execution_count": 21,
     "metadata": {},
     "output_type": "execute_result"
    }
   ],
   "source": [
    "y = churnData['Churn']\n",
    "X = churnData.select_dtypes(include=[np.number]) # Selecting Numericals\n",
    "X.head()"
   ]
  },
  {
   "cell_type": "code",
   "execution_count": 22,
   "id": "fa26c29e-c1c1-48e7-a290-3e70360fdaea",
   "metadata": {},
   "outputs": [],
   "source": [
    "# Normalazing the data\n",
    "transformer = StandardScaler().fit(X)\n",
    "\n",
    "# Transformation\n",
    "X = transformer.transform(X)\n",
    "\n",
    "# Using RandomUnderSampler\n",
    "X_sm, y_sm = smote.fit_resample(X, y)\n",
    "\n",
    "# We define train and test for X and Y\n",
    "X_train, X_test, y_train, y_test = train_test_split(X_sm, y_sm, test_size=0.3, random_state=100)\n",
    "\n",
    "# test_size = We give 30% for testing and 70% for testing\n",
    "# random_state = it'll improve the model to divide always the model in the same way"
   ]
  },
  {
   "cell_type": "code",
   "execution_count": 23,
   "id": "e9fca0ce-cbbc-45ed-84b4-f3df64f001ce",
   "metadata": {},
   "outputs": [
    {
     "data": {
      "text/plain": [
       "No     5133\n",
       "Yes    1850\n",
       "Name: Churn, dtype: int64"
      ]
     },
     "execution_count": 23,
     "metadata": {},
     "output_type": "execute_result"
    }
   ],
   "source": [
    "y.value_counts()"
   ]
  },
  {
   "cell_type": "code",
   "execution_count": 24,
   "id": "310c0e53-3e70-4a21-9138-4ca4395db860",
   "metadata": {},
   "outputs": [
    {
     "data": {
      "text/plain": [
       "Yes    5133\n",
       "No     5133\n",
       "Name: Churn, dtype: int64"
      ]
     },
     "execution_count": 24,
     "metadata": {},
     "output_type": "execute_result"
    }
   ],
   "source": [
    "y_sm.value_counts()"
   ]
  },
  {
   "cell_type": "code",
   "execution_count": 25,
   "id": "a9879889-fbcd-466f-aaa4-253bba9fa981",
   "metadata": {},
   "outputs": [
    {
     "data": {
      "text/plain": [
       "0.7301948051948052"
      ]
     },
     "execution_count": 25,
     "metadata": {},
     "output_type": "execute_result"
    }
   ],
   "source": [
    "# We traing the training dataset using Logistic Regression\n",
    "logistic = LogisticRegression(random_state=0).fit(X_train, y_train)\n",
    "\n",
    "# Predictions\n",
    "predictions = logistic.predict(X_test)\n",
    "\n",
    "logistic.score(X_test, y_test)"
   ]
  },
  {
   "cell_type": "code",
   "execution_count": 26,
   "id": "d10df908-94fa-4015-b7fe-07663180e79c",
   "metadata": {},
   "outputs": [
    {
     "name": "stdout",
     "output_type": "stream",
     "text": [
      "              precision    recall  f1-score   support\n",
      "\n",
      "          No       0.74      0.73      0.73      1564\n",
      "         Yes       0.72      0.73      0.73      1516\n",
      "\n",
      "    accuracy                           0.73      3080\n",
      "   macro avg       0.73      0.73      0.73      3080\n",
      "weighted avg       0.73      0.73      0.73      3080\n",
      "\n"
     ]
    }
   ],
   "source": [
    "logistic_5 = classification_report(y_test, predictions)\n",
    "print(logistic_5)"
   ]
  },
  {
   "cell_type": "code",
   "execution_count": 27,
   "id": "b4ad849e-ba3c-4549-ab63-5cf889affd31",
   "metadata": {},
   "outputs": [
    {
     "name": "stdout",
     "output_type": "stream",
     "text": [
      "Logistic Regression Classification Report:\n",
      "              precision    recall  f1-score   support\n",
      "\n",
      "          No       0.74      0.73      0.73      1564\n",
      "         Yes       0.72      0.73      0.73      1516\n",
      "\n",
      "    accuracy                           0.73      3080\n",
      "   macro avg       0.73      0.73      0.73      3080\n",
      "weighted avg       0.73      0.73      0.73      3080\n",
      "\n",
      "Decision Tree Classification Report:\n",
      "              precision    recall  f1-score   support\n",
      "\n",
      "          No       0.75      0.74      0.75      1564\n",
      "         Yes       0.74      0.75      0.74      1516\n",
      "\n",
      "    accuracy                           0.75      3080\n",
      "   macro avg       0.75      0.75      0.75      3080\n",
      "weighted avg       0.75      0.75      0.75      3080\n",
      "\n"
     ]
    }
   ],
   "source": [
    "# Logistic Regression\n",
    "lr = LogisticRegression()\n",
    "lr.fit(X_train, y_train)\n",
    "lr_pred = lr.predict(X_test)\n",
    "lr_report = classification_report(y_test, lr_pred)\n",
    "print('Logistic Regression Classification Report:')\n",
    "print(lr_report)\n",
    "\n",
    "# Decision Tree\n",
    "dt = DecisionTreeClassifier()\n",
    "dt.fit(X_train, y_train)\n",
    "dt_pred = dt.predict(X_test)\n",
    "dt_report = classification_report(y_test, dt_pred)\n",
    "print('Decision Tree Classification Report:')\n",
    "print(dt_report)"
   ]
  },
  {
   "cell_type": "code",
   "execution_count": 28,
   "id": "c52664af-3f6a-4567-b40d-630eb085fedd",
   "metadata": {},
   "outputs": [],
   "source": [
    "# Decision Tree Classification is slightly better, 1% for each class, with SMOTE. let's see for TomeLinks"
   ]
  },
  {
   "cell_type": "markdown",
   "id": "a4ee7edf-dd50-4c24-a67c-6f4d2c0f8ccf",
   "metadata": {},
   "source": [
    "<h1 style=\"color: #00BFFF;\">00 | TomeLinks</h1>"
   ]
  },
  {
   "cell_type": "markdown",
   "id": "d71de5b9-a77c-447e-9008-7c258ca66609",
   "metadata": {},
   "source": [
    "2. Apply TomekLinks for downsampling\n",
    "\n",
    "    - It is important to remember that it does not make the two classes equal but only removes the points from the majority class that are close to other points in minority class.\n",
    "    - Use logistic regression to fit the model and compute the accuracy of the model.\n",
    "    - Use decision tree classifier to fit the model and compute the accuracy of the model.\n",
    "    - Compare the accuracies of the two models.\n",
    "    - You can also apply this algorithm one more time and check the how the imbalance in the two classes changed from the last time.\n"
   ]
  },
  {
   "cell_type": "markdown",
   "id": "0e912d06-1714-495d-9a3a-04fdbf13d869",
   "metadata": {},
   "source": [
    "<h3 style=\"color: #008080;\">TomeLinks</h3>"
   ]
  },
  {
   "cell_type": "code",
   "execution_count": 29,
   "id": "f3738116-cd88-44d5-974a-931f58c2057c",
   "metadata": {},
   "outputs": [],
   "source": [
    "from imblearn.under_sampling import TomekLinks # Undersampling librarie technique"
   ]
  },
  {
   "cell_type": "code",
   "execution_count": 30,
   "id": "b6a460ad-9469-409b-8ad0-2902a2dec171",
   "metadata": {},
   "outputs": [],
   "source": [
    "# Selecting our library\n",
    "tl = TomekLinks(sampling_strategy='majority')"
   ]
  },
  {
   "cell_type": "code",
   "execution_count": 31,
   "id": "ffb7b9fa-a502-4547-942c-a2d8763abc24",
   "metadata": {},
   "outputs": [
    {
     "data": {
      "text/html": [
       "<div>\n",
       "<style scoped>\n",
       "    .dataframe tbody tr th:only-of-type {\n",
       "        vertical-align: middle;\n",
       "    }\n",
       "\n",
       "    .dataframe tbody tr th {\n",
       "        vertical-align: top;\n",
       "    }\n",
       "\n",
       "    .dataframe thead th {\n",
       "        text-align: right;\n",
       "    }\n",
       "</style>\n",
       "<table border=\"1\" class=\"dataframe\">\n",
       "  <thead>\n",
       "    <tr style=\"text-align: right;\">\n",
       "      <th></th>\n",
       "      <th>SeniorCitizen</th>\n",
       "      <th>tenure</th>\n",
       "      <th>MonthlyCharges</th>\n",
       "      <th>TotalCharges</th>\n",
       "    </tr>\n",
       "  </thead>\n",
       "  <tbody>\n",
       "    <tr>\n",
       "      <th>0</th>\n",
       "      <td>0</td>\n",
       "      <td>1</td>\n",
       "      <td>29.85</td>\n",
       "      <td>29.85</td>\n",
       "    </tr>\n",
       "    <tr>\n",
       "      <th>1</th>\n",
       "      <td>0</td>\n",
       "      <td>34</td>\n",
       "      <td>56.95</td>\n",
       "      <td>1889.50</td>\n",
       "    </tr>\n",
       "    <tr>\n",
       "      <th>2</th>\n",
       "      <td>0</td>\n",
       "      <td>2</td>\n",
       "      <td>53.85</td>\n",
       "      <td>108.15</td>\n",
       "    </tr>\n",
       "    <tr>\n",
       "      <th>3</th>\n",
       "      <td>0</td>\n",
       "      <td>45</td>\n",
       "      <td>42.30</td>\n",
       "      <td>1840.75</td>\n",
       "    </tr>\n",
       "    <tr>\n",
       "      <th>4</th>\n",
       "      <td>0</td>\n",
       "      <td>2</td>\n",
       "      <td>70.70</td>\n",
       "      <td>151.65</td>\n",
       "    </tr>\n",
       "  </tbody>\n",
       "</table>\n",
       "</div>"
      ],
      "text/plain": [
       "   SeniorCitizen  tenure  MonthlyCharges  TotalCharges\n",
       "0              0       1           29.85         29.85\n",
       "1              0      34           56.95       1889.50\n",
       "2              0       2           53.85        108.15\n",
       "3              0      45           42.30       1840.75\n",
       "4              0       2           70.70        151.65"
      ]
     },
     "execution_count": 31,
     "metadata": {},
     "output_type": "execute_result"
    }
   ],
   "source": [
    "y = churnData['Churn']\n",
    "X = churnData.select_dtypes(include=[np.number]) # Selecting Numericals\n",
    "X.head()"
   ]
  },
  {
   "cell_type": "code",
   "execution_count": 32,
   "id": "3ca4d35c-abaf-47d7-83d0-c2d59a2cf004",
   "metadata": {},
   "outputs": [],
   "source": [
    "# Normalazing the data\n",
    "transformer = StandardScaler().fit(X)\n",
    "\n",
    "# Transformation\n",
    "X = transformer.transform(X)\n",
    "\n",
    "# Using RandomUnderSampler\n",
    "X_tl, y_tl = tl.fit_resample(X, y)\n",
    "\n",
    "# We define train and test for X and Y\n",
    "X_train, X_test, y_train, y_test = train_test_split(X_tl, y_tl, test_size=0.3, random_state=100)\n",
    "\n",
    "# test_size = We give 30% for testing and 70% for testing\n",
    "# random_state = it'll improve the model to divide always the model in the same way"
   ]
  },
  {
   "cell_type": "code",
   "execution_count": 33,
   "id": "6c3a1463-fe44-433b-9227-18d591da18fb",
   "metadata": {},
   "outputs": [
    {
     "data": {
      "text/plain": [
       "No     5133\n",
       "Yes    1850\n",
       "Name: Churn, dtype: int64"
      ]
     },
     "execution_count": 33,
     "metadata": {},
     "output_type": "execute_result"
    }
   ],
   "source": [
    "y.value_counts()"
   ]
  },
  {
   "cell_type": "code",
   "execution_count": 34,
   "id": "b06b9fcf-781d-4830-af0d-b67cb4648586",
   "metadata": {},
   "outputs": [
    {
     "data": {
      "text/plain": [
       "No     4623\n",
       "Yes    1850\n",
       "Name: Churn, dtype: int64"
      ]
     },
     "execution_count": 34,
     "metadata": {},
     "output_type": "execute_result"
    }
   ],
   "source": [
    "y_tl.value_counts()"
   ]
  },
  {
   "cell_type": "code",
   "execution_count": 35,
   "id": "e2d334cb-0ab6-4343-bb72-549b29c2332b",
   "metadata": {},
   "outputs": [
    {
     "data": {
      "text/plain": [
       "0.7914521112255407"
      ]
     },
     "execution_count": 35,
     "metadata": {},
     "output_type": "execute_result"
    }
   ],
   "source": [
    "# We traing the training dataset using Logistic Regression\n",
    "logistic = LogisticRegression(random_state=0).fit(X_train, y_train)\n",
    "\n",
    "# Predictions\n",
    "predictions = logistic.predict(X_test)\n",
    "\n",
    "logistic.score(X_test, y_test)"
   ]
  },
  {
   "cell_type": "code",
   "execution_count": 36,
   "id": "3e52c75b-8ab6-4bfc-b6e5-06987e3b8d72",
   "metadata": {},
   "outputs": [
    {
     "name": "stdout",
     "output_type": "stream",
     "text": [
      "              precision    recall  f1-score   support\n",
      "\n",
      "          No       0.83      0.89      0.86      1397\n",
      "         Yes       0.66      0.53      0.59       545\n",
      "\n",
      "    accuracy                           0.79      1942\n",
      "   macro avg       0.75      0.71      0.72      1942\n",
      "weighted avg       0.78      0.79      0.78      1942\n",
      "\n"
     ]
    }
   ],
   "source": [
    "logistic_6 = classification_report(y_test, predictions)\n",
    "print(logistic_6)"
   ]
  },
  {
   "cell_type": "code",
   "execution_count": 37,
   "id": "9dc40f7f-a5cb-4eb6-bd2f-71ea951e0d0a",
   "metadata": {},
   "outputs": [
    {
     "name": "stdout",
     "output_type": "stream",
     "text": [
      "Logistic Regression Classification Report after TomekLinks:\n",
      "              precision    recall  f1-score   support\n",
      "\n",
      "          No       0.83      0.89      0.86      1397\n",
      "         Yes       0.66      0.53      0.59       545\n",
      "\n",
      "    accuracy                           0.79      1942\n",
      "   macro avg       0.75      0.71      0.72      1942\n",
      "weighted avg       0.78      0.79      0.78      1942\n",
      "\n",
      "Decision Tree Classification Report after TomekLinks:\n",
      "              precision    recall  f1-score   support\n",
      "\n",
      "          No       0.83      0.83      0.83      1397\n",
      "         Yes       0.56      0.56      0.56       545\n",
      "\n",
      "    accuracy                           0.75      1942\n",
      "   macro avg       0.70      0.70      0.70      1942\n",
      "weighted avg       0.75      0.75      0.75      1942\n",
      "\n"
     ]
    }
   ],
   "source": [
    "from sklearn.metrics import classification_report\n",
    "\n",
    "# Logistic Regression\n",
    "lr_tl = LogisticRegression()\n",
    "lr_tl.fit(X_train, y_train)\n",
    "lr_tl_pred = lr_tl.predict(X_test)\n",
    "lr_tl_report = classification_report(y_test, lr_tl_pred)\n",
    "print('Logistic Regression Classification Report after TomekLinks:')\n",
    "print(lr_tl_report)\n",
    "\n",
    "# Decision Tree\n",
    "dt_tl = DecisionTreeClassifier()\n",
    "dt_tl.fit(X_train, y_train)\n",
    "dt_tl_pred = dt_tl.predict(X_test)\n",
    "dt_tl_report = classification_report(y_test, dt_tl_pred)\n",
    "print('Decision Tree Classification Report after TomekLinks:')\n",
    "print(dt_tl_report)\n"
   ]
  },
  {
   "cell_type": "code",
   "execution_count": 38,
   "id": "0af697cb-08b7-42ba-ab6d-3330f06d9433",
   "metadata": {},
   "outputs": [],
   "source": [
    "# In case of Tomelinks, downsampling, we got worst results with the DecisionTree predicting the Yes"
   ]
  }
 ],
 "metadata": {
  "kernelspec": {
   "display_name": "Python 3 (ipykernel)",
   "language": "python",
   "name": "python3"
  },
  "language_info": {
   "codemirror_mode": {
    "name": "ipython",
    "version": 3
   },
   "file_extension": ".py",
   "mimetype": "text/x-python",
   "name": "python",
   "nbconvert_exporter": "python",
   "pygments_lexer": "ipython3",
   "version": "3.9.13"
  }
 },
 "nbformat": 4,
 "nbformat_minor": 5
}
