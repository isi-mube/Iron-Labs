{
 "cells": [
  {
   "cell_type": "markdown",
   "id": "f6591d62-7986-4bef-bef5-5184d21585e1",
   "metadata": {},
   "source": [
    "![logo_ironhack_blue 7](https://user-images.githubusercontent.com/23629340/40541063-a07a0a8a-601a-11e8-91b5-2f13e4e6b441.png)\n",
    "\n",
    "# Lab | Web Scraping Multiple Pages\n",
    "\n",
    "#### Expand the project\n",
    "\n",
    "If you're done, you can try to expand the project on your own. Here are a few suggestions:\n",
    "\n",
    "- Find other lists of hot songs on the internet and scrape them too: having a bigger pool of songs will be awesome!\n",
    "- Apply the same logic to other \"groups\" of songs: the best songs from a decade or from a country / culture / language / genre.\n",
    "- Wikipedia maintains a large collection of lists of songs: https://en.wikipedia.org/wiki/Lists_of_songs"
   ]
  },
  {
   "cell_type": "markdown",
   "id": "51163da0-ac7a-417f-ae61-f8210c535221",
   "metadata": {},
   "source": [
    "<h1 style=\"color: #00BFFF;\">00 |</h1>"
   ]
  },
  {
   "cell_type": "code",
   "execution_count": 12,
   "id": "02c16553-2147-4f77-95de-a7fc38963f41",
   "metadata": {},
   "outputs": [],
   "source": [
    "# 📚 The good all basics\n",
    "import pandas as pd # dataframe managment\n",
    "\n",
    "# 🥣 Let's make a beautiful soup\n",
    "from bs4 import BeautifulSoup # for web scrapping\n",
    "import requests # to kindly request to scrape the web"
   ]
  },
  {
   "cell_type": "code",
   "execution_count": 35,
   "id": "5fc8912b-a59a-42fe-b95a-e1261bb1f3b5",
   "metadata": {},
   "outputs": [],
   "source": [
    "# 🎯 Specific functions\n",
    "def get_soup(link):\n",
    "    try:\n",
    "        request = requests.get(link)\n",
    "        request.raise_for_status()  # returns an HTTPError if the response is not OK\n",
    "        soup = BeautifulSoup(request.content, \"html.parser\") # .content returns raw bytes\n",
    "        print(\"All good! Response code is\", request.status_code)\n",
    "        return soup\n",
    "    except requests.exceptions.HTTPError as err:\n",
    "        if request.status_code == 404:\n",
    "            print(\"404: Oops, sorry we can't find that page!\")\n",
    "        else:\n",
    "            print(\"The error code is\", err.args[0]) # look up the 1st argument from HTTPError\n",
    "        return None"
   ]
  },
  {
   "cell_type": "markdown",
   "id": "0182770e-9428-4475-8805-ef3e741e9cc5",
   "metadata": {
    "tags": []
   },
   "source": [
    "<h1 style=\"color: #00BFFF;\">01 | Data Wrangling</h1>"
   ]
  },
  {
   "cell_type": "markdown",
   "id": "3f127a33-1fe7-4608-8c00-dcdf7a42ab1f",
   "metadata": {},
   "source": [
    "<h3 style=\"color: #008080;\">Top 10 songs by decade (1890-2019)</h3>"
   ]
  },
  {
   "cell_type": "code",
   "execution_count": 30,
   "id": "bb8fdb5c-9f7f-48f7-b29b-a84c00d62434",
   "metadata": {},
   "outputs": [],
   "source": [
    "# Web scraping Dave´s music database\n",
    "decade_link = \"https://davesmusicdatabase.blogspot.com/2012/04/top-songs-by-decade-1900-present.html\""
   ]
  },
  {
   "cell_type": "code",
   "execution_count": 36,
   "id": "467bf207-2131-4ffb-8b74-0ab358970c65",
   "metadata": {},
   "outputs": [
    {
     "name": "stdout",
     "output_type": "stream",
     "text": [
      "All good! Response code is 200\n"
     ]
    }
   ],
   "source": [
    "soup = get_soup(decade_link)"
   ]
  },
  {
   "cell_type": "code",
   "execution_count": 40,
   "id": "53668aa4-a6e2-43f6-8667-4062f50f7358",
   "metadata": {},
   "outputs": [],
   "source": [
    "artist_name = soup.find_all(\"p\")"
   ]
  },
  {
   "cell_type": "code",
   "execution_count": 53,
   "id": "f91df57f-9f1c-4b89-8350-1efced22a578",
   "metadata": {},
   "outputs": [],
   "source": [
    "a_tag = soup.find('a', attrs={'title': '2010-2019: Top 100'})  # find the specific <a> tag\n",
    "p_tag = a_tag.find_next('p')  # get the next <p> tag"
   ]
  },
  {
   "cell_type": "markdown",
   "id": "619c44c0-8b08-4c87-9711-617adb7c17cb",
   "metadata": {
    "tags": []
   },
   "source": [
    "<h3 style=\"color: #008080;\">Top 40 songs by genre (country)</h3>"
   ]
  },
  {
   "cell_type": "code",
   "execution_count": 17,
   "id": "0cd166e1-6e7e-423b-b37b-bafd87d761bf",
   "metadata": {},
   "outputs": [],
   "source": [
    "# Web Scrapping Spotify\n",
    "genre_link = \"https://open.spotify.com/playlist/67By0TFyhmb4jKal8eXHHT\""
   ]
  },
  {
   "cell_type": "code",
   "execution_count": 18,
   "id": "05d71416-102e-4bcb-838d-4198f31662ca",
   "metadata": {},
   "outputs": [
    {
     "name": "stdout",
     "output_type": "stream",
     "text": [
      "All good! Response code is 200\n"
     ]
    }
   ],
   "source": [
    "error_404(genre_link)"
   ]
  },
  {
   "cell_type": "markdown",
   "id": "24a34d62-2ffb-4ef3-8c58-45eb439ec7ad",
   "metadata": {
    "tags": []
   },
   "source": [
    "<h3 style=\"color: #008080;\">Top 200 songs by language (Spanish)</h3>"
   ]
  },
  {
   "cell_type": "code",
   "execution_count": 19,
   "id": "35427c4b-20f5-442d-a8ba-e6e358526eb0",
   "metadata": {},
   "outputs": [],
   "source": [
    "# Web scrapping Shazam\n",
    "language_link = \"https://www.shazam.com/gb/charts/top-200/spain\""
   ]
  },
  {
   "cell_type": "code",
   "execution_count": 20,
   "id": "0faa75fe-10e4-42e7-b9ac-860dfde73dc2",
   "metadata": {},
   "outputs": [
    {
     "name": "stdout",
     "output_type": "stream",
     "text": [
      "All good! Response code is 200\n"
     ]
    }
   ],
   "source": [
    "error_404(language_link)"
   ]
  }
 ],
 "metadata": {
  "kernelspec": {
   "display_name": "Python 3 (ipykernel)",
   "language": "python",
   "name": "python3"
  },
  "language_info": {
   "codemirror_mode": {
    "name": "ipython",
    "version": 3
   },
   "file_extension": ".py",
   "mimetype": "text/x-python",
   "name": "python",
   "nbconvert_exporter": "python",
   "pygments_lexer": "ipython3",
   "version": "3.9.13"
  }
 },
 "nbformat": 4,
 "nbformat_minor": 5
}
