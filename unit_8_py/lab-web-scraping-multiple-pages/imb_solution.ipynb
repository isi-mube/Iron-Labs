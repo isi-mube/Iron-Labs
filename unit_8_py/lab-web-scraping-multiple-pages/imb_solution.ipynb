{
 "cells": [
  {
   "cell_type": "markdown",
   "id": "f6591d62-7986-4bef-bef5-5184d21585e1",
   "metadata": {},
   "source": [
    "![logo_ironhack_blue 7](https://user-images.githubusercontent.com/23629340/40541063-a07a0a8a-601a-11e8-91b5-2f13e4e6b441.png)\n",
    "\n",
    "# Lab | Web Scraping Multiple Pages\n",
    "\n",
    "#### Expand the project\n",
    "\n",
    "If you're done, you can try to expand the project on your own. Here are a few suggestions:\n",
    "\n",
    "- Find other lists of hot songs on the internet and scrape them too: having a bigger pool of songs will be awesome!\n",
    "- Apply the same logic to other \"groups\" of songs: the best songs from a decade or from a country / culture / language / genre.\n",
    "- Wikipedia maintains a large collection of lists of songs: https://en.wikipedia.org/wiki/Lists_of_songs"
   ]
  },
  {
   "cell_type": "markdown",
   "id": "51163da0-ac7a-417f-ae61-f8210c535221",
   "metadata": {},
   "source": [
    "<h1 style=\"color: #00BFFF;\">00 |</h1>"
   ]
  },
  {
   "cell_type": "code",
   "execution_count": 1,
   "id": "02c16553-2147-4f77-95de-a7fc38963f41",
   "metadata": {},
   "outputs": [],
   "source": [
    "# 📚 The good all basics\n",
    "import pandas as pd # dataframe managment\n",
    "\n",
    "# 🥣 Let's make a beautiful soup\n",
    "from bs4 import BeautifulSoup # for web scrapping\n",
    "import requests # to kindly request to scrape the web"
   ]
  },
  {
   "cell_type": "code",
   "execution_count": 2,
   "id": "5fc8912b-a59a-42fe-b95a-e1261bb1f3b5",
   "metadata": {},
   "outputs": [],
   "source": [
    "# 🎯 Specific functions\n",
    "def get_soup(link):\n",
    "    try:\n",
    "        request = requests.get(link)\n",
    "        request.raise_for_status()  # returns an HTTPError if the response is not OK\n",
    "        soup = BeautifulSoup(request.content, \"html.parser\") # .content returns raw bytes\n",
    "        print(\"All good! Response code is\", request.status_code)\n",
    "        return soup\n",
    "    except requests.exceptions.HTTPError as err:\n",
    "        if request.status_code == 404:\n",
    "            print(\"404: Oops, sorry we can't find that page!\")\n",
    "        else:\n",
    "            print(\"The error code is\", err.args[0]) # look up the 1st argument from HTTPError\n",
    "        return None"
   ]
  },
  {
   "cell_type": "markdown",
   "id": "0182770e-9428-4475-8805-ef3e741e9cc5",
   "metadata": {
    "tags": []
   },
   "source": [
    "<h1 style=\"color: #00BFFF;\">01 | Data Wrangling</h1>"
   ]
  },
  {
   "cell_type": "markdown",
   "id": "3f127a33-1fe7-4608-8c00-dcdf7a42ab1f",
   "metadata": {},
   "source": [
    "<h3 style=\"color: #008080;\">1. Itunes Top 100 Songs Chart 2023</h3>"
   ]
  },
  {
   "cell_type": "code",
   "execution_count": 3,
   "id": "bb8fdb5c-9f7f-48f7-b29b-a84c00d62434",
   "metadata": {},
   "outputs": [],
   "source": [
    "itunes_link = \"https://www.popvortex.com/music/charts/top-100-songs.php\""
   ]
  },
  {
   "cell_type": "code",
   "execution_count": 4,
   "id": "467bf207-2131-4ffb-8b74-0ab358970c65",
   "metadata": {},
   "outputs": [
    {
     "name": "stdout",
     "output_type": "stream",
     "text": [
      "All good! Response code is 200\n"
     ]
    }
   ],
   "source": [
    "soup = get_soup(itunes_link)"
   ]
  },
  {
   "cell_type": "markdown",
   "id": "52eb2880-c488-4e02-a377-f4c2f9841950",
   "metadata": {},
   "source": [
    "<h3 style=\"color: #008080;\">Getting the song titles</h3>"
   ]
  },
  {
   "cell_type": "code",
   "execution_count": 5,
   "id": "159b922a-3c05-43b8-b7ac-1481edf23d77",
   "metadata": {},
   "outputs": [
    {
     "name": "stdout",
     "output_type": "stream",
     "text": [
      "                                               Songs\n",
      "0   Barbie World (with Aqua) [From Barbie The Album]\n",
      "1                                           Fast Car\n",
      "2                           Barbie World (with Aqua)\n",
      "3                                         Last Night\n",
      "4                                       Need A Favor\n",
      "..                                               ...\n",
      "92                                             Lover\n",
      "93                                          Drinkaby\n",
      "94                                    King of Hearts\n",
      "95                                   Ella Baila Sola\n",
      "96                                   Halfway To Hell\n",
      "\n",
      "[97 rows x 1 columns]\n"
     ]
    }
   ],
   "source": [
    "song1 = soup.find_all(\"cite\", attrs={\"class\": \"title\"})\n",
    "s1_names = [tag.get_text() for tag in song1]\n",
    "s1_df = pd.DataFrame(s1_names, columns=[\"Songs\"])\n",
    "print(s1_df)"
   ]
  },
  {
   "cell_type": "code",
   "execution_count": 6,
   "id": "89c79b92-4944-41b4-ab02-3bee7767b4c1",
   "metadata": {},
   "outputs": [],
   "source": [
    "# We get 97 songs not by an error, in the original website there are 97 songs-artists"
   ]
  },
  {
   "cell_type": "markdown",
   "id": "c0b072a7-de28-47f5-9af8-518b72612633",
   "metadata": {},
   "source": [
    "<h3 style=\"color: #008080;\">Getting the artists names</h3>"
   ]
  },
  {
   "cell_type": "code",
   "execution_count": 7,
   "id": "53668aa4-a6e2-43f6-8667-4062f50f7358",
   "metadata": {},
   "outputs": [
    {
     "name": "stdout",
     "output_type": "stream",
     "text": [
      "                        Artists\n",
      "0       Nicki Minaj & Ice Spice\n",
      "1                    Luke Combs\n",
      "2       Nicki Minaj & Ice Spice\n",
      "3                 Morgan Wallen\n",
      "4                    Jelly Roll\n",
      "..                          ...\n",
      "92                 Taylor Swift\n",
      "93                Cole Swindell\n",
      "94                   Kim Petras\n",
      "95  Eslabon Armado & Peso Pluma\n",
      "96                   Jelly Roll\n",
      "\n",
      "[97 rows x 1 columns]\n"
     ]
    }
   ],
   "source": [
    "artist1 = soup.find_all(\"em\", attrs={\"class\": \"artist\"})\n",
    "a1_names = [tag.get_text() for tag in artist1]\n",
    "a1_df = pd.DataFrame(a1_names, columns=[\"Artists\"])\n",
    "print(a1_df)"
   ]
  },
  {
   "cell_type": "markdown",
   "id": "6ab76f72-9e52-41ed-9f7a-b28b34d013a7",
   "metadata": {},
   "source": [
    "<h2 style=\"color: #008080;\">Presenting the Results</h2>"
   ]
  },
  {
   "cell_type": "code",
   "execution_count": 8,
   "id": "19fde150-86bd-4c97-9144-c7c836db7448",
   "metadata": {},
   "outputs": [
    {
     "data": {
      "text/html": [
       "<div>\n",
       "<style scoped>\n",
       "    .dataframe tbody tr th:only-of-type {\n",
       "        vertical-align: middle;\n",
       "    }\n",
       "\n",
       "    .dataframe tbody tr th {\n",
       "        vertical-align: top;\n",
       "    }\n",
       "\n",
       "    .dataframe thead th {\n",
       "        text-align: right;\n",
       "    }\n",
       "</style>\n",
       "<table border=\"1\" class=\"dataframe\">\n",
       "  <thead>\n",
       "    <tr style=\"text-align: right;\">\n",
       "      <th></th>\n",
       "      <th>Songs</th>\n",
       "      <th>Artists</th>\n",
       "    </tr>\n",
       "  </thead>\n",
       "  <tbody>\n",
       "    <tr>\n",
       "      <th>0</th>\n",
       "      <td>Barbie World (with Aqua) [From Barbie The Album]</td>\n",
       "      <td>Nicki Minaj &amp; Ice Spice</td>\n",
       "    </tr>\n",
       "    <tr>\n",
       "      <th>1</th>\n",
       "      <td>Fast Car</td>\n",
       "      <td>Luke Combs</td>\n",
       "    </tr>\n",
       "    <tr>\n",
       "      <th>2</th>\n",
       "      <td>Barbie World (with Aqua)</td>\n",
       "      <td>Nicki Minaj &amp; Ice Spice</td>\n",
       "    </tr>\n",
       "    <tr>\n",
       "      <th>3</th>\n",
       "      <td>Last Night</td>\n",
       "      <td>Morgan Wallen</td>\n",
       "    </tr>\n",
       "    <tr>\n",
       "      <th>4</th>\n",
       "      <td>Need A Favor</td>\n",
       "      <td>Jelly Roll</td>\n",
       "    </tr>\n",
       "    <tr>\n",
       "      <th>...</th>\n",
       "      <td>...</td>\n",
       "      <td>...</td>\n",
       "    </tr>\n",
       "    <tr>\n",
       "      <th>92</th>\n",
       "      <td>Lover</td>\n",
       "      <td>Taylor Swift</td>\n",
       "    </tr>\n",
       "    <tr>\n",
       "      <th>93</th>\n",
       "      <td>Drinkaby</td>\n",
       "      <td>Cole Swindell</td>\n",
       "    </tr>\n",
       "    <tr>\n",
       "      <th>94</th>\n",
       "      <td>King of Hearts</td>\n",
       "      <td>Kim Petras</td>\n",
       "    </tr>\n",
       "    <tr>\n",
       "      <th>95</th>\n",
       "      <td>Ella Baila Sola</td>\n",
       "      <td>Eslabon Armado &amp; Peso Pluma</td>\n",
       "    </tr>\n",
       "    <tr>\n",
       "      <th>96</th>\n",
       "      <td>Halfway To Hell</td>\n",
       "      <td>Jelly Roll</td>\n",
       "    </tr>\n",
       "  </tbody>\n",
       "</table>\n",
       "<p>97 rows × 2 columns</p>\n",
       "</div>"
      ],
      "text/plain": [
       "                                               Songs  \\\n",
       "0   Barbie World (with Aqua) [From Barbie The Album]   \n",
       "1                                           Fast Car   \n",
       "2                           Barbie World (with Aqua)   \n",
       "3                                         Last Night   \n",
       "4                                       Need A Favor   \n",
       "..                                               ...   \n",
       "92                                             Lover   \n",
       "93                                          Drinkaby   \n",
       "94                                    King of Hearts   \n",
       "95                                   Ella Baila Sola   \n",
       "96                                   Halfway To Hell   \n",
       "\n",
       "                        Artists  \n",
       "0       Nicki Minaj & Ice Spice  \n",
       "1                    Luke Combs  \n",
       "2       Nicki Minaj & Ice Spice  \n",
       "3                 Morgan Wallen  \n",
       "4                    Jelly Roll  \n",
       "..                          ...  \n",
       "92                 Taylor Swift  \n",
       "93                Cole Swindell  \n",
       "94                   Kim Petras  \n",
       "95  Eslabon Armado & Peso Pluma  \n",
       "96                   Jelly Roll  \n",
       "\n",
       "[97 rows x 2 columns]"
      ]
     },
     "execution_count": 8,
     "metadata": {},
     "output_type": "execute_result"
    }
   ],
   "source": [
    "# We do a final dataframe, concatenating the songs and artists\n",
    "df = pd.concat([s1_df, a1_df], axis=1)\n",
    "df"
   ]
  },
  {
   "cell_type": "markdown",
   "id": "619c44c0-8b08-4c87-9711-617adb7c17cb",
   "metadata": {
    "tags": []
   },
   "source": [
    "<h3 style=\"color: #008080;\">2. Top 50 Singles Chart</h3>"
   ]
  },
  {
   "cell_type": "code",
   "execution_count": 9,
   "id": "0cd166e1-6e7e-423b-b37b-bafd87d761bf",
   "metadata": {},
   "outputs": [],
   "source": [
    "single_link = \"https://www.aria.com.au/charts/singles-chart/2023-06-26\""
   ]
  },
  {
   "cell_type": "code",
   "execution_count": 10,
   "id": "05d71416-102e-4bcb-838d-4198f31662ca",
   "metadata": {},
   "outputs": [
    {
     "name": "stdout",
     "output_type": "stream",
     "text": [
      "All good! Response code is 200\n"
     ]
    }
   ],
   "source": [
    "soup2 = get_soup(single_link)"
   ]
  },
  {
   "cell_type": "markdown",
   "id": "952a68da-99e2-436d-9a8e-5fd67f9f3e04",
   "metadata": {},
   "source": [
    "<h3 style=\"color: #008080;\">Getting the song titles</h3>"
   ]
  },
  {
   "cell_type": "code",
   "execution_count": 13,
   "id": "f14e4b73-ebc5-46a1-91fd-76e75c3a9c0a",
   "metadata": {},
   "outputs": [
    {
     "name": "stdout",
     "output_type": "stream",
     "text": [
      "                                      Songs\n",
      "0                                  Sprinter\n",
      "1                                Last Night\n",
      "2                                  Fast Car\n",
      "3                                   Flowers\n",
      "4                                  Daylight\n",
      "5                      The Beginning: Cupid\n",
      "6                                 Kill Bill\n",
      "7                               Die For You\n",
      "8                                 Anti-Hero\n",
      "9                              Boy's a liar\n",
      "10                                Calm Down\n",
      "11                                As It Was\n",
      "12                              All My Life\n",
      "13                  Something in the Orange\n",
      "14                                    Karma\n",
      "15                          I Ain't Worried\n",
      "16                        Until I Found You\n",
      "17                                  Miracle\n",
      "18                              Padam Padam\n",
      "19                                 Creepin'\n",
      "20                               Area Codes\n",
      "21                            Am I Dreaming\n",
      "22                               Heat Waves\n",
      "23                                Escapism.\n",
      "24                                Sunflower\n",
      "25                                  Riptide\n",
      "26  Dance The Night (From Barbie The Album)\n",
      "27                                   People\n",
      "28                             Cruel Summer\n",
      "29                                Attention\n",
      "30                                  Popular\n",
      "31                              Eyes Closed\n",
      "32                                  Players\n",
      "33                                  Calling\n",
      "34                                You Proof\n",
      "35                 The Kind of Love We Make\n",
      "36                                  Shivers\n",
      "37                               Sure Thing\n",
      "38                                 Chemical\n",
      "39                        Someone You Loved\n",
      "40                                    10:35\n",
      "41                  Cold Heart (PNAU Remix)\n",
      "42                               Annihilate\n",
      "43                            Mr Brightside\n",
      "44                           No Role Modelz\n",
      "45                                Self Love\n",
      "46                          Save Your Tears\n",
      "47                             Another Love\n",
      "48                          I'm Good (Blue)\n",
      "49                                   Dreams\n"
     ]
    }
   ],
   "source": [
    "song2 = soup2.find_all(\"a\", attrs={\"class\": \"c-chart-item__title\"})\n",
    "s2_names = [tag.get_text() for tag in song2]\n",
    "s2_df = pd.DataFrame(s2_names, columns=[\"Songs\"])\n",
    "print(s2_df)"
   ]
  },
  {
   "cell_type": "markdown",
   "id": "27513e72-8375-4788-9b83-2f75cb86e5a5",
   "metadata": {},
   "source": [
    "<h3 style=\"color: #008080;\">Getting the artists names</h3>"
   ]
  },
  {
   "cell_type": "code",
   "execution_count": 14,
   "id": "e8da2763-4c0d-407e-9d66-501a2fc131d2",
   "metadata": {
    "tags": []
   },
   "outputs": [
    {
     "name": "stdout",
     "output_type": "stream",
     "text": [
      "                        Artists\n",
      "0       Nicki Minaj & Ice Spice\n",
      "1                    Luke Combs\n",
      "2       Nicki Minaj & Ice Spice\n",
      "3                 Morgan Wallen\n",
      "4                    Jelly Roll\n",
      "..                          ...\n",
      "92                 Taylor Swift\n",
      "93                Cole Swindell\n",
      "94                   Kim Petras\n",
      "95  Eslabon Armado & Peso Pluma\n",
      "96                   Jelly Roll\n",
      "\n",
      "[97 rows x 1 columns]\n"
     ]
    }
   ],
   "source": [
    "artist2 = soup.find_all(\"a\", attrs={\"class\": \"c-chart-item__artist\"})\n",
    "a2_names = [tag.get_text() for tag in artist1]\n",
    "a2_df = pd.DataFrame(a2_names, columns=[\"Artists\"])\n",
    "print(a2_df)"
   ]
  },
  {
   "cell_type": "code",
   "execution_count": 15,
   "id": "6e81a93e-73aa-44d5-9135-3f37c85bbeb5",
   "metadata": {},
   "outputs": [
    {
     "data": {
      "text/html": [
       "<div>\n",
       "<style scoped>\n",
       "    .dataframe tbody tr th:only-of-type {\n",
       "        vertical-align: middle;\n",
       "    }\n",
       "\n",
       "    .dataframe tbody tr th {\n",
       "        vertical-align: top;\n",
       "    }\n",
       "\n",
       "    .dataframe thead th {\n",
       "        text-align: right;\n",
       "    }\n",
       "</style>\n",
       "<table border=\"1\" class=\"dataframe\">\n",
       "  <thead>\n",
       "    <tr style=\"text-align: right;\">\n",
       "      <th></th>\n",
       "      <th>Songs</th>\n",
       "      <th>Artists</th>\n",
       "    </tr>\n",
       "  </thead>\n",
       "  <tbody>\n",
       "    <tr>\n",
       "      <th>0</th>\n",
       "      <td>Sprinter</td>\n",
       "      <td>Nicki Minaj &amp; Ice Spice</td>\n",
       "    </tr>\n",
       "    <tr>\n",
       "      <th>1</th>\n",
       "      <td>Last Night</td>\n",
       "      <td>Luke Combs</td>\n",
       "    </tr>\n",
       "    <tr>\n",
       "      <th>2</th>\n",
       "      <td>Fast Car</td>\n",
       "      <td>Nicki Minaj &amp; Ice Spice</td>\n",
       "    </tr>\n",
       "    <tr>\n",
       "      <th>3</th>\n",
       "      <td>Flowers</td>\n",
       "      <td>Morgan Wallen</td>\n",
       "    </tr>\n",
       "    <tr>\n",
       "      <th>4</th>\n",
       "      <td>Daylight</td>\n",
       "      <td>Jelly Roll</td>\n",
       "    </tr>\n",
       "    <tr>\n",
       "      <th>...</th>\n",
       "      <td>...</td>\n",
       "      <td>...</td>\n",
       "    </tr>\n",
       "    <tr>\n",
       "      <th>92</th>\n",
       "      <td>NaN</td>\n",
       "      <td>Taylor Swift</td>\n",
       "    </tr>\n",
       "    <tr>\n",
       "      <th>93</th>\n",
       "      <td>NaN</td>\n",
       "      <td>Cole Swindell</td>\n",
       "    </tr>\n",
       "    <tr>\n",
       "      <th>94</th>\n",
       "      <td>NaN</td>\n",
       "      <td>Kim Petras</td>\n",
       "    </tr>\n",
       "    <tr>\n",
       "      <th>95</th>\n",
       "      <td>NaN</td>\n",
       "      <td>Eslabon Armado &amp; Peso Pluma</td>\n",
       "    </tr>\n",
       "    <tr>\n",
       "      <th>96</th>\n",
       "      <td>NaN</td>\n",
       "      <td>Jelly Roll</td>\n",
       "    </tr>\n",
       "  </tbody>\n",
       "</table>\n",
       "<p>97 rows × 2 columns</p>\n",
       "</div>"
      ],
      "text/plain": [
       "         Songs                      Artists\n",
       "0     Sprinter      Nicki Minaj & Ice Spice\n",
       "1   Last Night                   Luke Combs\n",
       "2     Fast Car      Nicki Minaj & Ice Spice\n",
       "3      Flowers                Morgan Wallen\n",
       "4     Daylight                   Jelly Roll\n",
       "..         ...                          ...\n",
       "92         NaN                 Taylor Swift\n",
       "93         NaN                Cole Swindell\n",
       "94         NaN                   Kim Petras\n",
       "95         NaN  Eslabon Armado & Peso Pluma\n",
       "96         NaN                   Jelly Roll\n",
       "\n",
       "[97 rows x 2 columns]"
      ]
     },
     "execution_count": 15,
     "metadata": {},
     "output_type": "execute_result"
    }
   ],
   "source": [
    "# We do a final dataframe, concatenating the songs and artists\n",
    "df = pd.concat([s2_df, a2_df], axis=1)\n",
    "df"
   ]
  },
  {
   "cell_type": "markdown",
   "id": "24a34d62-2ffb-4ef3-8c58-45eb439ec7ad",
   "metadata": {
    "tags": []
   },
   "source": [
    "<h3 style=\"color: #008080;\">3. Top 100 Songs (Spain)</h3>"
   ]
  },
  {
   "cell_type": "code",
   "execution_count": 16,
   "id": "35427c4b-20f5-442d-a8ba-e6e358526eb0",
   "metadata": {},
   "outputs": [],
   "source": [
    "spain_link = \"https://www.popvortex.com/music/spain/top-songs.php\""
   ]
  },
  {
   "cell_type": "code",
   "execution_count": 17,
   "id": "0faa75fe-10e4-42e7-b9ac-860dfde73dc2",
   "metadata": {},
   "outputs": [
    {
     "name": "stdout",
     "output_type": "stream",
     "text": [
      "All good! Response code is 200\n"
     ]
    }
   ],
   "source": [
    "soup3 = get_soup(spain_link)"
   ]
  },
  {
   "cell_type": "markdown",
   "id": "d1b8dbec-52b9-4dae-b241-29896e43d2c5",
   "metadata": {},
   "source": [
    "<h3 style=\"color: #008080;\">Getting the song titles</h3>"
   ]
  },
  {
   "cell_type": "code",
   "execution_count": 18,
   "id": "ae0cddf8-d78f-42a5-ae74-3ba3f59ec3d6",
   "metadata": {},
   "outputs": [
    {
     "name": "stdout",
     "output_type": "stream",
     "text": [
      "                                                Songs\n",
      "0                                          Nochentera\n",
      "1                                           LAS BABYS\n",
      "2                                    One Of The Girls\n",
      "3                                            Clavaíto\n",
      "4                                           Acróstico\n",
      "..                                                ...\n",
      "95  La Nit de Sant Joan (Nova Versió) (feat. Viole...\n",
      "96                    Padre / Niña de Tus Ojos (Live)\n",
      "97                                        Gimlet Gaze\n",
      "98                                        Mimosa Mist\n",
      "99                                     NUNCA VOY SOLO\n",
      "\n",
      "[100 rows x 1 columns]\n"
     ]
    }
   ],
   "source": [
    "song3 = soup3.find_all(\"cite\", attrs={\"class\": \"title\"})\n",
    "s3_names = [tag.get_text() for tag in song3]\n",
    "s3_df = pd.DataFrame(s3_names, columns=[\"Songs\"])\n",
    "print(s3_df)"
   ]
  },
  {
   "cell_type": "markdown",
   "id": "64155e20-0c73-46c3-9b9b-c9fa8bd662da",
   "metadata": {},
   "source": [
    "<h3 style=\"color: #008080;\">Getting the artists names</h3>"
   ]
  },
  {
   "cell_type": "code",
   "execution_count": 19,
   "id": "2c707fcb-6870-4d59-813d-6599eaf48f4f",
   "metadata": {
    "tags": []
   },
   "outputs": [
    {
     "name": "stdout",
     "output_type": "stream",
     "text": [
      "                                Artists\n",
      "0                                 Vicco\n",
      "1                                Aitana\n",
      "2   The Weeknd, JENNIE & Lily Rose Depp\n",
      "3                Chanel & Abraham Mateo\n",
      "4                               Shakira\n",
      "..                                  ...\n",
      "95                            Strombers\n",
      "96     Full Life Music & Daniel Calveti\n",
      "97                      Midnight Cycler\n",
      "98                      Midnight Cycler\n",
      "99                        KHEA & Milo j\n",
      "\n",
      "[100 rows x 1 columns]\n"
     ]
    }
   ],
   "source": [
    "artist3 = soup3.find_all(\"em\", attrs={\"class\": \"artist\"})\n",
    "a3_names = [tag.get_text() for tag in artist3]\n",
    "a3_df = pd.DataFrame(a3_names, columns=[\"Artists\"])\n",
    "print(a3_df)"
   ]
  },
  {
   "cell_type": "code",
   "execution_count": 20,
   "id": "b1283cbe-cb4d-4e6d-90fe-c6dcfab5ba4e",
   "metadata": {},
   "outputs": [
    {
     "data": {
      "text/html": [
       "<div>\n",
       "<style scoped>\n",
       "    .dataframe tbody tr th:only-of-type {\n",
       "        vertical-align: middle;\n",
       "    }\n",
       "\n",
       "    .dataframe tbody tr th {\n",
       "        vertical-align: top;\n",
       "    }\n",
       "\n",
       "    .dataframe thead th {\n",
       "        text-align: right;\n",
       "    }\n",
       "</style>\n",
       "<table border=\"1\" class=\"dataframe\">\n",
       "  <thead>\n",
       "    <tr style=\"text-align: right;\">\n",
       "      <th></th>\n",
       "      <th>Songs</th>\n",
       "      <th>Artists</th>\n",
       "    </tr>\n",
       "  </thead>\n",
       "  <tbody>\n",
       "    <tr>\n",
       "      <th>0</th>\n",
       "      <td>Nochentera</td>\n",
       "      <td>Vicco</td>\n",
       "    </tr>\n",
       "    <tr>\n",
       "      <th>1</th>\n",
       "      <td>LAS BABYS</td>\n",
       "      <td>Aitana</td>\n",
       "    </tr>\n",
       "    <tr>\n",
       "      <th>2</th>\n",
       "      <td>One Of The Girls</td>\n",
       "      <td>The Weeknd, JENNIE &amp; Lily Rose Depp</td>\n",
       "    </tr>\n",
       "    <tr>\n",
       "      <th>3</th>\n",
       "      <td>Clavaíto</td>\n",
       "      <td>Chanel &amp; Abraham Mateo</td>\n",
       "    </tr>\n",
       "    <tr>\n",
       "      <th>4</th>\n",
       "      <td>Acróstico</td>\n",
       "      <td>Shakira</td>\n",
       "    </tr>\n",
       "    <tr>\n",
       "      <th>...</th>\n",
       "      <td>...</td>\n",
       "      <td>...</td>\n",
       "    </tr>\n",
       "    <tr>\n",
       "      <th>95</th>\n",
       "      <td>La Nit de Sant Joan (Nova Versió) (feat. Viole...</td>\n",
       "      <td>Strombers</td>\n",
       "    </tr>\n",
       "    <tr>\n",
       "      <th>96</th>\n",
       "      <td>Padre / Niña de Tus Ojos (Live)</td>\n",
       "      <td>Full Life Music &amp; Daniel Calveti</td>\n",
       "    </tr>\n",
       "    <tr>\n",
       "      <th>97</th>\n",
       "      <td>Gimlet Gaze</td>\n",
       "      <td>Midnight Cycler</td>\n",
       "    </tr>\n",
       "    <tr>\n",
       "      <th>98</th>\n",
       "      <td>Mimosa Mist</td>\n",
       "      <td>Midnight Cycler</td>\n",
       "    </tr>\n",
       "    <tr>\n",
       "      <th>99</th>\n",
       "      <td>NUNCA VOY SOLO</td>\n",
       "      <td>KHEA &amp; Milo j</td>\n",
       "    </tr>\n",
       "  </tbody>\n",
       "</table>\n",
       "<p>100 rows × 2 columns</p>\n",
       "</div>"
      ],
      "text/plain": [
       "                                                Songs  \\\n",
       "0                                          Nochentera   \n",
       "1                                           LAS BABYS   \n",
       "2                                    One Of The Girls   \n",
       "3                                            Clavaíto   \n",
       "4                                           Acróstico   \n",
       "..                                                ...   \n",
       "95  La Nit de Sant Joan (Nova Versió) (feat. Viole...   \n",
       "96                    Padre / Niña de Tus Ojos (Live)   \n",
       "97                                        Gimlet Gaze   \n",
       "98                                        Mimosa Mist   \n",
       "99                                     NUNCA VOY SOLO   \n",
       "\n",
       "                                Artists  \n",
       "0                                 Vicco  \n",
       "1                                Aitana  \n",
       "2   The Weeknd, JENNIE & Lily Rose Depp  \n",
       "3                Chanel & Abraham Mateo  \n",
       "4                               Shakira  \n",
       "..                                  ...  \n",
       "95                            Strombers  \n",
       "96     Full Life Music & Daniel Calveti  \n",
       "97                      Midnight Cycler  \n",
       "98                      Midnight Cycler  \n",
       "99                        KHEA & Milo j  \n",
       "\n",
       "[100 rows x 2 columns]"
      ]
     },
     "execution_count": 20,
     "metadata": {},
     "output_type": "execute_result"
    }
   ],
   "source": [
    "# We do a final dataframe, concatenating the songs and artists\n",
    "df = pd.concat([s3_df, a3_df], axis=1)\n",
    "df"
   ]
  }
 ],
 "metadata": {
  "kernelspec": {
   "display_name": "Python 3 (ipykernel)",
   "language": "python",
   "name": "python3"
  },
  "language_info": {
   "codemirror_mode": {
    "name": "ipython",
    "version": 3
   },
   "file_extension": ".py",
   "mimetype": "text/x-python",
   "name": "python",
   "nbconvert_exporter": "python",
   "pygments_lexer": "ipython3",
   "version": "3.9.13"
  }
 },
 "nbformat": 4,
 "nbformat_minor": 5
}
