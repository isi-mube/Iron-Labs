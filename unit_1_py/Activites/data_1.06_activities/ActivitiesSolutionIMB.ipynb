{
 "cells": [
  {
   "cell_type": "markdown",
   "id": "2ba7325e",
   "metadata": {},
   "source": [
    "#### Isidre Munné-Bertran"
   ]
  },
  {
   "cell_type": "markdown",
   "id": "f51f7547",
   "metadata": {},
   "source": [
    "# 1.06 Activity 1\n",
    "\n",
    "### Debate\n",
    "\n",
    "1. What is the difference between a normal distribution and standard normal distribution?\n",
    "\n",
    "`The standard normal distribution is a specific type of normal distribution where the mean is equal to 0 and the standard deviation is equal to 1.`\n",
    "\n",
    "2. Go through the documentation on [uniform distribution](https://docs.scipy.org/doc/scipy/reference/generated/scipy.stats.uniform.html).\n",
    "3. Discuss the use of uniform distribution in generating random numbers.\n",
    "`The standard normal distribution is a specific type of normal distribution where the mean is equal to 0 and the standard deviation is equal to 1.`\n",
    "\n",
    "### Code\n",
    "\n",
    "4. Plot a uniform distribution - [documentation](https://docs.scipy.org/doc/numpy-1.14.0/reference/generated/numpy.random.rand.html#numpy.random.rand).\n"
   ]
  },
  {
   "cell_type": "markdown",
   "id": "c77777d1",
   "metadata": {},
   "source": [
    "# 1.06 Activity 2\n",
    "\n",
    "### Debate\n",
    "\n",
    "1. What kind of problems we can solve with supervised learning? List down some examples with the factors and the target.\n",
    "\n",
    "`In supervised learning we have a target problem and we know what we want to learn from data`\n",
    "\n",
    "2. What kind of problems we can solve with unsupervised learning? List down some examples with the factors and the target.\n",
    "\n",
    "`Unsupervised learning you try to discover new things`"
   ]
  },
  {
   "cell_type": "markdown",
   "id": "9f2d9630",
   "metadata": {},
   "source": [
    "# 1.06 Activity 3\n",
    "\n",
    "**_Individual Reading_**\n",
    "\n",
    "- Read the article [medium article](https://medium.com/@venkateshpnk22/ten-minutes-to-learn-linear-regression-for-dummies-5469038f4781).\n",
    "- List down some of the keywords that you identified in the article. Do not worry about understanding what do the terms mean right now. We will discuss linear regression in greater detail as we go on.\n",
    "\n",
    "    * `Linear regression`\n",
    "    * `Models`\n",
    "    * `Machine Learning`\n",
    "    * `Cost Function`\n",
    "    * `Gradient Descent`"
   ]
  },
  {
   "cell_type": "markdown",
   "id": "695cb5af",
   "metadata": {},
   "source": []
  }
 ],
 "metadata": {
  "kernelspec": {
   "display_name": "Python 3 (ipykernel)",
   "language": "python",
   "name": "python3"
  },
  "language_info": {
   "codemirror_mode": {
    "name": "ipython",
    "version": 3
   },
   "file_extension": ".py",
   "mimetype": "text/x-python",
   "name": "python",
   "nbconvert_exporter": "python",
   "pygments_lexer": "ipython3",
   "version": "3.9.13"
  }
 },
 "nbformat": 4,
 "nbformat_minor": 5
}
