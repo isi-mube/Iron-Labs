{
 "cells": [
  {
   "cell_type": "markdown",
   "id": "41d699be",
   "metadata": {},
   "source": [
    "# 1.07 Activity 1\n",
    "\n",
    "Refer to the `files_for_activities/regression_data1.csv` file. (_The same file used in the class example._)\n",
    "\n",
    "1. Draw a box plot for the IC2.\n",
    "2. Print the descriptive statistics for IC2.\n",
    "3. Remove the outliers from the column IC2."
   ]
  },
  {
   "cell_type": "code",
   "execution_count": 1,
   "id": "5c079cb6",
   "metadata": {},
   "outputs": [],
   "source": [
    "import pandas as pd\n",
    "\n",
    "data = pd.read_csv('regression_data1.csv')"
   ]
  },
  {
   "cell_type": "markdown",
   "id": "62fba032",
   "metadata": {},
   "source": [
    "### 1. Draw a box plot for the IC2."
   ]
  },
  {
   "cell_type": "code",
   "execution_count": null,
   "id": "b845c7e9",
   "metadata": {},
   "outputs": [],
   "source": []
  },
  {
   "cell_type": "markdown",
   "id": "06dcb4d6",
   "metadata": {},
   "source": [
    "### 2. Print the descriptive statistics for IC2."
   ]
  },
  {
   "cell_type": "code",
   "execution_count": null,
   "id": "1d9c961e",
   "metadata": {},
   "outputs": [],
   "source": []
  },
  {
   "cell_type": "markdown",
   "id": "1148b2ca",
   "metadata": {},
   "source": [
    "### 3. Remove the outliers from the column IC2."
   ]
  },
  {
   "cell_type": "code",
   "execution_count": null,
   "id": "1fc85a0c",
   "metadata": {},
   "outputs": [],
   "source": []
  },
  {
   "cell_type": "markdown",
   "id": "adf3e504",
   "metadata": {},
   "source": [
    "# 1.07 Activity 2\n",
    "\n",
    "Keep using the same file.\n",
    "\n",
    "1. Repeat the process(log transformation) for the column IC3. Define the function again yourself.\n",
    "2. Remove the tails of the transformed column to make it closer to the normal distribution. This time change the factor from 1.5 to 3 when calculating the upper limit and the lower limit. Check the distribution plot. Does it remove the tails effectively? If not change the factor back to 1.5 and see the results."
   ]
  },
  {
   "cell_type": "code",
   "execution_count": null,
   "id": "de90b74e",
   "metadata": {},
   "outputs": [],
   "source": []
  },
  {
   "cell_type": "markdown",
   "id": "d4bfa62f",
   "metadata": {},
   "source": [
    "# 1.07 Activity 3\n",
    "\n",
    "Repeat the same steps for column `IC5` for box-cox transformation."
   ]
  },
  {
   "cell_type": "code",
   "execution_count": null,
   "id": "9e5672bf",
   "metadata": {},
   "outputs": [],
   "source": []
  },
  {
   "cell_type": "markdown",
   "id": "868c5b8c",
   "metadata": {},
   "source": [
    "# 1.07 Activity 4\n",
    "\n",
    "Keep using the same file (`files_for_activities/regression_data.csv`) for this exercise.\n",
    "\n",
    "1. Load data `regression_data.csv`.\n",
    "2. Select 3 numeric columns.\n",
    "3. Plot distributions.\n",
    "4. Normalize.\n",
    "5. Plot new distributions."
   ]
  },
  {
   "cell_type": "code",
   "execution_count": null,
   "id": "528bd831",
   "metadata": {},
   "outputs": [],
   "source": []
  }
 ],
 "metadata": {
  "kernelspec": {
   "display_name": "Python 3 (ipykernel)",
   "language": "python",
   "name": "python3"
  },
  "language_info": {
   "codemirror_mode": {
    "name": "ipython",
    "version": 3
   },
   "file_extension": ".py",
   "mimetype": "text/x-python",
   "name": "python",
   "nbconvert_exporter": "python",
   "pygments_lexer": "ipython3",
   "version": "3.9.13"
  }
 },
 "nbformat": 4,
 "nbformat_minor": 5
}
