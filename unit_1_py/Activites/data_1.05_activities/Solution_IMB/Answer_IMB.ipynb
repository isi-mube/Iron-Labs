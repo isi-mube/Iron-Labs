{
 "cells": [
  {
   "cell_type": "markdown",
   "id": "8827413d",
   "metadata": {},
   "source": [
    "# 1.05 Activity 1\n",
    "\n",
    "Refer to the file `files_for_activities/merged_clean_ver1.csv` for this exercise.\n",
    "\n",
    "1. Import the `merged_clean_ver1.csv` file.\n",
    "2. Check the data types of all columns in the dataframe.\n",
    "3. Use the describe method on only the float type columns.\n",
    "\n",
    "### Debate\n",
    "\n",
    "4. What is the difference between population mean and sample mean."
   ]
  },
  {
   "cell_type": "code",
   "execution_count": null,
   "id": "62e1c257",
   "metadata": {},
   "outputs": [],
   "source": [
    "import pandas as pd\n",
    "pd = read_file('merged_cleanver1.csv')\n",
    "\n",
    "explore(columns)\n",
    "\n",
    "describe.d_select.dtype(include=float)"
   ]
  },
  {
   "cell_type": "markdown",
   "id": "7fd6df99",
   "metadata": {},
   "source": [
    "Population is the whole data, the whole information.\n",
    "A sample is a representative part of the population, and it´s frequently used for analysis.\n",
    "A population mean or average...\n",
    "A sample mean or average..."
   ]
  },
  {
   "cell_type": "markdown",
   "id": "4944248a",
   "metadata": {},
   "source": [
    "# 1.05 Activity 2\n",
    "\n",
    "(_Keep working on the same file._)\n",
    "\n",
    "1. Get the numeric data.\n",
    "2. Use the `describe()` method on the numeric data in the DataFrame.\n",
    "3. Print the median.\n",
    "4. Print IQR.\n"
   ]
  },
  {
   "cell_type": "code",
   "execution_count": null,
   "id": "9c63e3f2",
   "metadata": {},
   "outputs": [],
   "source": [
    "d_select.dtype(exclude=objectius)\n",
    "print(df.median())\n",
    "\n",
    "Whats IQR?"
   ]
  },
  {
   "cell_type": "markdown",
   "id": "771d1d28",
   "metadata": {},
   "source": [
    "# 1.05 Activity 3\n",
    "\n",
    "Refer to the file `files_for_activities/merged_clean_ver2.csv` for this exercise.\n",
    "\n",
    "1. Load data from the `merged_clean_ver2.csv` file.\n",
    "2. Plot Pearson Correlation Heatmap.\n",
    "3. Plot Spearman Correlation Heatmap.\n",
    "4. Plot Kendall Correlation Heatmap."
   ]
  },
  {
   "cell_type": "code",
   "execution_count": null,
   "id": "8e5602a8",
   "metadata": {},
   "outputs": [],
   "source": [
    "open(files_for_activities/merged_clean_ver2.csv)\n",
    "\n",
    "Check Notes from Xisca."
   ]
  }
 ],
 "metadata": {
  "kernelspec": {
   "display_name": "Python 3 (ipykernel)",
   "language": "python",
   "name": "python3"
  },
  "language_info": {
   "codemirror_mode": {
    "name": "ipython",
    "version": 3
   },
   "file_extension": ".py",
   "mimetype": "text/x-python",
   "name": "python",
   "nbconvert_exporter": "python",
   "pygments_lexer": "ipython3",
   "version": "3.9.13"
  }
 },
 "nbformat": 4,
 "nbformat_minor": 5
}
