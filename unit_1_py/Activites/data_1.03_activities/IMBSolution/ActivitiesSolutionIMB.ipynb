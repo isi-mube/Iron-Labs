{
 "cells": [
  {
   "cell_type": "markdown",
   "id": "a6b9e7f7",
   "metadata": {},
   "source": [
    "# 1.03 Activity 1\n",
    "\n",
    "Refer to the folder `files_for_activities` for this exercise. **You can continue using the same jupyter notebook that you craeted in class (where you worked on file1 and file2). Please save your work (jupyter notebook) as we will build on the same activities later.**\n",
    "\n",
    "1. Load data (`file3.xlsx` and `file4.xlsx`) in a new Jupyter notebook. You might face the error saying that optional dependency _xlrd_ is missing. In that case, they should install it using `pip`. If you don't get the error, move to the next step. :smile:\n",
    "2. Print data columns for both files.\n",
    "3. Check the names and order of columns in the files, and compare them with the \"data\" DataFrame created in class.\n",
    "4. Change the names of required columns in the new dataframes read before concatenating the files with data.\n",
    "5. Change data columns from uppercase to lowercase.\n",
    "\n",
    "\n",
    "_We will merge the dataframes in the next exercise_\n"
   ]
  },
  {
   "cell_type": "code",
   "execution_count": null,
   "id": "13d2aa6a",
   "metadata": {},
   "outputs": [],
   "source": [
    "import pandas as pd\n",
    "\n",
    "data = pd.read_excel('file3.xlsx')"
   ]
  },
  {
   "cell_type": "markdown",
   "id": "a497519c",
   "metadata": {},
   "source": [
    "# 1.03 Activity 2\n",
    "\n",
    "(_Keep using the same notebook you used in the activity 1._)\n",
    "\n",
    "1. Merge the 'data' dataframe you created in class with the dataframes for 'file3' and 'file4' you created in the last activity. If you are not able to merge the dataframes, please take a look at the order of columns and/or the shape of the dataframes (specifically the number of columns in the dataframes). Also check the shape of the new dataframe\n",
    "2. Drop the columns `domain` and `dob`\n",
    "3. Rearrange the columns by placing columns `ic2`, `ic3`, `ic4`, `ic5` before the column `median_home_val`\n",
    "4. Filter the rows for men that live in Florida. Do not store the results in data.\n",
    "5. Filter the rows for female donors that have donated less than 100. Do not store the results in data."
   ]
  },
  {
   "cell_type": "code",
   "execution_count": null,
   "id": "6bc13533",
   "metadata": {},
   "outputs": [],
   "source": []
  },
  {
   "cell_type": "markdown",
   "id": "77f09717",
   "metadata": {},
   "source": [
    "# 1.03 Activity 3\n",
    "\n",
    "(_Keep using the same notebook you used in the activity 1._)\n",
    "\n",
    "1. Filter the results for women, and store the results in another DataFrame `filtered2`.\n",
    "2. Check the first 10 rows of the DataFrame using the `head()` function.\n",
    "3. Reset the index of `filtered2` with and without using the parameter `drop=True` and check the difference in the results.\n",
    "4. Show the rows from index number 100 to 200.\n",
    "5. Use `iloc` to get the first 100 rows and columns with indexes 2,3,4,5.\n"
   ]
  },
  {
   "cell_type": "code",
   "execution_count": null,
   "id": "4f13cd00",
   "metadata": {},
   "outputs": [],
   "source": []
  }
 ],
 "metadata": {
  "kernelspec": {
   "display_name": "Python 3 (ipykernel)",
   "language": "python",
   "name": "python3"
  },
  "language_info": {
   "codemirror_mode": {
    "name": "ipython",
    "version": 3
   },
   "file_extension": ".py",
   "mimetype": "text/x-python",
   "name": "python",
   "nbconvert_exporter": "python",
   "pygments_lexer": "ipython3",
   "version": "3.9.13"
  }
 },
 "nbformat": 4,
 "nbformat_minor": 5
}
